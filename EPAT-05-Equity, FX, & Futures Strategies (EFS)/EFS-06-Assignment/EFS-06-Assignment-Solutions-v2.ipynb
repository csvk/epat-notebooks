{
 "cells": [
  {
   "cell_type": "code",
   "execution_count": 11,
   "id": "thousand-honor",
   "metadata": {},
   "outputs": [],
   "source": [
    "from IPython.core.interactiveshell import InteractiveShell\n",
    "InteractiveShell.ast_node_interactivity = \"all\""
   ]
  },
  {
   "cell_type": "code",
   "execution_count": 12,
   "id": "emerging-madagascar",
   "metadata": {},
   "outputs": [],
   "source": [
    "import pandas as pd\n",
    "import numpy as np"
   ]
  },
  {
   "cell_type": "markdown",
   "id": "corresponding-winner",
   "metadata": {},
   "source": [
    "# Solution for Question 1"
   ]
  },
  {
   "cell_type": "code",
   "execution_count": null,
   "id": "academic-acceptance",
   "metadata": {},
   "outputs": [],
   "source": [
    "# All files have been formatted to remove undesired records from top & saved as csv\n",
    "hdfc_file = 'Q1-Data/HDFC Nifty ETF.csv'\n",
    "kotak_file = 'Q1-Data/KOTAK Nifty ETF.csv'\n",
    "reliance_file = 'Q1-Data/Reliance Nifty ETF.csv'\n",
    "uti_file = 'Q1-Data/UTI Nifty ETF.csv'\n",
    "\n",
    "nifty_file = 'Q1-Data/NIFTY-TotalReturnsIndex.csv'"
   ]
  },
  {
   "cell_type": "code",
   "execution_count": null,
   "id": "damaged-settle",
   "metadata": {},
   "outputs": [],
   "source": [
    "# Read ETF data files\n",
    "# Convert string data with commas to float\n",
    "# Rename 'NAV' column to 'Close'\n",
    "hdfc = pd.read_csv(hdfc_file, index_col=0, parse_dates=True, thousands=',', dtype=float)\n",
    "kotak = pd.read_csv(kotak_file, index_col=0, parse_dates=True, header=0, names=['Date', 'Close'], thousands=',', dtype=float)\n",
    "reliance = pd.read_csv(reliance_file, index_col=0, parse_dates=True, header=0, names=['Date', 'Close'], thousands=',', dtype=float)\n",
    "uti = pd.read_csv(uti_file, index_col=0, parse_dates=True, header=0, names=['Date', 'Close'], thousands=',', dtype=float)"
   ]
  },
  {
   "cell_type": "code",
   "execution_count": null,
   "id": "overhead-calcium",
   "metadata": {},
   "outputs": [],
   "source": [
    "# Dictionary to store ETF data\n",
    "etfs = {\n",
    "    'HDFC': hdfc,\n",
    "    'Kotak': kotak,\n",
    "    'Reliance': reliance,\n",
    "    'UTI': uti\n",
    "}"
   ]
  },
  {
   "cell_type": "code",
   "execution_count": null,
   "id": "informational-stupid",
   "metadata": {},
   "outputs": [],
   "source": [
    "# Display first and last ETF close prices\n",
    "for etf, val in etfs.items():\n",
    "    print(f\"\"\"ETF Name: {etf}, Records: {val.shape[0]}, \n",
    "    Close Price -> {str(val.index[0])[:10]}: {val.iloc[0].Close}, {str(val.index[-1])[:10]}: {val.iloc[-1].Close}\"\"\")"
   ]
  },
  {
   "cell_type": "code",
   "execution_count": null,
   "id": "frank-angel",
   "metadata": {},
   "outputs": [],
   "source": [
    "# Read Nifty returns files\n",
    "# Rename 'Total Returns Index' column to 'Close'\n",
    "nifty = pd.read_csv(nifty_file, index_col=0, parse_dates=True, header=0, names=['Date', 'Close'])"
   ]
  },
  {
   "cell_type": "code",
   "execution_count": null,
   "id": "orange-chapter",
   "metadata": {},
   "outputs": [],
   "source": [
    "# Display first and last benchmark close prices\n",
    "print(f\"\"\"NIFTY, Records: {val.shape[0]}, \n",
    "    Close Price -> {str(val.index[0])[:10]}: {val.iloc[0].Close}, {str(val.index[-1])[:10]}: {val.iloc[-1].Close}\"\"\")"
   ]
  },
  {
   "cell_type": "code",
   "execution_count": null,
   "id": "dangerous-dodge",
   "metadata": {},
   "outputs": [],
   "source": [
    "def tracking_error(benchmark, etf, year=None):\n",
    "    \"\"\"Calculates annualized tracking error of ETF funds\n",
    "    @params:\n",
    "    benchmark = pandas dataframe with benchmark daily close ('Close' column) indexed by date\n",
    "    etf = pandas dataframe with ETF daily close indexed by date\n",
    "    year = calendar year for tracking error calculation. Default None for calculating for entire period\n",
    "    @returns:\n",
    "    te = tracking error\n",
    "    \"\"\"    \n",
    "    # Calculate daily returns of benchmark & ETF & store in dataframes\n",
    "    benchmark_rets = benchmark.Close.pct_change().to_frame('benchmark_rets')\n",
    "    etf_rets = etf.Close.pct_change().to_frame('etf_rets')\n",
    "    \n",
    "    # Merge benchmark & etf returns by date & fill missing returns with previous day's returns\n",
    "    rets = benchmark_rets.merge(etf_rets, how='outer', on='Date')\n",
    "    rets.sort_index(inplace=True)\n",
    "    rets.fillna(method='ffill', inplace=True)\n",
    "    rets.dropna(inplace=True) # Drop first record with nan value in both columns\n",
    "    \n",
    "    # Filter by year if year is available\n",
    "    if year:\n",
    "        rets = rets.loc[str(year)]\n",
    "    \n",
    "    # Calculate annualized tracking error\n",
    "    N = rets.shape[0]\n",
    "    te_d = np.sqrt(np.sum(np.square(rets.benchmark_rets - rets.etf_rets)) / (N - 1)) # daily tracking error\n",
    "    te = np.sqrt(252) * te_d # annualized tracking error\n",
    "    \n",
    "    return te"
   ]
  },
  {
   "cell_type": "code",
   "execution_count": null,
   "id": "capable-raise",
   "metadata": {},
   "outputs": [],
   "source": [
    "te = pd.DataFrame(columns=['2016', '2017']) # Create empty dataframe to store tracking errors\n",
    "for etf, val in etfs.items(): # Calculate & store annualized tracking errors for all ETFs\n",
    "    te_2016 = tracking_error(nifty, val, '2016')\n",
    "    te_2017 = tracking_error(nifty, val, '2017')\n",
    "    # Append ETF TE in dataframe\n",
    "    te.loc[etf] = [te_2016, te_2017]\n",
    "te"
   ]
  },
  {
   "cell_type": "code",
   "execution_count": null,
   "id": "desirable-arbitration",
   "metadata": {},
   "outputs": [],
   "source": [
    "# Arrange in ascending order of 2016 annualized tracking error\n",
    "te['2016'].sort_values()"
   ]
  },
  {
   "cell_type": "code",
   "execution_count": null,
   "id": "regular-professional",
   "metadata": {},
   "outputs": [],
   "source": [
    "# Arrange in ascending order of 2017 annualized tracking error\n",
    "te['2017'].sort_values()"
   ]
  },
  {
   "cell_type": "code",
   "execution_count": null,
   "id": "proprietary-cycle",
   "metadata": {},
   "outputs": [],
   "source": [
    "# Funds with increase in annualized TE from 2016 to 2017\n",
    "te[te['2016'] < te['2017']] # No fund"
   ]
  },
  {
   "cell_type": "code",
   "execution_count": null,
   "id": "scheduled-strike",
   "metadata": {},
   "outputs": [],
   "source": [
    "# Funds with decrease in annualized TE from 2016 to 2017\n",
    "te[te['2016'] > te['2017']] # All four funds"
   ]
  },
  {
   "cell_type": "markdown",
   "id": "returning-tonight",
   "metadata": {},
   "source": [
    "# Solution for Question 2"
   ]
  },
  {
   "cell_type": "code",
   "execution_count": 46,
   "id": "appreciated-aerospace",
   "metadata": {},
   "outputs": [],
   "source": [
    "from functools import reduce"
   ]
  },
  {
   "cell_type": "code",
   "execution_count": 47,
   "id": "brave-slope",
   "metadata": {},
   "outputs": [],
   "source": [
    "# All files have been formatted to remove undesired records from top & saved as csv\n",
    "nifty_etf_file = 'Q2-Data/Nifty ETF.csv'\n",
    "gold_etf_file = 'Q2-Data/Gold ETF.csv'\n",
    "junior_etf_file = 'Q2-Data/Junior ETF.csv'"
   ]
  },
  {
   "cell_type": "code",
   "execution_count": 48,
   "id": "arbitrary-universal",
   "metadata": {},
   "outputs": [],
   "source": [
    "# Read ETF data files\n",
    "# Convert string data with commas to float\n",
    "nifty = pd.read_csv(nifty_etf_file, index_col=0, parse_dates=True, header=0, names=['Date','nifty'], thousands=',', dtype=float)\n",
    "gold = pd.read_csv(gold_etf_file, index_col=0, parse_dates=True, header=0, names=['Date', 'gold'], thousands=',', dtype=float)\n",
    "jr = pd.read_csv(junior_etf_file, index_col=0, parse_dates=True, header=0, names=['Date', 'junior'], thousands=',', dtype=float)"
   ]
  },
  {
   "cell_type": "code",
   "execution_count": 49,
   "id": "studied-harvest",
   "metadata": {},
   "outputs": [],
   "source": [
    "def merge(dfs):\n",
    "    \"\"\"Merges dataframes on date & fill missing values with previous day's value\n",
    "    @params:\n",
    "    dfs = list of dataframes to be merged\n",
    "    @returns:\n",
    "    merged_df = merged dataframe\n",
    "    \"\"\"\n",
    "    merged_df = reduce(lambda left, right: pd.merge(left, right, how='outer', on='Date'), dfs)\n",
    "    merged_df.sort_index(inplace=True)\n",
    "    merged_df.fillna(method='ffill', inplace=True)\n",
    "    return merged_df"
   ]
  },
  {
   "cell_type": "code",
   "execution_count": 50,
   "id": "compound-least",
   "metadata": {},
   "outputs": [
    {
     "data": {
      "text/html": [
       "<div>\n",
       "<style scoped>\n",
       "    .dataframe tbody tr th:only-of-type {\n",
       "        vertical-align: middle;\n",
       "    }\n",
       "\n",
       "    .dataframe tbody tr th {\n",
       "        vertical-align: top;\n",
       "    }\n",
       "\n",
       "    .dataframe thead th {\n",
       "        text-align: right;\n",
       "    }\n",
       "</style>\n",
       "<table border=\"1\" class=\"dataframe\">\n",
       "  <thead>\n",
       "    <tr style=\"text-align: right;\">\n",
       "      <th></th>\n",
       "      <th>nifty</th>\n",
       "      <th>gold</th>\n",
       "      <th>junior</th>\n",
       "    </tr>\n",
       "    <tr>\n",
       "      <th>Date</th>\n",
       "      <th></th>\n",
       "      <th></th>\n",
       "      <th></th>\n",
       "    </tr>\n",
       "  </thead>\n",
       "  <tbody>\n",
       "    <tr>\n",
       "      <th>2016-01-01</th>\n",
       "      <td>805.06</td>\n",
       "      <td>2280.20</td>\n",
       "      <td>203.62</td>\n",
       "    </tr>\n",
       "    <tr>\n",
       "      <th>2016-01-04</th>\n",
       "      <td>790.31</td>\n",
       "      <td>2304.70</td>\n",
       "      <td>200.58</td>\n",
       "    </tr>\n",
       "    <tr>\n",
       "      <th>2016-01-05</th>\n",
       "      <td>789.81</td>\n",
       "      <td>2319.65</td>\n",
       "      <td>201.32</td>\n",
       "    </tr>\n",
       "    <tr>\n",
       "      <th>2016-01-06</th>\n",
       "      <td>785.16</td>\n",
       "      <td>2333.10</td>\n",
       "      <td>199.98</td>\n",
       "    </tr>\n",
       "    <tr>\n",
       "      <th>2016-01-07</th>\n",
       "      <td>768.92</td>\n",
       "      <td>2366.80</td>\n",
       "      <td>195.78</td>\n",
       "    </tr>\n",
       "    <tr>\n",
       "      <th>...</th>\n",
       "      <td>...</td>\n",
       "      <td>...</td>\n",
       "      <td>...</td>\n",
       "    </tr>\n",
       "    <tr>\n",
       "      <th>2017-12-22</th>\n",
       "      <td>1079.36</td>\n",
       "      <td>2579.45</td>\n",
       "      <td>313.16</td>\n",
       "    </tr>\n",
       "    <tr>\n",
       "      <th>2017-12-26</th>\n",
       "      <td>1082.81</td>\n",
       "      <td>2600.30</td>\n",
       "      <td>314.64</td>\n",
       "    </tr>\n",
       "    <tr>\n",
       "      <th>2017-12-27</th>\n",
       "      <td>1082.37</td>\n",
       "      <td>2616.55</td>\n",
       "      <td>313.20</td>\n",
       "    </tr>\n",
       "    <tr>\n",
       "      <th>2017-12-28</th>\n",
       "      <td>1079.88</td>\n",
       "      <td>2637.25</td>\n",
       "      <td>312.45</td>\n",
       "    </tr>\n",
       "    <tr>\n",
       "      <th>2017-12-29</th>\n",
       "      <td>1084.48</td>\n",
       "      <td>2626.80</td>\n",
       "      <td>314.31</td>\n",
       "    </tr>\n",
       "  </tbody>\n",
       "</table>\n",
       "<p>495 rows × 3 columns</p>\n",
       "</div>"
      ],
      "text/plain": [
       "              nifty     gold  junior\n",
       "Date                                \n",
       "2016-01-01   805.06  2280.20  203.62\n",
       "2016-01-04   790.31  2304.70  200.58\n",
       "2016-01-05   789.81  2319.65  201.32\n",
       "2016-01-06   785.16  2333.10  199.98\n",
       "2016-01-07   768.92  2366.80  195.78\n",
       "...             ...      ...     ...\n",
       "2017-12-22  1079.36  2579.45  313.16\n",
       "2017-12-26  1082.81  2600.30  314.64\n",
       "2017-12-27  1082.37  2616.55  313.20\n",
       "2017-12-28  1079.88  2637.25  312.45\n",
       "2017-12-29  1084.48  2626.80  314.31\n",
       "\n",
       "[495 rows x 3 columns]"
      ]
     },
     "execution_count": 50,
     "metadata": {},
     "output_type": "execute_result"
    },
    {
     "data": {
      "text/plain": [
       "(495, 3)"
      ]
     },
     "execution_count": 50,
     "metadata": {},
     "output_type": "execute_result"
    }
   ],
   "source": [
    "# Merge all dataframes on date & fill missing values with previous day's value\n",
    "etfs = merge([nifty, gold, jr])\n",
    "etfs\n",
    "etfs.shape"
   ]
  },
  {
   "cell_type": "code",
   "execution_count": 51,
   "id": "suffering-compression",
   "metadata": {},
   "outputs": [],
   "source": [
    "def invest(funds, prices, ratio):\n",
    "    \"\"\"Invests funds into instruments as per ratio\n",
    "    @params:\n",
    "    funds = total money to be invested\n",
    "    prices = list of prices of instruments\n",
    "    ratio = desired investment ratio\n",
    "    @returns:\n",
    "    cash, units = uninvested cash after investment, list of units in each instrument after investment\n",
    "    \"\"\"\n",
    "    assert len(prices) == len(ratio), f'prices count {len(prices)} != ratio count {len(ratio)}'\n",
    "    \n",
    "    # Allocate funds to a separate pot for each instrument as per ratioPortfolio value: {np.round(sum(invested, cash), 2)}\n",
    "    fund_pots = [r / sum(ratio) * funds for r in ratio]\n",
    "    \n",
    "    units = [int(f // p) for f, p in zip(fund_pots, prices)]\n",
    "    invested = [p * u for p, u in zip(prices, units)]\n",
    "    cash = np.round(funds - sum(invested), 2)\n",
    "    \n",
    "    ratio = [np.round(i / sum(invested), 2) for i in invested]\n",
    "    print(f'Portfolio value: {np.round(sum(invested, cash))} ## Cash component: {cash} ## Investments ratio: {ratio} ## Units: {units}')\n",
    "    \n",
    "    print(cash)\n",
    "    return cash, units"
   ]
  },
  {
   "cell_type": "code",
   "execution_count": 52,
   "id": "wound-landing",
   "metadata": {},
   "outputs": [],
   "source": [
    "def rebalance(prices, units, ratio, cash):\n",
    "    \"\"\"Rebalances cash + investments as per ratio\n",
    "    @params:\n",
    "    prices = list of prices of instruments\n",
    "    units = list of units in each instrument\n",
    "    ratio = desired rebalance ratio\n",
    "    cash = uninvested cash in fund\n",
    "    @returns:\n",
    "    cash, units = uninvested cash after rebalance, list of units in each instrument after rebalance\n",
    "    \"\"\"\n",
    "    assert len(prices) == len(units) == len(ratio), \\\n",
    "        f'prices count {len(prices)} != units count {len(units)} != ratio count {len(ratio)}'\n",
    "    \n",
    "    invested = [p * u for p, u in zip(prices, units)]\n",
    "    portfolio_val = np.round(cash + sum(invested), 2)\n",
    "    \n",
    "    cash, units = invest(portfolio_val, prices, ratio) \n",
    "    return cash, units"
   ]
  },
  {
   "cell_type": "code",
   "execution_count": 53,
   "id": "figured-procurement",
   "metadata": {},
   "outputs": [],
   "source": [
    "def redeem(prices, units, cash):\n",
    "    \"\"\"Portfolio redemption: go all cash\n",
    "    @params:\n",
    "    prices = list of prices of instruments\n",
    "    units = list of units in each instrument\n",
    "    cash = end portfolio amount\n",
    "    @returns:\n",
    "    cash, units = uninvested cash after redemption, list of units in each instrument after rebalance\n",
    "    \"\"\"\n",
    "    assert len(prices) == len(units), f'prices count {len(prices)} != units count {len(units)}'\n",
    "    \n",
    "    invested = [np.round(p * u, 2) for p, u in zip(prices, units)]\n",
    "    cash = np.round(cash + sum(invested), 2)\n",
    "    invested = 0\n",
    "    units = [0 for u in units]\n",
    "    print(f'Portfolio Value: {cash} ## Cash component: {cash} ## Units: {units}')\n",
    "    \n",
    "    return cash, units"
   ]
  },
  {
   "cell_type": "code",
   "execution_count": 54,
   "id": "valid-partnership",
   "metadata": {},
   "outputs": [],
   "source": [
    "data = etfs.copy()\n",
    "# Create empty columns for allocation units\n",
    "data = data.assign(nifty_units = np.nan, gold_units = np.nan, junior_units = np.nan, cash = np.nan)"
   ]
  },
  {
   "cell_type": "code",
   "execution_count": 55,
   "id": "improved-cathedral",
   "metadata": {},
   "outputs": [
    {
     "name": "stdout",
     "output_type": "stream",
     "text": [
      "Start....\n",
      "Investments ratio & Units in order of [Nifty, Gold, Junior]\n",
      "===========================================================\n",
      "2016-01-01 00:00:00\n",
      "Initial Capital : 100000000\n",
      "Begin portfolio allocation\n",
      "Portfolio value: 100000000.0 ## Cash component: 558.92 ## Investments ratio: [0.5, 0.2, 0.3] ## Units: [62107, 8771, 147333]\n",
      "558.92\n",
      "===========================================================\n",
      "2016-03-31 00:00:00\n",
      "Fund value : 100000000\n",
      "Begin portfolio rebalance\n",
      "Portfolio value: 99349847.0 ## Cash component: 1485.46 ## Investments ratio: [0.5, 0.2, 0.3] ## Units: [62778, 7750, 158419]\n",
      "1485.46\n",
      "===========================================================\n",
      "2016-06-30 00:00:00\n",
      "Fund value : 100000000\n",
      "Begin portfolio rebalance\n",
      "Portfolio value: 107063106.0 ## Cash component: 2689.17 ## Investments ratio: [0.5, 0.2, 0.3] ## Units: [63510, 7709, 155970]\n",
      "2689.17\n",
      "===========================================================\n",
      "2016-09-30 00:00:00\n",
      "Fund value : 100000000\n",
      "Begin portfolio rebalance\n",
      "Portfolio value: 113466349.0 ## Cash component: 1920.79 ## Investments ratio: [0.5, 0.2, 0.3] ## Units: [64573, 8032, 147948]\n",
      "1920.79\n",
      "===========================================================\n",
      "2016-12-30 00:00:00\n",
      "Fund value : 100000000\n",
      "Begin portfolio rebalance\n",
      "Portfolio value: 106492580.0 ## Cash component: 2613.24 ## Investments ratio: [0.5, 0.2, 0.3] ## Units: [63776, 8304, 147796]\n",
      "2613.24\n",
      "===========================================================\n",
      "2017-03-31 00:00:00\n",
      "Fund value : 100000000\n",
      "Begin portfolio rebalance\n",
      "Portfolio value: 118947473.0 ## Cash component: 2696.97 ## Investments ratio: [0.5, 0.2, 0.3] ## Units: [63386, 9104, 140983]\n",
      "2696.97\n",
      "===========================================================\n",
      "2017-06-30 00:00:00\n",
      "Fund value : 100000000\n",
      "Begin portfolio rebalance\n",
      "Portfolio value: 122916560.0 ## Cash component: 3121.44 ## Investments ratio: [0.5, 0.2, 0.3] ## Units: [62970, 9539, 138300]\n",
      "3121.44\n",
      "===========================================================\n",
      "2017-09-29 00:00:00\n",
      "Fund value : 100000000\n",
      "Begin portfolio rebalance\n",
      "Portfolio value: 127638600.0 ## Cash component: 1973.52 ## Investments ratio: [0.5, 0.2, 0.3] ## Units: [63188, 9574, 137181]\n",
      "1973.52\n",
      "===========================================================\n",
      "Portfolio redemption\n",
      "Portfolio Value: 136794439.07 ## Cash component: 136794439.07 ## Units: [0, 0, 0]\n",
      "===========================================================\n"
     ]
    }
   ],
   "source": [
    "## Code to backtest strategy\n",
    "## Displays portfolio values only on days when traded\n",
    "\n",
    "from datetime import date as _date\n",
    "\n",
    "initial_capital = 100000000 # 100 million INR\n",
    "start_date = _date(2016, 1, 1) # Portfolio Allocation Start Date\n",
    "end_date = _date(2017, 12, 29) # Portfolio Redemption Date\n",
    "allocation_ratio = (5, 2, 3) # Allocation ratio of 5:2:3\n",
    "prev_units = [0, 0, 0] # Unit allocation initialization\n",
    "prev_cash = 0 # Cash initialization\n",
    "month = data.index.month\n",
    "\n",
    "print('Start....')\n",
    "print('Investments ratio & Units in order of [Nifty, Gold, Junior]')\n",
    "print('===========================================================')\n",
    "\n",
    "for i in range(0, data.shape[0]): # Loop through all trading days\n",
    "    date, nifty, gold, junior = pd.to_datetime(data.index.values[i]), data.iloc[i]['nifty'], data.iloc[i]['gold'], data.iloc[i]['junior']\n",
    "    # Identify quarter end dates for rebalancing\n",
    "    qtr_end = False\n",
    "    if date != end_date:\n",
    "        qtr_end = True if month[i] != month[i + 1] and month[i] in (3, 6, 9, 12) else False\n",
    "    \n",
    "    if date ==  start_date:\n",
    "        # Portfolio allocation begin\n",
    "        print(date)\n",
    "        print(f'Initial Capital : {initial_capital}')\n",
    "        print('Begin portfolio allocation')\n",
    "        cash, units = invest(initial_capital, [nifty, gold, junior], allocation_ratio) # Initial allocation\n",
    "        data.loc[date]['nifty_units'], data.loc[date]['gold_units'], data.loc[date]['junior_units'] = units # Units assignment\n",
    "        data.loc[date]['cash'] = cash\n",
    "        prev_units, prev_cash = units, cash\n",
    "        print('===========================================================')\n",
    "    elif date == end_date:\n",
    "        # Portfolio redemption\n",
    "        print('Portfolio redemption')\n",
    "        cash, units = redeem([nifty, gold, junior], prev_units,cash) # Redeem portfolio, go all cash\n",
    "        data.loc[date]['nifty_units'], data.loc[date]['gold_units'], data.loc[date]['junior_units'] = units # Units assignment\n",
    "        data.loc[date]['cash'] = cash\n",
    "        print('===========================================================')\n",
    "    elif qtr_end == True:\n",
    "        # Quarter end rebalancing\n",
    "        print(date)\n",
    "        print(f'Fund value : {initial_capital}')\n",
    "        print('Begin portfolio rebalance')\n",
    "        cash, units = rebalance([nifty, gold, junior], prev_units, allocation_ratio, cash) # Rebalance\n",
    "        data.loc[date]['nifty_units'], data.loc[date]['gold_units'], data.loc[date]['junior_units'] = units # Units assignment\n",
    "        data.loc[date]['cash'] = cash\n",
    "        prev_units, prev_cash = units, cash\n",
    "        print('===========================================================')\n",
    "    else:\n",
    "        # No change in units assignment & cash\n",
    "        data.loc[date]['nifty_units'], data.loc[date]['gold_units'], \\\n",
    "            data.loc[date]['junior_units'] = prev_units\n",
    "        data.loc[date]['cash'] = prev_cash"
   ]
  },
  {
   "cell_type": "code",
   "execution_count": 56,
   "id": "dress-nursery",
   "metadata": {},
   "outputs": [
    {
     "data": {
      "text/html": [
       "<div>\n",
       "<style scoped>\n",
       "    .dataframe tbody tr th:only-of-type {\n",
       "        vertical-align: middle;\n",
       "    }\n",
       "\n",
       "    .dataframe tbody tr th {\n",
       "        vertical-align: top;\n",
       "    }\n",
       "\n",
       "    .dataframe thead th {\n",
       "        text-align: right;\n",
       "    }\n",
       "</style>\n",
       "<table border=\"1\" class=\"dataframe\">\n",
       "  <thead>\n",
       "    <tr style=\"text-align: right;\">\n",
       "      <th></th>\n",
       "      <th>nifty</th>\n",
       "      <th>gold</th>\n",
       "      <th>junior</th>\n",
       "      <th>nifty_units</th>\n",
       "      <th>gold_units</th>\n",
       "      <th>junior_units</th>\n",
       "      <th>cash</th>\n",
       "    </tr>\n",
       "    <tr>\n",
       "      <th>Date</th>\n",
       "      <th></th>\n",
       "      <th></th>\n",
       "      <th></th>\n",
       "      <th></th>\n",
       "      <th></th>\n",
       "      <th></th>\n",
       "      <th></th>\n",
       "    </tr>\n",
       "  </thead>\n",
       "  <tbody>\n",
       "    <tr>\n",
       "      <th>2016-01-01</th>\n",
       "      <td>805.06</td>\n",
       "      <td>2280.20</td>\n",
       "      <td>203.62</td>\n",
       "      <td>62107.0</td>\n",
       "      <td>8771.0</td>\n",
       "      <td>147333.0</td>\n",
       "      <td>5.589200e+02</td>\n",
       "    </tr>\n",
       "    <tr>\n",
       "      <th>2016-01-04</th>\n",
       "      <td>790.31</td>\n",
       "      <td>2304.70</td>\n",
       "      <td>200.58</td>\n",
       "      <td>62107.0</td>\n",
       "      <td>8771.0</td>\n",
       "      <td>147333.0</td>\n",
       "      <td>5.589200e+02</td>\n",
       "    </tr>\n",
       "    <tr>\n",
       "      <th>2016-01-05</th>\n",
       "      <td>789.81</td>\n",
       "      <td>2319.65</td>\n",
       "      <td>201.32</td>\n",
       "      <td>62107.0</td>\n",
       "      <td>8771.0</td>\n",
       "      <td>147333.0</td>\n",
       "      <td>5.589200e+02</td>\n",
       "    </tr>\n",
       "    <tr>\n",
       "      <th>2016-01-06</th>\n",
       "      <td>785.16</td>\n",
       "      <td>2333.10</td>\n",
       "      <td>199.98</td>\n",
       "      <td>62107.0</td>\n",
       "      <td>8771.0</td>\n",
       "      <td>147333.0</td>\n",
       "      <td>5.589200e+02</td>\n",
       "    </tr>\n",
       "    <tr>\n",
       "      <th>2016-01-07</th>\n",
       "      <td>768.92</td>\n",
       "      <td>2366.80</td>\n",
       "      <td>195.78</td>\n",
       "      <td>62107.0</td>\n",
       "      <td>8771.0</td>\n",
       "      <td>147333.0</td>\n",
       "      <td>5.589200e+02</td>\n",
       "    </tr>\n",
       "    <tr>\n",
       "      <th>...</th>\n",
       "      <td>...</td>\n",
       "      <td>...</td>\n",
       "      <td>...</td>\n",
       "      <td>...</td>\n",
       "      <td>...</td>\n",
       "      <td>...</td>\n",
       "      <td>...</td>\n",
       "    </tr>\n",
       "    <tr>\n",
       "      <th>2017-12-22</th>\n",
       "      <td>1079.36</td>\n",
       "      <td>2579.45</td>\n",
       "      <td>313.16</td>\n",
       "      <td>63188.0</td>\n",
       "      <td>9574.0</td>\n",
       "      <td>137181.0</td>\n",
       "      <td>1.973520e+03</td>\n",
       "    </tr>\n",
       "    <tr>\n",
       "      <th>2017-12-26</th>\n",
       "      <td>1082.81</td>\n",
       "      <td>2600.30</td>\n",
       "      <td>314.64</td>\n",
       "      <td>63188.0</td>\n",
       "      <td>9574.0</td>\n",
       "      <td>137181.0</td>\n",
       "      <td>1.973520e+03</td>\n",
       "    </tr>\n",
       "    <tr>\n",
       "      <th>2017-12-27</th>\n",
       "      <td>1082.37</td>\n",
       "      <td>2616.55</td>\n",
       "      <td>313.20</td>\n",
       "      <td>63188.0</td>\n",
       "      <td>9574.0</td>\n",
       "      <td>137181.0</td>\n",
       "      <td>1.973520e+03</td>\n",
       "    </tr>\n",
       "    <tr>\n",
       "      <th>2017-12-28</th>\n",
       "      <td>1079.88</td>\n",
       "      <td>2637.25</td>\n",
       "      <td>312.45</td>\n",
       "      <td>63188.0</td>\n",
       "      <td>9574.0</td>\n",
       "      <td>137181.0</td>\n",
       "      <td>1.973520e+03</td>\n",
       "    </tr>\n",
       "    <tr>\n",
       "      <th>2017-12-29</th>\n",
       "      <td>1084.48</td>\n",
       "      <td>2626.80</td>\n",
       "      <td>314.31</td>\n",
       "      <td>0.0</td>\n",
       "      <td>0.0</td>\n",
       "      <td>0.0</td>\n",
       "      <td>1.367944e+08</td>\n",
       "    </tr>\n",
       "  </tbody>\n",
       "</table>\n",
       "<p>495 rows × 7 columns</p>\n",
       "</div>"
      ],
      "text/plain": [
       "              nifty     gold  junior  nifty_units  gold_units  junior_units  \\\n",
       "Date                                                                          \n",
       "2016-01-01   805.06  2280.20  203.62      62107.0      8771.0      147333.0   \n",
       "2016-01-04   790.31  2304.70  200.58      62107.0      8771.0      147333.0   \n",
       "2016-01-05   789.81  2319.65  201.32      62107.0      8771.0      147333.0   \n",
       "2016-01-06   785.16  2333.10  199.98      62107.0      8771.0      147333.0   \n",
       "2016-01-07   768.92  2366.80  195.78      62107.0      8771.0      147333.0   \n",
       "...             ...      ...     ...          ...         ...           ...   \n",
       "2017-12-22  1079.36  2579.45  313.16      63188.0      9574.0      137181.0   \n",
       "2017-12-26  1082.81  2600.30  314.64      63188.0      9574.0      137181.0   \n",
       "2017-12-27  1082.37  2616.55  313.20      63188.0      9574.0      137181.0   \n",
       "2017-12-28  1079.88  2637.25  312.45      63188.0      9574.0      137181.0   \n",
       "2017-12-29  1084.48  2626.80  314.31          0.0         0.0           0.0   \n",
       "\n",
       "                    cash  \n",
       "Date                      \n",
       "2016-01-01  5.589200e+02  \n",
       "2016-01-04  5.589200e+02  \n",
       "2016-01-05  5.589200e+02  \n",
       "2016-01-06  5.589200e+02  \n",
       "2016-01-07  5.589200e+02  \n",
       "...                  ...  \n",
       "2017-12-22  1.973520e+03  \n",
       "2017-12-26  1.973520e+03  \n",
       "2017-12-27  1.973520e+03  \n",
       "2017-12-28  1.973520e+03  \n",
       "2017-12-29  1.367944e+08  \n",
       "\n",
       "[495 rows x 7 columns]"
      ]
     },
     "execution_count": 56,
     "metadata": {},
     "output_type": "execute_result"
    }
   ],
   "source": [
    "data"
   ]
  },
  {
   "cell_type": "code",
   "execution_count": 13,
   "id": "functional-neutral",
   "metadata": {},
   "outputs": [],
   "source": [
    "def daily_returns(data):\n",
    "    \"\"\"Calculate daily returns\n",
    "    @params:\n",
    "    data = dataframe with daily prices & units \n",
    "    @returns:\n",
    "    daily_rets = daily returns\n",
    "    \"\"\"\n",
    "    portfolio_val = data.nifty * data.nifty_units + data.gold * data.gold_units + data.junior * data.junior_units + data.cash\n",
    "    daily_rets = portfolio_val.pct_change()\n",
    "    daily_rets[0] = 0\n",
    "    return daily_rets"
   ]
  },
  {
   "cell_type": "code",
   "execution_count": 14,
   "id": "royal-technician",
   "metadata": {},
   "outputs": [],
   "source": [
    "def annualized_returns(daily_rets, year=None):\n",
    "    \"\"\"Calculate annualized returns\n",
    "    @params:\n",
    "    daily_rets = daily returns\n",
    "    year = year to calculate for, Default None for entire period\n",
    "    @returns:\n",
    "    ann_rets = annualized returns\n",
    "    \"\"\"\n",
    "    dr = daily_rets.loc[year] if year else daily_rets\n",
    "    return np.mean(dr) * 252"
   ]
  },
  {
   "cell_type": "code",
   "execution_count": 15,
   "id": "provincial-dictionary",
   "metadata": {},
   "outputs": [],
   "source": [
    "def annualized_sharpe(daily_rets, rfr=0.0, year=None):\n",
    "    \"\"\"Calculate annualized Sharpe ratio\n",
    "    @params:\n",
    "    daily_rets = daily returns\n",
    "    rfr = Annualized risk free rate, Default = 0.0\n",
    "    year = year to calculate for, Default None for entire period\n",
    "    @returns:\n",
    "    ann_sharpe = annualized Sharpe ratio\n",
    "    \"\"\"\n",
    "    ann_ret = annualized_returns(daily_rets, year)\n",
    "    ann_std = np.std(daily_rets) * np.sqrt(252)\n",
    "    return (ann_ret - rfr) / ann_std"
   ]
  },
  {
   "cell_type": "code",
   "execution_count": 16,
   "id": "parallel-chemistry",
   "metadata": {},
   "outputs": [
    {
     "data": {
      "text/plain": [
       "(Date\n",
       " 2016-01-01    0.000000\n",
       " 2016-01-04   -0.011491\n",
       " 2016-01-05    0.002115\n",
       " 2016-01-06   -0.003717\n",
       " 2016-01-07   -0.013495\n",
       " dtype: float64,\n",
       " Date\n",
       " 2017-12-22    0.004139\n",
       " 2017-12-26    0.004568\n",
       " 2017-12-27   -0.000511\n",
       " 2017-12-28   -0.000455\n",
       " 2017-12-29    0.003269\n",
       " dtype: float64)"
      ]
     },
     "execution_count": 16,
     "metadata": {},
     "output_type": "execute_result"
    }
   ],
   "source": [
    "daily_rets = daily_returns(data)\n",
    "daily_rets[:5], daily_rets[-5:]"
   ]
  },
  {
   "cell_type": "code",
   "execution_count": 17,
   "id": "isolated-enhancement",
   "metadata": {},
   "outputs": [
    {
     "name": "stdout",
     "output_type": "stream",
     "text": [
      "Annualized returns:  0.16442975692955844\n",
      "Annualized Sharpe ratio:  1.6658323679626612\n"
     ]
    }
   ],
   "source": [
    "# Annualized returns & Sharpe ratio with Risk free rate = 0% : all days \n",
    "print('Annualized returns: ', annualized_returns(daily_rets))\n",
    "print('Annualized Sharpe ratio: ', annualized_sharpe(daily_rets))"
   ]
  },
  {
   "cell_type": "code",
   "execution_count": 18,
   "id": "upset-graphic",
   "metadata": {},
   "outputs": [
    {
     "name": "stdout",
     "output_type": "stream",
     "text": [
      "Annualized returns:  0.07106741803942594\n",
      "Annualized Sharpe ratio:  0.7199816352482105\n"
     ]
    }
   ],
   "source": [
    "# Annualized returns & Sharpe ratio with Risk free rate = 0% : 2016\n",
    "print('Annualized returns: ', annualized_returns(daily_rets, year='2016'))\n",
    "print('Annualized Sharpe ratio: ', annualized_sharpe(daily_rets, year='2016'))"
   ]
  },
  {
   "cell_type": "code",
   "execution_count": 19,
   "id": "coordinate-department",
   "metadata": {},
   "outputs": [
    {
     "name": "stdout",
     "output_type": "stream",
     "text": [
      "Annualized returns:  0.2574156347757791\n",
      "Annualized Sharpe ratio:  2.6078691864322954\n"
     ]
    }
   ],
   "source": [
    "# Annualized returns & Sharpe ratio with Risk free rate = 0% : 2017\n",
    "print('Annualized returns: ', annualized_returns(daily_rets, year='2017'))\n",
    "print('Annualized Sharpe ratio: ', annualized_sharpe(daily_rets, year='2017'))"
   ]
  },
  {
   "cell_type": "markdown",
   "id": "large-literacy",
   "metadata": {},
   "source": [
    "# Solution for Question no 3"
   ]
  },
  {
   "cell_type": "code",
   "execution_count": 25,
   "id": "accessible-season",
   "metadata": {},
   "outputs": [],
   "source": [
    "# All files have been formatted to remove undesired records from top & saved as csv\n",
    "junior_etf_file = 'Q3-Data/Junior ETF.csv'\n",
    "nifty_etf_file = 'Q3-Data/Nifty ETF.csv'"
   ]
  },
  {
   "cell_type": "code",
   "execution_count": 26,
   "id": "injured-cutting",
   "metadata": {},
   "outputs": [],
   "source": [
    "# Read ETF data files\n",
    "# Convert string data with commas to float\n",
    "nifty = pd.read_csv(nifty_etf_file, index_col=0, parse_dates=True, header=0, names=['Date','nifty'], thousands=',', dtype=float)\n",
    "jr = pd.read_csv(junior_etf_file, index_col=0, parse_dates=True, header=0, names=['Date', 'junior'], thousands=',', dtype=float)"
   ]
  },
  {
   "cell_type": "code",
   "execution_count": 27,
   "id": "clinical-detail",
   "metadata": {},
   "outputs": [
    {
     "data": {
      "text/html": [
       "<div>\n",
       "<style scoped>\n",
       "    .dataframe tbody tr th:only-of-type {\n",
       "        vertical-align: middle;\n",
       "    }\n",
       "\n",
       "    .dataframe tbody tr th {\n",
       "        vertical-align: top;\n",
       "    }\n",
       "\n",
       "    .dataframe thead th {\n",
       "        text-align: right;\n",
       "    }\n",
       "</style>\n",
       "<table border=\"1\" class=\"dataframe\">\n",
       "  <thead>\n",
       "    <tr style=\"text-align: right;\">\n",
       "      <th></th>\n",
       "      <th></th>\n",
       "      <th>close</th>\n",
       "    </tr>\n",
       "    <tr>\n",
       "      <th>symbol</th>\n",
       "      <th>Date</th>\n",
       "      <th></th>\n",
       "    </tr>\n",
       "  </thead>\n",
       "  <tbody>\n",
       "    <tr>\n",
       "      <th rowspan=\"5\" valign=\"top\">TCS</th>\n",
       "      <th>2016-01-01</th>\n",
       "      <td>2416.40</td>\n",
       "    </tr>\n",
       "    <tr>\n",
       "      <th>2016-01-04</th>\n",
       "      <td>2369.60</td>\n",
       "    </tr>\n",
       "    <tr>\n",
       "      <th>2016-01-05</th>\n",
       "      <td>2348.95</td>\n",
       "    </tr>\n",
       "    <tr>\n",
       "      <th>2016-01-06</th>\n",
       "      <td>2381.60</td>\n",
       "    </tr>\n",
       "    <tr>\n",
       "      <th>2016-01-07</th>\n",
       "      <td>2371.25</td>\n",
       "    </tr>\n",
       "    <tr>\n",
       "      <th>...</th>\n",
       "      <th>...</th>\n",
       "      <td>...</td>\n",
       "    </tr>\n",
       "    <tr>\n",
       "      <th rowspan=\"5\" valign=\"top\">SUNPHARMA</th>\n",
       "      <th>2017-12-22</th>\n",
       "      <td>530.95</td>\n",
       "    </tr>\n",
       "    <tr>\n",
       "      <th>2017-12-26</th>\n",
       "      <td>541.30</td>\n",
       "    </tr>\n",
       "    <tr>\n",
       "      <th>2017-12-27</th>\n",
       "      <td>576.30</td>\n",
       "    </tr>\n",
       "    <tr>\n",
       "      <th>2017-12-28</th>\n",
       "      <td>568.40</td>\n",
       "    </tr>\n",
       "    <tr>\n",
       "      <th>2017-12-29</th>\n",
       "      <td>571.15</td>\n",
       "    </tr>\n",
       "  </tbody>\n",
       "</table>\n",
       "<p>4950 rows × 1 columns</p>\n",
       "</div>"
      ],
      "text/plain": [
       "                        close\n",
       "symbol    Date               \n",
       "TCS       2016-01-01  2416.40\n",
       "          2016-01-04  2369.60\n",
       "          2016-01-05  2348.95\n",
       "          2016-01-06  2381.60\n",
       "          2016-01-07  2371.25\n",
       "...                       ...\n",
       "SUNPHARMA 2017-12-22   530.95\n",
       "          2017-12-26   541.30\n",
       "          2017-12-27   576.30\n",
       "          2017-12-28   568.40\n",
       "          2017-12-29   571.15\n",
       "\n",
       "[4950 rows x 1 columns]"
      ]
     },
     "execution_count": 27,
     "metadata": {},
     "output_type": "execute_result"
    },
    {
     "data": {
      "text/html": [
       "<div>\n",
       "<style scoped>\n",
       "    .dataframe tbody tr th:only-of-type {\n",
       "        vertical-align: middle;\n",
       "    }\n",
       "\n",
       "    .dataframe tbody tr th {\n",
       "        vertical-align: top;\n",
       "    }\n",
       "\n",
       "    .dataframe thead th {\n",
       "        text-align: right;\n",
       "    }\n",
       "</style>\n",
       "<table border=\"1\" class=\"dataframe\">\n",
       "  <thead>\n",
       "    <tr style=\"text-align: right;\">\n",
       "      <th></th>\n",
       "      <th>close</th>\n",
       "    </tr>\n",
       "    <tr>\n",
       "      <th>Date</th>\n",
       "      <th></th>\n",
       "    </tr>\n",
       "  </thead>\n",
       "  <tbody>\n",
       "    <tr>\n",
       "      <th>2016-01-01</th>\n",
       "      <td>2416.40</td>\n",
       "    </tr>\n",
       "    <tr>\n",
       "      <th>2016-01-04</th>\n",
       "      <td>2369.60</td>\n",
       "    </tr>\n",
       "    <tr>\n",
       "      <th>2016-01-05</th>\n",
       "      <td>2348.95</td>\n",
       "    </tr>\n",
       "    <tr>\n",
       "      <th>2016-01-06</th>\n",
       "      <td>2381.60</td>\n",
       "    </tr>\n",
       "    <tr>\n",
       "      <th>2016-01-07</th>\n",
       "      <td>2371.25</td>\n",
       "    </tr>\n",
       "    <tr>\n",
       "      <th>...</th>\n",
       "      <td>...</td>\n",
       "    </tr>\n",
       "    <tr>\n",
       "      <th>2017-12-22</th>\n",
       "      <td>2646.75</td>\n",
       "    </tr>\n",
       "    <tr>\n",
       "      <th>2017-12-26</th>\n",
       "      <td>2649.45</td>\n",
       "    </tr>\n",
       "    <tr>\n",
       "      <th>2017-12-27</th>\n",
       "      <td>2619.90</td>\n",
       "    </tr>\n",
       "    <tr>\n",
       "      <th>2017-12-28</th>\n",
       "      <td>2626.95</td>\n",
       "    </tr>\n",
       "    <tr>\n",
       "      <th>2017-12-29</th>\n",
       "      <td>2701.20</td>\n",
       "    </tr>\n",
       "  </tbody>\n",
       "</table>\n",
       "<p>495 rows × 1 columns</p>\n",
       "</div>"
      ],
      "text/plain": [
       "              close\n",
       "Date               \n",
       "2016-01-01  2416.40\n",
       "2016-01-04  2369.60\n",
       "2016-01-05  2348.95\n",
       "2016-01-06  2381.60\n",
       "2016-01-07  2371.25\n",
       "...             ...\n",
       "2017-12-22  2646.75\n",
       "2017-12-26  2649.45\n",
       "2017-12-27  2619.90\n",
       "2017-12-28  2626.95\n",
       "2017-12-29  2701.20\n",
       "\n",
       "[495 rows x 1 columns]"
      ]
     },
     "execution_count": 27,
     "metadata": {},
     "output_type": "execute_result"
    }
   ],
   "source": [
    "# Read historical EOD prices of 10 selected Nifty50 stocks from file save in pandas dataframe format\n",
    "import pickle as pkl\n",
    "n50_file = 'Q3-Data/nifty50-10stocks.pd'\n",
    "n50_stocks = pkl.load(open(n50_file, 'rb'))\n",
    "n50_stocks.index.rename('Date', level=1, inplace=True)\n",
    "n50_stocks\n",
    "n50_stocks.loc['TCS']"
   ]
  },
  {
   "cell_type": "code",
   "execution_count": 28,
   "id": "exempt-attitude",
   "metadata": {},
   "outputs": [
    {
     "name": "stdout",
     "output_type": "stream",
     "text": [
      "\n",
      "\n",
      "\n",
      "\n",
      "\n",
      "\n",
      "\n",
      "\n",
      "\n",
      "\n"
     ]
    },
    {
     "data": {
      "image/png": "[encoded data removed]",
      "text/plain": [
       "<Figure size 432x288 with 1 Axes>"
      ]
     },
     "metadata": {
      "needs_background": "light"
     },
     "output_type": "display_data"
    },
    {
     "data": {
      "image/png": "[encoded data removed]",
      "text/plain": [
       "<Figure size 432x288 with 1 Axes>"
      ]
     },
     "metadata": {
      "needs_background": "light"
     },
     "output_type": "display_data"
    },
    {
     "data": {
      "image/png": "[encoded data removed]",
      "text/plain": [
       "<Figure size 432x288 with 1 Axes>"
      ]
     },
     "metadata": {
      "needs_background": "light"
     },
     "output_type": "display_data"
    },
    {
     "data": {
      "image/png": "[encoded data removed]",
      "text/plain": [
       "<Figure size 432x288 with 1 Axes>"
      ]
     },
     "metadata": {
      "needs_background": "light"
     },
     "output_type": "display_data"
    },
    {
     "data": {
      "image/png": "[encoded data removed]",
      "text/plain": [
       "<Figure size 432x288 with 1 Axes>"
      ]
     },
     "metadata": {
      "needs_background": "light"
     },
     "output_type": "display_data"
    },
    {
     "data": {
      "image/png": "[encoded data removed]",
      "text/plain": [
       "<Figure size 432x288 with 1 Axes>"
      ]
     },
     "metadata": {
      "needs_background": "light"
     },
     "output_type": "display_data"
    },
    {
     "data": {
      "image/png": "[encoded data removed]",
      "text/plain": [
       "<Figure size 432x288 with 1 Axes>"
      ]
     },
     "metadata": {
      "needs_background": "light"
     },
     "output_type": "display_data"
    },
    {
     "data": {
      "image/png": "[encoded data removed]",
      "text/plain": [
       "<Figure size 432x288 with 1 Axes>"
      ]
     },
     "metadata": {
      "needs_background": "light"
     },
     "output_type": "display_data"
    },
    {
     "data": {
      "image/png": "[encoded data removed]",
      "text/plain": [
       "<Figure size 432x288 with 1 Axes>"
      ]
     },
     "metadata": {
      "needs_background": "light"
     },
     "output_type": "display_data"
    },
    {
     "data": {
      "image/png": "[encoded data removed]",
      "text/plain": [
       "<Figure size 432x288 with 1 Axes>"
      ]
     },
     "metadata": {
      "needs_background": "light"
     },
     "output_type": "display_data"
    }
   ],
   "source": [
    "stocks = n50_stocks.index.get_level_values(0).unique()\n",
    "for s in stocks:\n",
    "    print()\n",
    "    _ = n50_stocks.loc[s].plot(title=s)"
   ]
  },
  {
   "cell_type": "code",
   "execution_count": 44,
   "id": "united-exclusive",
   "metadata": {},
   "outputs": [
    {
     "data": {
      "text/html": [
       "<div>\n",
       "<style scoped>\n",
       "    .dataframe tbody tr th:only-of-type {\n",
       "        vertical-align: middle;\n",
       "    }\n",
       "\n",
       "    .dataframe tbody tr th {\n",
       "        vertical-align: top;\n",
       "    }\n",
       "\n",
       "    .dataframe thead th {\n",
       "        text-align: right;\n",
       "    }\n",
       "</style>\n",
       "<table border=\"1\" class=\"dataframe\">\n",
       "  <thead>\n",
       "    <tr style=\"text-align: right;\">\n",
       "      <th></th>\n",
       "      <th>TCS</th>\n",
       "      <th>INFY</th>\n",
       "      <th>TATASTEEL</th>\n",
       "      <th>HDFC</th>\n",
       "      <th>SBIN</th>\n",
       "      <th>BHARTIARTL</th>\n",
       "      <th>MARUTI</th>\n",
       "      <th>ASIANPAINT</th>\n",
       "      <th>HINDUNILVR</th>\n",
       "      <th>SUNPHARMA</th>\n",
       "    </tr>\n",
       "    <tr>\n",
       "      <th>Date</th>\n",
       "      <th></th>\n",
       "      <th></th>\n",
       "      <th></th>\n",
       "      <th></th>\n",
       "      <th></th>\n",
       "      <th></th>\n",
       "      <th></th>\n",
       "      <th></th>\n",
       "      <th></th>\n",
       "      <th></th>\n",
       "    </tr>\n",
       "  </thead>\n",
       "  <tbody>\n",
       "    <tr>\n",
       "      <th>2016-01-01</th>\n",
       "      <td>2416.40</td>\n",
       "      <td>1105.25</td>\n",
       "      <td>257.40</td>\n",
       "      <td>1258.45</td>\n",
       "      <td>227.80</td>\n",
       "      <td>340.50</td>\n",
       "      <td>4638.50</td>\n",
       "      <td>878.75</td>\n",
       "      <td>856.55</td>\n",
       "      <td>815.55</td>\n",
       "    </tr>\n",
       "    <tr>\n",
       "      <th>2016-01-04</th>\n",
       "      <td>2369.60</td>\n",
       "      <td>1078.90</td>\n",
       "      <td>256.90</td>\n",
       "      <td>1216.70</td>\n",
       "      <td>220.70</td>\n",
       "      <td>326.80</td>\n",
       "      <td>4580.65</td>\n",
       "      <td>880.80</td>\n",
       "      <td>859.00</td>\n",
       "      <td>799.10</td>\n",
       "    </tr>\n",
       "    <tr>\n",
       "      <th>2016-01-05</th>\n",
       "      <td>2348.95</td>\n",
       "      <td>1074.05</td>\n",
       "      <td>274.30</td>\n",
       "      <td>1209.40</td>\n",
       "      <td>217.75</td>\n",
       "      <td>323.45</td>\n",
       "      <td>4566.95</td>\n",
       "      <td>900.65</td>\n",
       "      <td>847.95</td>\n",
       "      <td>800.50</td>\n",
       "    </tr>\n",
       "    <tr>\n",
       "      <th>2016-01-06</th>\n",
       "      <td>2381.60</td>\n",
       "      <td>1069.35</td>\n",
       "      <td>268.75</td>\n",
       "      <td>1209.30</td>\n",
       "      <td>216.85</td>\n",
       "      <td>322.20</td>\n",
       "      <td>4480.80</td>\n",
       "      <td>886.40</td>\n",
       "      <td>843.05</td>\n",
       "      <td>791.95</td>\n",
       "    </tr>\n",
       "    <tr>\n",
       "      <th>2016-01-07</th>\n",
       "      <td>2371.25</td>\n",
       "      <td>1050.80</td>\n",
       "      <td>249.90</td>\n",
       "      <td>1179.45</td>\n",
       "      <td>209.55</td>\n",
       "      <td>322.35</td>\n",
       "      <td>4267.90</td>\n",
       "      <td>872.35</td>\n",
       "      <td>820.25</td>\n",
       "      <td>783.80</td>\n",
       "    </tr>\n",
       "    <tr>\n",
       "      <th>...</th>\n",
       "      <td>...</td>\n",
       "      <td>...</td>\n",
       "      <td>...</td>\n",
       "      <td>...</td>\n",
       "      <td>...</td>\n",
       "      <td>...</td>\n",
       "      <td>...</td>\n",
       "      <td>...</td>\n",
       "      <td>...</td>\n",
       "      <td>...</td>\n",
       "    </tr>\n",
       "    <tr>\n",
       "      <th>2017-12-22</th>\n",
       "      <td>2646.75</td>\n",
       "      <td>1039.35</td>\n",
       "      <td>711.20</td>\n",
       "      <td>1709.35</td>\n",
       "      <td>319.85</td>\n",
       "      <td>528.55</td>\n",
       "      <td>9700.00</td>\n",
       "      <td>1138.00</td>\n",
       "      <td>1356.50</td>\n",
       "      <td>530.95</td>\n",
       "    </tr>\n",
       "    <tr>\n",
       "      <th>2017-12-26</th>\n",
       "      <td>2649.45</td>\n",
       "      <td>1035.60</td>\n",
       "      <td>721.65</td>\n",
       "      <td>1713.20</td>\n",
       "      <td>317.15</td>\n",
       "      <td>542.95</td>\n",
       "      <td>9679.00</td>\n",
       "      <td>1150.75</td>\n",
       "      <td>1348.10</td>\n",
       "      <td>541.30</td>\n",
       "    </tr>\n",
       "    <tr>\n",
       "      <th>2017-12-27</th>\n",
       "      <td>2619.90</td>\n",
       "      <td>1034.25</td>\n",
       "      <td>723.45</td>\n",
       "      <td>1707.90</td>\n",
       "      <td>314.85</td>\n",
       "      <td>534.65</td>\n",
       "      <td>9644.10</td>\n",
       "      <td>1149.05</td>\n",
       "      <td>1352.45</td>\n",
       "      <td>576.30</td>\n",
       "    </tr>\n",
       "    <tr>\n",
       "      <th>2017-12-28</th>\n",
       "      <td>2626.95</td>\n",
       "      <td>1033.25</td>\n",
       "      <td>736.25</td>\n",
       "      <td>1696.15</td>\n",
       "      <td>308.40</td>\n",
       "      <td>531.35</td>\n",
       "      <td>9629.20</td>\n",
       "      <td>1144.40</td>\n",
       "      <td>1354.50</td>\n",
       "      <td>568.40</td>\n",
       "    </tr>\n",
       "    <tr>\n",
       "      <th>2017-12-29</th>\n",
       "      <td>2701.20</td>\n",
       "      <td>1042.05</td>\n",
       "      <td>732.40</td>\n",
       "      <td>1710.40</td>\n",
       "      <td>309.90</td>\n",
       "      <td>529.65</td>\n",
       "      <td>9729.55</td>\n",
       "      <td>1158.50</td>\n",
       "      <td>1367.85</td>\n",
       "      <td>571.15</td>\n",
       "    </tr>\n",
       "  </tbody>\n",
       "</table>\n",
       "<p>495 rows × 10 columns</p>\n",
       "</div>"
      ],
      "text/plain": [
       "                TCS     INFY  TATASTEEL     HDFC    SBIN  BHARTIARTL   MARUTI  \\\n",
       "Date                                                                            \n",
       "2016-01-01  2416.40  1105.25     257.40  1258.45  227.80      340.50  4638.50   \n",
       "2016-01-04  2369.60  1078.90     256.90  1216.70  220.70      326.80  4580.65   \n",
       "2016-01-05  2348.95  1074.05     274.30  1209.40  217.75      323.45  4566.95   \n",
       "2016-01-06  2381.60  1069.35     268.75  1209.30  216.85      322.20  4480.80   \n",
       "2016-01-07  2371.25  1050.80     249.90  1179.45  209.55      322.35  4267.90   \n",
       "...             ...      ...        ...      ...     ...         ...      ...   \n",
       "2017-12-22  2646.75  1039.35     711.20  1709.35  319.85      528.55  9700.00   \n",
       "2017-12-26  2649.45  1035.60     721.65  1713.20  317.15      542.95  9679.00   \n",
       "2017-12-27  2619.90  1034.25     723.45  1707.90  314.85      534.65  9644.10   \n",
       "2017-12-28  2626.95  1033.25     736.25  1696.15  308.40      531.35  9629.20   \n",
       "2017-12-29  2701.20  1042.05     732.40  1710.40  309.90      529.65  9729.55   \n",
       "\n",
       "            ASIANPAINT  HINDUNILVR  SUNPHARMA  \n",
       "Date                                           \n",
       "2016-01-01      878.75      856.55     815.55  \n",
       "2016-01-04      880.80      859.00     799.10  \n",
       "2016-01-05      900.65      847.95     800.50  \n",
       "2016-01-06      886.40      843.05     791.95  \n",
       "2016-01-07      872.35      820.25     783.80  \n",
       "...                ...         ...        ...  \n",
       "2017-12-22     1138.00     1356.50     530.95  \n",
       "2017-12-26     1150.75     1348.10     541.30  \n",
       "2017-12-27     1149.05     1352.45     576.30  \n",
       "2017-12-28     1144.40     1354.50     568.40  \n",
       "2017-12-29     1158.50     1367.85     571.15  \n",
       "\n",
       "[495 rows x 10 columns]"
      ]
     },
     "execution_count": 44,
     "metadata": {},
     "output_type": "execute_result"
    }
   ],
   "source": [
    "# Merge all 10 stocks close price into one dataframe\n",
    "stock_data = [n50_stocks.loc[s] for s in stocks]\n",
    "for i in range(0, len(stocks)):\n",
    "    _ = stock_data[i].rename(columns={'close': stocks[i]}, inplace=True) # Rename close column to each stock names\n",
    "data = merge(stock_data)\n",
    "data"
   ]
  },
  {
   "cell_type": "code",
   "execution_count": 39,
   "id": "romantic-recorder",
   "metadata": {},
   "outputs": [
    {
     "data": {
      "text/plain": [
       "{'close_x': 'HINDUNILVR', 'close_y': 'SUNPHARMA'}"
      ]
     },
     "execution_count": 39,
     "metadata": {},
     "output_type": "execute_result"
    }
   ],
   "source": [
    "## Code to backtest strategy\n",
    "## Displays portfolio values only on days when traded\n",
    "\n",
    "from datetime import date as _date\n",
    "\n",
    "initial_capital = 100000000 # 100 million INR\n",
    "start_date = _date(2016, 1, 1) # Portfolio Allocation Start Date\n",
    "end_date = _date(2017, 12, 29) # Portfolio Redemption Date\n",
    "allocation_ratio = [10] * 10 # Allocation ratio of 10% in 10 stocks\n",
    "prev_units = [0, 0, 0] # Unit allocation initialization\n",
    "prev_cash = 0 # Cash initialization\n",
    "month = data.index.month\n",
    "\n",
    "print('Start....')\n",
    "print('Investments ratio & Units in order of {stocks}')\n",
    "print('===========================================================')\n",
    "print(date)\n",
    "print(f'Initial Capital : {initial_capital}')\n",
    "print('Begin portfolio allocation')\n",
    "\n",
    "# Initial capital allocation\n",
    "cash, units = invest(initial_capital, [nifty, gold, junior], allocation_ratio) # Initial allocation\n",
    "print(cash, units)\n",
    "\n",
    "# Portfolio redemption\n",
    "print('Portfolio redemption')\n",
    "cash, units = redeem([nifty, gold, junior], prev_units,cash) # Redeem portfolio, go all cash\n",
    "print(cash, units)\n",
    "print('===========================================================')"
   ]
  },
  {
   "cell_type": "code",
   "execution_count": 60,
   "id": "colored-greek",
   "metadata": {},
   "outputs": [
    {
     "data": {
      "text/plain": [
       "(10, 10, 10, 10, 10, 10, 10, 10, 10, 10)"
      ]
     },
     "execution_count": 60,
     "metadata": {},
     "output_type": "execute_result"
    }
   ],
   "source": [
    "tuple([10] * 10)"
   ]
  }
 ],
 "metadata": {
  "kernelspec": {
   "display_name": "Python [conda env:epat] *",
   "language": "python",
   "name": "conda-env-epat-py"
  },
  "language_info": {
   "codemirror_mode": {
    "name": "ipython",
    "version": 3
   },
   "file_extension": ".py",
   "mimetype": "text/x-python",
   "name": "python",
   "nbconvert_exporter": "python",
   "pygments_lexer": "ipython3",
   "version": "3.8.8"
  }
 },
 "nbformat": 4,
 "nbformat_minor": 5
}
