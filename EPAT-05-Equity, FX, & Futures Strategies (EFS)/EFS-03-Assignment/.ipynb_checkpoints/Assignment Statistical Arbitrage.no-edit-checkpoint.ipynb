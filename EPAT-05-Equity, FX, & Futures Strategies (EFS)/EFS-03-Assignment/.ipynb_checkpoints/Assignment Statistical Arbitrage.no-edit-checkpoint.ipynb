{
 "cells": [
  {
   "cell_type": "markdown",
   "metadata": {},
   "source": [
    "# Notebook Instructions\n",
    "<i>You can run the notebook document sequentially (one cell a time) by pressing <b> shift + enter</b>. While a cell is running, a [*] will display on the left. When it has been run, a number will display indicating the order in which it was run in the notebook [8].</i>\n",
    "\n",
    "<i>Enter edit mode by pressing <b>`Enter`</b> or using the mouse to click on a cell's editor area. Edit mode is indicated by a green cell border and a prompt showing in the editor area.</i>"
   ]
  },
  {
   "cell_type": "markdown",
   "metadata": {},
   "source": [
    "# Assignment\n",
    "\n",
    "In this assignment, you will learn to interpret the ADF test results and create a mean reversion strategy on triplets.\n",
    "\n",
    "The steps followed are\n",
    "1. Import the libraries and the data\n",
    "2. Find the hedge ratio\n",
    "3. Create the spread\n",
    "4. ADF Test\n",
    "5. Mean reversion strategy\n",
    "6. Plot the profit and loss (PnL)\n"
   ]
  },
  {
   "cell_type": "markdown",
   "metadata": {},
   "source": [
    "## 1. Import the libraries and the data"
   ]
  },
  {
   "cell_type": "code",
   "execution_count": null,
   "metadata": {},
   "outputs": [],
   "source": [
    "import numpy as np\n",
    "import pandas as pd\n",
    "import matplotlib.pyplot as plt\n",
    "%matplotlib inline"
   ]
  },
  {
   "cell_type": "markdown",
   "metadata": {},
   "source": [
    "The code reads the csv file using the read_csv function\n",
    "\n",
    "Instruction:\n",
    "1. Replace the `...` with `GLD.csv`, `GDX.csv` and `USO.csv` in the below cell"
   ]
  },
  {
   "cell_type": "code",
   "execution_count": null,
   "metadata": {},
   "outputs": [],
   "source": [
    "x = pd.read_csv('...', index_col=0)['Adj Close']\n",
    "y = pd.read_csv('...', index_col=0)['Adj Close']\n",
    "z = pd.read_csv('...', index_col=0)['Adj Close']\n",
    "\n",
    "df = pd.concat([x, y, z], axis=1)\n",
    "df.columns = ['GLD', 'GDX', 'USO']\n",
    "df.index = pd.to_datetime(df.index)\n",
    "\n",
    "(df.pct_change()+1).cumprod().plot(figsize=(10, 5))\n",
    "plt.ylabel(\"Percentage Change\")\n",
    "plt.show()"
   ]
  },
  {
   "cell_type": "markdown",
   "metadata": {},
   "source": [
    "## 2. Find the hedge ratio\n",
    "\n",
    "Instructions\n",
    "1. y is GLD and x1 is GDX and x2 is USO. Replace `..1..` with `GLD`, `..2..` with `GDX`, and `..3..` with `USO`.\n",
    "2. To find the hedge ratio, we will only use first 90 days of data. Replace `..4..` and `..5..` with `90`."
   ]
  },
  {
   "cell_type": "code",
   "execution_count": null,
   "metadata": {},
   "outputs": [],
   "source": [
    "from statsmodels.api import OLS\n",
    "model = OLS(df['..1..'].iloc[:..4..], df[['..2..', '..3..']].iloc[:..5..])\n",
    "model = model.fit()\n",
    "print('The hedge ratio for GDX and USO are')\n",
    "model.params"
   ]
  },
  {
   "cell_type": "markdown",
   "metadata": {},
   "source": [
    "## 3. Create the spread\n",
    "\n",
    "The spread is formed as GLD - m1 * GDX - m2 * USO. The `model.params[0]` stores m1 and `model.params[1]` stores m2.\n",
    "\n",
    "Instruction\n",
    "1. Compute the spread"
   ]
  },
  {
   "cell_type": "code",
   "execution_count": null,
   "metadata": {},
   "outputs": [],
   "source": [
    "df['spread'] = ...........1............."
   ]
  },
  {
   "cell_type": "code",
   "execution_count": null,
   "metadata": {},
   "outputs": [],
   "source": [
    "print('The spread is: GLD - %f * GDX - %f * USO' %\n",
    "      (model.params[0], model.params[1]))\n",
    "# Plot the spread\n",
    "df.spread.plot(figsize=(10, 5))\n",
    "plt.ylabel(\"Spread\")\n",
    "plt.show()"
   ]
  },
  {
   "cell_type": "markdown",
   "metadata": {},
   "source": [
    "### 4. ADF Test\n",
    "\n",
    "We determine the spread is cointegrated using adfuller method.\n",
    "\n",
    "Instruction\n",
    "\n",
    "1. Run ADF Test on `df.spread` and with `maxlag` as `1`."
   ]
  },
  {
   "cell_type": "code",
   "execution_count": null,
   "metadata": {},
   "outputs": [],
   "source": [
    "# To perform ADF Test\n",
    "from statsmodels.tsa.stattools import adfuller\n",
    "# Compute ADF test statistics\n",
    "adf = .................1..................\n",
    "adf[0]"
   ]
  },
  {
   "cell_type": "code",
   "execution_count": null,
   "metadata": {},
   "outputs": [],
   "source": [
    "adf[4]"
   ]
  },
  {
   "cell_type": "markdown",
   "metadata": {},
   "source": [
    "If t-stat value is less than the critical value then the spread is cointegrated.\n",
    "\n",
    "Instructions\n",
    "2. Replace `..2..` with `True` if the spread is cointegrated and `False` if the spread is not cointegrated\n",
    "(Assume 90% confidence level)"
   ]
  },
  {
   "cell_type": "code",
   "execution_count": null,
   "metadata": {},
   "outputs": [],
   "source": [
    "is_triplet_cointegrated = ..2.."
   ]
  },
  {
   "cell_type": "markdown",
   "metadata": {},
   "source": [
    "## 5. Mean reversion strategy"
   ]
  },
  {
   "cell_type": "code",
   "execution_count": null,
   "metadata": {},
   "outputs": [],
   "source": [
    "def stat_arb(df, lookback, std_dev):\n",
    "    df['moving_average'] = df.spread.rolling(lookback).mean()\n",
    "    df['moving_std_dev'] = df.spread.rolling(lookback).std()\n",
    "\n",
    "    df['upper_band'] = df.moving_average + std_dev*df.moving_std_dev\n",
    "    df['lower_band'] = df.moving_average - std_dev*df.moving_std_dev\n",
    "\n",
    "    df['long_entry'] = df.spread < df.lower_band\n",
    "    df['long_exit'] = df.spread >= df.moving_average\n",
    "    df['positions_long'] = np.nan\n",
    "    df.loc[df.long_entry, 'positions_long'] = 1\n",
    "    df.loc[df.long_exit, 'positions_long'] = 0\n",
    "    df.positions_long = df.positions_long.fillna(method='ffill')\n",
    "\n",
    "    df['short_entry'] = df.spread > df.upper_band\n",
    "    df['short_exit'] = df.spread <= df.moving_average\n",
    "    df['positions_short'] = np.nan\n",
    "    df.loc[df.short_entry, 'positions_short'] = -1\n",
    "    df.loc[df.short_exit, 'positions_short'] = 0\n",
    "    df.positions_short = df.positions_short.fillna(method='ffill')\n",
    "\n",
    "    df['positions'] = df.positions_long + df.positions_short\n",
    "\n",
    "    df['spread_difference'] = df.spread - df.spread.shift(1)\n",
    "    df['pnl'] = df.positions.shift(1) * df.spread_difference\n",
    "    df['cumpnl'] = df.pnl.cumsum()\n",
    "    return df"
   ]
  },
  {
   "cell_type": "markdown",
   "metadata": {},
   "source": [
    "Instruction\n",
    "1. Call the function stat_arb with df, lookback as 15 and standard deviation as 1."
   ]
  },
  {
   "cell_type": "code",
   "execution_count": null,
   "metadata": {},
   "outputs": [],
   "source": [
    "df = .............1......................"
   ]
  },
  {
   "cell_type": "markdown",
   "metadata": {},
   "source": [
    "## 6. Plot the profit and loss (PnL)"
   ]
  },
  {
   "cell_type": "markdown",
   "metadata": {},
   "source": [
    "Instruction\n",
    "1. Plot the cumulative PnL"
   ]
  },
  {
   "cell_type": "code",
   "execution_count": null,
   "metadata": {},
   "outputs": [],
   "source": [
    ".........1..........\n",
    "\n",
    "\n",
    "\n"
   ]
  }
 ],
 "metadata": {
  "kernelspec": {
   "display_name": "Python 3",
   "language": "python",
   "name": "python3"
  },
  "language_info": {
   "codemirror_mode": {
    "name": "ipython",
    "version": 3
   },
   "file_extension": ".py",
   "mimetype": "text/x-python",
   "name": "python",
   "nbconvert_exporter": "python",
   "pygments_lexer": "ipython3",
   "version": "3.6.8"
  },
  "toc": {
   "base_numbering": 1,
   "nav_menu": {},
   "number_sections": true,
   "sideBar": true,
   "skip_h1_title": false,
   "title_cell": "Table of Contents",
   "title_sidebar": "Contents",
   "toc_cell": false,
   "toc_position": {},
   "toc_section_display": true,
   "toc_window_display": false
  },
  "varInspector": {
   "cols": {
    "lenName": 16,
    "lenType": 16,
    "lenVar": 40
   },
   "kernels_config": {
    "python": {
     "delete_cmd_postfix": "",
     "delete_cmd_prefix": "del ",
     "library": "var_list.py",
     "varRefreshCmd": "print(var_dic_list())"
    },
    "r": {
     "delete_cmd_postfix": ") ",
     "delete_cmd_prefix": "rm(",
     "library": "var_list.r",
     "varRefreshCmd": "cat(var_dic_list()) "
    }
   },
   "types_to_exclude": [
    "module",
    "function",
    "builtin_function_or_method",
    "instance",
    "_Feature"
   ],
   "window_display": false
  }
 },
 "nbformat": 4,
 "nbformat_minor": 2
}
