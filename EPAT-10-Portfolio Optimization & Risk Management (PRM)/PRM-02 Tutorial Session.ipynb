{
 "cells": [
  {
   "cell_type": "markdown",
   "metadata": {},
   "source": [
    "# PRM-02 Tutorial Session\n",
    "\n",
    "### Author: Jay Parmar\n",
    "\n",
    "##### Created on: 19/09/2020\n",
    "\n",
    "##### Last Updated on: 08/12/2020"
   ]
  },
  {
   "cell_type": "markdown",
   "metadata": {},
   "source": [
    "### Lecture Agenda\n",
    "- Portfolio Creation\n",
    "- Calculating Risk and Returns\n",
    "- Modern Portfolio Theory\n",
    "- Security Selection\n",
    "- Kelly Criterion for Position Sizing\n",
    "- Calculating Profitability Ratios using Pyfolio\n",
    "\n",
    "### What this lecture is not?\n",
    "1. This lecture is *NOT* about Python, but rather Portfolio concepts with the help of Python."
   ]
  },
  {
   "cell_type": "code",
   "execution_count": 1,
   "metadata": {},
   "outputs": [
    {
     "name": "stderr",
     "output_type": "stream",
     "text": [
      "C:\\Anaconda3\\envs\\epat\\lib\\site-packages\\pyfolio\\pos.py:26: UserWarning: Module \"zipline.assets\" not found; mutltipliers will not be applied to position notionals.\n",
      "  warnings.warn(\n"
     ]
    }
   ],
   "source": [
    "# Importing necessary libraries\n",
    "import pandas as pd\n",
    "import numpy as np\n",
    "import matplotlib.pyplot as plt\n",
    "import warnings\n",
    "import pyfolio as pf\n",
    "\n",
    "%matplotlib inline\n",
    "warnings.filterwarnings('ignore')\n",
    "plt.style.use('seaborn-ticks')"
   ]
  },
  {
   "cell_type": "code",
   "execution_count": 2,
   "metadata": {},
   "outputs": [
    {
     "data": {
      "text/plain": [
       "'0.9.2'"
      ]
     },
     "execution_count": 2,
     "metadata": {},
     "output_type": "execute_result"
    }
   ],
   "source": [
    "import pyfolio as pf\n",
    "pf.__version__"
   ]
  },
  {
   "cell_type": "markdown",
   "metadata": {},
   "source": [
    "# 1) Investing in a Single Stock"
   ]
  },
  {
   "cell_type": "code",
   "execution_count": 3,
   "metadata": {},
   "outputs": [],
   "source": [
    "# Define the first stock\n",
    "stk_1 = 'TCS'"
   ]
  },
  {
   "cell_type": "code",
   "execution_count": 4,
   "metadata": {},
   "outputs": [],
   "source": [
    "# Read stock 1 data and verify its content\n",
    "stk_1_data = pd.read_csv(stk_1+'.csv', index_col=0, parse_dates=True)"
   ]
  },
  {
   "cell_type": "code",
   "execution_count": 5,
   "metadata": {},
   "outputs": [
    {
     "data": {
      "text/html": [
       "<div>\n",
       "<style scoped>\n",
       "    .dataframe tbody tr th:only-of-type {\n",
       "        vertical-align: middle;\n",
       "    }\n",
       "\n",
       "    .dataframe tbody tr th {\n",
       "        vertical-align: top;\n",
       "    }\n",
       "\n",
       "    .dataframe thead th {\n",
       "        text-align: right;\n",
       "    }\n",
       "</style>\n",
       "<table border=\"1\" class=\"dataframe\">\n",
       "  <thead>\n",
       "    <tr style=\"text-align: right;\">\n",
       "      <th></th>\n",
       "      <th>Open</th>\n",
       "      <th>High</th>\n",
       "      <th>Low</th>\n",
       "      <th>Close</th>\n",
       "      <th>Adj Close</th>\n",
       "      <th>Volume</th>\n",
       "    </tr>\n",
       "    <tr>\n",
       "      <th>Date</th>\n",
       "      <th></th>\n",
       "      <th></th>\n",
       "      <th></th>\n",
       "      <th></th>\n",
       "      <th></th>\n",
       "      <th></th>\n",
       "    </tr>\n",
       "  </thead>\n",
       "  <tbody>\n",
       "    <tr>\n",
       "      <th>2015-01-01</th>\n",
       "      <td>1283.500000</td>\n",
       "      <td>1283.500000</td>\n",
       "      <td>1270.500000</td>\n",
       "      <td>1272.780029</td>\n",
       "      <td>1089.075073</td>\n",
       "      <td>366830</td>\n",
       "    </tr>\n",
       "    <tr>\n",
       "      <th>2015-01-02</th>\n",
       "      <td>1275.500000</td>\n",
       "      <td>1295.469971</td>\n",
       "      <td>1275.300049</td>\n",
       "      <td>1289.719971</td>\n",
       "      <td>1103.570190</td>\n",
       "      <td>925740</td>\n",
       "    </tr>\n",
       "    <tr>\n",
       "      <th>2015-01-05</th>\n",
       "      <td>1290.500000</td>\n",
       "      <td>1299.949951</td>\n",
       "      <td>1262.319946</td>\n",
       "      <td>1270.119995</td>\n",
       "      <td>1086.799072</td>\n",
       "      <td>1754242</td>\n",
       "    </tr>\n",
       "    <tr>\n",
       "      <th>2015-01-06</th>\n",
       "      <td>1264.550049</td>\n",
       "      <td>1264.550049</td>\n",
       "      <td>1220.000000</td>\n",
       "      <td>1223.300049</td>\n",
       "      <td>1046.736816</td>\n",
       "      <td>2423784</td>\n",
       "    </tr>\n",
       "    <tr>\n",
       "      <th>2015-01-07</th>\n",
       "      <td>1235.000000</td>\n",
       "      <td>1239.569946</td>\n",
       "      <td>1203.719971</td>\n",
       "      <td>1208.849976</td>\n",
       "      <td>1034.372314</td>\n",
       "      <td>2636332</td>\n",
       "    </tr>\n",
       "  </tbody>\n",
       "</table>\n",
       "</div>"
      ],
      "text/plain": [
       "                   Open         High          Low        Close    Adj Close  \\\n",
       "Date                                                                          \n",
       "2015-01-01  1283.500000  1283.500000  1270.500000  1272.780029  1089.075073   \n",
       "2015-01-02  1275.500000  1295.469971  1275.300049  1289.719971  1103.570190   \n",
       "2015-01-05  1290.500000  1299.949951  1262.319946  1270.119995  1086.799072   \n",
       "2015-01-06  1264.550049  1264.550049  1220.000000  1223.300049  1046.736816   \n",
       "2015-01-07  1235.000000  1239.569946  1203.719971  1208.849976  1034.372314   \n",
       "\n",
       "             Volume  \n",
       "Date                 \n",
       "2015-01-01   366830  \n",
       "2015-01-02   925740  \n",
       "2015-01-05  1754242  \n",
       "2015-01-06  2423784  \n",
       "2015-01-07  2636332  "
      ]
     },
     "execution_count": 5,
     "metadata": {},
     "output_type": "execute_result"
    }
   ],
   "source": [
    "stk_1_data.head()"
   ]
  },
  {
   "cell_type": "code",
   "execution_count": 6,
   "metadata": {},
   "outputs": [
    {
     "data": {
      "text/html": [
       "<div>\n",
       "<style scoped>\n",
       "    .dataframe tbody tr th:only-of-type {\n",
       "        vertical-align: middle;\n",
       "    }\n",
       "\n",
       "    .dataframe tbody tr th {\n",
       "        vertical-align: top;\n",
       "    }\n",
       "\n",
       "    .dataframe thead th {\n",
       "        text-align: right;\n",
       "    }\n",
       "</style>\n",
       "<table border=\"1\" class=\"dataframe\">\n",
       "  <thead>\n",
       "    <tr style=\"text-align: right;\">\n",
       "      <th></th>\n",
       "      <th>Open</th>\n",
       "      <th>High</th>\n",
       "      <th>Low</th>\n",
       "      <th>Close</th>\n",
       "      <th>Adj Close</th>\n",
       "      <th>Volume</th>\n",
       "    </tr>\n",
       "    <tr>\n",
       "      <th>Date</th>\n",
       "      <th></th>\n",
       "      <th></th>\n",
       "      <th></th>\n",
       "      <th></th>\n",
       "      <th></th>\n",
       "      <th></th>\n",
       "    </tr>\n",
       "  </thead>\n",
       "  <tbody>\n",
       "    <tr>\n",
       "      <th>2020-08-24</th>\n",
       "      <td>2250.600098</td>\n",
       "      <td>2259.949951</td>\n",
       "      <td>2230.000000</td>\n",
       "      <td>2248.100098</td>\n",
       "      <td>2248.100098</td>\n",
       "      <td>2167966</td>\n",
       "    </tr>\n",
       "    <tr>\n",
       "      <th>2020-08-25</th>\n",
       "      <td>2245.000000</td>\n",
       "      <td>2250.000000</td>\n",
       "      <td>2233.550049</td>\n",
       "      <td>2242.649902</td>\n",
       "      <td>2242.649902</td>\n",
       "      <td>1663419</td>\n",
       "    </tr>\n",
       "    <tr>\n",
       "      <th>2020-08-26</th>\n",
       "      <td>2242.000000</td>\n",
       "      <td>2259.899902</td>\n",
       "      <td>2216.449951</td>\n",
       "      <td>2253.500000</td>\n",
       "      <td>2253.500000</td>\n",
       "      <td>2618149</td>\n",
       "    </tr>\n",
       "    <tr>\n",
       "      <th>2020-08-27</th>\n",
       "      <td>2266.000000</td>\n",
       "      <td>2287.350098</td>\n",
       "      <td>2241.750000</td>\n",
       "      <td>2248.399902</td>\n",
       "      <td>2248.399902</td>\n",
       "      <td>3579393</td>\n",
       "    </tr>\n",
       "    <tr>\n",
       "      <th>2020-08-28</th>\n",
       "      <td>2268.399902</td>\n",
       "      <td>2279.949951</td>\n",
       "      <td>2235.100098</td>\n",
       "      <td>2238.550049</td>\n",
       "      <td>2238.550049</td>\n",
       "      <td>2941136</td>\n",
       "    </tr>\n",
       "  </tbody>\n",
       "</table>\n",
       "</div>"
      ],
      "text/plain": [
       "                   Open         High          Low        Close    Adj Close  \\\n",
       "Date                                                                          \n",
       "2020-08-24  2250.600098  2259.949951  2230.000000  2248.100098  2248.100098   \n",
       "2020-08-25  2245.000000  2250.000000  2233.550049  2242.649902  2242.649902   \n",
       "2020-08-26  2242.000000  2259.899902  2216.449951  2253.500000  2253.500000   \n",
       "2020-08-27  2266.000000  2287.350098  2241.750000  2248.399902  2248.399902   \n",
       "2020-08-28  2268.399902  2279.949951  2235.100098  2238.550049  2238.550049   \n",
       "\n",
       "             Volume  \n",
       "Date                 \n",
       "2020-08-24  2167966  \n",
       "2020-08-25  1663419  \n",
       "2020-08-26  2618149  \n",
       "2020-08-27  3579393  \n",
       "2020-08-28  2941136  "
      ]
     },
     "execution_count": 6,
     "metadata": {},
     "output_type": "execute_result"
    }
   ],
   "source": [
    "stk_1_data.tail()"
   ]
  },
  {
   "cell_type": "markdown",
   "metadata": {},
   "source": [
    "### Daily Returns"
   ]
  },
  {
   "cell_type": "code",
   "execution_count": 7,
   "metadata": {},
   "outputs": [],
   "source": [
    "# Calculate daily percentage changes for stock 1\n",
    "stk_1_data['daily_returns'] = stk_1_data['Adj Close'].pct_change()\n",
    "\n",
    "stk_1_data.dropna(inplace=True)"
   ]
  },
  {
   "cell_type": "code",
   "execution_count": 8,
   "metadata": {},
   "outputs": [],
   "source": [
    "# Function to compute net cumulative returns\n",
    "def compute_cum_returns(data):\n",
    "    net_returns = (1 + data).cumprod() - 1\n",
    "    return net_returns"
   ]
  },
  {
   "cell_type": "code",
   "execution_count": 9,
   "metadata": {},
   "outputs": [
    {
     "name": "stdout",
     "output_type": "stream",
     "text": [
      "The cumulative returns for TCS are 105.546%\n"
     ]
    },
    {
     "data": {
      "image/png": "[encoded data removed]",
      "text/plain": [
       "<Figure size 720x432 with 1 Axes>"
      ]
     },
     "metadata": {},
     "output_type": "display_data"
    }
   ],
   "source": [
    "# Calculate cumulative returns for stock 1\n",
    "stk_1_cum_returns = compute_cum_returns(stk_1_data['daily_returns'])\n",
    "\n",
    "# Display cumulative returns for stock 1\n",
    "stk_1_cum_returns.plot(figsize=(10, 6))\n",
    "\n",
    "# Print the final value\n",
    "print('The cumulative returns for %s are %.3f%%' % (stk_1, stk_1_cum_returns[-1] * 100))"
   ]
  },
  {
   "cell_type": "markdown",
   "metadata": {},
   "source": [
    "### Annualized Returns"
   ]
  },
  {
   "cell_type": "markdown",
   "metadata": {},
   "source": [
    "An annualized total return is the geometric average amount of money earned by an investment each year over a given time period. The annualized return formula is calculated as a geometric average to show what an investor would earn over a period of time if the annual return was compounded."
   ]
  },
  {
   "cell_type": "markdown",
   "metadata": {},
   "source": [
    "$$ Annualized Returns = (1 + Cumulative\\ Return)^\\frac{252}{N} - 1 $$\n",
    "\n",
    "Where:\n",
    "\n",
    "$ 252 = $ Number of trading days in year\n",
    "\n",
    "$ N = $ Number of trading days for a strategy"
   ]
  },
  {
   "cell_type": "code",
   "execution_count": 10,
   "metadata": {},
   "outputs": [],
   "source": [
    "# Function to compute annualized returns\n",
    "def compute_ann_returns(cum_returns, n):\n",
    "    trading_days = 252\n",
    "    \n",
    "    ann_returns = ((1 + cum_returns) ** (trading_days/n)) - 1\n",
    "    \n",
    "    return ann_returns"
   ]
  },
  {
   "cell_type": "code",
   "execution_count": 11,
   "metadata": {},
   "outputs": [
    {
     "name": "stdout",
     "output_type": "stream",
     "text": [
      "The annualized returns for TCS are 13.932%\n"
     ]
    }
   ],
   "source": [
    "# Define length of data\n",
    "n = len(stk_1_data)\n",
    "\n",
    "# Compute annualized returns for stk_1\n",
    "stk_1_annualized_returns = compute_ann_returns(stk_1_cum_returns[-1], n)\n",
    "\n",
    "print('The annualized returns for %s are %.3f%%' % (stk_1, stk_1_annualized_returns * 100))"
   ]
  },
  {
   "cell_type": "markdown",
   "metadata": {},
   "source": [
    "##### Questions to ask:-\n",
    "\n",
    "1. Should we invest in only single stock? If yes, why? If no, why not?\n",
    "2. Is investing in a single stock risky?"
   ]
  },
  {
   "cell_type": "markdown",
   "metadata": {},
   "source": [
    "### Daily Volatility"
   ]
  },
  {
   "cell_type": "code",
   "execution_count": 12,
   "metadata": {},
   "outputs": [
    {
     "name": "stdout",
     "output_type": "stream",
     "text": [
      "The daily volatility of TCS is 0.016%\n"
     ]
    }
   ],
   "source": [
    "# Calculate daily volatility for stock 1\n",
    "stk_1_daily_volatility = stk_1_data.daily_returns.std()\n",
    "\n",
    "print('The daily volatility of %s is %.3f%%' % (stk_1, stk_1_daily_volatility))"
   ]
  },
  {
   "cell_type": "markdown",
   "metadata": {},
   "source": [
    "### Annualized Volatility"
   ]
  },
  {
   "cell_type": "code",
   "execution_count": 13,
   "metadata": {},
   "outputs": [
    {
     "name": "stdout",
     "output_type": "stream",
     "text": [
      "The annualised volatility of TCS is 24.961%\n"
     ]
    }
   ],
   "source": [
    "# Calculate the annualised volatility for stock 1\n",
    "stk_1_annual_volatility = stk_1_daily_volatility * np.sqrt(252)\n",
    "\n",
    "print('The annualised volatility of %s is %.3f%%' % (stk_1, stk_1_annual_volatility * 100))"
   ]
  },
  {
   "cell_type": "code",
   "execution_count": 14,
   "metadata": {},
   "outputs": [
    {
     "data": {
      "text/html": [
       "<div>\n",
       "<style scoped>\n",
       "    .dataframe tbody tr th:only-of-type {\n",
       "        vertical-align: middle;\n",
       "    }\n",
       "\n",
       "    .dataframe tbody tr th {\n",
       "        vertical-align: top;\n",
       "    }\n",
       "\n",
       "    .dataframe thead th {\n",
       "        text-align: right;\n",
       "    }\n",
       "</style>\n",
       "<table border=\"1\" class=\"dataframe\">\n",
       "  <thead>\n",
       "    <tr style=\"text-align: right;\">\n",
       "      <th></th>\n",
       "      <th>ann_returns</th>\n",
       "      <th>ann_volatility</th>\n",
       "    </tr>\n",
       "  </thead>\n",
       "  <tbody>\n",
       "    <tr>\n",
       "      <th>TCS</th>\n",
       "      <td>13.932</td>\n",
       "      <td>24.961</td>\n",
       "    </tr>\n",
       "  </tbody>\n",
       "</table>\n",
       "</div>"
      ],
      "text/plain": [
       "    ann_returns ann_volatility\n",
       "TCS      13.932         24.961"
      ]
     },
     "execution_count": 14,
     "metadata": {},
     "output_type": "execute_result"
    }
   ],
   "source": [
    "# Comparison\n",
    "comparison = pd.DataFrame(columns=['ann_returns', 'ann_volatility'])\n",
    "\n",
    "comparison.loc[stk_1, 'ann_returns'] = round(stk_1_annualized_returns * 100, 3)\n",
    "comparison.loc[stk_1, 'ann_volatility'] = round(stk_1_annual_volatility * 100, 3)\n",
    "\n",
    "comparison.head()"
   ]
  },
  {
   "cell_type": "markdown",
   "metadata": {},
   "source": [
    "# 2) Modern Portfolio Theory"
   ]
  },
  {
   "cell_type": "code",
   "execution_count": 15,
   "metadata": {},
   "outputs": [],
   "source": [
    "# Define stock 2\n",
    "stk_2 = 'MARUTI'"
   ]
  },
  {
   "cell_type": "code",
   "execution_count": 16,
   "metadata": {},
   "outputs": [
    {
     "data": {
      "text/html": [
       "<div>\n",
       "<style scoped>\n",
       "    .dataframe tbody tr th:only-of-type {\n",
       "        vertical-align: middle;\n",
       "    }\n",
       "\n",
       "    .dataframe tbody tr th {\n",
       "        vertical-align: top;\n",
       "    }\n",
       "\n",
       "    .dataframe thead th {\n",
       "        text-align: right;\n",
       "    }\n",
       "</style>\n",
       "<table border=\"1\" class=\"dataframe\">\n",
       "  <thead>\n",
       "    <tr style=\"text-align: right;\">\n",
       "      <th></th>\n",
       "      <th>Open</th>\n",
       "      <th>High</th>\n",
       "      <th>Low</th>\n",
       "      <th>Close</th>\n",
       "      <th>Adj Close</th>\n",
       "      <th>Volume</th>\n",
       "    </tr>\n",
       "    <tr>\n",
       "      <th>Date</th>\n",
       "      <th></th>\n",
       "      <th></th>\n",
       "      <th></th>\n",
       "      <th></th>\n",
       "      <th></th>\n",
       "      <th></th>\n",
       "    </tr>\n",
       "  </thead>\n",
       "  <tbody>\n",
       "    <tr>\n",
       "      <th>2015-01-01</th>\n",
       "      <td>3320.25</td>\n",
       "      <td>3360.000000</td>\n",
       "      <td>3320.250000</td>\n",
       "      <td>3340.750000</td>\n",
       "      <td>3135.805908</td>\n",
       "      <td>299232</td>\n",
       "    </tr>\n",
       "    <tr>\n",
       "      <th>2015-01-02</th>\n",
       "      <td>3360.00</td>\n",
       "      <td>3383.000000</td>\n",
       "      <td>3350.500000</td>\n",
       "      <td>3359.600098</td>\n",
       "      <td>3153.499756</td>\n",
       "      <td>233924</td>\n",
       "    </tr>\n",
       "    <tr>\n",
       "      <th>2015-01-05</th>\n",
       "      <td>3382.00</td>\n",
       "      <td>3469.350098</td>\n",
       "      <td>3376.050049</td>\n",
       "      <td>3447.800049</td>\n",
       "      <td>3236.289062</td>\n",
       "      <td>536747</td>\n",
       "    </tr>\n",
       "    <tr>\n",
       "      <th>2015-01-06</th>\n",
       "      <td>3439.00</td>\n",
       "      <td>3439.000000</td>\n",
       "      <td>3382.500000</td>\n",
       "      <td>3395.250000</td>\n",
       "      <td>3186.962646</td>\n",
       "      <td>422743</td>\n",
       "    </tr>\n",
       "    <tr>\n",
       "      <th>2015-01-07</th>\n",
       "      <td>3400.00</td>\n",
       "      <td>3458.949951</td>\n",
       "      <td>3382.050049</td>\n",
       "      <td>3437.750000</td>\n",
       "      <td>3226.855225</td>\n",
       "      <td>369241</td>\n",
       "    </tr>\n",
       "  </tbody>\n",
       "</table>\n",
       "</div>"
      ],
      "text/plain": [
       "               Open         High          Low        Close    Adj Close  \\\n",
       "Date                                                                      \n",
       "2015-01-01  3320.25  3360.000000  3320.250000  3340.750000  3135.805908   \n",
       "2015-01-02  3360.00  3383.000000  3350.500000  3359.600098  3153.499756   \n",
       "2015-01-05  3382.00  3469.350098  3376.050049  3447.800049  3236.289062   \n",
       "2015-01-06  3439.00  3439.000000  3382.500000  3395.250000  3186.962646   \n",
       "2015-01-07  3400.00  3458.949951  3382.050049  3437.750000  3226.855225   \n",
       "\n",
       "            Volume  \n",
       "Date                \n",
       "2015-01-01  299232  \n",
       "2015-01-02  233924  \n",
       "2015-01-05  536747  \n",
       "2015-01-06  422743  \n",
       "2015-01-07  369241  "
      ]
     },
     "execution_count": 16,
     "metadata": {},
     "output_type": "execute_result"
    }
   ],
   "source": [
    "# Read stock 2 data \n",
    "stk_2_data = pd.read_csv(stk_2+'.csv', index_col=0, parse_dates=True)\n",
    "\n",
    "stk_2_data.head()"
   ]
  },
  {
   "cell_type": "code",
   "execution_count": 17,
   "metadata": {},
   "outputs": [
    {
     "data": {
      "text/html": [
       "<div>\n",
       "<style scoped>\n",
       "    .dataframe tbody tr th:only-of-type {\n",
       "        vertical-align: middle;\n",
       "    }\n",
       "\n",
       "    .dataframe tbody tr th {\n",
       "        vertical-align: top;\n",
       "    }\n",
       "\n",
       "    .dataframe thead th {\n",
       "        text-align: right;\n",
       "    }\n",
       "</style>\n",
       "<table border=\"1\" class=\"dataframe\">\n",
       "  <thead>\n",
       "    <tr style=\"text-align: right;\">\n",
       "      <th></th>\n",
       "      <th>Open</th>\n",
       "      <th>High</th>\n",
       "      <th>Low</th>\n",
       "      <th>Close</th>\n",
       "      <th>Adj Close</th>\n",
       "      <th>Volume</th>\n",
       "    </tr>\n",
       "    <tr>\n",
       "      <th>Date</th>\n",
       "      <th></th>\n",
       "      <th></th>\n",
       "      <th></th>\n",
       "      <th></th>\n",
       "      <th></th>\n",
       "      <th></th>\n",
       "    </tr>\n",
       "  </thead>\n",
       "  <tbody>\n",
       "    <tr>\n",
       "      <th>2020-08-24</th>\n",
       "      <td>6985.0</td>\n",
       "      <td>7100.000000</td>\n",
       "      <td>6955.000000</td>\n",
       "      <td>7082.500000</td>\n",
       "      <td>7082.500000</td>\n",
       "      <td>961177</td>\n",
       "    </tr>\n",
       "    <tr>\n",
       "      <th>2020-08-25</th>\n",
       "      <td>7100.0</td>\n",
       "      <td>7175.700195</td>\n",
       "      <td>7075.649902</td>\n",
       "      <td>7109.950195</td>\n",
       "      <td>7109.950195</td>\n",
       "      <td>1047620</td>\n",
       "    </tr>\n",
       "    <tr>\n",
       "      <th>2020-08-26</th>\n",
       "      <td>7110.0</td>\n",
       "      <td>7158.000000</td>\n",
       "      <td>6972.000000</td>\n",
       "      <td>7008.649902</td>\n",
       "      <td>7008.649902</td>\n",
       "      <td>992395</td>\n",
       "    </tr>\n",
       "    <tr>\n",
       "      <th>2020-08-27</th>\n",
       "      <td>7043.0</td>\n",
       "      <td>7127.700195</td>\n",
       "      <td>6960.799805</td>\n",
       "      <td>7098.000000</td>\n",
       "      <td>7098.000000</td>\n",
       "      <td>1158891</td>\n",
       "    </tr>\n",
       "    <tr>\n",
       "      <th>2020-08-28</th>\n",
       "      <td>7125.0</td>\n",
       "      <td>7156.000000</td>\n",
       "      <td>7028.450195</td>\n",
       "      <td>7104.100098</td>\n",
       "      <td>7104.100098</td>\n",
       "      <td>1019984</td>\n",
       "    </tr>\n",
       "  </tbody>\n",
       "</table>\n",
       "</div>"
      ],
      "text/plain": [
       "              Open         High          Low        Close    Adj Close  \\\n",
       "Date                                                                     \n",
       "2020-08-24  6985.0  7100.000000  6955.000000  7082.500000  7082.500000   \n",
       "2020-08-25  7100.0  7175.700195  7075.649902  7109.950195  7109.950195   \n",
       "2020-08-26  7110.0  7158.000000  6972.000000  7008.649902  7008.649902   \n",
       "2020-08-27  7043.0  7127.700195  6960.799805  7098.000000  7098.000000   \n",
       "2020-08-28  7125.0  7156.000000  7028.450195  7104.100098  7104.100098   \n",
       "\n",
       "             Volume  \n",
       "Date                 \n",
       "2020-08-24   961177  \n",
       "2020-08-25  1047620  \n",
       "2020-08-26   992395  \n",
       "2020-08-27  1158891  \n",
       "2020-08-28  1019984  "
      ]
     },
     "execution_count": 17,
     "metadata": {},
     "output_type": "execute_result"
    }
   ],
   "source": [
    "stk_2_data.tail()"
   ]
  },
  {
   "cell_type": "code",
   "execution_count": 18,
   "metadata": {},
   "outputs": [],
   "source": [
    "# Compute daily percentage returns for stock 2\n",
    "stk_2_data['daily_returns'] = stk_2_data['Adj Close'].pct_change()\n",
    "\n",
    "stk_2_data.dropna(inplace=True)"
   ]
  },
  {
   "cell_type": "code",
   "execution_count": 19,
   "metadata": {},
   "outputs": [
    {
     "name": "stdout",
     "output_type": "stream",
     "text": [
      "The cumulative returns for MARUTI are 126.548%\n"
     ]
    },
    {
     "data": {
      "image/png": "[encoded data removed]",
      "text/plain": [
       "<Figure size 720x432 with 1 Axes>"
      ]
     },
     "metadata": {},
     "output_type": "display_data"
    }
   ],
   "source": [
    "# Calculate cumulative returns for stock 2\n",
    "stk_2_cum_returns = compute_cum_returns(stk_2_data['daily_returns'])\n",
    "\n",
    "# Display cumulative returns for stock 2\n",
    "stk_2_cum_returns.plot(figsize=(10, 6))\n",
    "\n",
    "# Print the final value\n",
    "print('The cumulative returns for %s are %.3f%%' % (stk_2, stk_2_cum_returns[-1] * 100))"
   ]
  },
  {
   "cell_type": "code",
   "execution_count": 20,
   "metadata": {},
   "outputs": [
    {
     "name": "stdout",
     "output_type": "stream",
     "text": [
      "The annualized returns for MARUTI are 15.957%\n"
     ]
    }
   ],
   "source": [
    "# Number of trading days for stock 2\n",
    "n = len(stk_2_data)\n",
    "\n",
    "# Compute annualized returns for stock 2\n",
    "stk_2_annualized_returns = compute_ann_returns(stk_2_cum_returns[-1], n)\n",
    "\n",
    "print('The annualized returns for %s are %.3f%%' % (stk_2, stk_2_annualized_returns * 100))"
   ]
  },
  {
   "cell_type": "code",
   "execution_count": 21,
   "metadata": {},
   "outputs": [
    {
     "name": "stdout",
     "output_type": "stream",
     "text": [
      "The daily volatility of MARUTI is 0.019%\n"
     ]
    }
   ],
   "source": [
    "# Calculate daily volatility for stock 2\n",
    "stk_2_daily_volatility = stk_2_data.daily_returns.std()\n",
    "\n",
    "print('The daily volatility of %s is %.3f%%' % (stk_2, stk_2_daily_volatility))"
   ]
  },
  {
   "cell_type": "code",
   "execution_count": 22,
   "metadata": {},
   "outputs": [
    {
     "name": "stdout",
     "output_type": "stream",
     "text": [
      "The annualised volatility of MARUTI is 30.345%\n"
     ]
    }
   ],
   "source": [
    "# Calculate the annualised volatility for stock 2\n",
    "stk_2_annual_volatility = stk_2_daily_volatility * np.sqrt(252)\n",
    "\n",
    "print('The annualised volatility of %s is %.3f%%' % (stk_2, stk_2_annual_volatility * 100))"
   ]
  },
  {
   "cell_type": "code",
   "execution_count": 23,
   "metadata": {},
   "outputs": [
    {
     "data": {
      "text/html": [
       "<div>\n",
       "<style scoped>\n",
       "    .dataframe tbody tr th:only-of-type {\n",
       "        vertical-align: middle;\n",
       "    }\n",
       "\n",
       "    .dataframe tbody tr th {\n",
       "        vertical-align: top;\n",
       "    }\n",
       "\n",
       "    .dataframe thead th {\n",
       "        text-align: right;\n",
       "    }\n",
       "</style>\n",
       "<table border=\"1\" class=\"dataframe\">\n",
       "  <thead>\n",
       "    <tr style=\"text-align: right;\">\n",
       "      <th></th>\n",
       "      <th>ann_returns</th>\n",
       "      <th>ann_volatility</th>\n",
       "    </tr>\n",
       "  </thead>\n",
       "  <tbody>\n",
       "    <tr>\n",
       "      <th>TCS</th>\n",
       "      <td>13.932</td>\n",
       "      <td>24.961</td>\n",
       "    </tr>\n",
       "    <tr>\n",
       "      <th>MARUTI</th>\n",
       "      <td>15.957</td>\n",
       "      <td>30.345</td>\n",
       "    </tr>\n",
       "  </tbody>\n",
       "</table>\n",
       "</div>"
      ],
      "text/plain": [
       "       ann_returns ann_volatility\n",
       "TCS         13.932         24.961\n",
       "MARUTI      15.957         30.345"
      ]
     },
     "execution_count": 23,
     "metadata": {},
     "output_type": "execute_result"
    }
   ],
   "source": [
    "# Update RELIANCE data in 'comparison' dataframe\n",
    "comparison.loc[stk_2, 'ann_returns'] = round(stk_2_annualized_returns * 100, 3)\n",
    "comparison.loc[stk_2, 'ann_volatility'] = round(stk_2_annual_volatility * 100, 3)\n",
    "\n",
    "comparison.head()"
   ]
  },
  {
   "cell_type": "markdown",
   "metadata": {},
   "source": [
    "Portfolio Creation Process:\n",
    "\n",
    "1. Understand the requirement\n",
    "2. Select the securities\n",
    "3. Rebalance the portfolio"
   ]
  },
  {
   "cell_type": "markdown",
   "metadata": {},
   "source": [
    "#####  Questions to ask:\n",
    "\n",
    "1. Can we do anything to aim similar returns as stock 2, but with lower risk?"
   ]
  },
  {
   "cell_type": "code",
   "execution_count": 24,
   "metadata": {},
   "outputs": [],
   "source": [
    "# Defining weights for stock 1 and 2 - Equal Allocations\n",
    "weight_in_stk_1 = 0.5\n",
    "weight_in_stk_2 = 1 - weight_in_stk_1"
   ]
  },
  {
   "cell_type": "markdown",
   "metadata": {},
   "source": [
    "### a) Returns of a portfolio"
   ]
  },
  {
   "cell_type": "markdown",
   "metadata": {},
   "source": [
    "$$ Portfolio\\ Returns = (w_A * R_A) + (w_B * R_B)$$\n",
    "\n",
    "Where:\n",
    "\n",
    "A = Stock A\n",
    "<br>B = Stock A\n",
    "\n",
    "$ w_A = $ Weight in stock A\n",
    "\n",
    "$ R_A = $ Returns of stock A\n",
    "\n",
    "$ w_B = $ Weight in stock B\n",
    "\n",
    "$ R_B = $ Returns of stock B\n"
   ]
  },
  {
   "cell_type": "code",
   "execution_count": 25,
   "metadata": {},
   "outputs": [],
   "source": [
    "# Calculate portfolio returns\n",
    "port_daily_ret = (weight_in_stk_1 * stk_1_data['daily_returns']) + (weight_in_stk_2 * stk_2_data['daily_returns'])\n",
    "\n",
    "# Storing in a new variable which we will use later\n",
    "stk_1_2_daily_returns = port_daily_ret"
   ]
  },
  {
   "cell_type": "code",
   "execution_count": 26,
   "metadata": {},
   "outputs": [
    {
     "name": "stdout",
     "output_type": "stream",
     "text": [
      "The cumulative returns of a portfolio with TCS and MARUTI are 133.828%\n"
     ]
    }
   ],
   "source": [
    "# Calculate cumulative portfolio returns\n",
    "port_cum_returns = compute_cum_returns(port_daily_ret)\n",
    "\n",
    "# Print the final value\n",
    "print('The cumulative returns of a portfolio with %s and %s are %.3f%%' % (stk_1, stk_2, port_cum_returns[-1] * 100))"
   ]
  },
  {
   "cell_type": "code",
   "execution_count": 27,
   "metadata": {},
   "outputs": [
    {
     "name": "stdout",
     "output_type": "stream",
     "text": [
      "The annualized returns of a portfolio with TCS and MARUTI are 16.623%\n"
     ]
    }
   ],
   "source": [
    "# Calculate annualized portfolio returns\n",
    "port_annualized_returns = compute_ann_returns(port_cum_returns[-1], len(port_cum_returns))\n",
    "\n",
    "print('The annualized returns of a portfolio with %s and %s are %.3f%%' % (stk_1, stk_2, port_annualized_returns * 100))"
   ]
  },
  {
   "cell_type": "markdown",
   "metadata": {},
   "source": [
    "##### Questions to ask:\n",
    "\n",
    "- How would you compute returns of a portfolio with more than two stocks?"
   ]
  },
  {
   "cell_type": "markdown",
   "metadata": {},
   "source": [
    "### b) Volatility of a Portfolio"
   ]
  },
  {
   "cell_type": "markdown",
   "metadata": {},
   "source": [
    "$$ Portfolio\\ Variance = w^2_A * \\sigma^2(R_A) + w^2_B * \\sigma^2(R_B) + 2 * w_A * w_B * cov(R_A, R_B) $$"
   ]
  },
  {
   "cell_type": "markdown",
   "metadata": {},
   "source": [
    "$$ Portfolio\\ Std\\ Dev = \\sqrt{w^2_A * \\sigma^2(R_A) + w^2_B * \\sigma^2(R_B) + 2 * w_A * w_B * cov(R_A, R_B)} $$\n",
    "\n",
    "Where:-\n",
    "\n",
    "$ w_A = $ Weight in stock A\n",
    "\n",
    "$ \\sigma^2(R_A) = $ Variance of returns of stock A\n",
    "\n",
    "$ w_B = $ Weight in stock B\n",
    "\n",
    "$ \\sigma^2(R_B) = $ Variance of returns of stock B\n",
    "\n",
    "$ cov(R_A, R_B) = $ Corvariance between stock A returns and stock B returns"
   ]
  },
  {
   "cell_type": "code",
   "execution_count": 28,
   "metadata": {},
   "outputs": [],
   "source": [
    "# Calculate covariance between stock 1 and 2\n",
    "stk_1_2_cov = np.cov(stk_1_data['daily_returns'], stk_2_data['daily_returns'])"
   ]
  },
  {
   "cell_type": "code",
   "execution_count": 29,
   "metadata": {},
   "outputs": [
    {
     "data": {
      "text/html": [
       "<div>\n",
       "<style scoped>\n",
       "    .dataframe tbody tr th:only-of-type {\n",
       "        vertical-align: middle;\n",
       "    }\n",
       "\n",
       "    .dataframe tbody tr th {\n",
       "        vertical-align: top;\n",
       "    }\n",
       "\n",
       "    .dataframe thead th {\n",
       "        text-align: right;\n",
       "    }\n",
       "</style>\n",
       "<table border=\"1\" class=\"dataframe\">\n",
       "  <thead>\n",
       "    <tr style=\"text-align: right;\">\n",
       "      <th></th>\n",
       "      <th>Stock 1</th>\n",
       "      <th>Stock 2</th>\n",
       "    </tr>\n",
       "  </thead>\n",
       "  <tbody>\n",
       "    <tr>\n",
       "      <th>Stock 1</th>\n",
       "      <td>0.000247</td>\n",
       "      <td>0.000075</td>\n",
       "    </tr>\n",
       "    <tr>\n",
       "      <th>Stock 2</th>\n",
       "      <td>0.000075</td>\n",
       "      <td>0.000365</td>\n",
       "    </tr>\n",
       "  </tbody>\n",
       "</table>\n",
       "</div>"
      ],
      "text/plain": [
       "          Stock 1   Stock 2\n",
       "Stock 1  0.000247  0.000075\n",
       "Stock 2  0.000075  0.000365"
      ]
     },
     "execution_count": 29,
     "metadata": {},
     "output_type": "execute_result"
    }
   ],
   "source": [
    "var_cov_matrix = pd.DataFrame(stk_1_2_cov, columns=['Stock 1', 'Stock 2'], index=['Stock 1', 'Stock 2'])\n",
    "\n",
    "var_cov_matrix"
   ]
  },
  {
   "cell_type": "code",
   "execution_count": 30,
   "metadata": {},
   "outputs": [
    {
     "name": "stdout",
     "output_type": "stream",
     "text": [
      "The covariance between TCS and MARUTI is 0.000075\n"
     ]
    }
   ],
   "source": [
    "print('The covariance between %s and %s is %.6f' % (stk_1, stk_2, stk_1_2_cov[0, 1]))"
   ]
  },
  {
   "cell_type": "code",
   "execution_count": 31,
   "metadata": {},
   "outputs": [
    {
     "name": "stdout",
     "output_type": "stream",
     "text": [
      "The daily volatility of a portfolio with TCS and MARUTI is 0.014%\n"
     ]
    }
   ],
   "source": [
    "# Calculate daily volatility of a portfolio\n",
    "port_daily_variance = (weight_in_stk_1 * stk_1_daily_volatility) ** 2 + (weight_in_stk_2 * stk_2_daily_volatility) ** 2 + \\\n",
    "                        2 * weight_in_stk_1 * weight_in_stk_2 * stk_1_2_cov[0, 1]\n",
    "\n",
    "port_daily_volatility = np.sqrt(port_daily_variance)\n",
    "\n",
    "print('The daily volatility of a portfolio with %s and %s is %.3f%%' % (stk_1, stk_2, port_daily_volatility))"
   ]
  },
  {
   "cell_type": "code",
   "execution_count": 32,
   "metadata": {},
   "outputs": [
    {
     "name": "stdout",
     "output_type": "stream",
     "text": [
      "The annualised volatility of a portfolio with TCS and MARUTI is 21.921%\n"
     ]
    }
   ],
   "source": [
    "# Calculate the annualised volatility of the portfolio\n",
    "port_annualized_volatility = port_daily_volatility * np.sqrt(252)\n",
    "\n",
    "print('The annualised volatility of a portfolio with %s and %s is %.3f%%' % (stk_1, stk_2, port_annualized_volatility * 100))"
   ]
  },
  {
   "cell_type": "code",
   "execution_count": 33,
   "metadata": {},
   "outputs": [
    {
     "data": {
      "text/html": [
       "<div>\n",
       "<style scoped>\n",
       "    .dataframe tbody tr th:only-of-type {\n",
       "        vertical-align: middle;\n",
       "    }\n",
       "\n",
       "    .dataframe tbody tr th {\n",
       "        vertical-align: top;\n",
       "    }\n",
       "\n",
       "    .dataframe thead th {\n",
       "        text-align: right;\n",
       "    }\n",
       "</style>\n",
       "<table border=\"1\" class=\"dataframe\">\n",
       "  <thead>\n",
       "    <tr style=\"text-align: right;\">\n",
       "      <th></th>\n",
       "      <th>ann_returns</th>\n",
       "      <th>ann_volatility</th>\n",
       "    </tr>\n",
       "  </thead>\n",
       "  <tbody>\n",
       "    <tr>\n",
       "      <th>TCS</th>\n",
       "      <td>13.932</td>\n",
       "      <td>24.961</td>\n",
       "    </tr>\n",
       "    <tr>\n",
       "      <th>MARUTI</th>\n",
       "      <td>15.957</td>\n",
       "      <td>30.345</td>\n",
       "    </tr>\n",
       "    <tr>\n",
       "      <th>TCS_MARUTI</th>\n",
       "      <td>17</td>\n",
       "      <td>21.921</td>\n",
       "    </tr>\n",
       "  </tbody>\n",
       "</table>\n",
       "</div>"
      ],
      "text/plain": [
       "           ann_returns ann_volatility\n",
       "TCS             13.932         24.961\n",
       "MARUTI          15.957         30.345\n",
       "TCS_MARUTI          17         21.921"
      ]
     },
     "execution_count": 33,
     "metadata": {},
     "output_type": "execute_result"
    }
   ],
   "source": [
    "# Update the portfolio data in 'comparison' dataframe\n",
    "comparison.loc[stk_1 + '_' + stk_2, 'ann_returns'] = round(port_annualized_returns * 100)\n",
    "comparison.loc[stk_1 + '_' + stk_2, 'ann_volatility'] = round(port_annualized_volatility * 100, 3)\n",
    "\n",
    "comparison.head()"
   ]
  },
  {
   "cell_type": "markdown",
   "metadata": {},
   "source": [
    "##### Questions to ask:\n",
    "\n",
    "1. Did investing in two stocks reduced the risk?\n",
    "2. What can be the potential problem with the current portfolio?\n",
    "3. Can we further reduce the risk?"
   ]
  },
  {
   "cell_type": "code",
   "execution_count": null,
   "metadata": {},
   "outputs": [],
   "source": []
  },
  {
   "cell_type": "code",
   "execution_count": null,
   "metadata": {},
   "outputs": [],
   "source": []
  },
  {
   "cell_type": "code",
   "execution_count": null,
   "metadata": {},
   "outputs": [],
   "source": []
  },
  {
   "cell_type": "code",
   "execution_count": null,
   "metadata": {},
   "outputs": [],
   "source": []
  },
  {
   "cell_type": "code",
   "execution_count": null,
   "metadata": {},
   "outputs": [],
   "source": []
  },
  {
   "cell_type": "code",
   "execution_count": null,
   "metadata": {},
   "outputs": [],
   "source": []
  },
  {
   "cell_type": "code",
   "execution_count": null,
   "metadata": {},
   "outputs": [],
   "source": []
  },
  {
   "cell_type": "code",
   "execution_count": null,
   "metadata": {},
   "outputs": [],
   "source": []
  },
  {
   "cell_type": "code",
   "execution_count": 34,
   "metadata": {},
   "outputs": [
    {
     "name": "stdout",
     "output_type": "stream",
     "text": [
      "A correlation between TCS and MARUTI is 0.250\n"
     ]
    }
   ],
   "source": [
    "# Correlation between stock 1 and 2\n",
    "corr = np.corrcoef(stk_1_data['daily_returns'], stk_2_data['daily_returns'])[0, 1]\n",
    "\n",
    "print('A correlation between %s and %s is %.3f' % (stk_1, stk_2, corr))"
   ]
  },
  {
   "cell_type": "markdown",
   "metadata": {},
   "source": [
    "# 3) Investing in Two Uncorrelated Securities"
   ]
  },
  {
   "cell_type": "markdown",
   "metadata": {},
   "source": [
    "### a) Download Stock Data and Compute Volatility and Returns"
   ]
  },
  {
   "cell_type": "code",
   "execution_count": 35,
   "metadata": {},
   "outputs": [],
   "source": [
    "# Define stock 3\n",
    "stk_3 = 'MARICO'"
   ]
  },
  {
   "cell_type": "code",
   "execution_count": 36,
   "metadata": {},
   "outputs": [
    {
     "data": {
      "text/html": [
       "<div>\n",
       "<style scoped>\n",
       "    .dataframe tbody tr th:only-of-type {\n",
       "        vertical-align: middle;\n",
       "    }\n",
       "\n",
       "    .dataframe tbody tr th {\n",
       "        vertical-align: top;\n",
       "    }\n",
       "\n",
       "    .dataframe thead th {\n",
       "        text-align: right;\n",
       "    }\n",
       "</style>\n",
       "<table border=\"1\" class=\"dataframe\">\n",
       "  <thead>\n",
       "    <tr style=\"text-align: right;\">\n",
       "      <th></th>\n",
       "      <th>Open</th>\n",
       "      <th>High</th>\n",
       "      <th>Low</th>\n",
       "      <th>Close</th>\n",
       "      <th>Adj Close</th>\n",
       "      <th>Volume</th>\n",
       "    </tr>\n",
       "    <tr>\n",
       "      <th>Date</th>\n",
       "      <th></th>\n",
       "      <th></th>\n",
       "      <th></th>\n",
       "      <th></th>\n",
       "      <th></th>\n",
       "      <th></th>\n",
       "    </tr>\n",
       "  </thead>\n",
       "  <tbody>\n",
       "    <tr>\n",
       "      <th>2015-01-01</th>\n",
       "      <td>164.000000</td>\n",
       "      <td>164.000000</td>\n",
       "      <td>161.574997</td>\n",
       "      <td>161.925003</td>\n",
       "      <td>146.834793</td>\n",
       "      <td>142730</td>\n",
       "    </tr>\n",
       "    <tr>\n",
       "      <th>2015-01-02</th>\n",
       "      <td>162.800003</td>\n",
       "      <td>165.899994</td>\n",
       "      <td>162.050003</td>\n",
       "      <td>164.975006</td>\n",
       "      <td>149.600540</td>\n",
       "      <td>658102</td>\n",
       "    </tr>\n",
       "    <tr>\n",
       "      <th>2015-01-05</th>\n",
       "      <td>163.500000</td>\n",
       "      <td>165.500000</td>\n",
       "      <td>161.600006</td>\n",
       "      <td>161.975006</td>\n",
       "      <td>146.880127</td>\n",
       "      <td>953386</td>\n",
       "    </tr>\n",
       "    <tr>\n",
       "      <th>2015-01-06</th>\n",
       "      <td>161.550003</td>\n",
       "      <td>165.500000</td>\n",
       "      <td>160.750000</td>\n",
       "      <td>163.824997</td>\n",
       "      <td>148.557693</td>\n",
       "      <td>1854742</td>\n",
       "    </tr>\n",
       "    <tr>\n",
       "      <th>2015-01-07</th>\n",
       "      <td>163.850006</td>\n",
       "      <td>164.875000</td>\n",
       "      <td>158.550003</td>\n",
       "      <td>161.000000</td>\n",
       "      <td>145.995987</td>\n",
       "      <td>1531050</td>\n",
       "    </tr>\n",
       "  </tbody>\n",
       "</table>\n",
       "</div>"
      ],
      "text/plain": [
       "                  Open        High         Low       Close   Adj Close  \\\n",
       "Date                                                                     \n",
       "2015-01-01  164.000000  164.000000  161.574997  161.925003  146.834793   \n",
       "2015-01-02  162.800003  165.899994  162.050003  164.975006  149.600540   \n",
       "2015-01-05  163.500000  165.500000  161.600006  161.975006  146.880127   \n",
       "2015-01-06  161.550003  165.500000  160.750000  163.824997  148.557693   \n",
       "2015-01-07  163.850006  164.875000  158.550003  161.000000  145.995987   \n",
       "\n",
       "             Volume  \n",
       "Date                 \n",
       "2015-01-01   142730  \n",
       "2015-01-02   658102  \n",
       "2015-01-05   953386  \n",
       "2015-01-06  1854742  \n",
       "2015-01-07  1531050  "
      ]
     },
     "execution_count": 36,
     "metadata": {},
     "output_type": "execute_result"
    }
   ],
   "source": [
    "# Read stock 3 data\n",
    "stk_3_data = pd.read_csv(stk_3 + '.csv', index_col=0, parse_dates=True)\n",
    "\n",
    "# Verify the data\n",
    "stk_3_data.head()"
   ]
  },
  {
   "cell_type": "code",
   "execution_count": 37,
   "metadata": {},
   "outputs": [],
   "source": [
    "# Compute daily percentage returns for stock 3\n",
    "stk_3_data['daily_returns'] = stk_3_data['Adj Close'].pct_change()\n",
    "\n",
    "stk_3_data.dropna(inplace=True)"
   ]
  },
  {
   "cell_type": "code",
   "execution_count": 38,
   "metadata": {},
   "outputs": [
    {
     "name": "stdout",
     "output_type": "stream",
     "text": [
      "The cumulative returns of MARICO are 152.853%\n"
     ]
    },
    {
     "data": {
      "image/png": "[encoded data removed]",
      "text/plain": [
       "<Figure size 720x432 with 1 Axes>"
      ]
     },
     "metadata": {},
     "output_type": "display_data"
    }
   ],
   "source": [
    "# Calculate cumulative returns for stock 3\n",
    "stk_3_cum_returns = compute_cum_returns(stk_3_data['daily_returns'])\n",
    "\n",
    "# Display cumulative returns for stock 3\n",
    "stk_3_cum_returns.plot(figsize=(10, 6))\n",
    "\n",
    "# Print the final value\n",
    "print('The cumulative returns of %s are %.3f%%' % (stk_3, stk_3_cum_returns[-1] * 100))"
   ]
  },
  {
   "cell_type": "code",
   "execution_count": 39,
   "metadata": {},
   "outputs": [
    {
     "name": "stdout",
     "output_type": "stream",
     "text": [
      "The daily volatility of MARICO is 0.017%\n"
     ]
    }
   ],
   "source": [
    "# Calculate daily volatility for stock 3\n",
    "stk_3_daily_volatility = stk_3_data.daily_returns.std()\n",
    "\n",
    "print('The daily volatility of %s is %.3f%%' % (stk_3, stk_3_daily_volatility))"
   ]
  },
  {
   "cell_type": "markdown",
   "metadata": {},
   "source": [
    "### b) Check Correlation"
   ]
  },
  {
   "cell_type": "code",
   "execution_count": 40,
   "metadata": {},
   "outputs": [
    {
     "name": "stdout",
     "output_type": "stream",
     "text": [
      "A correlation between TCS and MARICO is 0.119\n"
     ]
    }
   ],
   "source": [
    "# Check correlation between stock 1 and stock 3\n",
    "corr = np.corrcoef(stk_1_data['daily_returns'], stk_3_data['daily_returns'])[0, 1]\n",
    "\n",
    "print('A correlation between %s and %s is %.3f' % (stk_1, stk_3, corr))"
   ]
  },
  {
   "cell_type": "markdown",
   "metadata": {},
   "source": [
    "### c) Build Portfolio and Calculate Expected Returns"
   ]
  },
  {
   "cell_type": "code",
   "execution_count": 41,
   "metadata": {},
   "outputs": [],
   "source": [
    "# Defining weights for stock 1 and stock 3 - Equal Allocations\n",
    "weight_in_stk_1 = 0.5\n",
    "weight_in_stk_3 = 1 - weight_in_stk_1"
   ]
  },
  {
   "cell_type": "code",
   "execution_count": 42,
   "metadata": {},
   "outputs": [],
   "source": [
    "# Calculate portfolio returns\n",
    "port_daily_returns = (weight_in_stk_1 * stk_1_data['daily_returns']) + (weight_in_stk_3 * stk_3_data['daily_returns'])\n",
    "\n",
    "# Storing in a new variable which we will use later\n",
    "stk_1_3_daily_returns = port_daily_returns"
   ]
  },
  {
   "cell_type": "code",
   "execution_count": 43,
   "metadata": {},
   "outputs": [
    {
     "name": "stdout",
     "output_type": "stream",
     "text": [
      "The cumulative return of a portfolio with TCS and MARICO is 146.818%\n"
     ]
    }
   ],
   "source": [
    "# Calculate cumulative portfolio returns\n",
    "port_cum_returns = compute_cum_returns(port_daily_returns)\n",
    "\n",
    "# Print the final value\n",
    "print('The cumulative return of a portfolio with %s and %s is %.3f%%' % (stk_1, stk_3, port_cum_returns[-1] * 100))"
   ]
  },
  {
   "cell_type": "code",
   "execution_count": 44,
   "metadata": {},
   "outputs": [
    {
     "name": "stdout",
     "output_type": "stream",
     "text": [
      "The annualized returns of a portfolio with TCS and MARICO are 17.770%\n"
     ]
    }
   ],
   "source": [
    "# Calculate annualized returns of the portfolio\n",
    "port_annualized_returns = compute_ann_returns(port_cum_returns[-1], len(port_cum_returns))\n",
    "\n",
    "print('The annualized returns of a portfolio with %s and %s are %.3f%%' % (stk_1, stk_3, port_annualized_returns * 100))"
   ]
  },
  {
   "cell_type": "markdown",
   "metadata": {},
   "source": [
    "### d) Calculate Standard Deviation of a Portfolio"
   ]
  },
  {
   "cell_type": "code",
   "execution_count": 45,
   "metadata": {},
   "outputs": [
    {
     "name": "stdout",
     "output_type": "stream",
     "text": [
      "The covariance between TCS and MARICO is 0.000031\n"
     ]
    }
   ],
   "source": [
    "# Calculate the covariance between stock 1 and stock 3\n",
    "stk_1_3_cov = np.cov(stk_1_data['daily_returns'], stk_3_data['daily_returns'])\n",
    "\n",
    "print('The covariance between %s and %s is %.6f' % (stk_1, stk_3, stk_1_3_cov[0, 1]))"
   ]
  },
  {
   "cell_type": "code",
   "execution_count": 46,
   "metadata": {},
   "outputs": [
    {
     "name": "stdout",
     "output_type": "stream",
     "text": [
      "The daily volatility of a portfolio with TCS and MARICO is 0.012%\n"
     ]
    }
   ],
   "source": [
    "# Calculate daily volatility of a portfolio\n",
    "port_daily_variance = (weight_in_stk_1 * stk_1_daily_volatility) ** 2 \\\n",
    "                            + (weight_in_stk_3 * stk_3_daily_volatility) ** 2 \\\n",
    "                            + 2 * weight_in_stk_1 * weight_in_stk_3 * stk_1_3_cov[0, 1]\n",
    "\n",
    "port_daily_volatility = np.sqrt(port_daily_variance)\n",
    "\n",
    "print('The daily volatility of a portfolio with %s and %s is %.3f%%' % (stk_1, stk_3, port_daily_volatility))"
   ]
  },
  {
   "cell_type": "code",
   "execution_count": 47,
   "metadata": {},
   "outputs": [
    {
     "name": "stdout",
     "output_type": "stream",
     "text": [
      "The annualised volatility of a portfolio with TCS and MARICO is 19.154%\n"
     ]
    }
   ],
   "source": [
    "# Calculate the annualised volatility of the portfolio\n",
    "port_annualized_volatility = port_daily_volatility * np.sqrt(252)\n",
    "\n",
    "print('The annualised volatility of a portfolio with %s and %s is %.3f%%' % (stk_1, stk_3, port_annualized_volatility * 100))"
   ]
  },
  {
   "cell_type": "code",
   "execution_count": 48,
   "metadata": {},
   "outputs": [
    {
     "data": {
      "text/html": [
       "<div>\n",
       "<style scoped>\n",
       "    .dataframe tbody tr th:only-of-type {\n",
       "        vertical-align: middle;\n",
       "    }\n",
       "\n",
       "    .dataframe tbody tr th {\n",
       "        vertical-align: top;\n",
       "    }\n",
       "\n",
       "    .dataframe thead th {\n",
       "        text-align: right;\n",
       "    }\n",
       "</style>\n",
       "<table border=\"1\" class=\"dataframe\">\n",
       "  <thead>\n",
       "    <tr style=\"text-align: right;\">\n",
       "      <th></th>\n",
       "      <th>ann_returns</th>\n",
       "      <th>ann_volatility</th>\n",
       "    </tr>\n",
       "  </thead>\n",
       "  <tbody>\n",
       "    <tr>\n",
       "      <th>TCS</th>\n",
       "      <td>13.932</td>\n",
       "      <td>24.961</td>\n",
       "    </tr>\n",
       "    <tr>\n",
       "      <th>MARUTI</th>\n",
       "      <td>15.957</td>\n",
       "      <td>30.345</td>\n",
       "    </tr>\n",
       "    <tr>\n",
       "      <th>TCS_MARUTI</th>\n",
       "      <td>17</td>\n",
       "      <td>21.921</td>\n",
       "    </tr>\n",
       "    <tr>\n",
       "      <th>TCS_MARICO</th>\n",
       "      <td>17.77</td>\n",
       "      <td>19.154</td>\n",
       "    </tr>\n",
       "  </tbody>\n",
       "</table>\n",
       "</div>"
      ],
      "text/plain": [
       "           ann_returns ann_volatility\n",
       "TCS             13.932         24.961\n",
       "MARUTI          15.957         30.345\n",
       "TCS_MARUTI          17         21.921\n",
       "TCS_MARICO       17.77         19.154"
      ]
     },
     "execution_count": 48,
     "metadata": {},
     "output_type": "execute_result"
    }
   ],
   "source": [
    "# Update HDFCBANK and MARICO data in 'comparison' dataframe\n",
    "comparison.loc[stk_1 + '_' + stk_3, 'ann_returns'] = round(port_annualized_returns * 100, 3)\n",
    "comparison.loc[stk_1 + '_' + stk_3, 'ann_volatility'] = round(port_annualized_volatility * 100, 3)\n",
    "\n",
    "comparison.head()"
   ]
  },
  {
   "cell_type": "code",
   "execution_count": 49,
   "metadata": {},
   "outputs": [
    {
     "data": {
      "image/png": "[encoded data removed]",
      "text/plain": [
       "<Figure size 720x432 with 1 Axes>"
      ]
     },
     "metadata": {},
     "output_type": "display_data"
    }
   ],
   "source": [
    "# Visualize the data\n",
    "x = np.arange(4)\n",
    "fig = plt.figure(figsize=(10, 6))\n",
    "ax = fig.add_axes([0,0,1,1])\n",
    "ax.bar(x + 0.00, comparison.ann_returns, color='teal', width = 0.25, label='Ann. Returns')\n",
    "ax.bar(x + 0.25, comparison.ann_volatility, color='g', width = 0.25, label='Ann. Volatility')\n",
    "\n",
    "ax.set_title('Comparison of Returns and Volatility')\n",
    "ax.set_xticks(x)\n",
    "ax.set_xticklabels(comparison.index)\n",
    "ax.legend()\n",
    "\n",
    "fig.tight_layout()\n",
    "plt.show()"
   ]
  },
  {
   "cell_type": "markdown",
   "metadata": {},
   "source": [
    "##### Questions to ask:\n",
    "\n",
    "- Have we achieved our goal?"
   ]
  },
  {
   "cell_type": "code",
   "execution_count": null,
   "metadata": {},
   "outputs": [],
   "source": []
  },
  {
   "cell_type": "code",
   "execution_count": null,
   "metadata": {},
   "outputs": [],
   "source": []
  },
  {
   "cell_type": "code",
   "execution_count": null,
   "metadata": {},
   "outputs": [],
   "source": []
  },
  {
   "cell_type": "code",
   "execution_count": null,
   "metadata": {},
   "outputs": [],
   "source": []
  },
  {
   "cell_type": "code",
   "execution_count": null,
   "metadata": {},
   "outputs": [],
   "source": []
  },
  {
   "cell_type": "code",
   "execution_count": null,
   "metadata": {},
   "outputs": [],
   "source": []
  },
  {
   "cell_type": "code",
   "execution_count": null,
   "metadata": {},
   "outputs": [],
   "source": []
  },
  {
   "cell_type": "code",
   "execution_count": null,
   "metadata": {},
   "outputs": [],
   "source": []
  },
  {
   "cell_type": "markdown",
   "metadata": {},
   "source": [
    "### e) Optimize Portfolio Weights"
   ]
  },
  {
   "cell_type": "code",
   "execution_count": 50,
   "metadata": {},
   "outputs": [
    {
     "data": {
      "text/plain": [
       "array([0.  , 0.01, 0.02, 0.03, 0.04, 0.05, 0.06, 0.07, 0.08, 0.09, 0.1 ,\n",
       "       0.11, 0.12, 0.13, 0.14, 0.15, 0.16, 0.17, 0.18, 0.19, 0.2 , 0.21,\n",
       "       0.22, 0.23, 0.24, 0.25, 0.26, 0.27, 0.28, 0.29, 0.3 , 0.31, 0.32,\n",
       "       0.33, 0.34, 0.35, 0.36, 0.37, 0.38, 0.39, 0.4 , 0.41, 0.42, 0.43,\n",
       "       0.44, 0.45, 0.46, 0.47, 0.48, 0.49, 0.5 , 0.51, 0.52, 0.53, 0.54,\n",
       "       0.55, 0.56, 0.57, 0.58, 0.59, 0.6 , 0.61, 0.62, 0.63, 0.64, 0.65,\n",
       "       0.66, 0.67, 0.68, 0.69, 0.7 , 0.71, 0.72, 0.73, 0.74, 0.75, 0.76,\n",
       "       0.77, 0.78, 0.79, 0.8 , 0.81, 0.82, 0.83, 0.84, 0.85, 0.86, 0.87,\n",
       "       0.88, 0.89, 0.9 , 0.91, 0.92, 0.93, 0.94, 0.95, 0.96, 0.97, 0.98,\n",
       "       0.99])"
      ]
     },
     "execution_count": 50,
     "metadata": {},
     "output_type": "execute_result"
    }
   ],
   "source": [
    "# Create various portfolios with different weights\n",
    "weight_in_stk_1 = np.arange(0, 1, step=0.01)\n",
    "\n",
    "weight_in_stk_1"
   ]
  },
  {
   "cell_type": "code",
   "execution_count": 51,
   "metadata": {},
   "outputs": [
    {
     "data": {
      "text/plain": [
       "array([1.  , 0.99, 0.98, 0.97, 0.96, 0.95, 0.94, 0.93, 0.92, 0.91, 0.9 ,\n",
       "       0.89, 0.88, 0.87, 0.86, 0.85, 0.84, 0.83, 0.82, 0.81, 0.8 , 0.79,\n",
       "       0.78, 0.77, 0.76, 0.75, 0.74, 0.73, 0.72, 0.71, 0.7 , 0.69, 0.68,\n",
       "       0.67, 0.66, 0.65, 0.64, 0.63, 0.62, 0.61, 0.6 , 0.59, 0.58, 0.57,\n",
       "       0.56, 0.55, 0.54, 0.53, 0.52, 0.51, 0.5 , 0.49, 0.48, 0.47, 0.46,\n",
       "       0.45, 0.44, 0.43, 0.42, 0.41, 0.4 , 0.39, 0.38, 0.37, 0.36, 0.35,\n",
       "       0.34, 0.33, 0.32, 0.31, 0.3 , 0.29, 0.28, 0.27, 0.26, 0.25, 0.24,\n",
       "       0.23, 0.22, 0.21, 0.2 , 0.19, 0.18, 0.17, 0.16, 0.15, 0.14, 0.13,\n",
       "       0.12, 0.11, 0.1 , 0.09, 0.08, 0.07, 0.06, 0.05, 0.04, 0.03, 0.02,\n",
       "       0.01])"
      ]
     },
     "execution_count": 51,
     "metadata": {},
     "output_type": "execute_result"
    }
   ],
   "source": [
    "weight_in_stk_3 = 1 - weight_in_stk_1\n",
    "\n",
    "weight_in_stk_3"
   ]
  },
  {
   "cell_type": "code",
   "execution_count": 52,
   "metadata": {},
   "outputs": [],
   "source": [
    "# Create empty dataframe and dictionary to hold data for all portfolios\n",
    "portfolios = pd.DataFrame(columns=[stk_1, stk_3, 'Ann_Returns', 'Ann_Volatility'])\n",
    "\n",
    "# Create empty dictionary to hold new data for each portfolio\n",
    "data_to_be_updated = {}"
   ]
  },
  {
   "cell_type": "code",
   "execution_count": 53,
   "metadata": {},
   "outputs": [
    {
     "name": "stdout",
     "output_type": "stream",
     "text": [
      "TCS: 0.0 | MARICO: 1.0 | Ann. Returns: 0.1829 | Ann. Vol: 0.2623\n",
      "TCS: 0.01 | MARICO: 0.99 | Ann. Returns: 0.1831 | Ann. Vol: 0.26\n",
      "TCS: 0.02 | MARICO: 0.98 | Ann. Returns: 0.1833 | Ann. Vol: 0.2577\n",
      "TCS: 0.03 | MARICO: 0.97 | Ann. Returns: 0.1835 | Ann. Vol: 0.2555\n",
      "TCS: 0.04 | MARICO: 0.96 | Ann. Returns: 0.1837 | Ann. Vol: 0.2532\n",
      "TCS: 0.05 | MARICO: 0.95 | Ann. Returns: 0.1839 | Ann. Vol: 0.251\n",
      "TCS: 0.06 | MARICO: 0.94 | Ann. Returns: 0.184 | Ann. Vol: 0.2488\n",
      "TCS: 0.07 | MARICO: 0.93 | Ann. Returns: 0.1842 | Ann. Vol: 0.2467\n",
      "TCS: 0.08 | MARICO: 0.92 | Ann. Returns: 0.1843 | Ann. Vol: 0.2445\n",
      "TCS: 0.09 | MARICO: 0.91 | Ann. Returns: 0.1844 | Ann. Vol: 0.2424\n",
      "TCS: 0.1 | MARICO: 0.9 | Ann. Returns: 0.1845 | Ann. Vol: 0.2404\n",
      "TCS: 0.11 | MARICO: 0.89 | Ann. Returns: 0.1846 | Ann. Vol: 0.2383\n",
      "TCS: 0.12 | MARICO: 0.88 | Ann. Returns: 0.1847 | Ann. Vol: 0.2363\n",
      "TCS: 0.13 | MARICO: 0.87 | Ann. Returns: 0.1848 | Ann. Vol: 0.2343\n",
      "TCS: 0.14 | MARICO: 0.86 | Ann. Returns: 0.1848 | Ann. Vol: 0.2324\n",
      "TCS: 0.15 | MARICO: 0.85 | Ann. Returns: 0.1849 | Ann. Vol: 0.2305\n",
      "TCS: 0.16 | MARICO: 0.84 | Ann. Returns: 0.1849 | Ann. Vol: 0.2286\n",
      "TCS: 0.17 | MARICO: 0.83 | Ann. Returns: 0.1849 | Ann. Vol: 0.2268\n",
      "TCS: 0.18 | MARICO: 0.82 | Ann. Returns: 0.1849 | Ann. Vol: 0.2249\n",
      "TCS: 0.19 | MARICO: 0.81 | Ann. Returns: 0.1849 | Ann. Vol: 0.2232\n",
      "TCS: 0.2 | MARICO: 0.8 | Ann. Returns: 0.1849 | Ann. Vol: 0.2214\n",
      "TCS: 0.21 | MARICO: 0.79 | Ann. Returns: 0.1848 | Ann. Vol: 0.2198\n",
      "TCS: 0.22 | MARICO: 0.78 | Ann. Returns: 0.1848 | Ann. Vol: 0.2181\n",
      "TCS: 0.23 | MARICO: 0.77 | Ann. Returns: 0.1847 | Ann. Vol: 0.2165\n",
      "TCS: 0.24 | MARICO: 0.76 | Ann. Returns: 0.1846 | Ann. Vol: 0.2149\n",
      "TCS: 0.25 | MARICO: 0.75 | Ann. Returns: 0.1845 | Ann. Vol: 0.2134\n",
      "TCS: 0.26 | MARICO: 0.74 | Ann. Returns: 0.1844 | Ann. Vol: 0.2119\n",
      "TCS: 0.27 | MARICO: 0.73 | Ann. Returns: 0.1843 | Ann. Vol: 0.2105\n",
      "TCS: 0.28 | MARICO: 0.72 | Ann. Returns: 0.1842 | Ann. Vol: 0.2091\n",
      "TCS: 0.29 | MARICO: 0.71 | Ann. Returns: 0.184 | Ann. Vol: 0.2077\n",
      "TCS: 0.3 | MARICO: 0.7 | Ann. Returns: 0.1838 | Ann. Vol: 0.2064\n",
      "TCS: 0.31 | MARICO: 0.69 | Ann. Returns: 0.1837 | Ann. Vol: 0.2052\n",
      "TCS: 0.32 | MARICO: 0.68 | Ann. Returns: 0.1835 | Ann. Vol: 0.204\n",
      "TCS: 0.33 | MARICO: 0.67 | Ann. Returns: 0.1833 | Ann. Vol: 0.2028\n",
      "TCS: 0.34 | MARICO: 0.66 | Ann. Returns: 0.183 | Ann. Vol: 0.2017\n",
      "TCS: 0.35 | MARICO: 0.65 | Ann. Returns: 0.1828 | Ann. Vol: 0.2007\n",
      "TCS: 0.36 | MARICO: 0.64 | Ann. Returns: 0.1826 | Ann. Vol: 0.1997\n",
      "TCS: 0.37 | MARICO: 0.63 | Ann. Returns: 0.1823 | Ann. Vol: 0.1987\n",
      "TCS: 0.38 | MARICO: 0.62 | Ann. Returns: 0.182 | Ann. Vol: 0.1978\n",
      "TCS: 0.39 | MARICO: 0.61 | Ann. Returns: 0.1817 | Ann. Vol: 0.197\n",
      "TCS: 0.4 | MARICO: 0.6 | Ann. Returns: 0.1814 | Ann. Vol: 0.1962\n",
      "TCS: 0.41 | MARICO: 0.59 | Ann. Returns: 0.1811 | Ann. Vol: 0.1955\n",
      "TCS: 0.42 | MARICO: 0.58 | Ann. Returns: 0.1808 | Ann. Vol: 0.1948\n",
      "TCS: 0.43 | MARICO: 0.57 | Ann. Returns: 0.1805 | Ann. Vol: 0.1942\n",
      "TCS: 0.44 | MARICO: 0.56 | Ann. Returns: 0.1801 | Ann. Vol: 0.1936\n",
      "TCS: 0.45 | MARICO: 0.55 | Ann. Returns: 0.1797 | Ann. Vol: 0.1931\n",
      "TCS: 0.46 | MARICO: 0.54 | Ann. Returns: 0.1794 | Ann. Vol: 0.1927\n",
      "TCS: 0.47 | MARICO: 0.53 | Ann. Returns: 0.179 | Ann. Vol: 0.1923\n",
      "TCS: 0.48 | MARICO: 0.52 | Ann. Returns: 0.1786 | Ann. Vol: 0.192\n",
      "TCS: 0.49 | MARICO: 0.51 | Ann. Returns: 0.1781 | Ann. Vol: 0.1917\n",
      "TCS: 0.5 | MARICO: 0.5 | Ann. Returns: 0.1777 | Ann. Vol: 0.1915\n",
      "TCS: 0.51 | MARICO: 0.49 | Ann. Returns: 0.1772 | Ann. Vol: 0.1914\n",
      "TCS: 0.52 | MARICO: 0.48 | Ann. Returns: 0.1768 | Ann. Vol: 0.1913\n",
      "TCS: 0.53 | MARICO: 0.47 | Ann. Returns: 0.1763 | Ann. Vol: 0.1913\n",
      "TCS: 0.54 | MARICO: 0.46 | Ann. Returns: 0.1758 | Ann. Vol: 0.1913\n",
      "TCS: 0.55 | MARICO: 0.45 | Ann. Returns: 0.1753 | Ann. Vol: 0.1914\n",
      "TCS: 0.56 | MARICO: 0.44 | Ann. Returns: 0.1748 | Ann. Vol: 0.1916\n",
      "TCS: 0.57 | MARICO: 0.43 | Ann. Returns: 0.1743 | Ann. Vol: 0.1918\n",
      "TCS: 0.58 | MARICO: 0.42 | Ann. Returns: 0.1737 | Ann. Vol: 0.1921\n",
      "TCS: 0.59 | MARICO: 0.41 | Ann. Returns: 0.1732 | Ann. Vol: 0.1924\n",
      "TCS: 0.6 | MARICO: 0.4 | Ann. Returns: 0.1726 | Ann. Vol: 0.1928\n",
      "TCS: 0.61 | MARICO: 0.39 | Ann. Returns: 0.172 | Ann. Vol: 0.1933\n",
      "TCS: 0.62 | MARICO: 0.38 | Ann. Returns: 0.1714 | Ann. Vol: 0.1938\n",
      "TCS: 0.63 | MARICO: 0.37 | Ann. Returns: 0.1708 | Ann. Vol: 0.1944\n",
      "TCS: 0.64 | MARICO: 0.36 | Ann. Returns: 0.1702 | Ann. Vol: 0.195\n",
      "TCS: 0.65 | MARICO: 0.35 | Ann. Returns: 0.1696 | Ann. Vol: 0.1957\n",
      "TCS: 0.66 | MARICO: 0.34 | Ann. Returns: 0.1689 | Ann. Vol: 0.1965\n",
      "TCS: 0.67 | MARICO: 0.33 | Ann. Returns: 0.1683 | Ann. Vol: 0.1973\n",
      "TCS: 0.68 | MARICO: 0.32 | Ann. Returns: 0.1676 | Ann. Vol: 0.1981\n",
      "TCS: 0.69 | MARICO: 0.31 | Ann. Returns: 0.1669 | Ann. Vol: 0.199\n",
      "TCS: 0.7 | MARICO: 0.3 | Ann. Returns: 0.1662 | Ann. Vol: 0.2\n",
      "TCS: 0.71 | MARICO: 0.29 | Ann. Returns: 0.1655 | Ann. Vol: 0.201\n",
      "TCS: 0.72 | MARICO: 0.28 | Ann. Returns: 0.1648 | Ann. Vol: 0.2021\n",
      "TCS: 0.73 | MARICO: 0.27 | Ann. Returns: 0.164 | Ann. Vol: 0.2032\n",
      "TCS: 0.74 | MARICO: 0.26 | Ann. Returns: 0.1633 | Ann. Vol: 0.2044\n",
      "TCS: 0.75 | MARICO: 0.25 | Ann. Returns: 0.1625 | Ann. Vol: 0.2056\n",
      "TCS: 0.76 | MARICO: 0.24 | Ann. Returns: 0.1617 | Ann. Vol: 0.2069\n",
      "TCS: 0.77 | MARICO: 0.23 | Ann. Returns: 0.161 | Ann. Vol: 0.2082\n",
      "TCS: 0.78 | MARICO: 0.22 | Ann. Returns: 0.1602 | Ann. Vol: 0.2096\n",
      "TCS: 0.79 | MARICO: 0.21 | Ann. Returns: 0.1593 | Ann. Vol: 0.211\n",
      "TCS: 0.8 | MARICO: 0.2 | Ann. Returns: 0.1585 | Ann. Vol: 0.2124\n",
      "TCS: 0.81 | MARICO: 0.19 | Ann. Returns: 0.1577 | Ann. Vol: 0.2139\n",
      "TCS: 0.82 | MARICO: 0.18 | Ann. Returns: 0.1568 | Ann. Vol: 0.2155\n",
      "TCS: 0.83 | MARICO: 0.17 | Ann. Returns: 0.156 | Ann. Vol: 0.2171\n",
      "TCS: 0.84 | MARICO: 0.16 | Ann. Returns: 0.1551 | Ann. Vol: 0.2187\n",
      "TCS: 0.85 | MARICO: 0.15 | Ann. Returns: 0.1542 | Ann. Vol: 0.2203\n",
      "TCS: 0.86 | MARICO: 0.14 | Ann. Returns: 0.1533 | Ann. Vol: 0.2221\n",
      "TCS: 0.87 | MARICO: 0.13 | Ann. Returns: 0.1524 | Ann. Vol: 0.2238\n",
      "TCS: 0.88 | MARICO: 0.12 | Ann. Returns: 0.1514 | Ann. Vol: 0.2256\n",
      "TCS: 0.89 | MARICO: 0.11 | Ann. Returns: 0.1505 | Ann. Vol: 0.2274\n",
      "TCS: 0.9 | MARICO: 0.1 | Ann. Returns: 0.1495 | Ann. Vol: 0.2293\n",
      "TCS: 0.91 | MARICO: 0.09 | Ann. Returns: 0.1486 | Ann. Vol: 0.2311\n",
      "TCS: 0.92 | MARICO: 0.08 | Ann. Returns: 0.1476 | Ann. Vol: 0.2331\n",
      "TCS: 0.93 | MARICO: 0.07 | Ann. Returns: 0.1466 | Ann. Vol: 0.235\n",
      "TCS: 0.94 | MARICO: 0.06 | Ann. Returns: 0.1456 | Ann. Vol: 0.237\n",
      "TCS: 0.95 | MARICO: 0.05 | Ann. Returns: 0.1446 | Ann. Vol: 0.239\n",
      "TCS: 0.96 | MARICO: 0.04 | Ann. Returns: 0.1436 | Ann. Vol: 0.2411\n",
      "TCS: 0.97 | MARICO: 0.03 | Ann. Returns: 0.1425 | Ann. Vol: 0.2432\n",
      "TCS: 0.98 | MARICO: 0.02 | Ann. Returns: 0.1415 | Ann. Vol: 0.2453\n",
      "TCS: 0.99 | MARICO: 0.01 | Ann. Returns: 0.1404 | Ann. Vol: 0.2474\n",
      "Computations completed!\n"
     ]
    }
   ],
   "source": [
    "# Iterate through each combination of weights in stock 1 and stock 3\n",
    "for w_i in weight_in_stk_1:\n",
    "    for w_d in weight_in_stk_3:\n",
    "        \n",
    "        # Select only those portfolios whose weights are equal to 1\n",
    "        if (w_i + w_d) == 1:\n",
    "\n",
    "            # Calculate expected returns for each portfolio\n",
    "            port_daily_returns = (w_i * stk_1_data.daily_returns) + (w_d * stk_3_data.daily_returns)\n",
    "\n",
    "            # Calculate cumulative returns for each portfolio\n",
    "            port_cum_returns = compute_cum_returns(port_daily_returns)\n",
    "            \n",
    "            # Calculate annualized returns for each portfolio\n",
    "            port_annualized_returns = compute_ann_returns(port_cum_returns[-1], len(port_cum_returns))\n",
    "\n",
    "            # Calculate daily volatility for each portfolio\n",
    "            port_daily_volatility = np.sqrt((w_i * stk_1_daily_volatility) ** 2 \\\n",
    "                                + (w_d * stk_3_daily_volatility) ** 2 \\\n",
    "                                + 2 * w_i * w_d * stk_1_3_cov[0, 1])\n",
    "\n",
    "            # Calculate annualized volatility for each portfolio\n",
    "            port_annualized_volatility = port_daily_volatility * np.sqrt(252)\n",
    "            \n",
    "            print(f'{stk_1}: {round(w_i, 2)} | {stk_3}: {round(w_d, 2)} | Ann. Returns: {round(port_annualized_returns, 4)} | Ann. Vol: {round(port_annualized_volatility, 4)}')\n",
    "            \n",
    "            # Update weights, annual returns and volatility the current portfolio\n",
    "            data_to_be_updated[stk_1] = round(w_i, 2)\n",
    "            data_to_be_updated[stk_3] = round(w_d, 2)\n",
    "            data_to_be_updated['Ann_Returns'] = round(port_annualized_returns, 4)\n",
    "            data_to_be_updated['Ann_Volatility'] = round(port_annualized_volatility, 4)\n",
    "            \n",
    "            # Append the current portfolio data to the dataframe\n",
    "            portfolios = portfolios.append(data_to_be_updated, ignore_index=True)\n",
    "else:\n",
    "    print('Computations completed!')"
   ]
  },
  {
   "cell_type": "code",
   "execution_count": 54,
   "metadata": {},
   "outputs": [
    {
     "data": {
      "text/html": [
       "<div>\n",
       "<style scoped>\n",
       "    .dataframe tbody tr th:only-of-type {\n",
       "        vertical-align: middle;\n",
       "    }\n",
       "\n",
       "    .dataframe tbody tr th {\n",
       "        vertical-align: top;\n",
       "    }\n",
       "\n",
       "    .dataframe thead th {\n",
       "        text-align: right;\n",
       "    }\n",
       "</style>\n",
       "<table border=\"1\" class=\"dataframe\">\n",
       "  <thead>\n",
       "    <tr style=\"text-align: right;\">\n",
       "      <th></th>\n",
       "      <th>TCS</th>\n",
       "      <th>MARICO</th>\n",
       "      <th>Ann_Returns</th>\n",
       "      <th>Ann_Volatility</th>\n",
       "    </tr>\n",
       "  </thead>\n",
       "  <tbody>\n",
       "    <tr>\n",
       "      <th>0</th>\n",
       "      <td>0.00</td>\n",
       "      <td>1.00</td>\n",
       "      <td>0.1829</td>\n",
       "      <td>0.2623</td>\n",
       "    </tr>\n",
       "    <tr>\n",
       "      <th>1</th>\n",
       "      <td>0.01</td>\n",
       "      <td>0.99</td>\n",
       "      <td>0.1831</td>\n",
       "      <td>0.2600</td>\n",
       "    </tr>\n",
       "    <tr>\n",
       "      <th>2</th>\n",
       "      <td>0.02</td>\n",
       "      <td>0.98</td>\n",
       "      <td>0.1833</td>\n",
       "      <td>0.2577</td>\n",
       "    </tr>\n",
       "    <tr>\n",
       "      <th>3</th>\n",
       "      <td>0.03</td>\n",
       "      <td>0.97</td>\n",
       "      <td>0.1835</td>\n",
       "      <td>0.2555</td>\n",
       "    </tr>\n",
       "    <tr>\n",
       "      <th>4</th>\n",
       "      <td>0.04</td>\n",
       "      <td>0.96</td>\n",
       "      <td>0.1837</td>\n",
       "      <td>0.2532</td>\n",
       "    </tr>\n",
       "    <tr>\n",
       "      <th>5</th>\n",
       "      <td>0.05</td>\n",
       "      <td>0.95</td>\n",
       "      <td>0.1839</td>\n",
       "      <td>0.2510</td>\n",
       "    </tr>\n",
       "    <tr>\n",
       "      <th>6</th>\n",
       "      <td>0.06</td>\n",
       "      <td>0.94</td>\n",
       "      <td>0.1840</td>\n",
       "      <td>0.2488</td>\n",
       "    </tr>\n",
       "    <tr>\n",
       "      <th>7</th>\n",
       "      <td>0.07</td>\n",
       "      <td>0.93</td>\n",
       "      <td>0.1842</td>\n",
       "      <td>0.2467</td>\n",
       "    </tr>\n",
       "    <tr>\n",
       "      <th>8</th>\n",
       "      <td>0.08</td>\n",
       "      <td>0.92</td>\n",
       "      <td>0.1843</td>\n",
       "      <td>0.2445</td>\n",
       "    </tr>\n",
       "    <tr>\n",
       "      <th>9</th>\n",
       "      <td>0.09</td>\n",
       "      <td>0.91</td>\n",
       "      <td>0.1844</td>\n",
       "      <td>0.2424</td>\n",
       "    </tr>\n",
       "    <tr>\n",
       "      <th>10</th>\n",
       "      <td>0.10</td>\n",
       "      <td>0.90</td>\n",
       "      <td>0.1845</td>\n",
       "      <td>0.2404</td>\n",
       "    </tr>\n",
       "    <tr>\n",
       "      <th>11</th>\n",
       "      <td>0.11</td>\n",
       "      <td>0.89</td>\n",
       "      <td>0.1846</td>\n",
       "      <td>0.2383</td>\n",
       "    </tr>\n",
       "    <tr>\n",
       "      <th>12</th>\n",
       "      <td>0.12</td>\n",
       "      <td>0.88</td>\n",
       "      <td>0.1847</td>\n",
       "      <td>0.2363</td>\n",
       "    </tr>\n",
       "    <tr>\n",
       "      <th>13</th>\n",
       "      <td>0.13</td>\n",
       "      <td>0.87</td>\n",
       "      <td>0.1848</td>\n",
       "      <td>0.2343</td>\n",
       "    </tr>\n",
       "    <tr>\n",
       "      <th>14</th>\n",
       "      <td>0.14</td>\n",
       "      <td>0.86</td>\n",
       "      <td>0.1848</td>\n",
       "      <td>0.2324</td>\n",
       "    </tr>\n",
       "    <tr>\n",
       "      <th>15</th>\n",
       "      <td>0.15</td>\n",
       "      <td>0.85</td>\n",
       "      <td>0.1849</td>\n",
       "      <td>0.2305</td>\n",
       "    </tr>\n",
       "    <tr>\n",
       "      <th>16</th>\n",
       "      <td>0.16</td>\n",
       "      <td>0.84</td>\n",
       "      <td>0.1849</td>\n",
       "      <td>0.2286</td>\n",
       "    </tr>\n",
       "    <tr>\n",
       "      <th>17</th>\n",
       "      <td>0.17</td>\n",
       "      <td>0.83</td>\n",
       "      <td>0.1849</td>\n",
       "      <td>0.2268</td>\n",
       "    </tr>\n",
       "    <tr>\n",
       "      <th>18</th>\n",
       "      <td>0.18</td>\n",
       "      <td>0.82</td>\n",
       "      <td>0.1849</td>\n",
       "      <td>0.2249</td>\n",
       "    </tr>\n",
       "    <tr>\n",
       "      <th>19</th>\n",
       "      <td>0.19</td>\n",
       "      <td>0.81</td>\n",
       "      <td>0.1849</td>\n",
       "      <td>0.2232</td>\n",
       "    </tr>\n",
       "  </tbody>\n",
       "</table>\n",
       "</div>"
      ],
      "text/plain": [
       "     TCS  MARICO  Ann_Returns  Ann_Volatility\n",
       "0   0.00    1.00       0.1829          0.2623\n",
       "1   0.01    0.99       0.1831          0.2600\n",
       "2   0.02    0.98       0.1833          0.2577\n",
       "3   0.03    0.97       0.1835          0.2555\n",
       "4   0.04    0.96       0.1837          0.2532\n",
       "5   0.05    0.95       0.1839          0.2510\n",
       "6   0.06    0.94       0.1840          0.2488\n",
       "7   0.07    0.93       0.1842          0.2467\n",
       "8   0.08    0.92       0.1843          0.2445\n",
       "9   0.09    0.91       0.1844          0.2424\n",
       "10  0.10    0.90       0.1845          0.2404\n",
       "11  0.11    0.89       0.1846          0.2383\n",
       "12  0.12    0.88       0.1847          0.2363\n",
       "13  0.13    0.87       0.1848          0.2343\n",
       "14  0.14    0.86       0.1848          0.2324\n",
       "15  0.15    0.85       0.1849          0.2305\n",
       "16  0.16    0.84       0.1849          0.2286\n",
       "17  0.17    0.83       0.1849          0.2268\n",
       "18  0.18    0.82       0.1849          0.2249\n",
       "19  0.19    0.81       0.1849          0.2232"
      ]
     },
     "execution_count": 54,
     "metadata": {},
     "output_type": "execute_result"
    }
   ],
   "source": [
    "portfolios.head(20)"
   ]
  },
  {
   "cell_type": "markdown",
   "metadata": {},
   "source": [
    "#### Minimum Risk Portfolio"
   ]
  },
  {
   "cell_type": "code",
   "execution_count": 55,
   "metadata": {},
   "outputs": [
    {
     "data": {
      "text/html": [
       "<div>\n",
       "<style scoped>\n",
       "    .dataframe tbody tr th:only-of-type {\n",
       "        vertical-align: middle;\n",
       "    }\n",
       "\n",
       "    .dataframe tbody tr th {\n",
       "        vertical-align: top;\n",
       "    }\n",
       "\n",
       "    .dataframe thead th {\n",
       "        text-align: right;\n",
       "    }\n",
       "</style>\n",
       "<table border=\"1\" class=\"dataframe\">\n",
       "  <thead>\n",
       "    <tr style=\"text-align: right;\">\n",
       "      <th></th>\n",
       "      <th>TCS</th>\n",
       "      <th>MARICO</th>\n",
       "      <th>Ann_Returns</th>\n",
       "      <th>Ann_Volatility</th>\n",
       "    </tr>\n",
       "  </thead>\n",
       "  <tbody>\n",
       "    <tr>\n",
       "      <th>52</th>\n",
       "      <td>0.52</td>\n",
       "      <td>0.48</td>\n",
       "      <td>0.1768</td>\n",
       "      <td>0.1913</td>\n",
       "    </tr>\n",
       "    <tr>\n",
       "      <th>53</th>\n",
       "      <td>0.53</td>\n",
       "      <td>0.47</td>\n",
       "      <td>0.1763</td>\n",
       "      <td>0.1913</td>\n",
       "    </tr>\n",
       "    <tr>\n",
       "      <th>54</th>\n",
       "      <td>0.54</td>\n",
       "      <td>0.46</td>\n",
       "      <td>0.1758</td>\n",
       "      <td>0.1913</td>\n",
       "    </tr>\n",
       "  </tbody>\n",
       "</table>\n",
       "</div>"
      ],
      "text/plain": [
       "     TCS  MARICO  Ann_Returns  Ann_Volatility\n",
       "52  0.52    0.48       0.1768          0.1913\n",
       "53  0.53    0.47       0.1763          0.1913\n",
       "54  0.54    0.46       0.1758          0.1913"
      ]
     },
     "execution_count": 55,
     "metadata": {},
     "output_type": "execute_result"
    }
   ],
   "source": [
    "# Minimum Risk Portfolio\n",
    "min_risk_portfolios = portfolios.loc[portfolios.Ann_Volatility == portfolios.Ann_Volatility.min()]\n",
    "\n",
    "min_x = min_risk_portfolios.Ann_Volatility.iloc[0]\n",
    "min_y = min_risk_portfolios.Ann_Returns.iloc[0]\n",
    "\n",
    "min_risk_portfolios"
   ]
  },
  {
   "cell_type": "markdown",
   "metadata": {},
   "source": [
    "#### Portfolio with Maximum Returns/Unit of Risk"
   ]
  },
  {
   "cell_type": "code",
   "execution_count": 56,
   "metadata": {},
   "outputs": [
    {
     "data": {
      "text/html": [
       "<div>\n",
       "<style scoped>\n",
       "    .dataframe tbody tr th:only-of-type {\n",
       "        vertical-align: middle;\n",
       "    }\n",
       "\n",
       "    .dataframe tbody tr th {\n",
       "        vertical-align: top;\n",
       "    }\n",
       "\n",
       "    .dataframe thead th {\n",
       "        text-align: right;\n",
       "    }\n",
       "</style>\n",
       "<table border=\"1\" class=\"dataframe\">\n",
       "  <thead>\n",
       "    <tr style=\"text-align: right;\">\n",
       "      <th></th>\n",
       "      <th>TCS</th>\n",
       "      <th>MARICO</th>\n",
       "      <th>Ann_Returns</th>\n",
       "      <th>Ann_Volatility</th>\n",
       "      <th>max_returns/risk</th>\n",
       "    </tr>\n",
       "  </thead>\n",
       "  <tbody>\n",
       "    <tr>\n",
       "      <th>46</th>\n",
       "      <td>0.46</td>\n",
       "      <td>0.54</td>\n",
       "      <td>0.1794</td>\n",
       "      <td>0.1927</td>\n",
       "      <td>0.930981</td>\n",
       "    </tr>\n",
       "  </tbody>\n",
       "</table>\n",
       "</div>"
      ],
      "text/plain": [
       "     TCS  MARICO  Ann_Returns  Ann_Volatility  max_returns/risk\n",
       "46  0.46    0.54       0.1794          0.1927          0.930981"
      ]
     },
     "execution_count": 56,
     "metadata": {},
     "output_type": "execute_result"
    }
   ],
   "source": [
    "# Create a new column with maximum returns per unit of risk\n",
    "portfolios['max_returns/risk'] = portfolios['Ann_Returns'] / portfolios['Ann_Volatility']\n",
    "\n",
    "# Find the portfolio with maximum returns per unit of risk\n",
    "sharpe_portfolios = portfolios.loc[portfolios['max_returns/risk'] == portfolios['max_returns/risk'].max()]\n",
    "\n",
    "sharpe_x = sharpe_portfolios.Ann_Volatility.iloc[0]\n",
    "sharpe_y = sharpe_portfolios.Ann_Returns.iloc[0]\n",
    "\n",
    "sharpe_portfolios"
   ]
  },
  {
   "cell_type": "code",
   "execution_count": 57,
   "metadata": {},
   "outputs": [
    {
     "data": {
      "image/png": "[encoded data removed]",
      "text/plain": [
       "<Figure size 1080x576 with 1 Axes>"
      ]
     },
     "metadata": {},
     "output_type": "display_data"
    }
   ],
   "source": [
    "# Plotting it visually\n",
    "fig = plt.figure(figsize=(15, 8))\n",
    "plt.scatter(x='Ann_Volatility', y='Ann_Returns', data=portfolios, label='Various Portfolios')\n",
    "plt.scatter(x=min_x, y=min_y, marker='*', s=200, color='darkorange', label='Minimum Risk Portfolio')\n",
    "plt.scatter(x=sharpe_x, y=sharpe_y, marker='*', s=200, color='red', label='Max Returns/Risk Portfolio')\n",
    "plt.xlabel('Annualized Volatility')\n",
    "plt.ylabel('Annualized Returns')\n",
    "plt.title('Portfolio Risk Vs Returns')\n",
    "plt.legend(loc='best', fontsize=14)\n",
    "plt.grid()\n",
    "plt.show()"
   ]
  },
  {
   "cell_type": "code",
   "execution_count": 72,
   "metadata": {},
   "outputs": [
    {
     "data": {
      "application/vnd.plotly.v1+json": {
       "config": {
        "plotlyServerURL": "https://plot.ly"
       },
       "data": [
        {
         "customdata": [
          [
           0,
           1
          ],
          [
           0.01,
           0.99
          ],
          [
           0.02,
           0.98
          ],
          [
           0.03,
           0.97
          ],
          [
           0.04,
           0.96
          ],
          [
           0.05,
           0.95
          ],
          [
           0.06,
           0.94
          ],
          [
           0.07,
           0.93
          ],
          [
           0.08,
           0.92
          ],
          [
           0.09,
           0.91
          ],
          [
           0.1,
           0.9
          ],
          [
           0.11,
           0.89
          ],
          [
           0.12,
           0.88
          ],
          [
           0.13,
           0.87
          ],
          [
           0.14,
           0.86
          ],
          [
           0.15,
           0.85
          ],
          [
           0.16,
           0.84
          ],
          [
           0.17,
           0.83
          ],
          [
           0.18,
           0.82
          ],
          [
           0.19,
           0.81
          ],
          [
           0.2,
           0.8
          ],
          [
           0.21,
           0.79
          ],
          [
           0.22,
           0.78
          ],
          [
           0.23,
           0.77
          ],
          [
           0.24,
           0.76
          ],
          [
           0.25,
           0.75
          ],
          [
           0.26,
           0.74
          ],
          [
           0.27,
           0.73
          ],
          [
           0.28,
           0.72
          ],
          [
           0.29,
           0.71
          ],
          [
           0.3,
           0.7
          ],
          [
           0.31,
           0.69
          ],
          [
           0.32,
           0.68
          ],
          [
           0.33,
           0.67
          ],
          [
           0.34,
           0.66
          ],
          [
           0.35,
           0.65
          ],
          [
           0.36,
           0.64
          ],
          [
           0.37,
           0.63
          ],
          [
           0.38,
           0.62
          ],
          [
           0.39,
           0.61
          ],
          [
           0.4,
           0.6
          ],
          [
           0.41,
           0.59
          ],
          [
           0.42,
           0.58
          ],
          [
           0.43,
           0.57
          ],
          [
           0.44,
           0.56
          ],
          [
           0.45,
           0.55
          ],
          [
           0.46,
           0.54
          ],
          [
           0.47,
           0.53
          ],
          [
           0.48,
           0.52
          ],
          [
           0.49,
           0.51
          ],
          [
           0.5,
           0.5
          ],
          [
           0.51,
           0.49
          ],
          [
           0.52,
           0.48
          ],
          [
           0.53,
           0.47
          ],
          [
           0.54,
           0.46
          ],
          [
           0.55,
           0.45
          ],
          [
           0.56,
           0.44
          ],
          [
           0.57,
           0.43
          ],
          [
           0.58,
           0.42
          ],
          [
           0.59,
           0.41
          ],
          [
           0.6,
           0.4
          ],
          [
           0.61,
           0.39
          ],
          [
           0.62,
           0.38
          ],
          [
           0.63,
           0.37
          ],
          [
           0.64,
           0.36
          ],
          [
           0.65,
           0.35
          ],
          [
           0.66,
           0.34
          ],
          [
           0.67,
           0.33
          ],
          [
           0.68,
           0.32
          ],
          [
           0.69,
           0.31
          ],
          [
           0.7,
           0.3
          ],
          [
           0.71,
           0.29
          ],
          [
           0.72,
           0.28
          ],
          [
           0.73,
           0.27
          ],
          [
           0.74,
           0.26
          ],
          [
           0.75,
           0.25
          ],
          [
           0.76,
           0.24
          ],
          [
           0.77,
           0.23
          ],
          [
           0.78,
           0.22
          ],
          [
           0.79,
           0.21
          ],
          [
           0.8,
           0.2
          ],
          [
           0.81,
           0.19
          ],
          [
           0.82,
           0.18
          ],
          [
           0.83,
           0.17
          ],
          [
           0.84,
           0.16
          ],
          [
           0.85,
           0.15
          ],
          [
           0.86,
           0.14
          ],
          [
           0.87,
           0.13
          ],
          [
           0.88,
           0.12
          ],
          [
           0.89,
           0.11
          ],
          [
           0.9,
           0.1
          ],
          [
           0.91,
           0.09
          ],
          [
           0.92,
           0.08
          ],
          [
           0.93,
           0.07
          ],
          [
           0.94,
           0.06
          ],
          [
           0.95,
           0.05
          ],
          [
           0.96,
           0.04
          ],
          [
           0.97,
           0.03
          ],
          [
           0.98,
           0.02
          ],
          [
           0.99,
           0.01
          ]
         ],
         "hovertemplate": "Ann_Volatility=%{x}<br>Ann_Returns=%{y}<br>TCS=%{customdata[0]}<br>MARICO=%{customdata[1]}<extra></extra>",
         "legendgroup": "",
         "marker": {
          "color": "#636efa",
          "symbol": "circle"
         },
         "mode": "markers",
         "name": "",
         "orientation": "v",
         "showlegend": false,
         "type": "scatter",
         "x": [
          0.2623,
          0.26,
          0.2577,
          0.2555,
          0.2532,
          0.251,
          0.2488,
          0.2467,
          0.2445,
          0.2424,
          0.2404,
          0.2383,
          0.2363,
          0.2343,
          0.2324,
          0.2305,
          0.2286,
          0.2268,
          0.2249,
          0.2232,
          0.2214,
          0.2198,
          0.2181,
          0.2165,
          0.2149,
          0.2134,
          0.2119,
          0.2105,
          0.2091,
          0.2077,
          0.2064,
          0.2052,
          0.204,
          0.2028,
          0.2017,
          0.2007,
          0.1997,
          0.1987,
          0.1978,
          0.197,
          0.1962,
          0.1955,
          0.1948,
          0.1942,
          0.1936,
          0.1931,
          0.1927,
          0.1923,
          0.192,
          0.1917,
          0.1915,
          0.1914,
          0.1913,
          0.1913,
          0.1913,
          0.1914,
          0.1916,
          0.1918,
          0.1921,
          0.1924,
          0.1928,
          0.1933,
          0.1938,
          0.1944,
          0.195,
          0.1957,
          0.1965,
          0.1973,
          0.1981,
          0.199,
          0.2,
          0.201,
          0.2021,
          0.2032,
          0.2044,
          0.2056,
          0.2069,
          0.2082,
          0.2096,
          0.211,
          0.2124,
          0.2139,
          0.2155,
          0.2171,
          0.2187,
          0.2203,
          0.2221,
          0.2238,
          0.2256,
          0.2274,
          0.2293,
          0.2311,
          0.2331,
          0.235,
          0.237,
          0.239,
          0.2411,
          0.2432,
          0.2453,
          0.2474
         ],
         "xaxis": "x",
         "y": [
          0.1829,
          0.1831,
          0.1833,
          0.1835,
          0.1837,
          0.1839,
          0.184,
          0.1842,
          0.1843,
          0.1844,
          0.1845,
          0.1846,
          0.1847,
          0.1848,
          0.1848,
          0.1849,
          0.1849,
          0.1849,
          0.1849,
          0.1849,
          0.1849,
          0.1848,
          0.1848,
          0.1847,
          0.1846,
          0.1845,
          0.1844,
          0.1843,
          0.1842,
          0.184,
          0.1838,
          0.1837,
          0.1835,
          0.1833,
          0.183,
          0.1828,
          0.1826,
          0.1823,
          0.182,
          0.1817,
          0.1814,
          0.1811,
          0.1808,
          0.1805,
          0.1801,
          0.1797,
          0.1794,
          0.179,
          0.1786,
          0.1781,
          0.1777,
          0.1772,
          0.1768,
          0.1763,
          0.1758,
          0.1753,
          0.1748,
          0.1743,
          0.1737,
          0.1732,
          0.1726,
          0.172,
          0.1714,
          0.1708,
          0.1702,
          0.1696,
          0.1689,
          0.1683,
          0.1676,
          0.1669,
          0.1662,
          0.1655,
          0.1648,
          0.164,
          0.1633,
          0.1625,
          0.1617,
          0.161,
          0.1602,
          0.1593,
          0.1585,
          0.1577,
          0.1568,
          0.156,
          0.1551,
          0.1542,
          0.1533,
          0.1524,
          0.1514,
          0.1505,
          0.1495,
          0.1486,
          0.1476,
          0.1466,
          0.1456,
          0.1446,
          0.1436,
          0.1425,
          0.1415,
          0.1404
         ],
         "yaxis": "y"
        }
       ],
       "layout": {
        "legend": {
         "tracegroupgap": 0
        },
        "margin": {
         "t": 60
        },
        "template": {
         "data": {
          "bar": [
           {
            "error_x": {
             "color": "#2a3f5f"
            },
            "error_y": {
             "color": "#2a3f5f"
            },
            "marker": {
             "line": {
              "color": "#E5ECF6",
              "width": 0.5
             }
            },
            "type": "bar"
           }
          ],
          "barpolar": [
           {
            "marker": {
             "line": {
              "color": "#E5ECF6",
              "width": 0.5
             }
            },
            "type": "barpolar"
           }
          ],
          "carpet": [
           {
            "aaxis": {
             "endlinecolor": "#2a3f5f",
             "gridcolor": "white",
             "linecolor": "white",
             "minorgridcolor": "white",
             "startlinecolor": "#2a3f5f"
            },
            "baxis": {
             "endlinecolor": "#2a3f5f",
             "gridcolor": "white",
             "linecolor": "white",
             "minorgridcolor": "white",
             "startlinecolor": "#2a3f5f"
            },
            "type": "carpet"
           }
          ],
          "choropleth": [
           {
            "colorbar": {
             "outlinewidth": 0,
             "ticks": ""
            },
            "type": "choropleth"
           }
          ],
          "contour": [
           {
            "colorbar": {
             "outlinewidth": 0,
             "ticks": ""
            },
            "colorscale": [
             [
              0,
              "#0d0887"
             ],
             [
              0.1111111111111111,
              "#46039f"
             ],
             [
              0.2222222222222222,
              "#7201a8"
             ],
             [
              0.3333333333333333,
              "#9c179e"
             ],
             [
              0.4444444444444444,
              "#bd3786"
             ],
             [
              0.5555555555555556,
              "#d8576b"
             ],
             [
              0.6666666666666666,
              "#ed7953"
             ],
             [
              0.7777777777777778,
              "#fb9f3a"
             ],
             [
              0.8888888888888888,
              "#fdca26"
             ],
             [
              1,
              "#f0f921"
             ]
            ],
            "type": "contour"
           }
          ],
          "contourcarpet": [
           {
            "colorbar": {
             "outlinewidth": 0,
             "ticks": ""
            },
            "type": "contourcarpet"
           }
          ],
          "heatmap": [
           {
            "colorbar": {
             "outlinewidth": 0,
             "ticks": ""
            },
            "colorscale": [
             [
              0,
              "#0d0887"
             ],
             [
              0.1111111111111111,
              "#46039f"
             ],
             [
              0.2222222222222222,
              "#7201a8"
             ],
             [
              0.3333333333333333,
              "#9c179e"
             ],
             [
              0.4444444444444444,
              "#bd3786"
             ],
             [
              0.5555555555555556,
              "#d8576b"
             ],
             [
              0.6666666666666666,
              "#ed7953"
             ],
             [
              0.7777777777777778,
              "#fb9f3a"
             ],
             [
              0.8888888888888888,
              "#fdca26"
             ],
             [
              1,
              "#f0f921"
             ]
            ],
            "type": "heatmap"
           }
          ],
          "heatmapgl": [
           {
            "colorbar": {
             "outlinewidth": 0,
             "ticks": ""
            },
            "colorscale": [
             [
              0,
              "#0d0887"
             ],
             [
              0.1111111111111111,
              "#46039f"
             ],
             [
              0.2222222222222222,
              "#7201a8"
             ],
             [
              0.3333333333333333,
              "#9c179e"
             ],
             [
              0.4444444444444444,
              "#bd3786"
             ],
             [
              0.5555555555555556,
              "#d8576b"
             ],
             [
              0.6666666666666666,
              "#ed7953"
             ],
             [
              0.7777777777777778,
              "#fb9f3a"
             ],
             [
              0.8888888888888888,
              "#fdca26"
             ],
             [
              1,
              "#f0f921"
             ]
            ],
            "type": "heatmapgl"
           }
          ],
          "histogram": [
           {
            "marker": {
             "colorbar": {
              "outlinewidth": 0,
              "ticks": ""
             }
            },
            "type": "histogram"
           }
          ],
          "histogram2d": [
           {
            "colorbar": {
             "outlinewidth": 0,
             "ticks": ""
            },
            "colorscale": [
             [
              0,
              "#0d0887"
             ],
             [
              0.1111111111111111,
              "#46039f"
             ],
             [
              0.2222222222222222,
              "#7201a8"
             ],
             [
              0.3333333333333333,
              "#9c179e"
             ],
             [
              0.4444444444444444,
              "#bd3786"
             ],
             [
              0.5555555555555556,
              "#d8576b"
             ],
             [
              0.6666666666666666,
              "#ed7953"
             ],
             [
              0.7777777777777778,
              "#fb9f3a"
             ],
             [
              0.8888888888888888,
              "#fdca26"
             ],
             [
              1,
              "#f0f921"
             ]
            ],
            "type": "histogram2d"
           }
          ],
          "histogram2dcontour": [
           {
            "colorbar": {
             "outlinewidth": 0,
             "ticks": ""
            },
            "colorscale": [
             [
              0,
              "#0d0887"
             ],
             [
              0.1111111111111111,
              "#46039f"
             ],
             [
              0.2222222222222222,
              "#7201a8"
             ],
             [
              0.3333333333333333,
              "#9c179e"
             ],
             [
              0.4444444444444444,
              "#bd3786"
             ],
             [
              0.5555555555555556,
              "#d8576b"
             ],
             [
              0.6666666666666666,
              "#ed7953"
             ],
             [
              0.7777777777777778,
              "#fb9f3a"
             ],
             [
              0.8888888888888888,
              "#fdca26"
             ],
             [
              1,
              "#f0f921"
             ]
            ],
            "type": "histogram2dcontour"
           }
          ],
          "mesh3d": [
           {
            "colorbar": {
             "outlinewidth": 0,
             "ticks": ""
            },
            "type": "mesh3d"
           }
          ],
          "parcoords": [
           {
            "line": {
             "colorbar": {
              "outlinewidth": 0,
              "ticks": ""
             }
            },
            "type": "parcoords"
           }
          ],
          "pie": [
           {
            "automargin": true,
            "type": "pie"
           }
          ],
          "scatter": [
           {
            "marker": {
             "colorbar": {
              "outlinewidth": 0,
              "ticks": ""
             }
            },
            "type": "scatter"
           }
          ],
          "scatter3d": [
           {
            "line": {
             "colorbar": {
              "outlinewidth": 0,
              "ticks": ""
             }
            },
            "marker": {
             "colorbar": {
              "outlinewidth": 0,
              "ticks": ""
             }
            },
            "type": "scatter3d"
           }
          ],
          "scattercarpet": [
           {
            "marker": {
             "colorbar": {
              "outlinewidth": 0,
              "ticks": ""
             }
            },
            "type": "scattercarpet"
           }
          ],
          "scattergeo": [
           {
            "marker": {
             "colorbar": {
              "outlinewidth": 0,
              "ticks": ""
             }
            },
            "type": "scattergeo"
           }
          ],
          "scattergl": [
           {
            "marker": {
             "colorbar": {
              "outlinewidth": 0,
              "ticks": ""
             }
            },
            "type": "scattergl"
           }
          ],
          "scattermapbox": [
           {
            "marker": {
             "colorbar": {
              "outlinewidth": 0,
              "ticks": ""
             }
            },
            "type": "scattermapbox"
           }
          ],
          "scatterpolar": [
           {
            "marker": {
             "colorbar": {
              "outlinewidth": 0,
              "ticks": ""
             }
            },
            "type": "scatterpolar"
           }
          ],
          "scatterpolargl": [
           {
            "marker": {
             "colorbar": {
              "outlinewidth": 0,
              "ticks": ""
             }
            },
            "type": "scatterpolargl"
           }
          ],
          "scatterternary": [
           {
            "marker": {
             "colorbar": {
              "outlinewidth": 0,
              "ticks": ""
             }
            },
            "type": "scatterternary"
           }
          ],
          "surface": [
           {
            "colorbar": {
             "outlinewidth": 0,
             "ticks": ""
            },
            "colorscale": [
             [
              0,
              "#0d0887"
             ],
             [
              0.1111111111111111,
              "#46039f"
             ],
             [
              0.2222222222222222,
              "#7201a8"
             ],
             [
              0.3333333333333333,
              "#9c179e"
             ],
             [
              0.4444444444444444,
              "#bd3786"
             ],
             [
              0.5555555555555556,
              "#d8576b"
             ],
             [
              0.6666666666666666,
              "#ed7953"
             ],
             [
              0.7777777777777778,
              "#fb9f3a"
             ],
             [
              0.8888888888888888,
              "#fdca26"
             ],
             [
              1,
              "#f0f921"
             ]
            ],
            "type": "surface"
           }
          ],
          "table": [
           {
            "cells": {
             "fill": {
              "color": "#EBF0F8"
             },
             "line": {
              "color": "white"
             }
            },
            "header": {
             "fill": {
              "color": "#C8D4E3"
             },
             "line": {
              "color": "white"
             }
            },
            "type": "table"
           }
          ]
         },
         "layout": {
          "annotationdefaults": {
           "arrowcolor": "#2a3f5f",
           "arrowhead": 0,
           "arrowwidth": 1
          },
          "autotypenumbers": "strict",
          "coloraxis": {
           "colorbar": {
            "outlinewidth": 0,
            "ticks": ""
           }
          },
          "colorscale": {
           "diverging": [
            [
             0,
             "#8e0152"
            ],
            [
             0.1,
             "#c51b7d"
            ],
            [
             0.2,
             "#de77ae"
            ],
            [
             0.3,
             "#f1b6da"
            ],
            [
             0.4,
             "#fde0ef"
            ],
            [
             0.5,
             "#f7f7f7"
            ],
            [
             0.6,
             "#e6f5d0"
            ],
            [
             0.7,
             "#b8e186"
            ],
            [
             0.8,
             "#7fbc41"
            ],
            [
             0.9,
             "#4d9221"
            ],
            [
             1,
             "#276419"
            ]
           ],
           "sequential": [
            [
             0,
             "#0d0887"
            ],
            [
             0.1111111111111111,
             "#46039f"
            ],
            [
             0.2222222222222222,
             "#7201a8"
            ],
            [
             0.3333333333333333,
             "#9c179e"
            ],
            [
             0.4444444444444444,
             "#bd3786"
            ],
            [
             0.5555555555555556,
             "#d8576b"
            ],
            [
             0.6666666666666666,
             "#ed7953"
            ],
            [
             0.7777777777777778,
             "#fb9f3a"
            ],
            [
             0.8888888888888888,
             "#fdca26"
            ],
            [
             1,
             "#f0f921"
            ]
           ],
           "sequentialminus": [
            [
             0,
             "#0d0887"
            ],
            [
             0.1111111111111111,
             "#46039f"
            ],
            [
             0.2222222222222222,
             "#7201a8"
            ],
            [
             0.3333333333333333,
             "#9c179e"
            ],
            [
             0.4444444444444444,
             "#bd3786"
            ],
            [
             0.5555555555555556,
             "#d8576b"
            ],
            [
             0.6666666666666666,
             "#ed7953"
            ],
            [
             0.7777777777777778,
             "#fb9f3a"
            ],
            [
             0.8888888888888888,
             "#fdca26"
            ],
            [
             1,
             "#f0f921"
            ]
           ]
          },
          "colorway": [
           "#636efa",
           "#EF553B",
           "#00cc96",
           "#ab63fa",
           "#FFA15A",
           "#19d3f3",
           "#FF6692",
           "#B6E880",
           "#FF97FF",
           "#FECB52"
          ],
          "font": {
           "color": "#2a3f5f"
          },
          "geo": {
           "bgcolor": "white",
           "lakecolor": "white",
           "landcolor": "#E5ECF6",
           "showlakes": true,
           "showland": true,
           "subunitcolor": "white"
          },
          "hoverlabel": {
           "align": "left"
          },
          "hovermode": "closest",
          "mapbox": {
           "style": "light"
          },
          "paper_bgcolor": "white",
          "plot_bgcolor": "#E5ECF6",
          "polar": {
           "angularaxis": {
            "gridcolor": "white",
            "linecolor": "white",
            "ticks": ""
           },
           "bgcolor": "#E5ECF6",
           "radialaxis": {
            "gridcolor": "white",
            "linecolor": "white",
            "ticks": ""
           }
          },
          "scene": {
           "xaxis": {
            "backgroundcolor": "#E5ECF6",
            "gridcolor": "white",
            "gridwidth": 2,
            "linecolor": "white",
            "showbackground": true,
            "ticks": "",
            "zerolinecolor": "white"
           },
           "yaxis": {
            "backgroundcolor": "#E5ECF6",
            "gridcolor": "white",
            "gridwidth": 2,
            "linecolor": "white",
            "showbackground": true,
            "ticks": "",
            "zerolinecolor": "white"
           },
           "zaxis": {
            "backgroundcolor": "#E5ECF6",
            "gridcolor": "white",
            "gridwidth": 2,
            "linecolor": "white",
            "showbackground": true,
            "ticks": "",
            "zerolinecolor": "white"
           }
          },
          "shapedefaults": {
           "line": {
            "color": "#2a3f5f"
           }
          },
          "ternary": {
           "aaxis": {
            "gridcolor": "white",
            "linecolor": "white",
            "ticks": ""
           },
           "baxis": {
            "gridcolor": "white",
            "linecolor": "white",
            "ticks": ""
           },
           "bgcolor": "#E5ECF6",
           "caxis": {
            "gridcolor": "white",
            "linecolor": "white",
            "ticks": ""
           }
          },
          "title": {
           "x": 0.05
          },
          "xaxis": {
           "automargin": true,
           "gridcolor": "white",
           "linecolor": "white",
           "ticks": "",
           "title": {
            "standoff": 15
           },
           "zerolinecolor": "white",
           "zerolinewidth": 2
          },
          "yaxis": {
           "automargin": true,
           "gridcolor": "white",
           "linecolor": "white",
           "ticks": "",
           "title": {
            "standoff": 15
           },
           "zerolinecolor": "white",
           "zerolinewidth": 2
          }
         }
        },
        "xaxis": {
         "anchor": "y",
         "domain": [
          0,
          1
         ],
         "title": {
          "text": "Ann_Volatility"
         }
        },
        "yaxis": {
         "anchor": "x",
         "domain": [
          0,
          1
         ],
         "title": {
          "text": "Ann_Returns"
         }
        }
       }
      },
      "text/html": [
       "<div>                            <div id=\"50054a33-ed3b-406f-8644-c6f4456a4cea\" class=\"plotly-graph-div\" style=\"height:525px; width:100%;\"></div>            <script type=\"text/javascript\">                require([\"plotly\"], function(Plotly) {                    window.PLOTLYENV=window.PLOTLYENV || {};                                    if (document.getElementById(\"50054a33-ed3b-406f-8644-c6f4456a4cea\")) {                    Plotly.newPlot(                        \"50054a33-ed3b-406f-8644-c6f4456a4cea\",                        [{\"customdata\": [[0.0, 1.0], [0.01, 0.99], [0.02, 0.98], [0.03, 0.97], [0.04, 0.96], [0.05, 0.95], [0.06, 0.94], [0.07, 0.93], [0.08, 0.92], [0.09, 0.91], [0.1, 0.9], [0.11, 0.89], [0.12, 0.88], [0.13, 0.87], [0.14, 0.86], [0.15, 0.85], [0.16, 0.84], [0.17, 0.83], [0.18, 0.82], [0.19, 0.81], [0.2, 0.8], [0.21, 0.79], [0.22, 0.78], [0.23, 0.77], [0.24, 0.76], [0.25, 0.75], [0.26, 0.74], [0.27, 0.73], [0.28, 0.72], [0.29, 0.71], [0.3, 0.7], [0.31, 0.69], [0.32, 0.68], [0.33, 0.67], [0.34, 0.66], [0.35, 0.65], [0.36, 0.64], [0.37, 0.63], [0.38, 0.62], [0.39, 0.61], [0.4, 0.6], [0.41, 0.59], [0.42, 0.58], [0.43, 0.57], [0.44, 0.56], [0.45, 0.55], [0.46, 0.54], [0.47, 0.53], [0.48, 0.52], [0.49, 0.51], [0.5, 0.5], [0.51, 0.49], [0.52, 0.48], [0.53, 0.47], [0.54, 0.46], [0.55, 0.45], [0.56, 0.44], [0.57, 0.43], [0.58, 0.42], [0.59, 0.41], [0.6, 0.4], [0.61, 0.39], [0.62, 0.38], [0.63, 0.37], [0.64, 0.36], [0.65, 0.35], [0.66, 0.34], [0.67, 0.33], [0.68, 0.32], [0.69, 0.31], [0.7, 0.3], [0.71, 0.29], [0.72, 0.28], [0.73, 0.27], [0.74, 0.26], [0.75, 0.25], [0.76, 0.24], [0.77, 0.23], [0.78, 0.22], [0.79, 0.21], [0.8, 0.2], [0.81, 0.19], [0.82, 0.18], [0.83, 0.17], [0.84, 0.16], [0.85, 0.15], [0.86, 0.14], [0.87, 0.13], [0.88, 0.12], [0.89, 0.11], [0.9, 0.1], [0.91, 0.09], [0.92, 0.08], [0.93, 0.07], [0.94, 0.06], [0.95, 0.05], [0.96, 0.04], [0.97, 0.03], [0.98, 0.02], [0.99, 0.01]], \"hovertemplate\": \"Ann_Volatility=%{x}<br>Ann_Returns=%{y}<br>TCS=%{customdata[0]}<br>MARICO=%{customdata[1]}<extra></extra>\", \"legendgroup\": \"\", \"marker\": {\"color\": \"#636efa\", \"symbol\": \"circle\"}, \"mode\": \"markers\", \"name\": \"\", \"orientation\": \"v\", \"showlegend\": false, \"type\": \"scatter\", \"x\": [0.2623, 0.26, 0.2577, 0.2555, 0.2532, 0.251, 0.2488, 0.2467, 0.2445, 0.2424, 0.2404, 0.2383, 0.2363, 0.2343, 0.2324, 0.2305, 0.2286, 0.2268, 0.2249, 0.2232, 0.2214, 0.2198, 0.2181, 0.2165, 0.2149, 0.2134, 0.2119, 0.2105, 0.2091, 0.2077, 0.2064, 0.2052, 0.204, 0.2028, 0.2017, 0.2007, 0.1997, 0.1987, 0.1978, 0.197, 0.1962, 0.1955, 0.1948, 0.1942, 0.1936, 0.1931, 0.1927, 0.1923, 0.192, 0.1917, 0.1915, 0.1914, 0.1913, 0.1913, 0.1913, 0.1914, 0.1916, 0.1918, 0.1921, 0.1924, 0.1928, 0.1933, 0.1938, 0.1944, 0.195, 0.1957, 0.1965, 0.1973, 0.1981, 0.199, 0.2, 0.201, 0.2021, 0.2032, 0.2044, 0.2056, 0.2069, 0.2082, 0.2096, 0.211, 0.2124, 0.2139, 0.2155, 0.2171, 0.2187, 0.2203, 0.2221, 0.2238, 0.2256, 0.2274, 0.2293, 0.2311, 0.2331, 0.235, 0.237, 0.239, 0.2411, 0.2432, 0.2453, 0.2474], \"xaxis\": \"x\", \"y\": [0.1829, 0.1831, 0.1833, 0.1835, 0.1837, 0.1839, 0.184, 0.1842, 0.1843, 0.1844, 0.1845, 0.1846, 0.1847, 0.1848, 0.1848, 0.1849, 0.1849, 0.1849, 0.1849, 0.1849, 0.1849, 0.1848, 0.1848, 0.1847, 0.1846, 0.1845, 0.1844, 0.1843, 0.1842, 0.184, 0.1838, 0.1837, 0.1835, 0.1833, 0.183, 0.1828, 0.1826, 0.1823, 0.182, 0.1817, 0.1814, 0.1811, 0.1808, 0.1805, 0.1801, 0.1797, 0.1794, 0.179, 0.1786, 0.1781, 0.1777, 0.1772, 0.1768, 0.1763, 0.1758, 0.1753, 0.1748, 0.1743, 0.1737, 0.1732, 0.1726, 0.172, 0.1714, 0.1708, 0.1702, 0.1696, 0.1689, 0.1683, 0.1676, 0.1669, 0.1662, 0.1655, 0.1648, 0.164, 0.1633, 0.1625, 0.1617, 0.161, 0.1602, 0.1593, 0.1585, 0.1577, 0.1568, 0.156, 0.1551, 0.1542, 0.1533, 0.1524, 0.1514, 0.1505, 0.1495, 0.1486, 0.1476, 0.1466, 0.1456, 0.1446, 0.1436, 0.1425, 0.1415, 0.1404], \"yaxis\": \"y\"}],                        {\"legend\": {\"tracegroupgap\": 0}, \"margin\": {\"t\": 60}, \"template\": {\"data\": {\"bar\": [{\"error_x\": {\"color\": \"#2a3f5f\"}, \"error_y\": {\"color\": \"#2a3f5f\"}, \"marker\": {\"line\": {\"color\": \"#E5ECF6\", \"width\": 0.5}}, \"type\": \"bar\"}], \"barpolar\": [{\"marker\": {\"line\": {\"color\": \"#E5ECF6\", \"width\": 0.5}}, \"type\": \"barpolar\"}], \"carpet\": [{\"aaxis\": {\"endlinecolor\": \"#2a3f5f\", \"gridcolor\": \"white\", \"linecolor\": \"white\", \"minorgridcolor\": \"white\", \"startlinecolor\": \"#2a3f5f\"}, \"baxis\": {\"endlinecolor\": \"#2a3f5f\", \"gridcolor\": \"white\", \"linecolor\": \"white\", \"minorgridcolor\": \"white\", \"startlinecolor\": \"#2a3f5f\"}, \"type\": \"carpet\"}], \"choropleth\": [{\"colorbar\": {\"outlinewidth\": 0, \"ticks\": \"\"}, \"type\": \"choropleth\"}], \"contour\": [{\"colorbar\": {\"outlinewidth\": 0, \"ticks\": \"\"}, \"colorscale\": [[0.0, \"#0d0887\"], [0.1111111111111111, \"#46039f\"], [0.2222222222222222, \"#7201a8\"], [0.3333333333333333, \"#9c179e\"], [0.4444444444444444, \"#bd3786\"], [0.5555555555555556, \"#d8576b\"], [0.6666666666666666, \"#ed7953\"], [0.7777777777777778, \"#fb9f3a\"], [0.8888888888888888, \"#fdca26\"], [1.0, \"#f0f921\"]], \"type\": \"contour\"}], \"contourcarpet\": [{\"colorbar\": {\"outlinewidth\": 0, \"ticks\": \"\"}, \"type\": \"contourcarpet\"}], \"heatmap\": [{\"colorbar\": {\"outlinewidth\": 0, \"ticks\": \"\"}, \"colorscale\": [[0.0, \"#0d0887\"], [0.1111111111111111, \"#46039f\"], [0.2222222222222222, \"#7201a8\"], [0.3333333333333333, \"#9c179e\"], [0.4444444444444444, \"#bd3786\"], [0.5555555555555556, \"#d8576b\"], [0.6666666666666666, \"#ed7953\"], [0.7777777777777778, \"#fb9f3a\"], [0.8888888888888888, \"#fdca26\"], [1.0, \"#f0f921\"]], \"type\": \"heatmap\"}], \"heatmapgl\": [{\"colorbar\": {\"outlinewidth\": 0, \"ticks\": \"\"}, \"colorscale\": [[0.0, \"#0d0887\"], [0.1111111111111111, \"#46039f\"], [0.2222222222222222, \"#7201a8\"], [0.3333333333333333, \"#9c179e\"], [0.4444444444444444, \"#bd3786\"], [0.5555555555555556, \"#d8576b\"], [0.6666666666666666, \"#ed7953\"], [0.7777777777777778, \"#fb9f3a\"], [0.8888888888888888, \"#fdca26\"], [1.0, \"#f0f921\"]], \"type\": \"heatmapgl\"}], \"histogram\": [{\"marker\": {\"colorbar\": {\"outlinewidth\": 0, \"ticks\": \"\"}}, \"type\": \"histogram\"}], \"histogram2d\": [{\"colorbar\": {\"outlinewidth\": 0, \"ticks\": \"\"}, \"colorscale\": [[0.0, \"#0d0887\"], [0.1111111111111111, \"#46039f\"], [0.2222222222222222, \"#7201a8\"], [0.3333333333333333, \"#9c179e\"], [0.4444444444444444, \"#bd3786\"], [0.5555555555555556, \"#d8576b\"], [0.6666666666666666, \"#ed7953\"], [0.7777777777777778, \"#fb9f3a\"], [0.8888888888888888, \"#fdca26\"], [1.0, \"#f0f921\"]], \"type\": \"histogram2d\"}], \"histogram2dcontour\": [{\"colorbar\": {\"outlinewidth\": 0, \"ticks\": \"\"}, \"colorscale\": [[0.0, \"#0d0887\"], [0.1111111111111111, \"#46039f\"], [0.2222222222222222, \"#7201a8\"], [0.3333333333333333, \"#9c179e\"], [0.4444444444444444, \"#bd3786\"], [0.5555555555555556, \"#d8576b\"], [0.6666666666666666, \"#ed7953\"], [0.7777777777777778, \"#fb9f3a\"], [0.8888888888888888, \"#fdca26\"], [1.0, \"#f0f921\"]], \"type\": \"histogram2dcontour\"}], \"mesh3d\": [{\"colorbar\": {\"outlinewidth\": 0, \"ticks\": \"\"}, \"type\": \"mesh3d\"}], \"parcoords\": [{\"line\": {\"colorbar\": {\"outlinewidth\": 0, \"ticks\": \"\"}}, \"type\": \"parcoords\"}], \"pie\": [{\"automargin\": true, \"type\": \"pie\"}], \"scatter\": [{\"marker\": {\"colorbar\": {\"outlinewidth\": 0, \"ticks\": \"\"}}, \"type\": \"scatter\"}], \"scatter3d\": [{\"line\": {\"colorbar\": {\"outlinewidth\": 0, \"ticks\": \"\"}}, \"marker\": {\"colorbar\": {\"outlinewidth\": 0, \"ticks\": \"\"}}, \"type\": \"scatter3d\"}], \"scattercarpet\": [{\"marker\": {\"colorbar\": {\"outlinewidth\": 0, \"ticks\": \"\"}}, \"type\": \"scattercarpet\"}], \"scattergeo\": [{\"marker\": {\"colorbar\": {\"outlinewidth\": 0, \"ticks\": \"\"}}, \"type\": \"scattergeo\"}], \"scattergl\": [{\"marker\": {\"colorbar\": {\"outlinewidth\": 0, \"ticks\": \"\"}}, \"type\": \"scattergl\"}], \"scattermapbox\": [{\"marker\": {\"colorbar\": {\"outlinewidth\": 0, \"ticks\": \"\"}}, \"type\": \"scattermapbox\"}], \"scatterpolar\": [{\"marker\": {\"colorbar\": {\"outlinewidth\": 0, \"ticks\": \"\"}}, \"type\": \"scatterpolar\"}], \"scatterpolargl\": [{\"marker\": {\"colorbar\": {\"outlinewidth\": 0, \"ticks\": \"\"}}, \"type\": \"scatterpolargl\"}], \"scatterternary\": [{\"marker\": {\"colorbar\": {\"outlinewidth\": 0, \"ticks\": \"\"}}, \"type\": \"scatterternary\"}], \"surface\": [{\"colorbar\": {\"outlinewidth\": 0, \"ticks\": \"\"}, \"colorscale\": [[0.0, \"#0d0887\"], [0.1111111111111111, \"#46039f\"], [0.2222222222222222, \"#7201a8\"], [0.3333333333333333, \"#9c179e\"], [0.4444444444444444, \"#bd3786\"], [0.5555555555555556, \"#d8576b\"], [0.6666666666666666, \"#ed7953\"], [0.7777777777777778, \"#fb9f3a\"], [0.8888888888888888, \"#fdca26\"], [1.0, \"#f0f921\"]], \"type\": \"surface\"}], \"table\": [{\"cells\": {\"fill\": {\"color\": \"#EBF0F8\"}, \"line\": {\"color\": \"white\"}}, \"header\": {\"fill\": {\"color\": \"#C8D4E3\"}, \"line\": {\"color\": \"white\"}}, \"type\": \"table\"}]}, \"layout\": {\"annotationdefaults\": {\"arrowcolor\": \"#2a3f5f\", \"arrowhead\": 0, \"arrowwidth\": 1}, \"autotypenumbers\": \"strict\", \"coloraxis\": {\"colorbar\": {\"outlinewidth\": 0, \"ticks\": \"\"}}, \"colorscale\": {\"diverging\": [[0, \"#8e0152\"], [0.1, \"#c51b7d\"], [0.2, \"#de77ae\"], [0.3, \"#f1b6da\"], [0.4, \"#fde0ef\"], [0.5, \"#f7f7f7\"], [0.6, \"#e6f5d0\"], [0.7, \"#b8e186\"], [0.8, \"#7fbc41\"], [0.9, \"#4d9221\"], [1, \"#276419\"]], \"sequential\": [[0.0, \"#0d0887\"], [0.1111111111111111, \"#46039f\"], [0.2222222222222222, \"#7201a8\"], [0.3333333333333333, \"#9c179e\"], [0.4444444444444444, \"#bd3786\"], [0.5555555555555556, \"#d8576b\"], [0.6666666666666666, \"#ed7953\"], [0.7777777777777778, \"#fb9f3a\"], [0.8888888888888888, \"#fdca26\"], [1.0, \"#f0f921\"]], \"sequentialminus\": [[0.0, \"#0d0887\"], [0.1111111111111111, \"#46039f\"], [0.2222222222222222, \"#7201a8\"], [0.3333333333333333, \"#9c179e\"], [0.4444444444444444, \"#bd3786\"], [0.5555555555555556, \"#d8576b\"], [0.6666666666666666, \"#ed7953\"], [0.7777777777777778, \"#fb9f3a\"], [0.8888888888888888, \"#fdca26\"], [1.0, \"#f0f921\"]]}, \"colorway\": [\"#636efa\", \"#EF553B\", \"#00cc96\", \"#ab63fa\", \"#FFA15A\", \"#19d3f3\", \"#FF6692\", \"#B6E880\", \"#FF97FF\", \"#FECB52\"], \"font\": {\"color\": \"#2a3f5f\"}, \"geo\": {\"bgcolor\": \"white\", \"lakecolor\": \"white\", \"landcolor\": \"#E5ECF6\", \"showlakes\": true, \"showland\": true, \"subunitcolor\": \"white\"}, \"hoverlabel\": {\"align\": \"left\"}, \"hovermode\": \"closest\", \"mapbox\": {\"style\": \"light\"}, \"paper_bgcolor\": \"white\", \"plot_bgcolor\": \"#E5ECF6\", \"polar\": {\"angularaxis\": {\"gridcolor\": \"white\", \"linecolor\": \"white\", \"ticks\": \"\"}, \"bgcolor\": \"#E5ECF6\", \"radialaxis\": {\"gridcolor\": \"white\", \"linecolor\": \"white\", \"ticks\": \"\"}}, \"scene\": {\"xaxis\": {\"backgroundcolor\": \"#E5ECF6\", \"gridcolor\": \"white\", \"gridwidth\": 2, \"linecolor\": \"white\", \"showbackground\": true, \"ticks\": \"\", \"zerolinecolor\": \"white\"}, \"yaxis\": {\"backgroundcolor\": \"#E5ECF6\", \"gridcolor\": \"white\", \"gridwidth\": 2, \"linecolor\": \"white\", \"showbackground\": true, \"ticks\": \"\", \"zerolinecolor\": \"white\"}, \"zaxis\": {\"backgroundcolor\": \"#E5ECF6\", \"gridcolor\": \"white\", \"gridwidth\": 2, \"linecolor\": \"white\", \"showbackground\": true, \"ticks\": \"\", \"zerolinecolor\": \"white\"}}, \"shapedefaults\": {\"line\": {\"color\": \"#2a3f5f\"}}, \"ternary\": {\"aaxis\": {\"gridcolor\": \"white\", \"linecolor\": \"white\", \"ticks\": \"\"}, \"baxis\": {\"gridcolor\": \"white\", \"linecolor\": \"white\", \"ticks\": \"\"}, \"bgcolor\": \"#E5ECF6\", \"caxis\": {\"gridcolor\": \"white\", \"linecolor\": \"white\", \"ticks\": \"\"}}, \"title\": {\"x\": 0.05}, \"xaxis\": {\"automargin\": true, \"gridcolor\": \"white\", \"linecolor\": \"white\", \"ticks\": \"\", \"title\": {\"standoff\": 15}, \"zerolinecolor\": \"white\", \"zerolinewidth\": 2}, \"yaxis\": {\"automargin\": true, \"gridcolor\": \"white\", \"linecolor\": \"white\", \"ticks\": \"\", \"title\": {\"standoff\": 15}, \"zerolinecolor\": \"white\", \"zerolinewidth\": 2}}}, \"xaxis\": {\"anchor\": \"y\", \"domain\": [0.0, 1.0], \"title\": {\"text\": \"Ann_Volatility\"}}, \"yaxis\": {\"anchor\": \"x\", \"domain\": [0.0, 1.0], \"title\": {\"text\": \"Ann_Returns\"}}},                        {\"responsive\": true}                    ).then(function(){\n",
       "                            \n",
       "var gd = document.getElementById('50054a33-ed3b-406f-8644-c6f4456a4cea');\n",
       "var x = new MutationObserver(function (mutations, observer) {{\n",
       "        var display = window.getComputedStyle(gd).display;\n",
       "        if (!display || display === 'none') {{\n",
       "            console.log([gd, 'removed!']);\n",
       "            Plotly.purge(gd);\n",
       "            observer.disconnect();\n",
       "        }}\n",
       "}});\n",
       "\n",
       "// Listen for the removal of the full notebook cells\n",
       "var notebookContainer = gd.closest('#notebook-container');\n",
       "if (notebookContainer) {{\n",
       "    x.observe(notebookContainer, {childList: true});\n",
       "}}\n",
       "\n",
       "// Listen for the clearing of the current output cell\n",
       "var outputEl = gd.closest('.output');\n",
       "if (outputEl) {{\n",
       "    x.observe(outputEl, {childList: true});\n",
       "}}\n",
       "\n",
       "                        })                };                });            </script>        </div>"
      ]
     },
     "metadata": {},
     "output_type": "display_data"
    }
   ],
   "source": [
    "import plotly.express as px\n",
    "fig = px.scatter(portfolios, x=\"Ann_Volatility\", y=\"Ann_Returns\", hover_data=[stk_1, stk_3])\n",
    "fig.show()"
   ]
  },
  {
   "cell_type": "markdown",
   "metadata": {},
   "source": [
    "##### Questions to ask:\n",
    "\n",
    "1. Did we lowered all the risk?\n",
    "2. What can we do to further reduce the risk?\n",
    "3. Can we reduce risk to 0?"
   ]
  },
  {
   "cell_type": "markdown",
   "metadata": {},
   "source": [
    "---"
   ]
  },
  {
   "cell_type": "markdown",
   "metadata": {},
   "source": [
    "# 4) Kelly Crieterion for Position Sizing"
   ]
  },
  {
   "cell_type": "markdown",
   "metadata": {},
   "source": [
    "You have \\\\$100 and you bet **\\\\$40** on a bet. Following is the bet outcome:\n",
    "\n",
    "- **Win Payout**: If you win, you get invested amount plus 10% of the invested amount.\n",
    "    - Final amount would be 100 + (40 \\* 0.1) = 104\n",
    "\n",
    "\n",
    "\n",
    "- **Loss Payout**: If you lose, you lose the 30% of the invested amount.\n",
    "    - Final amount would be 100 - (40 * 0.3) = 88\n",
    "    \n",
    "\n",
    "If you play this bet multiple times, *how much should you invest in each bet?*\n",
    "\n",
    "\n",
    "In trading analogy,\n",
    "\n",
    "- \\\\$100 = Initial Capital\n",
    "- \\\\$40 = Fraction of capital invested\n",
    "- Win Payout = Profit\n",
    "- Loss Payout = Loss\n",
    "- Bet = Trade\n",
    "\n",
    "---"
   ]
  },
  {
   "cell_type": "markdown",
   "metadata": {},
   "source": [
    "An investor begins with \\\\$1 and invests a fraction($k$) in an investment with two potential outcomes. \n",
    "\n",
    "- If the investment succeeds, it returns $B$ and the portfolio will be worth $1 + kB$. \n",
    "- If it fails, it loses $A$ and the portfolio will be worth $1 – kA$.\n",
    "\n",
    "The profit after $n$ trades would be \n",
    "\n",
    "$$P_n = (1 + kB)^{wn} * (1 - kA)^{(1-w)n}$$\n",
    "\n",
    "Where:\n",
    "\n",
    "$ A = $ Loss payout *(Average loss per trade)*\n",
    "\n",
    "$ B = $ Win payout *(Average profit per trade)*\n",
    "\n",
    "$ n = $ Number of trades\n",
    "\n",
    "$ w = $ Probability of winning *(# winning trades / total trades)*\n",
    "\n",
    "$ 1 - w = $ Probability of losing *(# losing trades / total trades)*\n",
    "\n",
    "-----\n",
    "Rearranging the above formula when $n$ tends to infinite, we get:\n",
    "\n",
    "$$ k = (w \\div A) - (1-w \\div B) $$\n",
    "\n",
    "Where:\n",
    "\n",
    "$ k = $ Fraction of wealth we want to invest"
   ]
  },
  {
   "cell_type": "code",
   "execution_count": 59,
   "metadata": {},
   "outputs": [],
   "source": [
    "initial_wealth = 1 \n",
    "\n",
    "# Define Payouts\n",
    "loss_payout = 0.5 # (A | Average loss per trade)\n",
    "win_payout = 0.9 # (B | Average profit per trade)\n",
    "\n",
    "# Define Probabilities (Sum of both probabilities should be equal to 1)\n",
    "win_prob = 0.6 # (w | # winning trades / total trades)\n",
    "loss_prob = 0.4 # 1 - win_prob (1-w | # losing trades / total trades)\n",
    "\n",
    "# Total trades\n",
    "n_trades = 100 # (n)"
   ]
  },
  {
   "cell_type": "code",
   "execution_count": 60,
   "metadata": {},
   "outputs": [
    {
     "name": "stdout",
     "output_type": "stream",
     "text": [
      "One should invest 0.76 fraction of wealth in each trade.\n"
     ]
    }
   ],
   "source": [
    "# Calculate fraction of wealth to be traded using Kelly Criterion\n",
    "k = (win_prob / loss_payout) - (loss_prob / win_payout)\n",
    "\n",
    "print(f'One should invest {round(k, 2)} fraction of wealth in each trade.')"
   ]
  },
  {
   "cell_type": "code",
   "execution_count": 61,
   "metadata": {},
   "outputs": [
    {
     "name": "stdout",
     "output_type": "stream",
     "text": [
      "The final wealth would be ~188963.362\n"
     ]
    }
   ],
   "source": [
    "# Calcuate wealth after 'n' trade\n",
    "p = (1 + k * win_payout) ** (win_prob * n_trades) * (1 - k * loss_payout) ** (loss_prob * n_trades)\n",
    "\n",
    "print(f'The final wealth would be ~{round(p, 3)}')"
   ]
  },
  {
   "cell_type": "code",
   "execution_count": 62,
   "metadata": {},
   "outputs": [],
   "source": [
    "# To Cross Verify\n",
    "# Generate wealth for various fractions\n",
    "fraction_list = np.arange(0, 1, 0.01)\n",
    "\n",
    "# Create empty list to store wealth for each fraction\n",
    "wealth = []"
   ]
  },
  {
   "cell_type": "code",
   "execution_count": 63,
   "metadata": {},
   "outputs": [
    {
     "data": {
      "text/plain": [
       "array([0.  , 0.01, 0.02, 0.03, 0.04, 0.05, 0.06, 0.07, 0.08, 0.09, 0.1 ,\n",
       "       0.11, 0.12, 0.13, 0.14, 0.15, 0.16, 0.17, 0.18, 0.19, 0.2 , 0.21,\n",
       "       0.22, 0.23, 0.24, 0.25, 0.26, 0.27, 0.28, 0.29, 0.3 , 0.31, 0.32,\n",
       "       0.33, 0.34, 0.35, 0.36, 0.37, 0.38, 0.39, 0.4 , 0.41, 0.42, 0.43,\n",
       "       0.44, 0.45, 0.46, 0.47, 0.48, 0.49, 0.5 , 0.51, 0.52, 0.53, 0.54,\n",
       "       0.55, 0.56, 0.57, 0.58, 0.59, 0.6 , 0.61, 0.62, 0.63, 0.64, 0.65,\n",
       "       0.66, 0.67, 0.68, 0.69, 0.7 , 0.71, 0.72, 0.73, 0.74, 0.75, 0.76,\n",
       "       0.77, 0.78, 0.79, 0.8 , 0.81, 0.82, 0.83, 0.84, 0.85, 0.86, 0.87,\n",
       "       0.88, 0.89, 0.9 , 0.91, 0.92, 0.93, 0.94, 0.95, 0.96, 0.97, 0.98,\n",
       "       0.99])"
      ]
     },
     "execution_count": 63,
     "metadata": {},
     "output_type": "execute_result"
    }
   ],
   "source": [
    "fraction_list"
   ]
  },
  {
   "cell_type": "code",
   "execution_count": 64,
   "metadata": {},
   "outputs": [
    {
     "name": "stdout",
     "output_type": "stream",
     "text": [
      "Computations completed!\n"
     ]
    }
   ],
   "source": [
    "# Iterate over each fraction value and compute wealth for it\n",
    "for k in fraction_list:\n",
    "    \n",
    "    # Calculate wealth\n",
    "    p = (1 + k * win_payout)**(win_prob * n_trades) * (1 - k * loss_payout)**(loss_prob * n_trades)\n",
    "    \n",
    "    # Append the wealth value to the list\n",
    "    wealth.append(p)\n",
    "else:\n",
    "    print('Computations completed!')"
   ]
  },
  {
   "cell_type": "code",
   "execution_count": 65,
   "metadata": {},
   "outputs": [
    {
     "data": {
      "image/png": "[encoded data removed]",
      "text/plain": [
       "<Figure size 720x432 with 1 Axes>"
      ]
     },
     "metadata": {},
     "output_type": "display_data"
    }
   ],
   "source": [
    "# Plot wealth for all fractions\n",
    "plt.figure(figsize=(10,6))\n",
    "plt.plot(fraction_list, wealth)\n",
    "plt.xlabel('Fraction of wealth')\n",
    "plt.ylabel('Wealth')\n",
    "plt.title('Kelly Criterion for Position Sizing')\n",
    "plt.grid()\n",
    "plt.show()"
   ]
  },
  {
   "cell_type": "markdown",
   "metadata": {},
   "source": [
    "# 5) Profitability Ratios"
   ]
  },
  {
   "cell_type": "markdown",
   "metadata": {},
   "source": [
    "#### a) Sharpe Ratio\n",
    "\n",
    "The Sharpe ratio is the excess return calculated as total returns less the risk-free rate of return per unit of volatility. Generally, risk-free return is the return on the risk-free assets such as government bonds. The excess returns are due to the 'extra risk' taken by the investor on investing in risky assets.\n",
    "\n",
    "It tells whether the returns on a portfolio are due to good investment decision or the result of excessive risk taken. Higher Sharpe ratio is always preferable over the lower ones.\n",
    "\n",
    "The Sharpe Ratio can be used to compare the portfolio with the benchmark to get to know how your portfolio is repaying for the risk taken on the investment.\n",
    "\n",
    "$$ Sharpe\\ Ratio\\ =\\ \\frac{R_p - R_f}{\\sigma_p} $$\n",
    "\n",
    "Where:\n",
    "\n",
    "$ R_p $ = Portfolio Returns\n",
    "\n",
    "$ R_f $ = Risk-free Returns\n",
    "\n",
    "$ \\sigma_p $ = Standard deviation of the portfolio returns"
   ]
  },
  {
   "cell_type": "code",
   "execution_count": 66,
   "metadata": {},
   "outputs": [
    {
     "name": "stdout",
     "output_type": "stream",
     "text": [
      "The Sharpe ratio is 0.65\n"
     ]
    }
   ],
   "source": [
    "risk_free_rate = 0.00 # Annualized\n",
    "\n",
    "# Calculate Sharpe Ratio\n",
    "daily_sharpe = (np.mean(stk_1_data['daily_returns']) - (risk_free_rate/252))/ np.std(stk_1_data['daily_returns'])\n",
    "\n",
    "# Calculate Annualized Sharpe Ratio\n",
    "ann_sharpe = daily_sharpe * np.sqrt(252)\n",
    "\n",
    "print(\"The Sharpe ratio is %.2f\" % ann_sharpe)"
   ]
  },
  {
   "cell_type": "code",
   "execution_count": null,
   "metadata": {},
   "outputs": [],
   "source": []
  },
  {
   "cell_type": "code",
   "execution_count": 67,
   "metadata": {},
   "outputs": [
    {
     "data": {
      "text/html": [
       "<div>\n",
       "<style scoped>\n",
       "    .dataframe tbody tr th:only-of-type {\n",
       "        vertical-align: middle;\n",
       "    }\n",
       "\n",
       "    .dataframe tbody tr th {\n",
       "        vertical-align: top;\n",
       "    }\n",
       "\n",
       "    .dataframe thead th {\n",
       "        text-align: right;\n",
       "    }\n",
       "</style>\n",
       "<table border=\"1\" class=\"dataframe\">\n",
       "  <thead>\n",
       "    <tr style=\"text-align: right;\">\n",
       "      <th></th>\n",
       "      <th>ann_returns</th>\n",
       "      <th>ann_volatility</th>\n",
       "    </tr>\n",
       "  </thead>\n",
       "  <tbody>\n",
       "    <tr>\n",
       "      <th>TCS</th>\n",
       "      <td>13.932</td>\n",
       "      <td>24.961</td>\n",
       "    </tr>\n",
       "    <tr>\n",
       "      <th>MARUTI</th>\n",
       "      <td>15.957</td>\n",
       "      <td>30.345</td>\n",
       "    </tr>\n",
       "    <tr>\n",
       "      <th>TCS_MARUTI</th>\n",
       "      <td>17</td>\n",
       "      <td>21.921</td>\n",
       "    </tr>\n",
       "    <tr>\n",
       "      <th>TCS_MARICO</th>\n",
       "      <td>17.77</td>\n",
       "      <td>19.154</td>\n",
       "    </tr>\n",
       "  </tbody>\n",
       "</table>\n",
       "</div>"
      ],
      "text/plain": [
       "           ann_returns ann_volatility\n",
       "TCS             13.932         24.961\n",
       "MARUTI          15.957         30.345\n",
       "TCS_MARUTI          17         21.921\n",
       "TCS_MARICO       17.77         19.154"
      ]
     },
     "execution_count": 67,
     "metadata": {},
     "output_type": "execute_result"
    }
   ],
   "source": [
    "comparison.head()"
   ]
  },
  {
   "cell_type": "code",
   "execution_count": 68,
   "metadata": {
    "scrolled": true
   },
   "outputs": [
    {
     "data": {
      "text/html": [
       "<table border=\"1\" class=\"dataframe\">\n",
       "  <thead>\n",
       "    <tr style=\"text-align: right;\"><th>Start date</th><td colspan=2>2015-01-02</td></tr>\n",
       "    <tr style=\"text-align: right;\"><th>End date</th><td colspan=2>2020-08-28</td></tr>\n",
       "    <tr style=\"text-align: right;\"><th>Total months</th><td colspan=2>66</td></tr>\n",
       "    <tr style=\"text-align: right;\">\n",
       "      <th></th>\n",
       "      <th>Backtest</th>\n",
       "    </tr>\n",
       "  </thead>\n",
       "  <tbody>\n",
       "    <tr>\n",
       "      <th>Annual return</th>\n",
       "      <td>13.9%</td>\n",
       "    </tr>\n",
       "    <tr>\n",
       "      <th>Cumulative returns</th>\n",
       "      <td>105.5%</td>\n",
       "    </tr>\n",
       "    <tr>\n",
       "      <th>Annual volatility</th>\n",
       "      <td>25.0%</td>\n",
       "    </tr>\n",
       "    <tr>\n",
       "      <th>Sharpe ratio</th>\n",
       "      <td>0.65</td>\n",
       "    </tr>\n",
       "    <tr>\n",
       "      <th>Calmar ratio</th>\n",
       "      <td>0.51</td>\n",
       "    </tr>\n",
       "    <tr>\n",
       "      <th>Stability</th>\n",
       "      <td>0.82</td>\n",
       "    </tr>\n",
       "    <tr>\n",
       "      <th>Max drawdown</th>\n",
       "      <td>-27.2%</td>\n",
       "    </tr>\n",
       "    <tr>\n",
       "      <th>Omega ratio</th>\n",
       "      <td>1.12</td>\n",
       "    </tr>\n",
       "    <tr>\n",
       "      <th>Sortino ratio</th>\n",
       "      <td>0.94</td>\n",
       "    </tr>\n",
       "    <tr>\n",
       "      <th>Skew</th>\n",
       "      <td>0.01</td>\n",
       "    </tr>\n",
       "    <tr>\n",
       "      <th>Kurtosis</th>\n",
       "      <td>3.87</td>\n",
       "    </tr>\n",
       "    <tr>\n",
       "      <th>Tail ratio</th>\n",
       "      <td>1.0</td>\n",
       "    </tr>\n",
       "    <tr>\n",
       "      <th>Daily value at risk</th>\n",
       "      <td>-3.1%</td>\n",
       "    </tr>\n",
       "  </tbody>\n",
       "</table>"
      ],
      "text/plain": [
       "<IPython.core.display.HTML object>"
      ]
     },
     "metadata": {},
     "output_type": "display_data"
    },
    {
     "data": {
      "image/png": "[encoded data removed]",
      "text/plain": [
       "<Figure size 1008x1728 with 3 Axes>"
      ]
     },
     "metadata": {},
     "output_type": "display_data"
    }
   ],
   "source": [
    "# Daily returns of stock 1\n",
    "pf.create_simple_tear_sheet(stk_1_data.daily_returns)"
   ]
  },
  {
   "cell_type": "code",
   "execution_count": 69,
   "metadata": {
    "scrolled": true
   },
   "outputs": [
    {
     "data": {
      "text/html": [
       "<table border=\"1\" class=\"dataframe\">\n",
       "  <thead>\n",
       "    <tr style=\"text-align: right;\"><th>Start date</th><td colspan=2>2015-01-02</td></tr>\n",
       "    <tr style=\"text-align: right;\"><th>End date</th><td colspan=2>2020-08-28</td></tr>\n",
       "    <tr style=\"text-align: right;\"><th>Total months</th><td colspan=2>66</td></tr>\n",
       "    <tr style=\"text-align: right;\">\n",
       "      <th></th>\n",
       "      <th>Backtest</th>\n",
       "    </tr>\n",
       "  </thead>\n",
       "  <tbody>\n",
       "    <tr>\n",
       "      <th>Annual return</th>\n",
       "      <td>17.8%</td>\n",
       "    </tr>\n",
       "    <tr>\n",
       "      <th>Cumulative returns</th>\n",
       "      <td>146.8%</td>\n",
       "    </tr>\n",
       "    <tr>\n",
       "      <th>Annual volatility</th>\n",
       "      <td>19.2%</td>\n",
       "    </tr>\n",
       "    <tr>\n",
       "      <th>Sharpe ratio</th>\n",
       "      <td>0.95</td>\n",
       "    </tr>\n",
       "    <tr>\n",
       "      <th>Calmar ratio</th>\n",
       "      <td>0.59</td>\n",
       "    </tr>\n",
       "    <tr>\n",
       "      <th>Stability</th>\n",
       "      <td>0.92</td>\n",
       "    </tr>\n",
       "    <tr>\n",
       "      <th>Max drawdown</th>\n",
       "      <td>-30.3%</td>\n",
       "    </tr>\n",
       "    <tr>\n",
       "      <th>Omega ratio</th>\n",
       "      <td>1.18</td>\n",
       "    </tr>\n",
       "    <tr>\n",
       "      <th>Sortino ratio</th>\n",
       "      <td>1.39</td>\n",
       "    </tr>\n",
       "    <tr>\n",
       "      <th>Skew</th>\n",
       "      <td>-0.15</td>\n",
       "    </tr>\n",
       "    <tr>\n",
       "      <th>Kurtosis</th>\n",
       "      <td>4.73</td>\n",
       "    </tr>\n",
       "    <tr>\n",
       "      <th>Tail ratio</th>\n",
       "      <td>1.09</td>\n",
       "    </tr>\n",
       "    <tr>\n",
       "      <th>Daily value at risk</th>\n",
       "      <td>-2.3%</td>\n",
       "    </tr>\n",
       "  </tbody>\n",
       "</table>"
      ],
      "text/plain": [
       "<IPython.core.display.HTML object>"
      ]
     },
     "metadata": {},
     "output_type": "display_data"
    },
    {
     "data": {
      "image/png": "[encoded data removed]",
      "text/plain": [
       "<Figure size 1008x1728 with 3 Axes>"
      ]
     },
     "metadata": {},
     "output_type": "display_data"
    }
   ],
   "source": [
    "# Tear sheet for Stock 1 and Stock 3\n",
    "pf.create_simple_tear_sheet(stk_1_3_daily_returns)"
   ]
  },
  {
   "cell_type": "markdown",
   "metadata": {},
   "source": [
    "#### b) Sortino Ratio\n",
    "In the Sortino ratio, the denominator of the Sharpe ratio, the total standard deviation is replaced with the downside deviation. The downside deviation is the standard deviation of negative asset return.\n",
    "\n",
    "It differentiates the harmful volatility from the total volatility by using the standard deviation of negative returns only. Since an investor is concerned only about the downside volatility, Sortino ratio is a good measure in comparing the highly volatile portfolios whereas the Sharpe ratio is better at analyzing portfolios with low volatility. The probability of large loss will be low if the value of the Sortino ratio is high.\n",
    "\n",
    "$$ Sortino\\ Ratio\\ =\\ \\frac{R_p - R_f}{\\sigma_d} $$\n",
    "\n",
    "Where:\n",
    "\n",
    "$ R_p $ = Portfolio Returns\n",
    "<br>$ R_f $ = Risk-free Returns\n",
    "<br>$ \\sigma_d $ = Standard deviation of the negative asset returns"
   ]
  },
  {
   "cell_type": "markdown",
   "metadata": {},
   "source": [
    "#### c) Treynor Ratio\n",
    "Treynor Ratio is the variation in the denominator of the Sharpe ratio by replacing the total standard deviation with the beta of the portfolio. It also highlights the risk-adjusted performance of the portfolio. Higher the Treynor ratio, more suitable the investment is. The ratio is based on historical returns data, it is not necessary it will replicate in the future. The higher ratio tells that investment is good but it does not quantify how much good the investment is.\n",
    "\n",
    "$$ Treynor\\ Ratio\\ =\\ \\frac{R_p - R_f}{\\beta_p} $$\n",
    "\n",
    "Where:\n",
    "\n",
    "$ R_p $ = Portfolio Returns\n",
    "<br>$ R_f $ = Risk-free Returns\n",
    "<br>$ \\beta_p $ = Portfolio's Beta"
   ]
  },
  {
   "cell_type": "markdown",
   "metadata": {},
   "source": [
    "# Resources\n",
    "\n",
    "- [Portfolio Management Of Multiple Strategies Using Python](https://blog.quantinsti.com/portfolio-management-strategy-python/)\n",
    "- [Portfolio Optimization Methods](https://blog.quantinsti.com/portfolio-optimization-methods/)\n",
    "- [Portfolio Analysis: Performance Measurement And Evaluation](https://blog.quantinsti.com/portfolio-analysis-performance-measurement-evaluation/)\n",
    "- [Calculating The Covariance Matrix And Portfolio Variance](https://blog.quantinsti.com/calculating-covariance-matrix-portfolio-variance/)\n",
    "- [Optimal Portfolio Construction Using Machine Learning](https://blog.quantinsti.com/optimal-portfolio-construction-machine-learning/)\n",
    "- [Sharpe Ratio: Calculation, Application, Limitations](https://blog.quantinsti.com/sharpe-ratio-applications-algorithmic-trading/)\n",
    "- [Volatility And Measures Of Risk-Adjusted Return With Python](https://blog.quantinsti.com/volatility-and-measures-of-risk-adjusted-return-based-on-volatility/)\n",
    "---"
   ]
  }
 ],
 "metadata": {
  "kernelspec": {
   "display_name": "Python [conda env:epat] *",
   "language": "python",
   "name": "conda-env-epat-py"
  },
  "language_info": {
   "codemirror_mode": {
    "name": "ipython",
    "version": 3
   },
   "file_extension": ".py",
   "mimetype": "text/x-python",
   "name": "python",
   "nbconvert_exporter": "python",
   "pygments_lexer": "ipython3",
   "version": "3.8.8"
  }
 },
 "nbformat": 4,
 "nbformat_minor": 4
}
