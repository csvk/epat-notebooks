{
 "cells": [
  {
   "cell_type": "markdown",
   "metadata": {},
   "source": [
    "### ARIMA Models\n",
    "\n",
    "##### Explain the characteristics of AR and MA model. In other words, how do you choose the orders of AR and MA models in ARIMA?\n",
    "\n",
    "An AR Model (Autoregressive) is a Time Series Model depends linearly on an observation and some number of lagged observations. It uses the past forecasts to predict future values.\n",
    "\n",
    "An MA Model (Moving-average) is a Time Series Model that depends on an observation and a residual error from a moving average model applied to the lagged observations. It uses the errors from past forecasts to predict future values.\n",
    "The ARIMA Model is an integrated Autoregressive and Moving Average Model. The integration involves differencing the observations from previous steps in order to make the Time Series stationary. The ordering in ARIMA involves the following parameters where p is the order of AR and q is the order of MA: \n",
    "\n",
    "- p: The number of lag observations included in the model, also called the lag order.\n",
    "- d: The number of times that the raw observations are differenced, also called the degree of differencing.\n",
    "- q: The size of the moving average window, also called the order of moving average.\n",
    "\n",
    "If 0 is used for any of the parameters, that step is not used. Use the Auto-Correlation function (ACF)\n",
    "and Partial Auto-Correlation function (PACF) to find p and q.\n",
    "\n",
    "##### What is the difference between correlation and autocorrelation?\n",
    "\n",
    "Correlation is the relationship and measurement of how different variables fluctuate together. Auto-Correlation is the relationship and measurement of the fluctuations of one variable.\n",
    "\n",
    "##### What does a p-value of less than 0.05 in ADF test indicate?\n",
    "\n",
    "A p-value < 0.05 in ADF test indicates that we are 95% confident that we can reject the assumption that the Time Series is non-stationary. For a pair of instruments, this test would be performed on the regression residuals indicating that there is no co-integration since they fluctuate in difference resembling a non-stationary relationship. For a single instrument, a lag of the time series is used to determine if it is stationary or non-stationary which is following a trend where the differences are closer to 0.\n",
    "\n",
    "##### What are the limitations of ARIMA?\n",
    "\n",
    "The limitations of the ARIMA model is that there is no automatic update feature and the model needs to validated and possibly modified as new data becomes available. The model can also become unstable where the results can be missing or non-unique based on nonlinear estimation techniques. For the model to work fairly well, a larger consistent data set is required and data costs are usually high."
   ]
  },
  {
   "cell_type": "markdown",
   "metadata": {},
   "source": [
    "### Explain the advantages of each of the following over the other given mid-price calculations  \n",
    "\n",
    "##### (bid + ask) / 2\n",
    "\n",
    "The above formula computes the arithmetic mean. It is relatively simple and fast to calculate. It does not account into trade size at during the computation and assumes the same weight for all volume sizes.\n",
    "\n",
    "##### (bid * bid_volume + ask * ask_volume) / (bid_volume + ask_volume)\n",
    "\n",
    "The above formula computes the volume weighted mean and it takes volume size into an account while computation. Higher volume has a higher influence of the mean price. \n",
    "\n",
    "##### (bid * ask_volume + ask * bid_volume) / (bid_volume + ask_volume)\n",
    "\n",
    "It is appropriate for situations when the average of rates is desired. The harmonic mean can be expressed as the reciprocal of the arithmetic mean of the reciprocals of the given set of observation. It considers the volume of the opposite side. Higher volume of the opposite side has a higher influence on the mid-price. \n"
   ]
  }
 ],
 "metadata": {
  "kernelspec": {
   "display_name": "Python 3",
   "language": "python",
   "name": "python3"
  },
  "language_info": {
   "codemirror_mode": {
    "name": "ipython",
    "version": 3
   },
   "file_extension": ".py",
   "mimetype": "text/x-python",
   "name": "python",
   "nbconvert_exporter": "python",
   "pygments_lexer": "ipython3",
   "version": "3.8.8"
  },
  "varInspector": {
   "cols": {
    "lenName": 16,
    "lenType": 16,
    "lenVar": 40
   },
   "kernels_config": {
    "python": {
     "delete_cmd_postfix": "",
     "delete_cmd_prefix": "del ",
     "library": "var_list.py",
     "varRefreshCmd": "print(var_dic_list())"
    },
    "r": {
     "delete_cmd_postfix": ") ",
     "delete_cmd_prefix": "rm(",
     "library": "var_list.r",
     "varRefreshCmd": "cat(var_dic_list()) "
    }
   },
   "types_to_exclude": [
    "module",
    "function",
    "builtin_function_or_method",
    "instance",
    "_Feature"
   ],
   "window_display": false
  }
 },
 "nbformat": 4,
 "nbformat_minor": 4
}
