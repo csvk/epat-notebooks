{
 "cells": [
  {
   "cell_type": "markdown",
   "metadata": {},
   "source": [
    "## Q1: Write a customized function to calculate the factorial of a number. Do not use any inbuilt functions. Create your own."
   ]
  },
  {
   "cell_type": "markdown",
   "metadata": {},
   "source": [
    "<div class=\"alert alert-info\">Function to calculate the factorial of a number using recursion</div>"
   ]
  },
  {
   "cell_type": "code",
   "execution_count": 1,
   "metadata": {},
   "outputs": [],
   "source": [
    "def factorial(n):\n",
    "    '''\n",
    "    Calculate factorial of a number\n",
    "    :param n: input number\n",
    "    :return: n! or factorial of n\n",
    "    '''\n",
    "    return n * factorial(n-1) if n > 0 else 1"
   ]
  },
  {
   "cell_type": "code",
   "execution_count": 2,
   "metadata": {},
   "outputs": [
    {
     "data": {
      "text/plain": [
       "(1, 1, 2, 6, 24, 120)"
      ]
     },
     "execution_count": 2,
     "metadata": {},
     "output_type": "execute_result"
    }
   ],
   "source": [
    "factorial(0), factorial(1), factorial(2), factorial(3), factorial(4), factorial(5)"
   ]
  },
  {
   "cell_type": "markdown",
   "metadata": {},
   "source": [
    "## Q2: Write a Python program which iterates through a sequence of 50 randomly generated integers between 100 and 200, and derive two different series/arrays/lists from it, one which contains even multiples of 3 and the other which contains odd multiples of 5."
   ]
  },
  {
   "cell_type": "code",
   "execution_count": 3,
   "metadata": {},
   "outputs": [
    {
     "name": "stdout",
     "output_type": "stream",
     "text": [
      "Random number list:  [173 178 102 161 180 156 124 112 107 194 168 109 137 157 152 118 148 113\n",
      " 131 118 118 164 127 131 132 195 160 196 110 117 131 105 191 188 192 122\n",
      " 119 143 144 157 110 156 187 146 179 184 167 165 107 104]\n",
      "Even multiples of 3:  [102, 180, 156, 168, 132, 192, 144, 156]\n",
      "Odd multiples of 5:  [195, 105, 165]\n"
     ]
    }
   ],
   "source": [
    "import numpy as np\n",
    "\n",
    "# Initialize random numbers\n",
    "rand_ints = np.random.randint(low=100, high=200, size=50)\n",
    "\n",
    "# Initialize two empty lists to hold even multiples of 3 & odd multiples of 5 respectively\n",
    "even_3, odd_5 = list(), list()\n",
    "\n",
    "for val in rand_ints:\n",
    "    # checking for even multiples of 3 by checking if the number is divisible by 3 * 2 = 6\n",
    "    if (val % 6) == 0: \n",
    "        even_3.append(val)\n",
    "    # checking for odd multiples of 5 by checking if number is divisible by 5 but the quotient is odd\n",
    "    if (val % 5) == 0 and (val / 5) % 2 == 1:\n",
    "        odd_5.append(val)\n",
    "\n",
    "print(\"Random number list: \", rand_ints)\n",
    "print(\"Even multiples of 3: \", even_3)\n",
    "print(\"Odd multiples of 5: \", odd_5)"
   ]
  },
  {
   "cell_type": "markdown",
   "metadata": {},
   "source": [
    "## Q3: Write a Python program to generate a sequence of 1000 numbers drawn from a standard uniform distribution and plot it on a chart. Compute its mean. Use the np.where clause to create a sequence of only numbers greater than 0.75 from the list. Plot a chart of those numbers. Check how many such numbers exist. Is it on expected lines? Comment. Please use np.random.seed(1234) at the beginning of your code. "
   ]
  },
  {
   "cell_type": "code",
   "execution_count": 4,
   "metadata": {},
   "outputs": [
    {
     "data": {
      "text/plain": [
       "array([0.19151945, 0.62210877, 0.43772774, 0.78535858, 0.77997581,\n",
       "       0.27259261, 0.27646426, 0.80187218, 0.95813935, 0.87593263])"
      ]
     },
     "execution_count": 4,
     "metadata": {},
     "output_type": "execute_result"
    }
   ],
   "source": [
    "np.random.seed(1234)\n",
    "\n",
    "# Generate a sequence of 1000 numbers from a standard uniform distribution\n",
    "rand_numbers = np.random.uniform(size=1000) # Default low=0, high=1\n",
    "rand_numbers[:10] # Display the first 10 numbers"
   ]
  },
  {
   "cell_type": "code",
   "execution_count": 5,
   "metadata": {},
   "outputs": [
    {
     "data": {
      "image/png": "[encoded data removed]",
      "text/plain": [
       "<Figure size 432x288 with 1 Axes>"
      ]
     },
     "metadata": {
      "needs_background": "light"
     },
     "output_type": "display_data"
    }
   ],
   "source": [
    "import matplotlib.pyplot as plt\n",
    "import seaborn as sns\n",
    "sns.histplot(rand_numbers, kde=True) # Used histplot as distplot is being deprecated. It provides similar functionality\n",
    "plt.show()"
   ]
  },
  {
   "cell_type": "code",
   "execution_count": 6,
   "metadata": {},
   "outputs": [
    {
     "data": {
      "text/plain": [
       "0.5088046726054151"
      ]
     },
     "execution_count": 6,
     "metadata": {},
     "output_type": "execute_result"
    }
   ],
   "source": [
    "rand_numbers.mean() # Display the mean of the sequence"
   ]
  },
  {
   "cell_type": "code",
   "execution_count": 7,
   "metadata": {},
   "outputs": [
    {
     "data": {
      "text/plain": [
       "array([0.78535858, 0.77997581, 0.80187218, 0.95813935, 0.87593263,\n",
       "       0.77282662, 0.88264119, 0.9331401 , 0.78873014, 0.86912739])"
      ]
     },
     "execution_count": 7,
     "metadata": {},
     "output_type": "execute_result"
    }
   ],
   "source": [
    "rand_numbers_GT_0_75 = rand_numbers[np.where(rand_numbers > 0.75)] # Filtering for numbers > 0.75 using np.where\n",
    "rand_numbers_GT_0_75[:10] # Display the first 10 numbers"
   ]
  },
  {
   "cell_type": "code",
   "execution_count": 8,
   "metadata": {},
   "outputs": [
    {
     "data": {
      "image/png": "[encoded data removed]",
      "text/plain": [
       "<Figure size 432x288 with 1 Axes>"
      ]
     },
     "metadata": {
      "needs_background": "light"
     },
     "output_type": "display_data"
    }
   ],
   "source": [
    "sns.histplot(rand_numbers_GT_0_75, kde=True) # Used sns.histplot as distplot is being deprecated. It provides similar functionality\n",
    "plt.show()"
   ]
  },
  {
   "cell_type": "code",
   "execution_count": 9,
   "metadata": {},
   "outputs": [
    {
     "name": "stdout",
     "output_type": "stream",
     "text": [
      "Count of numbers greater than 0.75:  267\n"
     ]
    }
   ],
   "source": [
    "print(\"Count of numbers greater than 0.75: \", len(rand_numbers_GT_0_75))"
   ]
  },
  {
   "cell_type": "markdown",
   "metadata": {},
   "source": [
    "<div class=\"alert alert-info\"><strong>267</strong> is close to 25% of 1000 numbers i.e., 250 which is expected in a standard uniform distribution of 1000 numbers ranging between 0 and 1 and filtered for values above 0.75.</div>"
   ]
  },
  {
   "cell_type": "markdown",
   "metadata": {},
   "source": [
    "## Q4: Download the TCS.NS.csv file and read it into your Python environment."
   ]
  },
  {
   "cell_type": "code",
   "execution_count": 10,
   "metadata": {},
   "outputs": [
    {
     "data": {
      "text/html": [
       "<div>\n",
       "<style scoped>\n",
       "    .dataframe tbody tr th:only-of-type {\n",
       "        vertical-align: middle;\n",
       "    }\n",
       "\n",
       "    .dataframe tbody tr th {\n",
       "        vertical-align: top;\n",
       "    }\n",
       "\n",
       "    .dataframe thead th {\n",
       "        text-align: right;\n",
       "    }\n",
       "</style>\n",
       "<table border=\"1\" class=\"dataframe\">\n",
       "  <thead>\n",
       "    <tr style=\"text-align: right;\">\n",
       "      <th></th>\n",
       "      <th>Open</th>\n",
       "      <th>High</th>\n",
       "      <th>Low</th>\n",
       "      <th>Close</th>\n",
       "      <th>Adj Close</th>\n",
       "      <th>Volume</th>\n",
       "      <th>Direction</th>\n",
       "    </tr>\n",
       "    <tr>\n",
       "      <th>Date</th>\n",
       "      <th></th>\n",
       "      <th></th>\n",
       "      <th></th>\n",
       "      <th></th>\n",
       "      <th></th>\n",
       "      <th></th>\n",
       "      <th></th>\n",
       "    </tr>\n",
       "  </thead>\n",
       "  <tbody>\n",
       "    <tr>\n",
       "      <th>2015-11-18</th>\n",
       "      <td>1194.449951</td>\n",
       "      <td>1194.449951</td>\n",
       "      <td>1173.000000</td>\n",
       "      <td>1175.719971</td>\n",
       "      <td>1038.072876</td>\n",
       "      <td>1520352.0</td>\n",
       "      <td>NaN</td>\n",
       "    </tr>\n",
       "    <tr>\n",
       "      <th>2015-11-19</th>\n",
       "      <td>1182.680054</td>\n",
       "      <td>1190.800049</td>\n",
       "      <td>1176.000000</td>\n",
       "      <td>1181.280029</td>\n",
       "      <td>1042.982178</td>\n",
       "      <td>1866906.0</td>\n",
       "      <td>UP</td>\n",
       "    </tr>\n",
       "    <tr>\n",
       "      <th>2015-11-20</th>\n",
       "      <td>1183.250000</td>\n",
       "      <td>1211.780029</td>\n",
       "      <td>1180.969971</td>\n",
       "      <td>1199.180054</td>\n",
       "      <td>1058.786377</td>\n",
       "      <td>2012126.0</td>\n",
       "      <td>UP</td>\n",
       "    </tr>\n",
       "    <tr>\n",
       "      <th>2015-11-23</th>\n",
       "      <td>1202.650024</td>\n",
       "      <td>1206.699951</td>\n",
       "      <td>1191.119995</td>\n",
       "      <td>1195.530029</td>\n",
       "      <td>1055.563843</td>\n",
       "      <td>1088082.0</td>\n",
       "      <td>DOWN</td>\n",
       "    </tr>\n",
       "    <tr>\n",
       "      <th>2015-11-24</th>\n",
       "      <td>1190.030029</td>\n",
       "      <td>1196.219971</td>\n",
       "      <td>1182.750000</td>\n",
       "      <td>1183.969971</td>\n",
       "      <td>1045.357300</td>\n",
       "      <td>998640.0</td>\n",
       "      <td>DOWN</td>\n",
       "    </tr>\n",
       "  </tbody>\n",
       "</table>\n",
       "</div>"
      ],
      "text/plain": [
       "                   Open         High          Low        Close    Adj Close  \\\n",
       "Date                                                                          \n",
       "2015-11-18  1194.449951  1194.449951  1173.000000  1175.719971  1038.072876   \n",
       "2015-11-19  1182.680054  1190.800049  1176.000000  1181.280029  1042.982178   \n",
       "2015-11-20  1183.250000  1211.780029  1180.969971  1199.180054  1058.786377   \n",
       "2015-11-23  1202.650024  1206.699951  1191.119995  1195.530029  1055.563843   \n",
       "2015-11-24  1190.030029  1196.219971  1182.750000  1183.969971  1045.357300   \n",
       "\n",
       "               Volume Direction  \n",
       "Date                             \n",
       "2015-11-18  1520352.0       NaN  \n",
       "2015-11-19  1866906.0        UP  \n",
       "2015-11-20  2012126.0        UP  \n",
       "2015-11-23  1088082.0      DOWN  \n",
       "2015-11-24   998640.0      DOWN  "
      ]
     },
     "execution_count": 10,
     "metadata": {},
     "output_type": "execute_result"
    }
   ],
   "source": [
    "import pandas as pd\n",
    "\n",
    "df = pd.read_csv('TCS.NS.csv', index_col='Date', parse_dates=True, dayfirst=True)\n",
    "df.head()"
   ]
  },
  {
   "cell_type": "markdown",
   "metadata": {},
   "source": [
    "### (i)\tWhich method/function of pandas displays the number of rows and columns? Use it to show the number of rows and columns for the data."
   ]
  },
  {
   "cell_type": "code",
   "execution_count": 11,
   "metadata": {},
   "outputs": [
    {
     "name": "stdout",
     "output_type": "stream",
     "text": [
      "Number of rows:  1233\n",
      "Number of columns:  7\n"
     ]
    }
   ],
   "source": [
    "# Using pd.shape to show number of rows & columns in dataframe\n",
    "rows, columns = df.shape\n",
    "print(\"Number of rows: \", rows)\n",
    "print(\"Number of columns: \", columns)"
   ]
  },
  {
   "cell_type": "markdown",
   "metadata": {},
   "source": [
    "### (ii)\tUse an appropriate method/function of pandas library to get the summary statistics of the data-frame."
   ]
  },
  {
   "cell_type": "code",
   "execution_count": 12,
   "metadata": {},
   "outputs": [
    {
     "data": {
      "text/html": [
       "<div>\n",
       "<style scoped>\n",
       "    .dataframe tbody tr th:only-of-type {\n",
       "        vertical-align: middle;\n",
       "    }\n",
       "\n",
       "    .dataframe tbody tr th {\n",
       "        vertical-align: top;\n",
       "    }\n",
       "\n",
       "    .dataframe thead th {\n",
       "        text-align: right;\n",
       "    }\n",
       "</style>\n",
       "<table border=\"1\" class=\"dataframe\">\n",
       "  <thead>\n",
       "    <tr style=\"text-align: right;\">\n",
       "      <th></th>\n",
       "      <th>Open</th>\n",
       "      <th>High</th>\n",
       "      <th>Low</th>\n",
       "      <th>Close</th>\n",
       "      <th>Adj Close</th>\n",
       "      <th>Volume</th>\n",
       "    </tr>\n",
       "  </thead>\n",
       "  <tbody>\n",
       "    <tr>\n",
       "      <th>count</th>\n",
       "      <td>1232.000000</td>\n",
       "      <td>1232.000000</td>\n",
       "      <td>1232.000000</td>\n",
       "      <td>1232.000000</td>\n",
       "      <td>1232.000000</td>\n",
       "      <td>1.232000e+03</td>\n",
       "    </tr>\n",
       "    <tr>\n",
       "      <th>mean</th>\n",
       "      <td>1680.703853</td>\n",
       "      <td>1699.143420</td>\n",
       "      <td>1661.340014</td>\n",
       "      <td>1680.169433</td>\n",
       "      <td>1596.081657</td>\n",
       "      <td>2.952526e+06</td>\n",
       "    </tr>\n",
       "    <tr>\n",
       "      <th>std</th>\n",
       "      <td>450.385365</td>\n",
       "      <td>455.585301</td>\n",
       "      <td>443.915935</td>\n",
       "      <td>449.195147</td>\n",
       "      <td>473.528538</td>\n",
       "      <td>3.098947e+06</td>\n",
       "    </tr>\n",
       "    <tr>\n",
       "      <th>min</th>\n",
       "      <td>1058.449951</td>\n",
       "      <td>1070.000000</td>\n",
       "      <td>1025.949951</td>\n",
       "      <td>1050.569946</td>\n",
       "      <td>961.705505</td>\n",
       "      <td>8.682200e+04</td>\n",
       "    </tr>\n",
       "    <tr>\n",
       "      <th>25%</th>\n",
       "      <td>1239.987488</td>\n",
       "      <td>1249.792481</td>\n",
       "      <td>1228.042450</td>\n",
       "      <td>1239.037537</td>\n",
       "      <td>1133.208801</td>\n",
       "      <td>1.720676e+06</td>\n",
       "    </tr>\n",
       "    <tr>\n",
       "      <th>50%</th>\n",
       "      <td>1725.484985</td>\n",
       "      <td>1750.950012</td>\n",
       "      <td>1703.500000</td>\n",
       "      <td>1725.684998</td>\n",
       "      <td>1635.434509</td>\n",
       "      <td>2.415503e+06</td>\n",
       "    </tr>\n",
       "    <tr>\n",
       "      <th>75%</th>\n",
       "      <td>2077.325012</td>\n",
       "      <td>2096.250000</td>\n",
       "      <td>2052.674988</td>\n",
       "      <td>2075.712525</td>\n",
       "      <td>2008.763794</td>\n",
       "      <td>3.418828e+06</td>\n",
       "    </tr>\n",
       "    <tr>\n",
       "      <th>max</th>\n",
       "      <td>2845.000000</td>\n",
       "      <td>2885.000000</td>\n",
       "      <td>2812.199951</td>\n",
       "      <td>2830.000000</td>\n",
       "      <td>2817.985352</td>\n",
       "      <td>8.806715e+07</td>\n",
       "    </tr>\n",
       "  </tbody>\n",
       "</table>\n",
       "</div>"
      ],
      "text/plain": [
       "              Open         High          Low        Close    Adj Close  \\\n",
       "count  1232.000000  1232.000000  1232.000000  1232.000000  1232.000000   \n",
       "mean   1680.703853  1699.143420  1661.340014  1680.169433  1596.081657   \n",
       "std     450.385365   455.585301   443.915935   449.195147   473.528538   \n",
       "min    1058.449951  1070.000000  1025.949951  1050.569946   961.705505   \n",
       "25%    1239.987488  1249.792481  1228.042450  1239.037537  1133.208801   \n",
       "50%    1725.484985  1750.950012  1703.500000  1725.684998  1635.434509   \n",
       "75%    2077.325012  2096.250000  2052.674988  2075.712525  2008.763794   \n",
       "max    2845.000000  2885.000000  2812.199951  2830.000000  2817.985352   \n",
       "\n",
       "             Volume  \n",
       "count  1.232000e+03  \n",
       "mean   2.952526e+06  \n",
       "std    3.098947e+06  \n",
       "min    8.682200e+04  \n",
       "25%    1.720676e+06  \n",
       "50%    2.415503e+06  \n",
       "75%    3.418828e+06  \n",
       "max    8.806715e+07  "
      ]
     },
     "execution_count": 12,
     "metadata": {},
     "output_type": "execute_result"
    }
   ],
   "source": [
    "# Using pd.DataFrame.describe() to display summary statistics for numeric columns\n",
    "df.describe()"
   ]
  },
  {
   "cell_type": "code",
   "execution_count": 13,
   "metadata": {},
   "outputs": [
    {
     "data": {
      "text/plain": [
       "UP      643\n",
       "DOWN    589\n",
       "Name: Direction, dtype: int64"
      ]
     },
     "execution_count": 13,
     "metadata": {},
     "output_type": "execute_result"
    }
   ],
   "source": [
    "# Using pandas.DataFrame.value_counts() to display frequency distribution of categorical variable 'Direction'\n",
    "df.Direction.value_counts()"
   ]
  },
  {
   "cell_type": "markdown",
   "metadata": {},
   "source": [
    "### (iii)\tWhat was the highest price reached by the TCS stock during this period?"
   ]
  },
  {
   "cell_type": "code",
   "execution_count": 14,
   "metadata": {},
   "outputs": [
    {
     "name": "stdout",
     "output_type": "stream",
     "text": [
      "Highest price reached by TCS stock: 2885.0\n"
     ]
    }
   ],
   "source": [
    "print(\"Highest price reached by TCS stock:\", np.max(df.High))"
   ]
  },
  {
   "cell_type": "markdown",
   "metadata": {},
   "source": [
    "## Q5: For the TCS.NS data downloaded for Q4,"
   ]
  },
  {
   "cell_type": "markdown",
   "metadata": {},
   "source": [
    "### (i)\tFetch all the data from October 2017 using the .loc[] and save it in a new DataFrame called ‘df1’. 'From df1, display only the rows for which the value in the ‘Direction’ column is ‘UP’."
   ]
  },
  {
   "cell_type": "code",
   "execution_count": 15,
   "metadata": {},
   "outputs": [
    {
     "data": {
      "text/html": [
       "<div>\n",
       "<style scoped>\n",
       "    .dataframe tbody tr th:only-of-type {\n",
       "        vertical-align: middle;\n",
       "    }\n",
       "\n",
       "    .dataframe tbody tr th {\n",
       "        vertical-align: top;\n",
       "    }\n",
       "\n",
       "    .dataframe thead th {\n",
       "        text-align: right;\n",
       "    }\n",
       "</style>\n",
       "<table border=\"1\" class=\"dataframe\">\n",
       "  <thead>\n",
       "    <tr style=\"text-align: right;\">\n",
       "      <th></th>\n",
       "      <th>Open</th>\n",
       "      <th>High</th>\n",
       "      <th>Low</th>\n",
       "      <th>Close</th>\n",
       "      <th>Adj Close</th>\n",
       "      <th>Volume</th>\n",
       "      <th>Direction</th>\n",
       "    </tr>\n",
       "    <tr>\n",
       "      <th>Date</th>\n",
       "      <th></th>\n",
       "      <th></th>\n",
       "      <th></th>\n",
       "      <th></th>\n",
       "      <th></th>\n",
       "      <th></th>\n",
       "      <th></th>\n",
       "    </tr>\n",
       "  </thead>\n",
       "  <tbody>\n",
       "    <tr>\n",
       "      <th>2017-10-03</th>\n",
       "      <td>1220.000000</td>\n",
       "      <td>1227.150024</td>\n",
       "      <td>1213.530029</td>\n",
       "      <td>1224.219971</td>\n",
       "      <td>1142.890991</td>\n",
       "      <td>1923006.0</td>\n",
       "      <td>UP</td>\n",
       "    </tr>\n",
       "    <tr>\n",
       "      <th>2017-10-04</th>\n",
       "      <td>1224.800049</td>\n",
       "      <td>1227.000000</td>\n",
       "      <td>1212.500000</td>\n",
       "      <td>1221.150024</td>\n",
       "      <td>1140.024658</td>\n",
       "      <td>1300778.0</td>\n",
       "      <td>DOWN</td>\n",
       "    </tr>\n",
       "    <tr>\n",
       "      <th>2017-10-05</th>\n",
       "      <td>1220.500000</td>\n",
       "      <td>1221.719971</td>\n",
       "      <td>1212.199951</td>\n",
       "      <td>1214.800049</td>\n",
       "      <td>1134.096680</td>\n",
       "      <td>1684686.0</td>\n",
       "      <td>DOWN</td>\n",
       "    </tr>\n",
       "    <tr>\n",
       "      <th>2017-10-06</th>\n",
       "      <td>1215.000000</td>\n",
       "      <td>1227.500000</td>\n",
       "      <td>1214.030029</td>\n",
       "      <td>1223.319946</td>\n",
       "      <td>1142.050537</td>\n",
       "      <td>1389188.0</td>\n",
       "      <td>UP</td>\n",
       "    </tr>\n",
       "    <tr>\n",
       "      <th>2017-10-09</th>\n",
       "      <td>1220.530029</td>\n",
       "      <td>1233.969971</td>\n",
       "      <td>1220.530029</td>\n",
       "      <td>1227.050049</td>\n",
       "      <td>1145.532959</td>\n",
       "      <td>1773616.0</td>\n",
       "      <td>UP</td>\n",
       "    </tr>\n",
       "  </tbody>\n",
       "</table>\n",
       "</div>"
      ],
      "text/plain": [
       "                   Open         High          Low        Close    Adj Close  \\\n",
       "Date                                                                          \n",
       "2017-10-03  1220.000000  1227.150024  1213.530029  1224.219971  1142.890991   \n",
       "2017-10-04  1224.800049  1227.000000  1212.500000  1221.150024  1140.024658   \n",
       "2017-10-05  1220.500000  1221.719971  1212.199951  1214.800049  1134.096680   \n",
       "2017-10-06  1215.000000  1227.500000  1214.030029  1223.319946  1142.050537   \n",
       "2017-10-09  1220.530029  1233.969971  1220.530029  1227.050049  1145.532959   \n",
       "\n",
       "               Volume Direction  \n",
       "Date                             \n",
       "2017-10-03  1923006.0        UP  \n",
       "2017-10-04  1300778.0      DOWN  \n",
       "2017-10-05  1684686.0      DOWN  \n",
       "2017-10-06  1389188.0        UP  \n",
       "2017-10-09  1773616.0        UP  "
      ]
     },
     "execution_count": 15,
     "metadata": {},
     "output_type": "execute_result"
    }
   ],
   "source": [
    "df1 = df.loc['2017-10-01':].copy() # Filter dates from October 2017\n",
    "df1.head()"
   ]
  },
  {
   "cell_type": "code",
   "execution_count": 16,
   "metadata": {},
   "outputs": [
    {
     "data": {
      "text/html": [
       "<div>\n",
       "<style scoped>\n",
       "    .dataframe tbody tr th:only-of-type {\n",
       "        vertical-align: middle;\n",
       "    }\n",
       "\n",
       "    .dataframe tbody tr th {\n",
       "        vertical-align: top;\n",
       "    }\n",
       "\n",
       "    .dataframe thead th {\n",
       "        text-align: right;\n",
       "    }\n",
       "</style>\n",
       "<table border=\"1\" class=\"dataframe\">\n",
       "  <thead>\n",
       "    <tr style=\"text-align: right;\">\n",
       "      <th></th>\n",
       "      <th>Open</th>\n",
       "      <th>High</th>\n",
       "      <th>Low</th>\n",
       "      <th>Close</th>\n",
       "      <th>Adj Close</th>\n",
       "      <th>Volume</th>\n",
       "      <th>Direction</th>\n",
       "    </tr>\n",
       "    <tr>\n",
       "      <th>Date</th>\n",
       "      <th></th>\n",
       "      <th></th>\n",
       "      <th></th>\n",
       "      <th></th>\n",
       "      <th></th>\n",
       "      <th></th>\n",
       "      <th></th>\n",
       "    </tr>\n",
       "  </thead>\n",
       "  <tbody>\n",
       "    <tr>\n",
       "      <th>2017-10-03</th>\n",
       "      <td>1220.000000</td>\n",
       "      <td>1227.150024</td>\n",
       "      <td>1213.530029</td>\n",
       "      <td>1224.219971</td>\n",
       "      <td>1142.890991</td>\n",
       "      <td>1923006.0</td>\n",
       "      <td>UP</td>\n",
       "    </tr>\n",
       "    <tr>\n",
       "      <th>2017-10-06</th>\n",
       "      <td>1215.000000</td>\n",
       "      <td>1227.500000</td>\n",
       "      <td>1214.030029</td>\n",
       "      <td>1223.319946</td>\n",
       "      <td>1142.050537</td>\n",
       "      <td>1389188.0</td>\n",
       "      <td>UP</td>\n",
       "    </tr>\n",
       "    <tr>\n",
       "      <th>2017-10-09</th>\n",
       "      <td>1220.530029</td>\n",
       "      <td>1233.969971</td>\n",
       "      <td>1220.530029</td>\n",
       "      <td>1227.050049</td>\n",
       "      <td>1145.532959</td>\n",
       "      <td>1773616.0</td>\n",
       "      <td>UP</td>\n",
       "    </tr>\n",
       "    <tr>\n",
       "      <th>2017-10-10</th>\n",
       "      <td>1227.500000</td>\n",
       "      <td>1234.969971</td>\n",
       "      <td>1225.619995</td>\n",
       "      <td>1229.619995</td>\n",
       "      <td>1147.931763</td>\n",
       "      <td>1222010.0</td>\n",
       "      <td>UP</td>\n",
       "    </tr>\n",
       "    <tr>\n",
       "      <th>2017-10-11</th>\n",
       "      <td>1230.000000</td>\n",
       "      <td>1257.219971</td>\n",
       "      <td>1228.380005</td>\n",
       "      <td>1250.180054</td>\n",
       "      <td>1167.126343</td>\n",
       "      <td>1527746.0</td>\n",
       "      <td>UP</td>\n",
       "    </tr>\n",
       "    <tr>\n",
       "      <th>...</th>\n",
       "      <td>...</td>\n",
       "      <td>...</td>\n",
       "      <td>...</td>\n",
       "      <td>...</td>\n",
       "      <td>...</td>\n",
       "      <td>...</td>\n",
       "      <td>...</td>\n",
       "    </tr>\n",
       "    <tr>\n",
       "      <th>2020-11-05</th>\n",
       "      <td>2685.000000</td>\n",
       "      <td>2710.000000</td>\n",
       "      <td>2667.000000</td>\n",
       "      <td>2685.699951</td>\n",
       "      <td>2685.699951</td>\n",
       "      <td>2816502.0</td>\n",
       "      <td>UP</td>\n",
       "    </tr>\n",
       "    <tr>\n",
       "      <th>2020-11-06</th>\n",
       "      <td>2699.000000</td>\n",
       "      <td>2713.250000</td>\n",
       "      <td>2681.300049</td>\n",
       "      <td>2707.449951</td>\n",
       "      <td>2707.449951</td>\n",
       "      <td>3884421.0</td>\n",
       "      <td>UP</td>\n",
       "    </tr>\n",
       "    <tr>\n",
       "      <th>2020-11-09</th>\n",
       "      <td>2731.100098</td>\n",
       "      <td>2744.000000</td>\n",
       "      <td>2695.100098</td>\n",
       "      <td>2726.600098</td>\n",
       "      <td>2726.600098</td>\n",
       "      <td>3646592.0</td>\n",
       "      <td>UP</td>\n",
       "    </tr>\n",
       "    <tr>\n",
       "      <th>2020-11-11</th>\n",
       "      <td>2667.949951</td>\n",
       "      <td>2692.800049</td>\n",
       "      <td>2643.399902</td>\n",
       "      <td>2687.800049</td>\n",
       "      <td>2687.800049</td>\n",
       "      <td>3242441.0</td>\n",
       "      <td>UP</td>\n",
       "    </tr>\n",
       "    <tr>\n",
       "      <th>2020-11-17</th>\n",
       "      <td>2695.000000</td>\n",
       "      <td>2695.000000</td>\n",
       "      <td>2650.050049</td>\n",
       "      <td>2666.050049</td>\n",
       "      <td>2666.050049</td>\n",
       "      <td>2827273.0</td>\n",
       "      <td>UP</td>\n",
       "    </tr>\n",
       "  </tbody>\n",
       "</table>\n",
       "<p>409 rows × 7 columns</p>\n",
       "</div>"
      ],
      "text/plain": [
       "                   Open         High          Low        Close    Adj Close  \\\n",
       "Date                                                                          \n",
       "2017-10-03  1220.000000  1227.150024  1213.530029  1224.219971  1142.890991   \n",
       "2017-10-06  1215.000000  1227.500000  1214.030029  1223.319946  1142.050537   \n",
       "2017-10-09  1220.530029  1233.969971  1220.530029  1227.050049  1145.532959   \n",
       "2017-10-10  1227.500000  1234.969971  1225.619995  1229.619995  1147.931763   \n",
       "2017-10-11  1230.000000  1257.219971  1228.380005  1250.180054  1167.126343   \n",
       "...                 ...          ...          ...          ...          ...   \n",
       "2020-11-05  2685.000000  2710.000000  2667.000000  2685.699951  2685.699951   \n",
       "2020-11-06  2699.000000  2713.250000  2681.300049  2707.449951  2707.449951   \n",
       "2020-11-09  2731.100098  2744.000000  2695.100098  2726.600098  2726.600098   \n",
       "2020-11-11  2667.949951  2692.800049  2643.399902  2687.800049  2687.800049   \n",
       "2020-11-17  2695.000000  2695.000000  2650.050049  2666.050049  2666.050049   \n",
       "\n",
       "               Volume Direction  \n",
       "Date                             \n",
       "2017-10-03  1923006.0        UP  \n",
       "2017-10-06  1389188.0        UP  \n",
       "2017-10-09  1773616.0        UP  \n",
       "2017-10-10  1222010.0        UP  \n",
       "2017-10-11  1527746.0        UP  \n",
       "...               ...       ...  \n",
       "2020-11-05  2816502.0        UP  \n",
       "2020-11-06  3884421.0        UP  \n",
       "2020-11-09  3646592.0        UP  \n",
       "2020-11-11  3242441.0        UP  \n",
       "2020-11-17  2827273.0        UP  \n",
       "\n",
       "[409 rows x 7 columns]"
      ]
     },
     "execution_count": 16,
     "metadata": {},
     "output_type": "execute_result"
    }
   ],
   "source": [
    "df1[df1.Direction == 'UP'] # Display rows with Direction = UP"
   ]
  },
  {
   "cell_type": "markdown",
   "metadata": {},
   "source": [
    "### (ii)\tAdd a new column to ‘df1’ containing the daily range (Close - Open) using a vectorized operation. "
   ]
  },
  {
   "cell_type": "code",
   "execution_count": 17,
   "metadata": {},
   "outputs": [
    {
     "data": {
      "text/html": [
       "<div>\n",
       "<style scoped>\n",
       "    .dataframe tbody tr th:only-of-type {\n",
       "        vertical-align: middle;\n",
       "    }\n",
       "\n",
       "    .dataframe tbody tr th {\n",
       "        vertical-align: top;\n",
       "    }\n",
       "\n",
       "    .dataframe thead th {\n",
       "        text-align: right;\n",
       "    }\n",
       "</style>\n",
       "<table border=\"1\" class=\"dataframe\">\n",
       "  <thead>\n",
       "    <tr style=\"text-align: right;\">\n",
       "      <th></th>\n",
       "      <th>Open</th>\n",
       "      <th>High</th>\n",
       "      <th>Low</th>\n",
       "      <th>Close</th>\n",
       "      <th>Adj Close</th>\n",
       "      <th>Volume</th>\n",
       "      <th>Direction</th>\n",
       "      <th>DailyRange</th>\n",
       "    </tr>\n",
       "    <tr>\n",
       "      <th>Date</th>\n",
       "      <th></th>\n",
       "      <th></th>\n",
       "      <th></th>\n",
       "      <th></th>\n",
       "      <th></th>\n",
       "      <th></th>\n",
       "      <th></th>\n",
       "      <th></th>\n",
       "    </tr>\n",
       "  </thead>\n",
       "  <tbody>\n",
       "    <tr>\n",
       "      <th>2017-10-03</th>\n",
       "      <td>1220.000000</td>\n",
       "      <td>1227.150024</td>\n",
       "      <td>1213.530029</td>\n",
       "      <td>1224.219971</td>\n",
       "      <td>1142.890991</td>\n",
       "      <td>1923006.0</td>\n",
       "      <td>UP</td>\n",
       "      <td>4.219971</td>\n",
       "    </tr>\n",
       "    <tr>\n",
       "      <th>2017-10-04</th>\n",
       "      <td>1224.800049</td>\n",
       "      <td>1227.000000</td>\n",
       "      <td>1212.500000</td>\n",
       "      <td>1221.150024</td>\n",
       "      <td>1140.024658</td>\n",
       "      <td>1300778.0</td>\n",
       "      <td>DOWN</td>\n",
       "      <td>-3.650025</td>\n",
       "    </tr>\n",
       "    <tr>\n",
       "      <th>2017-10-05</th>\n",
       "      <td>1220.500000</td>\n",
       "      <td>1221.719971</td>\n",
       "      <td>1212.199951</td>\n",
       "      <td>1214.800049</td>\n",
       "      <td>1134.096680</td>\n",
       "      <td>1684686.0</td>\n",
       "      <td>DOWN</td>\n",
       "      <td>-5.699951</td>\n",
       "    </tr>\n",
       "    <tr>\n",
       "      <th>2017-10-06</th>\n",
       "      <td>1215.000000</td>\n",
       "      <td>1227.500000</td>\n",
       "      <td>1214.030029</td>\n",
       "      <td>1223.319946</td>\n",
       "      <td>1142.050537</td>\n",
       "      <td>1389188.0</td>\n",
       "      <td>UP</td>\n",
       "      <td>8.319946</td>\n",
       "    </tr>\n",
       "    <tr>\n",
       "      <th>2017-10-09</th>\n",
       "      <td>1220.530029</td>\n",
       "      <td>1233.969971</td>\n",
       "      <td>1220.530029</td>\n",
       "      <td>1227.050049</td>\n",
       "      <td>1145.532959</td>\n",
       "      <td>1773616.0</td>\n",
       "      <td>UP</td>\n",
       "      <td>6.520020</td>\n",
       "    </tr>\n",
       "  </tbody>\n",
       "</table>\n",
       "</div>"
      ],
      "text/plain": [
       "                   Open         High          Low        Close    Adj Close  \\\n",
       "Date                                                                          \n",
       "2017-10-03  1220.000000  1227.150024  1213.530029  1224.219971  1142.890991   \n",
       "2017-10-04  1224.800049  1227.000000  1212.500000  1221.150024  1140.024658   \n",
       "2017-10-05  1220.500000  1221.719971  1212.199951  1214.800049  1134.096680   \n",
       "2017-10-06  1215.000000  1227.500000  1214.030029  1223.319946  1142.050537   \n",
       "2017-10-09  1220.530029  1233.969971  1220.530029  1227.050049  1145.532959   \n",
       "\n",
       "               Volume Direction  DailyRange  \n",
       "Date                                         \n",
       "2017-10-03  1923006.0        UP    4.219971  \n",
       "2017-10-04  1300778.0      DOWN   -3.650025  \n",
       "2017-10-05  1684686.0      DOWN   -5.699951  \n",
       "2017-10-06  1389188.0        UP    8.319946  \n",
       "2017-10-09  1773616.0        UP    6.520020  "
      ]
     },
     "execution_count": 17,
     "metadata": {},
     "output_type": "execute_result"
    }
   ],
   "source": [
    "df1['DailyRange'] = df1.Close - df1.Open # Calculate daily range\n",
    "df1.head()"
   ]
  },
  {
   "cell_type": "markdown",
   "metadata": {},
   "source": [
    "### (iii)\tAdd another column to ‘df1’ containing the 3-day moving average of the Adj Close prices."
   ]
  },
  {
   "cell_type": "code",
   "execution_count": 18,
   "metadata": {},
   "outputs": [
    {
     "data": {
      "text/html": [
       "<div>\n",
       "<style scoped>\n",
       "    .dataframe tbody tr th:only-of-type {\n",
       "        vertical-align: middle;\n",
       "    }\n",
       "\n",
       "    .dataframe tbody tr th {\n",
       "        vertical-align: top;\n",
       "    }\n",
       "\n",
       "    .dataframe thead th {\n",
       "        text-align: right;\n",
       "    }\n",
       "</style>\n",
       "<table border=\"1\" class=\"dataframe\">\n",
       "  <thead>\n",
       "    <tr style=\"text-align: right;\">\n",
       "      <th></th>\n",
       "      <th>Open</th>\n",
       "      <th>High</th>\n",
       "      <th>Low</th>\n",
       "      <th>Close</th>\n",
       "      <th>Adj Close</th>\n",
       "      <th>Volume</th>\n",
       "      <th>Direction</th>\n",
       "      <th>DailyRange</th>\n",
       "      <th>AdjCloseMA_3</th>\n",
       "    </tr>\n",
       "    <tr>\n",
       "      <th>Date</th>\n",
       "      <th></th>\n",
       "      <th></th>\n",
       "      <th></th>\n",
       "      <th></th>\n",
       "      <th></th>\n",
       "      <th></th>\n",
       "      <th></th>\n",
       "      <th></th>\n",
       "      <th></th>\n",
       "    </tr>\n",
       "  </thead>\n",
       "  <tbody>\n",
       "    <tr>\n",
       "      <th>2017-10-03</th>\n",
       "      <td>1220.000000</td>\n",
       "      <td>1227.150024</td>\n",
       "      <td>1213.530029</td>\n",
       "      <td>1224.219971</td>\n",
       "      <td>1142.890991</td>\n",
       "      <td>1923006.0</td>\n",
       "      <td>UP</td>\n",
       "      <td>4.219971</td>\n",
       "      <td>NaN</td>\n",
       "    </tr>\n",
       "    <tr>\n",
       "      <th>2017-10-04</th>\n",
       "      <td>1224.800049</td>\n",
       "      <td>1227.000000</td>\n",
       "      <td>1212.500000</td>\n",
       "      <td>1221.150024</td>\n",
       "      <td>1140.024658</td>\n",
       "      <td>1300778.0</td>\n",
       "      <td>DOWN</td>\n",
       "      <td>-3.650025</td>\n",
       "      <td>NaN</td>\n",
       "    </tr>\n",
       "    <tr>\n",
       "      <th>2017-10-05</th>\n",
       "      <td>1220.500000</td>\n",
       "      <td>1221.719971</td>\n",
       "      <td>1212.199951</td>\n",
       "      <td>1214.800049</td>\n",
       "      <td>1134.096680</td>\n",
       "      <td>1684686.0</td>\n",
       "      <td>DOWN</td>\n",
       "      <td>-5.699951</td>\n",
       "      <td>1139.004110</td>\n",
       "    </tr>\n",
       "    <tr>\n",
       "      <th>2017-10-06</th>\n",
       "      <td>1215.000000</td>\n",
       "      <td>1227.500000</td>\n",
       "      <td>1214.030029</td>\n",
       "      <td>1223.319946</td>\n",
       "      <td>1142.050537</td>\n",
       "      <td>1389188.0</td>\n",
       "      <td>UP</td>\n",
       "      <td>8.319946</td>\n",
       "      <td>1138.723958</td>\n",
       "    </tr>\n",
       "    <tr>\n",
       "      <th>2017-10-09</th>\n",
       "      <td>1220.530029</td>\n",
       "      <td>1233.969971</td>\n",
       "      <td>1220.530029</td>\n",
       "      <td>1227.050049</td>\n",
       "      <td>1145.532959</td>\n",
       "      <td>1773616.0</td>\n",
       "      <td>UP</td>\n",
       "      <td>6.520020</td>\n",
       "      <td>1140.560059</td>\n",
       "    </tr>\n",
       "  </tbody>\n",
       "</table>\n",
       "</div>"
      ],
      "text/plain": [
       "                   Open         High          Low        Close    Adj Close  \\\n",
       "Date                                                                          \n",
       "2017-10-03  1220.000000  1227.150024  1213.530029  1224.219971  1142.890991   \n",
       "2017-10-04  1224.800049  1227.000000  1212.500000  1221.150024  1140.024658   \n",
       "2017-10-05  1220.500000  1221.719971  1212.199951  1214.800049  1134.096680   \n",
       "2017-10-06  1215.000000  1227.500000  1214.030029  1223.319946  1142.050537   \n",
       "2017-10-09  1220.530029  1233.969971  1220.530029  1227.050049  1145.532959   \n",
       "\n",
       "               Volume Direction  DailyRange  AdjCloseMA_3  \n",
       "Date                                                       \n",
       "2017-10-03  1923006.0        UP    4.219971           NaN  \n",
       "2017-10-04  1300778.0      DOWN   -3.650025           NaN  \n",
       "2017-10-05  1684686.0      DOWN   -5.699951   1139.004110  \n",
       "2017-10-06  1389188.0        UP    8.319946   1138.723958  \n",
       "2017-10-09  1773616.0        UP    6.520020   1140.560059  "
      ]
     },
     "execution_count": 18,
     "metadata": {},
     "output_type": "execute_result"
    }
   ],
   "source": [
    "df1['AdjCloseMA_3'] = df1['Adj Close'].rolling(window=3).mean() # Calculating 3-day moving average of Adj Close\n",
    "df1.head()"
   ]
  },
  {
   "cell_type": "markdown",
   "metadata": {},
   "source": [
    "### (iv)\tUse the appropriate method to delete all the rows containing NaN values from ‘df1’."
   ]
  },
  {
   "cell_type": "code",
   "execution_count": 19,
   "metadata": {},
   "outputs": [
    {
     "data": {
      "text/html": [
       "<div>\n",
       "<style scoped>\n",
       "    .dataframe tbody tr th:only-of-type {\n",
       "        vertical-align: middle;\n",
       "    }\n",
       "\n",
       "    .dataframe tbody tr th {\n",
       "        vertical-align: top;\n",
       "    }\n",
       "\n",
       "    .dataframe thead th {\n",
       "        text-align: right;\n",
       "    }\n",
       "</style>\n",
       "<table border=\"1\" class=\"dataframe\">\n",
       "  <thead>\n",
       "    <tr style=\"text-align: right;\">\n",
       "      <th></th>\n",
       "      <th>Open</th>\n",
       "      <th>High</th>\n",
       "      <th>Low</th>\n",
       "      <th>Close</th>\n",
       "      <th>Adj Close</th>\n",
       "      <th>Volume</th>\n",
       "      <th>Direction</th>\n",
       "      <th>DailyRange</th>\n",
       "      <th>AdjCloseMA_3</th>\n",
       "    </tr>\n",
       "    <tr>\n",
       "      <th>Date</th>\n",
       "      <th></th>\n",
       "      <th></th>\n",
       "      <th></th>\n",
       "      <th></th>\n",
       "      <th></th>\n",
       "      <th></th>\n",
       "      <th></th>\n",
       "      <th></th>\n",
       "      <th></th>\n",
       "    </tr>\n",
       "  </thead>\n",
       "  <tbody>\n",
       "    <tr>\n",
       "      <th>2017-10-05</th>\n",
       "      <td>1220.500000</td>\n",
       "      <td>1221.719971</td>\n",
       "      <td>1212.199951</td>\n",
       "      <td>1214.800049</td>\n",
       "      <td>1134.096680</td>\n",
       "      <td>1684686.0</td>\n",
       "      <td>DOWN</td>\n",
       "      <td>-5.699951</td>\n",
       "      <td>1139.004110</td>\n",
       "    </tr>\n",
       "    <tr>\n",
       "      <th>2017-10-06</th>\n",
       "      <td>1215.000000</td>\n",
       "      <td>1227.500000</td>\n",
       "      <td>1214.030029</td>\n",
       "      <td>1223.319946</td>\n",
       "      <td>1142.050537</td>\n",
       "      <td>1389188.0</td>\n",
       "      <td>UP</td>\n",
       "      <td>8.319946</td>\n",
       "      <td>1138.723958</td>\n",
       "    </tr>\n",
       "    <tr>\n",
       "      <th>2017-10-09</th>\n",
       "      <td>1220.530029</td>\n",
       "      <td>1233.969971</td>\n",
       "      <td>1220.530029</td>\n",
       "      <td>1227.050049</td>\n",
       "      <td>1145.532959</td>\n",
       "      <td>1773616.0</td>\n",
       "      <td>UP</td>\n",
       "      <td>6.520020</td>\n",
       "      <td>1140.560059</td>\n",
       "    </tr>\n",
       "    <tr>\n",
       "      <th>2017-10-10</th>\n",
       "      <td>1227.500000</td>\n",
       "      <td>1234.969971</td>\n",
       "      <td>1225.619995</td>\n",
       "      <td>1229.619995</td>\n",
       "      <td>1147.931763</td>\n",
       "      <td>1222010.0</td>\n",
       "      <td>UP</td>\n",
       "      <td>2.119995</td>\n",
       "      <td>1145.171753</td>\n",
       "    </tr>\n",
       "    <tr>\n",
       "      <th>2017-10-11</th>\n",
       "      <td>1230.000000</td>\n",
       "      <td>1257.219971</td>\n",
       "      <td>1228.380005</td>\n",
       "      <td>1250.180054</td>\n",
       "      <td>1167.126343</td>\n",
       "      <td>1527746.0</td>\n",
       "      <td>UP</td>\n",
       "      <td>20.180054</td>\n",
       "      <td>1153.530355</td>\n",
       "    </tr>\n",
       "  </tbody>\n",
       "</table>\n",
       "</div>"
      ],
      "text/plain": [
       "                   Open         High          Low        Close    Adj Close  \\\n",
       "Date                                                                          \n",
       "2017-10-05  1220.500000  1221.719971  1212.199951  1214.800049  1134.096680   \n",
       "2017-10-06  1215.000000  1227.500000  1214.030029  1223.319946  1142.050537   \n",
       "2017-10-09  1220.530029  1233.969971  1220.530029  1227.050049  1145.532959   \n",
       "2017-10-10  1227.500000  1234.969971  1225.619995  1229.619995  1147.931763   \n",
       "2017-10-11  1230.000000  1257.219971  1228.380005  1250.180054  1167.126343   \n",
       "\n",
       "               Volume Direction  DailyRange  AdjCloseMA_3  \n",
       "Date                                                       \n",
       "2017-10-05  1684686.0      DOWN   -5.699951   1139.004110  \n",
       "2017-10-06  1389188.0        UP    8.319946   1138.723958  \n",
       "2017-10-09  1773616.0        UP    6.520020   1140.560059  \n",
       "2017-10-10  1222010.0        UP    2.119995   1145.171753  \n",
       "2017-10-11  1527746.0        UP   20.180054   1153.530355  "
      ]
     },
     "execution_count": 19,
     "metadata": {},
     "output_type": "execute_result"
    }
   ],
   "source": [
    "df1 = df1.dropna() # Drop all rows containg NaN values\n",
    "df1.head()"
   ]
  }
 ],
 "metadata": {
  "kernelspec": {
   "display_name": "Python 3",
   "language": "python",
   "name": "python3"
  },
  "language_info": {
   "codemirror_mode": {
    "name": "ipython",
    "version": 3
   },
   "file_extension": ".py",
   "mimetype": "text/x-python",
   "name": "python",
   "nbconvert_exporter": "python",
   "pygments_lexer": "ipython3",
   "version": "3.8.5"
  }
 },
 "nbformat": 4,
 "nbformat_minor": 4
}
