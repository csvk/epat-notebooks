{
 "cells": [
  {
   "cell_type": "markdown",
   "metadata": {},
   "source": [
    "# Basics of Python Programming(PBQ-01)\n",
    "#### Notebook Created on: 30 Mar 2020\n",
    "##### Last Update: 9 Feb 2021\n",
    "##### Author: Vivek Krishnamoorthy\n"
   ]
  },
  {
   "cell_type": "markdown",
   "metadata": {},
   "source": [
    "Welcome! <br>This is a fast-paced introduction to the Python programming language mostly by the use of examples.  \n",
    "\n",
    "<div class=\"alert alert-info\"><strong>Note:</strong> Please ensure that you have spent a non-trivial amount of time going through the <strong>Python Primer</strong> (especially for those of you who have no programming background) before attending this lecture (or going through its recording). \n",
    "<br> To get acquainted with the Jupyter Notebook interface, pay special attention to Section 10. I would also strongly urge you to read through and play with this file for 1-2 hours before the lecture.</div>\n",
    "\n",
    "*You can then extract a higher utility from the lecture. If you're a newbie to programming, do not worry. You CAN do this. Yes, it's going to be a little challenging. Yes, you'll need to put in the extra yards. But I assure you, it's very realizable.*"
   ]
  },
  {
   "cell_type": "markdown",
   "metadata": {},
   "source": [
    "### Today's Agenda\n",
    "\n",
    "- A brief intro to Python (slides)\n",
    "- Getting familiar with Jupyter Notebooks\n",
    "- A Sample Program\n",
    "- Python as a calculator\n",
    "- The `print()` method\n",
    "- Noteworthy Points (# 1)\n",
    "- Native data structures\n",
    "- `NumPy` teaser\n",
    "- Side note: `matplotlib`\n",
    "- Generating trading signals based on volumes traded\n",
    "- Noteworthy Points (# 2)\n",
    "- `pandas` teaser\n",
    "- Loops & Conditional Statements\n",
    "    - A trading rule to decide when to buy and sell\n",
    "- List Comprehensions\n",
    "- Functions"
   ]
  },
  {
   "cell_type": "markdown",
   "metadata": {},
   "source": [
    "### Frequently Used Keyboard Shortcuts in Jupyter Notebook\n",
    "\n",
    "***Everything suggested below can be done using point-and-click with a mouse and without any keystrokes. If you find this too tedious, please ignore on your first reading. You may want to revisit this later.***\n",
    "\n",
    "A Jupyter Notebook, at its core, is a collection of cells. The cell is simply the 'box' that we write in. We work with **two** types of cells: `Code` and `Markdown`. \n",
    "\n",
    "- We use the `Code` cell to write in Python.\n",
    "- We use the `Markdown` cell to write explanations. *Markdown* is a language in itself. Fortunately, we won't learn it separately. We'll discover it as we spend more time with Notebooks. \n",
    "- **Optional**: [Here](https://github.com/adam-p/markdown-here/wiki/Markdown-Cheatsheet) is a *Markdown* cheatsheet. Please check it out on your own time at leisure.\n",
    "\n",
    "A Jupyter Notebook operates in two modes, and each mode has its own set of key bindings.\n",
    "Here's a truncated list of shortcut keys which I use the most.\n",
    "\n",
    "#### Edit Mode\n",
    "\n",
    "Here, you can type into any cell. You can enter this mode by pressing the *Enter* key or double-clicking the mouse when you hover over the cell.\n",
    "\n",
    "- Run a cell and go to the next cell in Edit Mode: *Shift* + *Enter*\n",
    "- Run a cell and stay in the same cell in Edit Mode: *Ctrl* + *Enter*\n",
    "\n",
    "\n",
    "#### Command Mode\n",
    "\n",
    "In this mode, you can scroll through the whole Notebook without stepping into any cell. By default, you are in this mode. If not, you can enter into it by pressing the *Esc* key. In Command mode, you can carry out commonly performed notebook and cell actions efficiently. Sample this.\n",
    "\n",
    "- Navigation: Up and Down arrow keys to view different cells in the Notebook. Use *Page Up* and *Page Down* to scroll pagewise.\n",
    "- Create a cell above the current one: *a*\n",
    "- Create a cell below the current one: *b*\n",
    "- Delete a cell: *d* (press twice) \n",
    "- Change cell type to Code: *y*\n",
    "- Change cell type to Markdown: *m*\n",
    "- Interrupt the kernel: *i* (press twice)\n",
    "- Restart the kernel: *0* (press twice)"
   ]
  },
  {
   "cell_type": "markdown",
   "metadata": {},
   "source": [
    "Jupyter Notebook is one of the many ways that you can interface with Python and its scientific libraries. It provides a browser-based environment wherein you have the option to create a **single document** with Python code, its output, explanations, mathematical expressions, etc. As a matter of preference, I use [Jupyter Lab](http://jupyterlab.readthedocs.io/en/stable/getting_started/overview.html), which is almost identical to the Jupyter Notebook interface. You can use whichever environment you prefer (Spyder IDE, Jupyter Notebook, etc.).\n",
    "\n",
    "Let's get started!"
   ]
  },
  {
   "cell_type": "code",
   "execution_count": null,
   "metadata": {},
   "outputs": [],
   "source": []
  },
  {
   "cell_type": "code",
   "execution_count": null,
   "metadata": {},
   "outputs": [],
   "source": [
    "#############################################################\n",
    "################## Class Exercise 1 #########################\n",
    "#############################################################\n",
    "\n",
    "# Create two cells below this cell and two cells above this cell\n",
    "# Delete one each from the ones you just created above and below."
   ]
  },
  {
   "cell_type": "code",
   "execution_count": null,
   "metadata": {},
   "outputs": [],
   "source": []
  },
  {
   "cell_type": "markdown",
   "metadata": {},
   "source": [
    "```python\n",
    "# Hello there. This is a line that won't get executed. That's because we prefixed it with a #\n",
    "# A rite of passage when you start learning to code in any computer language is to print Hello World\n",
    "# Let's begin our journey to learn Python with it\n",
    "print(\"Hello World!\")\n",
    "# We can use either single quotes or double quotes to call the print function\n",
    "\n",
    "\"\"\"\n",
    "Longer comments can be written over multiple lines by enclosing them within triple\n",
    "single or double quotes\n",
    "\"\"\"\n",
    "\n",
    "\n",
    "```"
   ]
  },
  {
   "cell_type": "code",
   "execution_count": 1,
   "metadata": {},
   "outputs": [
    {
     "name": "stdout",
     "output_type": "stream",
     "text": [
      "Hello world!\n"
     ]
    }
   ],
   "source": [
    "#############################################################\n",
    "################## Class Exercise 2 #########################\n",
    "#############################################################\n",
    "\n",
    "# Print the line \"Hello World!\". You can write your code below this line.\n",
    "print(\"Hello world!\")"
   ]
  },
  {
   "cell_type": "markdown",
   "metadata": {},
   "source": [
    "One of the first things to know when you start learning any programming language is to call for help when you get into trouble.\n",
    "\n",
    "In Python (and in the Jupyter Notebook GUI in particular), you can do it in two ways. \n",
    "\n",
    "1. One is to use the prefix or suffix `?`. You can also type `help(print)` to access the Help documentation of the `print` function.\n",
    "2. The other is the *Tab Complete* feature when you are accessing different methods and properties of any object. If you're like me, you would also not remember every feature of each object and should find this handy.\n",
    "\n",
    "We'll repeatedly see how to use both of them today."
   ]
  },
  {
   "cell_type": "code",
   "execution_count": 3,
   "metadata": {},
   "outputs": [
    {
     "name": "stdout",
     "output_type": "stream",
     "text": [
      "Help on built-in function print in module builtins:\n",
      "\n",
      "print(...)\n",
      "    print(value, ..., sep=' ', end='\\n', file=sys.stdout, flush=False)\n",
      "    \n",
      "    Prints the values to a stream, or to sys.stdout by default.\n",
      "    Optional keyword arguments:\n",
      "    file:  a file-like object (stream); defaults to the current sys.stdout.\n",
      "    sep:   string inserted between values, default a space.\n",
      "    end:   string appended after the last value, default a newline.\n",
      "    flush: whether to forcibly flush the stream.\n",
      "\n"
     ]
    }
   ],
   "source": [
    "help(print)"
   ]
  },
  {
   "cell_type": "code",
   "execution_count": 4,
   "metadata": {},
   "outputs": [
    {
     "data": {
      "text/plain": [
       "\u001b[1;31mDocstring:\u001b[0m\n",
       "print(value, ..., sep=' ', end='\\n', file=sys.stdout, flush=False)\n",
       "\n",
       "Prints the values to a stream, or to sys.stdout by default.\n",
       "Optional keyword arguments:\n",
       "file:  a file-like object (stream); defaults to the current sys.stdout.\n",
       "sep:   string inserted between values, default a space.\n",
       "end:   string appended after the last value, default a newline.\n",
       "flush: whether to forcibly flush the stream.\n",
       "\u001b[1;31mType:\u001b[0m      builtin_function_or_method\n"
      ]
     },
     "metadata": {},
     "output_type": "display_data"
    }
   ],
   "source": [
    "#############################################################\n",
    "################## Class Exercise 3A ########################\n",
    "#############################################################\n",
    "\n",
    "# Try using the ? to check documentation on the print function. You can write your code below this line.\n",
    "?print"
   ]
  },
  {
   "cell_type": "code",
   "execution_count": 5,
   "metadata": {},
   "outputs": [
    {
     "name": "stdout",
     "output_type": "stream",
     "text": [
      "Help on built-in function print in module builtins:\n",
      "\n",
      "print(...)\n",
      "    print(value, ..., sep=' ', end='\\n', file=sys.stdout, flush=False)\n",
      "    \n",
      "    Prints the values to a stream, or to sys.stdout by default.\n",
      "    Optional keyword arguments:\n",
      "    file:  a file-like object (stream); defaults to the current sys.stdout.\n",
      "    sep:   string inserted between values, default a space.\n",
      "    end:   string appended after the last value, default a newline.\n",
      "    flush: whether to forcibly flush the stream.\n",
      "\n"
     ]
    }
   ],
   "source": [
    "#############################################################\n",
    "################## Class Exercise 3B ########################\n",
    "#############################################################\n",
    "\n",
    "# Try using the help function to check documentation on the print function. \n",
    "# You can write your code below this line.\n",
    "help(print)"
   ]
  },
  {
   "cell_type": "markdown",
   "metadata": {},
   "source": [
    "### [A Sample Program](https://matplotlib.org/3.1.1/gallery/subplots_axes_and_figures/ganged_plots.html#sphx-glr-gallery-subplots-axes-and-figures-ganged-plots-py)\n",
    "\n",
    "Run this program to see what happens.\n",
    "<br>You can copy-paste the below code snippet in the below-mentioned `Code` cell to run it. We should all get the same chart on our screens.\n",
    "\n",
    "For now, we won't bother with the fine print. \n",
    "That's for much later.\n",
    "\n",
    "\n",
    "```python\n",
    "\n",
    "import matplotlib.pyplot as plt\n",
    "import numpy as np\n",
    "\n",
    "t = np.arange(0.0, 2.0, 0.01)\n",
    "\n",
    "s1 = np.sin(2 * np.pi * t)\n",
    "s2 = np.exp(-t)\n",
    "s3 = s1 * s2\n",
    "\n",
    "fig, axs = plt.subplots(3, 1, sharex=True, figsize=(12, 8))\n",
    "# Remove horizontal space between axes\n",
    "fig.subplots_adjust(hspace=0)\n",
    "\n",
    "# Plot each graph, and manually set the y tick values\n",
    "axs[0].plot(t, s1)\n",
    "axs[0].grid(True)\n",
    "axs[0].set_yticks(np.arange(-0.9, 1.0, 0.4))\n",
    "axs[0].set_ylim(-1.2, 1.2)\n",
    "\n",
    "axs[1].plot(t, s2)\n",
    "axs[1].grid(True)\n",
    "axs[1].set_yticks(np.arange(0.1, 1.0, 0.2))\n",
    "axs[1].set_ylim(0, 1.5)\n",
    "\n",
    "axs[2].plot(t, s3)\n",
    "axs[2].grid(True)\n",
    "axs[2].set_yticks(np.arange(-0.9, 1.0, 0.4))\n",
    "axs[2].set_ylim(-1, 1)\n",
    "\n",
    "plt.show()\n",
    "\n",
    "```"
   ]
  },
  {
   "cell_type": "code",
   "execution_count": 6,
   "metadata": {},
   "outputs": [
    {
     "data": {
      "image/png": "[encoded data removed]",
      "text/plain": [
       "<Figure size 864x576 with 3 Axes>"
      ]
     },
     "metadata": {
      "needs_background": "light"
     },
     "output_type": "display_data"
    }
   ],
   "source": [
    "import matplotlib.pyplot as plt\n",
    "import numpy as np\n",
    "\n",
    "t = np.arange(0.0, 2.0, 0.01)\n",
    "\n",
    "s1 = np.sin(2 * np.pi * t)\n",
    "s2 = np.exp(-t)\n",
    "s3 = s1 * s2\n",
    "\n",
    "fig, axs = plt.subplots(3, 1, sharex=True, figsize=(12, 8))\n",
    "# Remove horizontal space between axes\n",
    "fig.subplots_adjust(hspace=0)\n",
    "\n",
    "# Plot each graph, and manually set the y tick values\n",
    "axs[0].plot(t, s1)\n",
    "axs[0].grid(True)\n",
    "axs[0].set_yticks(np.arange(-0.9, 1.0, 0.4))\n",
    "axs[0].set_ylim(-1.2, 1.2)\n",
    "\n",
    "axs[1].plot(t, s2)\n",
    "axs[1].grid(True)\n",
    "axs[1].set_yticks(np.arange(0.1, 1.0, 0.2))\n",
    "axs[1].set_ylim(0, 1.5)\n",
    "\n",
    "axs[2].plot(t, s3)\n",
    "axs[2].grid(True)\n",
    "axs[2].set_yticks(np.arange(-0.9, 1.0, 0.4))\n",
    "axs[2].set_ylim(-1, 1)\n",
    "\n",
    "plt.show()"
   ]
  },
  {
   "cell_type": "code",
   "execution_count": 4,
   "metadata": {},
   "outputs": [],
   "source": [
    "#############################################################\n",
    "################## Class Exercise 4 #########################\n",
    "#############################################################\n",
    "\n",
    "# Create a cell above this line. \n",
    "# Copy paste the above code snippet below this line.\n"
   ]
  },
  {
   "cell_type": "markdown",
   "metadata": {},
   "source": [
    "### Python as a calculator\n",
    "\n",
    "```python\n",
    "# Most rudimentary way to use Python is as a calculator\n",
    "# It's like using a Ferrari to pick up groceries\n",
    "# Nevertheless, humble beginnings...\n",
    "# Try some of the below lines\n",
    "\n",
    "30 + 15\n",
    "40 / 12\n",
    "12345679 * 63\n",
    "```"
   ]
  },
  {
   "cell_type": "code",
   "execution_count": 12,
   "metadata": {},
   "outputs": [
    {
     "data": {
      "text/plain": [
       "729000"
      ]
     },
     "execution_count": 12,
     "metadata": {},
     "output_type": "execute_result"
    }
   ],
   "source": [
    "12 + 90\n",
    "90 / 84\n",
    "90 ** 3"
   ]
  },
  {
   "cell_type": "code",
   "execution_count": 11,
   "metadata": {},
   "outputs": [
    {
     "name": "stdout",
     "output_type": "stream",
     "text": [
      "45\n",
      "2.6315789473684212\n",
      "999999999\n"
     ]
    }
   ],
   "source": [
    "#############################################################\n",
    "################## Class Exercise 5 #########################\n",
    "#############################################################\n",
    "\n",
    "# Try some basic calculations\n",
    "# You'll notice that if you run multiple lines of calculations in a single cell, only the last one's displayed\n",
    "# To see all the results, use the print() method on each of them\n",
    "\n",
    "print(30 + 15)\n",
    "print(50 / 19)\n",
    "print(12345679 * 81)"
   ]
  },
  {
   "cell_type": "markdown",
   "metadata": {},
   "source": [
    "### The `print()` method\n",
    "\n",
    "Using the `print()` function gives us more control over the appearance of the output.\n",
    "<br>Here are a few different ways in which you can use `print()`."
   ]
  },
  {
   "cell_type": "markdown",
   "metadata": {},
   "source": [
    "```python\n",
    "# Note to self: run below line once at the start if Tab Complete does not work\n",
    "# %config Completer.use_jedi = False\n",
    "\n",
    "print(\"The product of 12345679 and 36 is\", 12345679 * 36)\n",
    "\n",
    "ticker = 'CAT'\n",
    "firm_name = 'Caterpillar Inc.'\n",
    "industry = 'Farm & Heavy Construction Machinery'\n",
    "last_traded_price = 197.44\n",
    "date_of_price_recorded = '8th February 2021'\n",
    "market_cap = 107.27 * (10 ** 9) # The value is originally in USD billions, hence the multiplication to get the dollar value\n",
    "\n",
    "outstanding_shares = market_cap / last_traded_price\n",
    "\n",
    "print(\"The market capitalization of\", firm_name, 'at the close of', date_of_price_recorded, \"is US$\", market_cap)\n",
    "\n",
    "print(f\"This way of using print is more convenient. We display the ticker as \\\n",
    "{ticker} and the share price as US$ {last_traded_price}.\")\n",
    "\n",
    "# The above strings are called f-strings or formatted string literals.\n",
    "\n",
    "print(\"{0:s} has {1:.1f} million outstanding shares. Notice how we use the \\\n",
    "print() function and perform computation on the \\\n",
    "fly.\".format(firm_name, outstanding_shares / 10**6))\n",
    "# This is the .format() method to format and display strings.\n",
    "\n",
    "# Let's try printing the market capitalization in a more readable format.\n",
    "\n",
    "print(\"Nicer way of displaying large numbers:\\n The market capitalization of \\\n",
    "{0:s}({1:s}) on {3:s} is US$ {2:.2f} billion.\".format(ticker, firm_name, market_cap / 10 ** 9, date_of_price_recorded))\n",
    "```"
   ]
  },
  {
   "cell_type": "code",
   "execution_count": 17,
   "metadata": {},
   "outputs": [
    {
     "name": "stdout",
     "output_type": "stream",
     "text": [
      "The product of 12345679 and 36 is 444444444\n",
      "The market capitalization of Caterpillar Inc. at the close of 8th February 2021 is US$ 107270000000.0\n",
      "This way of using print is more convenient. We display the ticker as CAT and the share price as US$ 197.44.\n",
      "Caterpillar Inc. has 543.3 million outstanding shares. Notice how we use the print() function and perform computation on the fly.\n",
      "Nicer way of displaying large numbers:\n",
      " The market capitalization of CAT(Caterpillar Inc.) on 8th February 2021 is US$ 107.27 billion.\n"
     ]
    }
   ],
   "source": [
    "#############################################################\n",
    "################## Class Exercise 6 #########################\n",
    "#############################################################\n",
    "\n",
    "# Using print() to display better quality output\n",
    "# Run the above code snippets and pay close attention to each line before running it.\n",
    "\n",
    "print(\"The product of 12345679 and 36 is\", 12345679 * 36)\n",
    "\n",
    "ticker = 'CAT'\n",
    "firm_name = 'Caterpillar Inc.'\n",
    "industry = 'Farm & Heavy Construction Machinery'\n",
    "last_traded_price = 197.44\n",
    "date_of_price_recorded = '8th February 2021'\n",
    "market_cap = 107.27 * (10 ** 9) # The value is originally in USD billions, hence the multiplication to get the dollar value\n",
    "\n",
    "outstanding_shares = market_cap / last_traded_price\n",
    "\n",
    "print(\"The market capitalization of\", firm_name, 'at the close of', date_of_price_recorded, \"is US$\", market_cap)\n",
    "\n",
    "print(f\"This way of using print is more convenient. We display the ticker as \\\n",
    "{ticker} and the share price as US$ {last_traded_price}.\")\n",
    "\n",
    "print(\"{0:s} has {1:.1f} million outstanding shares. Notice how we use the \\\n",
    "print() function and perform computation on the \\\n",
    "fly.\".format(firm_name, outstanding_shares / 10**6))\n",
    "\n",
    "print(\"Nicer way of displaying large numbers:\\n The market capitalization of \\\n",
    "{0:s}({1:s}) on {3:s} is US$ {2:.2f} billion.\".format(ticker, firm_name, market_cap / 10 ** 9, date_of_price_recorded))\n"
   ]
  },
  {
   "cell_type": "markdown",
   "metadata": {},
   "source": [
    "### Noteworthy points (# 1)\n",
    "\n",
    "- If we've come to Python from languages like C, C++ or Java, we would pleasantly note that there is no need to declare variables explicitly. Hence, Python is a *dynamically typed* language.\n",
    "- In Python, the `=` operator is an assignment operator. When it is used in math and colloquially elsewhere, we think of it as `equal to`. Not so here. That is also why a statement like `i = i + 1` is meaningful in Python and other programming languages.\n",
    "- It's a good practice to check the types of variables or other objects you create. We can do so using the `type()` method.\n",
    "- We can also periodically enlist all the objects that we've created. For that, we run the magic command `%who` or `%whos` (in the Jupyter environment).\n",
    "- We can read more about magic commands by running `%magic` in a `Code` cell."
   ]
  },
  {
   "cell_type": "code",
   "execution_count": 20,
   "metadata": {},
   "outputs": [
    {
     "name": "stdout",
     "output_type": "stream",
     "text": [
      "<class 'float'>\n",
      "<class 'float'>\n",
      "<class 'str'>\n"
     ]
    }
   ],
   "source": [
    "#############################################################\n",
    "################## Class Exercise 7 #########################\n",
    "#############################################################\n",
    "\n",
    "# Check the types of objects that we created in the previous example\n",
    "print(type(outstanding_shares))\n",
    "print(type(market_cap))\n",
    "print(type(ticker))"
   ]
  },
  {
   "cell_type": "code",
   "execution_count": 22,
   "metadata": {},
   "outputs": [
    {
     "name": "stdout",
     "output_type": "stream",
     "text": [
      "Variable                 Type       Data/Info\n",
      "---------------------------------------------\n",
      "axs                      ndarray    3: 3 elems, type `object`, 12 bytes\n",
      "date_of_price_recorded   str        8th February 2021\n",
      "fig                      Figure     Figure(864x576)\n",
      "firm_name                str        Caterpillar Inc.\n",
      "industry                 str        Farm & Heavy Construction Machinery\n",
      "last_traded_price        float      197.44\n",
      "market_cap               float      107270000000.0\n",
      "np                       module     <module 'numpy' from 'C:\\<...>ges\\\\numpy\\\\__init__.py'>\n",
      "outstanding_shares       float      543304294.9756888\n",
      "plt                      module     <module 'matplotlib.pyplo<...>\\\\matplotlib\\\\pyplot.py'>\n",
      "s1                       ndarray    200: 200 elems, type `float64`, 1600 bytes\n",
      "s2                       ndarray    200: 200 elems, type `float64`, 1600 bytes\n",
      "s3                       ndarray    200: 200 elems, type `float64`, 1600 bytes\n",
      "t                        ndarray    200: 200 elems, type `float64`, 1600 bytes\n",
      "ticker                   str        CAT\n"
     ]
    }
   ],
   "source": [
    "#############################################################\n",
    "################## Class Exercise 8 #########################\n",
    "#############################################################\n",
    "\n",
    "# Display a list of all the objects created\n",
    "# What is the difference in the output of each?\n",
    "\n",
    "%whos"
   ]
  },
  {
   "cell_type": "markdown",
   "metadata": {},
   "source": [
    "<div class=\"alert alert-danger\" style=\"margin: 10px\"><strong>Note:</strong> All home exercises in this document are for self-study.</div>"
   ]
  },
  {
   "cell_type": "code",
   "execution_count": null,
   "metadata": {},
   "outputs": [],
   "source": [
    "#############################################################\n",
    "################## Home Exercise 1 ##########################\n",
    "#############################################################\n",
    "\n",
    "# Read the documentation on magic commands by running %magic"
   ]
  },
  {
   "cell_type": "markdown",
   "metadata": {},
   "source": [
    "### Native Data Structures\n",
    "\n",
    "We look at some native data structures in Python via examples.\n",
    "- Lists\n",
    "- Tuples\n",
    "- Dictionaries\n",
    "\n",
    "I find it helpful to think of data structures as **containers which house data**. [Data structures](https://en.wikipedia.org/wiki/Data_structure) are a way to organize and store data in a computer to be accessed and modified efficiently. <br>For example, an Excel spreadsheet is a data structure which stores our data in a grid format (rows and columns)."
   ]
  },
  {
   "cell_type": "markdown",
   "metadata": {},
   "source": [
    "**Lists** (as the name suggests) consists of a collection of elements. The elements can be heterogeneous. A list can even contain another list among its elements."
   ]
  },
  {
   "cell_type": "markdown",
   "metadata": {},
   "source": [
    "```python\n",
    "\n",
    "list_exchanges = ['NSE', 'NYSE', 'NASDAQ', 'LSE', 'SGX', \"HKEX\"]\n",
    "list_tickers = ['TENCENT', 'INFY', 'SAINSBURY', 'SINGTEL', \"AAL\", \"KO\"]\n",
    "\n",
    "list_bp = ['British Petroleum', 'Oil, Gas & Coal', 290, 'LSE', False]\n",
    "\n",
    "list_mixed = [list_exchanges, list_tickers] # think of this as a box which contains two boxes\n",
    "# We can include heterogenous data inside any list\n",
    "\n",
    "list_mixed2 = list_exchanges + list_tickers + list_bp\n",
    "```"
   ]
  },
  {
   "cell_type": "code",
   "execution_count": 23,
   "metadata": {},
   "outputs": [],
   "source": [
    "#############################################################\n",
    "################## Class Exercise 9 #########################\n",
    "#############################################################\n",
    "\n",
    "# Create the five given lists\n",
    "# Check the object types\n",
    "# Try to use the help() or the ? on one or more of them\n",
    "\n",
    "list_exchanges = ['NSE', 'NYSE', 'NASDAQ', 'LSE', 'SGX', \"HKEX\"]\n",
    "list_tickers = ['TENCENT', 'INFY', 'SAINSBURY', 'SINGTEL', \"AAL\", \"KO\"]\n",
    "\n",
    "list_bp = ['British Petroleum', 'Oil, Gas & Coal', 290, 'LSE', False]\n",
    "\n",
    "list_mixed = [list_exchanges, list_tickers] # think of this as a box which contains two boxes\n",
    "# We can include heterogenous data inside any list\n",
    "\n",
    "list_mixed2 = list_exchanges + list_tickers + list_bp"
   ]
  },
  {
   "cell_type": "code",
   "execution_count": 24,
   "metadata": {},
   "outputs": [
    {
     "data": {
      "text/plain": [
       "list"
      ]
     },
     "execution_count": 24,
     "metadata": {},
     "output_type": "execute_result"
    }
   ],
   "source": [
    "type(list_bp)"
   ]
  },
  {
   "cell_type": "code",
   "execution_count": 27,
   "metadata": {},
   "outputs": [
    {
     "data": {
      "text/plain": [
       "list"
      ]
     },
     "execution_count": 27,
     "metadata": {},
     "output_type": "execute_result"
    }
   ],
   "source": [
    "type(list_mixed2)"
   ]
  },
  {
   "cell_type": "code",
   "execution_count": null,
   "metadata": {},
   "outputs": [],
   "source": []
  },
  {
   "cell_type": "markdown",
   "metadata": {},
   "source": [
    "**Tuples** also consist of a collection of elements. The elements can be heterogeneous. A tuple can even contain another tuple or list among its elements. They are very similar to lists. <br> However, there is one crucial difference between them. <br>*Tuples are unchangeable or immutable*."
   ]
  },
  {
   "cell_type": "markdown",
   "metadata": {},
   "source": [
    "```python\n",
    "\n",
    "tuple_exchanges = ('NSE', 'NYSE', 'TSX', 'LSE', 'SGX', \"HKEX\")\n",
    "tuple_tickers = ('TENCENT', 'INFY', 'SAINSBURY', 'SINGTEL', \"AAL\", \"BMO\")\n",
    "\n",
    "tuple_britannia = ('Britannia', 'Consumer Foods', 2954, 'NSE', 'India', False)\n",
    "\n",
    "tuple_mixed = (tuple_exchanges, tuple_tickers) # think of this as a box which contains two boxes\n",
    "# We can include heterogenous data inside any tuple\n",
    "\n",
    "tuple_mixed2 = tuple_exchanges + tuple_tickers + tuple_britannia\n",
    "\n",
    "```"
   ]
  },
  {
   "cell_type": "code",
   "execution_count": 30,
   "metadata": {},
   "outputs": [],
   "source": [
    "#############################################################\n",
    "################## Class Exercise 10 ########################\n",
    "#############################################################\n",
    "\n",
    "# Create the five given tuples\n",
    "# Check the object types\n",
    "# Try to use the help() or the ? on one or more of them\n",
    "\n",
    "tuple_exchanges = ('NSE', 'NYSE', 'TSX', 'LSE', 'SGX', \"HKEX\")\n",
    "tuple_tickers = ('TENCENT', 'INFY', 'SAINSBURY', 'SINGTEL', \"AAL\", \"BMO\")\n",
    "\n",
    "tuple_britannia = ('Britannia', 'Consumer Foods', 2954, 'NSE', 'India', False)\n",
    "\n",
    "tuple_mixed = (tuple_exchanges, tuple_tickers) # think of this as a box which contains two boxes\n",
    "# We can include heterogenous data inside any tuple\n",
    "\n",
    "tuple_mixed2 = tuple_exchanges + tuple_tickers + tuple_britannia"
   ]
  },
  {
   "cell_type": "code",
   "execution_count": 32,
   "metadata": {},
   "outputs": [
    {
     "data": {
      "text/plain": [
       "tuple"
      ]
     },
     "execution_count": 32,
     "metadata": {},
     "output_type": "execute_result"
    }
   ],
   "source": [
    "type(tuple_mixed2)"
   ]
  },
  {
   "cell_type": "code",
   "execution_count": 34,
   "metadata": {},
   "outputs": [
    {
     "data": {
      "text/plain": [
       "\u001b[1;31mType:\u001b[0m        tuple\n",
       "\u001b[1;31mString form:\u001b[0m ('NSE', 'NYSE', 'TSX', 'LSE', 'SGX', 'HKEX')\n",
       "\u001b[1;31mLength:\u001b[0m      6\n",
       "\u001b[1;31mDocstring:\u001b[0m  \n",
       "Built-in immutable sequence.\n",
       "\n",
       "If no argument is given, the constructor returns an empty tuple.\n",
       "If iterable is specified the tuple is initialized from iterable's items.\n",
       "\n",
       "If the argument is a tuple, the return value is the same object.\n"
      ]
     },
     "metadata": {},
     "output_type": "display_data"
    }
   ],
   "source": [
    "?tuple_exchanges"
   ]
  },
  {
   "cell_type": "markdown",
   "metadata": {},
   "source": [
    "```python\n",
    "\n",
    "# Adding new elements to the list\n",
    "list_exchanges.append(\"Euronext\") # New element gets added at the last position\n",
    "list_exchanges.insert(0, \"TYO\") # We specify the index position of the new element\n",
    "\n",
    "# Try adding new elements to the tuple using similar syntax\n",
    "\n",
    "\n",
    "# Checking the length of a list or tuple\n",
    "len(tuple_tickers)\n",
    "len(list_mixed2)\n",
    "\n",
    "# Accessing elements of a list\n",
    "# You can also try the same syntax for tuples\n",
    "\n",
    "list_tickers[0] # The first element has index 0\n",
    "list_tickers[-1] # The last element\n",
    "\n",
    "list_bp[1:3] # Slicing operation\n",
    "\n",
    "# Checking if a particular ticker is in the list of tickers\n",
    "'TCS' in list_tickers\n",
    "'Euronext'in list_exchanges\n",
    "'Euronext' in tuple_exchanges\n",
    "\n",
    "# Lots of routines that you can perform with lists or tuples\n",
    "# Two ways to check them: \n",
    "# 1. Tab Complete\n",
    "# 2. Using dir()\n",
    "\n",
    "```"
   ]
  },
  {
   "cell_type": "code",
   "execution_count": 35,
   "metadata": {},
   "outputs": [],
   "source": [
    "#############################################################\n",
    "################## Class Exercise 11 ########################\n",
    "#############################################################\n",
    "\n",
    "# Try adding new elements to any of the lists and tuples\n",
    "# Check the length of some of the lists and tuples\n",
    "# Accessing one or more of the elements of the lists/tuples\n",
    "# Checking if a particular element is present in a list or tuple\n",
    "\n",
    "# How do you check what type of object the last element in tuple_bp is?\n",
    "\n",
    "# Adding new elements to the list\n",
    "\n",
    "list_exchanges.append(\"Euronext\") # New element gets added at the last position\n",
    "#list_exchanges.insert(0, \"TYO\") # We specify the index position of the new element"
   ]
  },
  {
   "cell_type": "code",
   "execution_count": 36,
   "metadata": {},
   "outputs": [
    {
     "data": {
      "text/plain": [
       "['NSE', 'NYSE', 'NASDAQ', 'LSE', 'SGX', 'HKEX', 'Euronext']"
      ]
     },
     "execution_count": 36,
     "metadata": {},
     "output_type": "execute_result"
    }
   ],
   "source": [
    "list_exchanges"
   ]
  },
  {
   "cell_type": "code",
   "execution_count": 37,
   "metadata": {},
   "outputs": [],
   "source": [
    "list_exchanges.insert(0, \"TYO\") # We specify the index position of the new element"
   ]
  },
  {
   "cell_type": "code",
   "execution_count": 38,
   "metadata": {},
   "outputs": [
    {
     "data": {
      "text/plain": [
       "['TYO', 'NSE', 'NYSE', 'NASDAQ', 'LSE', 'SGX', 'HKEX', 'Euronext']"
      ]
     },
     "execution_count": 38,
     "metadata": {},
     "output_type": "execute_result"
    }
   ],
   "source": [
    "list_exchanges"
   ]
  },
  {
   "cell_type": "code",
   "execution_count": 41,
   "metadata": {},
   "outputs": [
    {
     "data": {
      "text/plain": [
       "17"
      ]
     },
     "execution_count": 41,
     "metadata": {},
     "output_type": "execute_result"
    }
   ],
   "source": [
    "#len(tuple_tickers)\n",
    "len(list_mixed2)"
   ]
  },
  {
   "cell_type": "code",
   "execution_count": 43,
   "metadata": {},
   "outputs": [
    {
     "data": {
      "text/plain": [
       "[['TYO', 'NSE', 'NYSE', 'NASDAQ', 'LSE', 'SGX', 'HKEX', 'Euronext'],\n",
       " ['TENCENT', 'INFY', 'SAINSBURY', 'SINGTEL', 'AAL', 'KO']]"
      ]
     },
     "execution_count": 43,
     "metadata": {},
     "output_type": "execute_result"
    }
   ],
   "source": [
    "list_mixed"
   ]
  },
  {
   "cell_type": "code",
   "execution_count": 42,
   "metadata": {},
   "outputs": [
    {
     "data": {
      "text/plain": [
       "['NSE',\n",
       " 'NYSE',\n",
       " 'NASDAQ',\n",
       " 'LSE',\n",
       " 'SGX',\n",
       " 'HKEX',\n",
       " 'TENCENT',\n",
       " 'INFY',\n",
       " 'SAINSBURY',\n",
       " 'SINGTEL',\n",
       " 'AAL',\n",
       " 'KO',\n",
       " 'British Petroleum',\n",
       " 'Oil, Gas & Coal',\n",
       " 290,\n",
       " 'LSE',\n",
       " False]"
      ]
     },
     "execution_count": 42,
     "metadata": {},
     "output_type": "execute_result"
    }
   ],
   "source": [
    "list_mixed2"
   ]
  },
  {
   "cell_type": "code",
   "execution_count": 45,
   "metadata": {},
   "outputs": [
    {
     "data": {
      "text/plain": [
       "['TENCENT', 'INFY', 'SAINSBURY', 'SINGTEL', 'AAL', 'KO']"
      ]
     },
     "execution_count": 45,
     "metadata": {},
     "output_type": "execute_result"
    }
   ],
   "source": [
    "list_tickers"
   ]
  },
  {
   "cell_type": "code",
   "execution_count": 44,
   "metadata": {},
   "outputs": [
    {
     "data": {
      "text/plain": [
       "'TENCENT'"
      ]
     },
     "execution_count": 44,
     "metadata": {},
     "output_type": "execute_result"
    }
   ],
   "source": [
    "list_tickers[0] # The first element has index 0"
   ]
  },
  {
   "cell_type": "code",
   "execution_count": 48,
   "metadata": {},
   "outputs": [
    {
     "data": {
      "text/plain": [
       "'SINGTEL'"
      ]
     },
     "execution_count": 48,
     "metadata": {},
     "output_type": "execute_result"
    }
   ],
   "source": [
    "list_tickers[-3] # The last element\n"
   ]
  },
  {
   "cell_type": "code",
   "execution_count": 50,
   "metadata": {},
   "outputs": [
    {
     "data": {
      "text/plain": [
       "['British Petroleum', 'Oil, Gas & Coal', 290, 'LSE', False]"
      ]
     },
     "execution_count": 50,
     "metadata": {},
     "output_type": "execute_result"
    }
   ],
   "source": [
    "list_bp"
   ]
  },
  {
   "cell_type": "code",
   "execution_count": 49,
   "metadata": {},
   "outputs": [
    {
     "data": {
      "text/plain": [
       "['Oil, Gas & Coal', 290]"
      ]
     },
     "execution_count": 49,
     "metadata": {},
     "output_type": "execute_result"
    }
   ],
   "source": [
    "list_bp[1:3] # Slicing operation"
   ]
  },
  {
   "cell_type": "code",
   "execution_count": 53,
   "metadata": {},
   "outputs": [
    {
     "data": {
      "text/plain": [
       "False"
      ]
     },
     "execution_count": 53,
     "metadata": {},
     "output_type": "execute_result"
    }
   ],
   "source": [
    "#'TCS' in list_tickers\n",
    "#'Euronext'in list_exchanges\n",
    "'Euronext' in tuple_exchanges"
   ]
  },
  {
   "cell_type": "code",
   "execution_count": 58,
   "metadata": {},
   "outputs": [
    {
     "data": {
      "text/plain": [
       "bool"
      ]
     },
     "execution_count": 58,
     "metadata": {},
     "output_type": "execute_result"
    }
   ],
   "source": [
    "type(tuple_britannia[-1])"
   ]
  },
  {
   "cell_type": "markdown",
   "metadata": {},
   "source": [
    "We now look at one final data structure in native Python - **Dictionaries**.\n",
    "<br>They are analogous to human language dictionaries. However, instead of words and their corresponding meaning, Python dictionaries have `keys` and their corresponding `values`.\n",
    "\n",
    "```python\n",
    "## Creating a dictionary\n",
    "\n",
    "d = {'AAPL': 'Apple', 'MSFT': 'Microsoft', \n",
    "           'GOOG': 'Google', 'TSLA': 'Tesla'}\n",
    "d['TSLA']\n",
    "\n",
    "# AAPL, MSFT, etc are called 'keys' and the corresponding objects that they are mapped to are called 'values'.\n",
    "print(d.keys())\n",
    "print(d.values())\n",
    "\n",
    "```"
   ]
  },
  {
   "cell_type": "code",
   "execution_count": 59,
   "metadata": {},
   "outputs": [],
   "source": [
    "#############################################################\n",
    "################## Class Exercise 12 ########################\n",
    "#############################################################\n",
    "\n",
    "# Create a dictionary as shown\n",
    "# Check its length\n",
    "# Check its type\n",
    "# What is the value associated with the key 'TSLA'?\n",
    "\n",
    "d = {'AAPL': 'Apple', 'MSFT': 'Microsoft', \n",
    "           'GOOG': 'Google', 'TSLA': 'Tesla'}"
   ]
  },
  {
   "cell_type": "code",
   "execution_count": 60,
   "metadata": {},
   "outputs": [
    {
     "data": {
      "text/plain": [
       "dict"
      ]
     },
     "execution_count": 60,
     "metadata": {},
     "output_type": "execute_result"
    }
   ],
   "source": [
    "type(d)"
   ]
  },
  {
   "cell_type": "code",
   "execution_count": 61,
   "metadata": {},
   "outputs": [
    {
     "data": {
      "text/plain": [
       "4"
      ]
     },
     "execution_count": 61,
     "metadata": {},
     "output_type": "execute_result"
    }
   ],
   "source": [
    "len(d)"
   ]
  },
  {
   "cell_type": "code",
   "execution_count": 62,
   "metadata": {},
   "outputs": [
    {
     "data": {
      "text/plain": [
       "'Google'"
      ]
     },
     "execution_count": 62,
     "metadata": {},
     "output_type": "execute_result"
    }
   ],
   "source": [
    "d['GOOG']"
   ]
  },
  {
   "cell_type": "code",
   "execution_count": 65,
   "metadata": {},
   "outputs": [
    {
     "data": {
      "text/plain": [
       "dict_values(['Apple', 'Microsoft', 'Google', 'Tesla'])"
      ]
     },
     "execution_count": 65,
     "metadata": {},
     "output_type": "execute_result"
    }
   ],
   "source": [
    "d.values()"
   ]
  },
  {
   "cell_type": "markdown",
   "metadata": {},
   "source": [
    "### Non-native data structures\n",
    "\n",
    "#### NumPy\n",
    "\n",
    "`NumPy` (pronounced 'num pie') is the computational engine driving many Python programs.  That's because many popular data science libraries like `pandas`, `scikit-learn`, and `scipy` are built on top of it. The data is stored as an array called a `numpy.ndarray`. These arrays are somewhat like native Python lists, except that the data is homogeneous (all elements of the same type). We'll see them up close and personal today.\n",
    "\n",
    "#### Side-note: matplotlib\n",
    "\n",
    "`matplotlib` is a popular charting library used to produce publication-quality graphs and figures. We'll primarily use it as a visualization tool. \n",
    "\n",
    "Visualization is an important step in data analysis. It helps you get a 'feel' for your dataset and draw inferences that would otherwise not be possible. It is usually done at a preliminary stage. \n",
    "\n",
    "We will spend more time on charting later. For now, we'll just inspect the line plot.\n",
    "\n",
    "```python\n",
    "\n",
    "# Importing the required libraries with aliases (latter is optional; would still highly recommended it)\n",
    "import numpy as np\n",
    "import matplotlib.pyplot as plt\n",
    "\n",
    "\n",
    "np.__version__ # to check the version of NumPy in our Python environment\n",
    "# This also implicitly checks if the NumPy library has been properly loaded.\n",
    "\n",
    "x = np.random.normal(loc=0, scale=1, size=10000) # Generates a random sample from a normal distribution with a mean of 0 and standard deviation of 1\n",
    "# Specifying argument name is optional; good programming practice to spell it out\n",
    "\n",
    "```"
   ]
  },
  {
   "cell_type": "markdown",
   "metadata": {},
   "source": [
    "Let's pause for a few seconds to admire the beauty of the previous step.\n",
    "\n",
    "In one fell swoop, we've created a set of 10,000 random numbers sampled from a standard normal distribution. Imagine doing the same operation on a spreadsheet application! This gives us an inkling of the power of high-level languages like Python and R.\n",
    "\n",
    "The `np.random` routine has many different ways of creating arrays of random numbers. The operation takes just one Python statement and a fraction of a second."
   ]
  },
  {
   "cell_type": "markdown",
   "metadata": {},
   "source": [
    "```python\n",
    "%matplotlib inline\n",
    "\n",
    "plt.plot(x)\n",
    "\n",
    "```"
   ]
  },
  {
   "cell_type": "code",
   "execution_count": 66,
   "metadata": {},
   "outputs": [
    {
     "data": {
      "text/plain": [
       "'1.18.5'"
      ]
     },
     "execution_count": 66,
     "metadata": {},
     "output_type": "execute_result"
    }
   ],
   "source": [
    "#############################################################\n",
    "################## Class Exercise 13 ########################\n",
    "#############################################################\n",
    "\n",
    "# Create a sequence of 10000 numbers drawn from a standard normal distribution\n",
    "# Check its length\n",
    "# Check its type\n",
    "# Plot the sequence\n",
    "\n",
    "import numpy as np\n",
    "import matplotlib.pyplot as plt\n",
    "\n",
    "np.__version__ # to check the version of NumPy in our Python environment\n",
    "\n"
   ]
  },
  {
   "cell_type": "code",
   "execution_count": 75,
   "metadata": {},
   "outputs": [],
   "source": [
    "x = np.random.normal(loc=0, scale=1, size=100) # Generates a random sample from a normal distribution "
   ]
  },
  {
   "cell_type": "code",
   "execution_count": 76,
   "metadata": {},
   "outputs": [
    {
     "data": {
      "text/plain": [
       "100"
      ]
     },
     "execution_count": 76,
     "metadata": {},
     "output_type": "execute_result"
    }
   ],
   "source": [
    "len(x)"
   ]
  },
  {
   "cell_type": "code",
   "execution_count": 69,
   "metadata": {},
   "outputs": [
    {
     "data": {
      "text/plain": [
       "numpy.ndarray"
      ]
     },
     "execution_count": 69,
     "metadata": {},
     "output_type": "execute_result"
    }
   ],
   "source": [
    "type(x)"
   ]
  },
  {
   "cell_type": "code",
   "execution_count": 72,
   "metadata": {},
   "outputs": [
    {
     "data": {
      "text/plain": [
       "array([-1.13738275,  0.65160652,  0.0772186 ,  0.08720028,  1.2780607 ,\n",
       "        0.03931841, -0.33926703, -0.30069933, -0.03326548,  0.05230179])"
      ]
     },
     "execution_count": 72,
     "metadata": {},
     "output_type": "execute_result"
    }
   ],
   "source": [
    "x[2000:2010]"
   ]
  },
  {
   "cell_type": "code",
   "execution_count": 77,
   "metadata": {},
   "outputs": [
    {
     "data": {
      "text/plain": [
       "[<matplotlib.lines.Line2D at 0x804b070>]"
      ]
     },
     "execution_count": 77,
     "metadata": {},
     "output_type": "execute_result"
    },
    {
     "data": {
      "image/png": "[encoded data removed]",
      "text/plain": [
       "<Figure size 432x288 with 1 Axes>"
      ]
     },
     "metadata": {
      "needs_background": "light"
     },
     "output_type": "display_data"
    }
   ],
   "source": [
    "plt.plot(x)"
   ]
  },
  {
   "cell_type": "markdown",
   "metadata": {},
   "source": [
    "### Advantage of NumPy `ndarray` over Python `list`  \n",
    "\n",
    "```python\n",
    "\n",
    "heights = [1.73, 1.68, 1.71, 1.89, 1.79]\n",
    "weights = [65.4, 59.2, 63.6, 88.4, 68.7]\n",
    "\n",
    "weights/ heights ** 2 # What's the output?\n",
    "\n",
    "np_heights = np.array(heights) # converting the list to a NumPy ndarray\n",
    "np_weights = np.array(weights)\n",
    "\n",
    "bmi = np_weights / np_heights ** 2\n",
    "```"
   ]
  },
  {
   "cell_type": "code",
   "execution_count": 81,
   "metadata": {},
   "outputs": [],
   "source": [
    "#############################################################\n",
    "################## Class Exercise 14 ########################\n",
    "#############################################################\n",
    "\n",
    "# Create two lists called heights and weights with values as shown above\n",
    "# Check their length\n",
    "# Check their type\n",
    "# What is the maximum height?\n",
    "# What is the mean weight?\n",
    "# What is the median height and weight?\n",
    "# What is the index position of the minimum weight?\n",
    "\n",
    "heights = [1.73, 1.68, 1.71, 1.89, 1.79]\n",
    "weights = [65.4, 59.2, 63.6, 88.4, 68.7]\n",
    "\n",
    "#weights/ heights ** 2 # What's the output?\n",
    "\n",
    "np_heights = np.array(heights) # converting the list to a NumPy ndarray\n",
    "np_weights = np.array(weights)\n",
    "\n",
    "bmi = np_weights / np_heights ** 2\n"
   ]
  },
  {
   "cell_type": "code",
   "execution_count": 83,
   "metadata": {},
   "outputs": [
    {
     "data": {
      "text/plain": [
       "numpy.ndarray"
      ]
     },
     "execution_count": 83,
     "metadata": {},
     "output_type": "execute_result"
    }
   ],
   "source": [
    "type(bmi)"
   ]
  },
  {
   "cell_type": "markdown",
   "metadata": {},
   "source": [
    "### Generating trading signals based on volumes traded (simulated data)\n",
    "\n",
    "#### i. Data generation and analysis\n",
    "```python\n",
    "\n",
    "volume_traded = np.round(np.random.normal(loc=250, scale=50, size=100), decimals=2)\n",
    "\n",
    "## Displaying the day when trading volumes were below 150\n",
    "np.where(volume_traded < 150)\n",
    "\n",
    "## Displaying the day when trading volumes were above 350\n",
    "np.where(volume_traded > 350)\n",
    "\n",
    "## Displaying the values when at least one of the conditions are met\n",
    "volume_traded[np.where((volume_traded < 150) | (volume_traded > 350))]\n",
    "```"
   ]
  },
  {
   "cell_type": "code",
   "execution_count": 84,
   "metadata": {},
   "outputs": [],
   "source": [
    "#############################################################\n",
    "################## Class Exercise 15 ########################\n",
    "#############################################################\n",
    "\n",
    "# Display the volumes traded for the first 10 days\n",
    "# Display the days when trading volumes were below 200\n",
    "# Display the days when trading volumes were above 300 and below 400\n",
    "# Display the maximum volume traded in the last 100 days\n",
    "\n",
    "volume_traded = np.round(np.random.normal(loc=250, scale=50, size=100), decimals=2)"
   ]
  },
  {
   "cell_type": "code",
   "execution_count": 85,
   "metadata": {},
   "outputs": [
    {
     "data": {
      "text/plain": [
       "array([234.8 , 276.  , 223.61, 238.54, 230.24, 366.72, 279.63, 295.34,\n",
       "       267.01, 236.46, 250.27, 141.33, 237.9 , 227.94, 190.19, 238.15,\n",
       "       232.9 , 251.7 , 152.19, 332.99, 222.4 , 109.31, 267.54, 171.7 ,\n",
       "       340.92, 175.17, 267.97, 239.97, 326.29, 349.38, 190.86, 264.03,\n",
       "       261.51, 279.7 , 290.78, 242.8 , 203.92, 215.55, 372.17, 265.04,\n",
       "       208.78, 225.75, 241.09, 322.13, 214.89, 298.77, 259.25, 218.09,\n",
       "       202.84, 203.31, 254.84, 299.59, 233.8 , 288.22, 218.58, 305.83,\n",
       "       138.16, 302.05, 293.04, 244.87, 315.3 , 266.08, 289.84, 183.27,\n",
       "       259.97, 249.65, 291.45, 203.03, 186.23, 220.21, 177.78, 237.6 ,\n",
       "       153.9 , 194.81, 208.48, 225.2 , 312.91, 298.66, 247.13, 233.83,\n",
       "       254.08, 239.36, 253.46, 238.45, 211.51, 292.98, 290.72, 345.46,\n",
       "       210.92, 195.65, 285.01, 190.44, 221.39, 244.33, 298.56, 268.23,\n",
       "       242.69, 197.92, 285.09, 250.82])"
      ]
     },
     "execution_count": 85,
     "metadata": {},
     "output_type": "execute_result"
    }
   ],
   "source": [
    "volume_traded"
   ]
  },
  {
   "cell_type": "code",
   "execution_count": 87,
   "metadata": {},
   "outputs": [
    {
     "data": {
      "text/plain": [
       "(array([11, 14, 18, 21, 23, 25, 30, 56, 63, 68, 70, 72, 73, 89, 91, 97],\n",
       "       dtype=int32),)"
      ]
     },
     "execution_count": 87,
     "metadata": {},
     "output_type": "execute_result"
    }
   ],
   "source": [
    "## Displaying the day when trading volumes were below 150\n",
    "np.where(volume_traded < 200)"
   ]
  },
  {
   "cell_type": "code",
   "execution_count": 88,
   "metadata": {},
   "outputs": [
    {
     "data": {
      "text/plain": [
       "(array([ 5, 19, 24, 28, 29, 38, 43, 55, 57, 60, 76, 87], dtype=int32),)"
      ]
     },
     "execution_count": 88,
     "metadata": {},
     "output_type": "execute_result"
    }
   ],
   "source": [
    "## Displaying the days when both conditions are met\n",
    "np.where((volume_traded < 400) & (volume_traded > 300))"
   ]
  },
  {
   "cell_type": "code",
   "execution_count": 89,
   "metadata": {},
   "outputs": [
    {
     "data": {
      "text/plain": [
       "372.17"
      ]
     },
     "execution_count": 89,
     "metadata": {},
     "output_type": "execute_result"
    }
   ],
   "source": [
    "np.max(volume_traded)"
   ]
  },
  {
   "cell_type": "code",
   "execution_count": 90,
   "metadata": {},
   "outputs": [
    {
     "data": {
      "text/plain": [
       "109.31"
      ]
     },
     "execution_count": 90,
     "metadata": {},
     "output_type": "execute_result"
    }
   ],
   "source": [
    "np.min(volume_traded)"
   ]
  },
  {
   "cell_type": "markdown",
   "metadata": {},
   "source": [
    "#### ii. Trading signal generation\n",
    "\n",
    "Suppose we decide to go short on days when there are high trading volumes and long on days when there are low trading volumes.\n",
    "\n",
    "We define high trading volumes as greater than 325 and low trading volumes as less than 175.\n",
    "\n",
    "```python\n",
    "signals = np.where(volume_traded > 325, \"short\", 0)\n",
    "signals = np.where(volume_traded < 175, \"long\", signals)\n",
    "\n",
    "unique_values, count_values = np.unique(signals, return_counts=True)\n",
    "np.asarray((unique_values, count_values)).T\n",
    "```\n"
   ]
  },
  {
   "cell_type": "code",
   "execution_count": 93,
   "metadata": {},
   "outputs": [],
   "source": [
    "#############################################################\n",
    "################## Class Exercise 16 ########################\n",
    "#############################################################\n",
    "\n",
    "# Create a NumPy array where all days on which volume traded exceeds 325 is encoded \"short\"\n",
    "# In the same NumPy array, encode \"long\" for all days on which volume traded is less than 175\n",
    "# How many \"long\" and \"short\" days show up?\n",
    "\n",
    "signals = np.where(volume_traded > 325, \"short\", 0)\n",
    "signals = np.where(volume_traded < 175, \"long\", signals)"
   ]
  },
  {
   "cell_type": "code",
   "execution_count": 94,
   "metadata": {},
   "outputs": [
    {
     "data": {
      "text/plain": [
       "array(['0', '0', '0', '0', '0', 'short', '0', '0', '0', '0', '0', 'long',\n",
       "       '0', '0', '0', '0', '0', '0', 'long', 'short', '0', 'long', '0',\n",
       "       'long', 'short', '0', '0', '0', 'short', 'short', '0', '0', '0',\n",
       "       '0', '0', '0', '0', '0', 'short', '0', '0', '0', '0', '0', '0',\n",
       "       '0', '0', '0', '0', '0', '0', '0', '0', '0', '0', '0', 'long', '0',\n",
       "       '0', '0', '0', '0', '0', '0', '0', '0', '0', '0', '0', '0', '0',\n",
       "       '0', 'long', '0', '0', '0', '0', '0', '0', '0', '0', '0', '0', '0',\n",
       "       '0', '0', '0', 'short', '0', '0', '0', '0', '0', '0', '0', '0',\n",
       "       '0', '0', '0', '0'], dtype='<U11')"
      ]
     },
     "execution_count": 94,
     "metadata": {},
     "output_type": "execute_result"
    }
   ],
   "source": [
    "signals"
   ]
  },
  {
   "cell_type": "code",
   "execution_count": 95,
   "metadata": {},
   "outputs": [],
   "source": [
    "unique_values, count_values = np.unique(signals, return_counts=True)"
   ]
  },
  {
   "cell_type": "code",
   "execution_count": 96,
   "metadata": {},
   "outputs": [
    {
     "data": {
      "text/plain": [
       "array([['0', '87'],\n",
       "       ['long', '6'],\n",
       "       ['short', '7']], dtype='<U11')"
      ]
     },
     "execution_count": 96,
     "metadata": {},
     "output_type": "execute_result"
    }
   ],
   "source": [
    "np.asarray((unique_values, count_values)).T"
   ]
  },
  {
   "cell_type": "markdown",
   "metadata": {},
   "source": [
    "### Noteworthy points (# 2)\n",
    "\n",
    "Good programming practice\n",
    "\n",
    "- Use standard aliases for commonly used libraries. Ex. `np` for `NumPy`, `pd` for `pandas`, etc.\n",
    "- Specify argument names while using functions or routines ex. any of the `np.random` sub-libraries\n",
    "- Provide meaningful names to variables you create. We aren't doing algebra and don't need to cryptically name unknowns as x, y, z, etc.\n",
    "- Run %whos and check the variable names we've used so far.Run `%whos` and check the variable names we've used so far.\n",
    "- Skim through the documentation on new functions and libraries you come across. Apart from `?` and `help()`."
   ]
  },
  {
   "cell_type": "code",
   "execution_count": 97,
   "metadata": {},
   "outputs": [
    {
     "name": "stdout",
     "output_type": "stream",
     "text": [
      "Variable                 Type       Data/Info\n",
      "---------------------------------------------\n",
      "axs                      ndarray    3: 3 elems, type `object`, 12 bytes\n",
      "bmi                      ndarray    5: 5 elems, type `float64`, 40 bytes\n",
      "count_values             ndarray    3: 3 elems, type `int32`, 12 bytes\n",
      "d                        dict       n=4\n",
      "date_of_price_recorded   str        8th February 2021\n",
      "fig                      Figure     Figure(864x576)\n",
      "firm_name                str        Caterpillar Inc.\n",
      "heights                  list       n=5\n",
      "industry                 str        Farm & Heavy Construction Machinery\n",
      "last_traded_price        float      197.44\n",
      "list_bp                  list       n=5\n",
      "list_exchanges           list       n=8\n",
      "list_mixed               list       n=2\n",
      "list_mixed2              list       n=17\n",
      "list_tickers             list       n=6\n",
      "market_cap               float      107270000000.0\n",
      "np                       module     <module 'numpy' from 'C:\\<...>ges\\\\numpy\\\\__init__.py'>\n",
      "np_heights               ndarray    5: 5 elems, type `float64`, 40 bytes\n",
      "np_weights               ndarray    5: 5 elems, type `float64`, 40 bytes\n",
      "outstanding_shares       float      543304294.9756888\n",
      "plt                      module     <module 'matplotlib.pyplo<...>\\\\matplotlib\\\\pyplot.py'>\n",
      "s1                       ndarray    200: 200 elems, type `float64`, 1600 bytes\n",
      "s2                       ndarray    200: 200 elems, type `float64`, 1600 bytes\n",
      "s3                       ndarray    200: 200 elems, type `float64`, 1600 bytes\n",
      "signals                  ndarray    100: 100 elems, type `<U11`, 4400 bytes\n",
      "t                        ndarray    200: 200 elems, type `float64`, 1600 bytes\n",
      "ticker                   str        CAT\n",
      "tuple_britannia          tuple      n=6\n",
      "tuple_exchanges          tuple      n=6\n",
      "tuple_mixed              tuple      n=2\n",
      "tuple_mixed2             tuple      n=18\n",
      "tuple_tickers            tuple      n=6\n",
      "unique_values            ndarray    3: 3 elems, type `<U11`, 132 bytes\n",
      "volume_traded            ndarray    100: 100 elems, type `float64`, 800 bytes\n",
      "weights                  list       n=5\n",
      "x                        ndarray    100: 100 elems, type `float64`, 800 bytes\n"
     ]
    }
   ],
   "source": [
    "%whos"
   ]
  },
  {
   "cell_type": "markdown",
   "metadata": {},
   "source": [
    "### pandas\n",
    "\n",
    "`pandas` is a vital library for users in the Python data science and quant finance community. It can perform data manipulation and other Excel-like operations at high speed. It is built on top of `NumPy`. To get a sense of how comprehensive it is, the pandas' [official documentation](https://pandas.pydata.org/pandas-docs/stable/) of `pandas` is over ~~2500~~ ~~2600~~ ~~2900~~ 3000 pages! Do check out [10 minutes to `pandas`](https://pandas.pydata.org/pandas-docs/stable/user_guide/10min.html), a superb resource put out by its dev team.\n",
    "\n",
    "Statistical libraries like `statsmodels` and `scikit-learn` are built on top of `pandas`.\n",
    "\n",
    "We mainly use the pandas `Series` and `DataFrame` data structures.\n",
    "\n",
    "You can think of `Series` as a single 'column' of data. \n",
    "<br>The pandas `DataFrame` is like an Excel sheet with multiple columns of data.\n",
    "\n",
    "You can import data into pandas from numerous file formats. <br>Type `pd.read`, tap on the `Tab` key and be amazed.\n",
    "\n",
    "For the most part, we'll deal with CSV (Comma Separated Values) files. A CSV file is a watered-down version of a spreadsheet. It stores data as a list of plain text usually separated by commas. Its simple structure makes it convenient to import it into different software applications.\n",
    "\n",
    "***Tip:*** *Always open any CSV file in a text editor or spreadsheet application to get an idea of what the data looks like. Sometimes files have headers or other descriptions in the first few rows. Doing this will ensure that you account for them when you read the data into your application.*\n",
    "\n",
    "```python\n",
    "\n",
    "# For now, let's import a csv file.\n",
    "# Please take a quick glance at the documentation (or help()) whenever you have to read files into Python\n",
    "\n",
    "df = pd.read_csv(\"TCS.NS.csv\", index_col=\"Date\", parse_dates=True)\n",
    "\n",
    "df.shape # Shows the dimensions of the Data Frame\n",
    "\n",
    "df.head() # Displays the first 5 rows\n",
    "df.tail() # Displays the last 5 rows\n",
    "\n",
    "df.info()\n",
    "\n",
    "df.describe() # Descriptive statistics on each column\n",
    "\n",
    "# Line plots of various columns\n",
    "df['Adj Close'].plot()\n",
    "\n",
    "df[['Close', 'Adj Close']].plot(figsize=(12, 8), grid=True, linewidth=0.5)\n",
    "df['Volume'].plot(figsize=(12, 8), linewidth=1)\n",
    "\n",
    "```"
   ]
  },
  {
   "cell_type": "markdown",
   "metadata": {},
   "source": [
    "The nice thing about the `pandas DataFrame` (compared to the `NumPy array`) is we can have different kinds of data and meaningful names for each column. We can also select subsets of our data using the column names."
   ]
  },
  {
   "cell_type": "code",
   "execution_count": 98,
   "metadata": {},
   "outputs": [],
   "source": [
    "import pandas as pd"
   ]
  },
  {
   "cell_type": "code",
   "execution_count": 99,
   "metadata": {},
   "outputs": [],
   "source": [
    "df = pd.read_csv(\"TCS.NS.csv\", index_col=\"Date\", parse_dates=True)"
   ]
  },
  {
   "cell_type": "code",
   "execution_count": 105,
   "metadata": {},
   "outputs": [
    {
     "data": {
      "text/plain": [
       "(2738, 6)"
      ]
     },
     "execution_count": 105,
     "metadata": {},
     "output_type": "execute_result"
    }
   ],
   "source": [
    "df.shape # Shows the dimensions of the Data Frame"
   ]
  },
  {
   "cell_type": "code",
   "execution_count": 102,
   "metadata": {},
   "outputs": [],
   "source": [
    "import yfinance as yf"
   ]
  },
  {
   "cell_type": "code",
   "execution_count": 103,
   "metadata": {},
   "outputs": [
    {
     "name": "stdout",
     "output_type": "stream",
     "text": [
      "[*********************100%***********************]  1 of 1 completed\n"
     ]
    }
   ],
   "source": [
    "df = yf.download(\"TCS.NS\", \"2010-01-01\", \"2021-02-10\")"
   ]
  },
  {
   "cell_type": "code",
   "execution_count": 104,
   "metadata": {},
   "outputs": [
    {
     "name": "stdout",
     "output_type": "stream",
     "text": [
      "                  Open        High         Low       Close   Adj Close  \\\n",
      "Date                                                                     \n",
      "2010-01-04  377.399994  379.450012  374.524994  375.825012  302.451019   \n",
      "2010-01-05  377.500000  379.774994  373.274994  375.924988  302.531525   \n",
      "2010-01-06  375.924988  376.100006  366.500000  367.424988  295.690979   \n",
      "2010-01-07  367.750000  369.700012  355.500000  357.200012  287.462311   \n",
      "2010-01-08  358.000000  359.250000  348.250000  349.899994  281.587463   \n",
      "2010-01-11  352.000000  360.049988  350.200012  357.100006  287.381775   \n",
      "2010-01-12  366.000000  377.000000  363.500000  375.024994  301.807220   \n",
      "2010-01-13  372.500000  398.200012  372.325012  394.274994  317.298950   \n",
      "2010-01-14  399.225006  399.225006  384.674988  389.924988  313.798279   \n",
      "2010-01-15  398.000000  399.799988  386.125000  395.700012  318.445709   \n",
      "\n",
      "              Volume  \n",
      "Date                  \n",
      "2010-01-04   1963682  \n",
      "2010-01-05   2014488  \n",
      "2010-01-06   3349176  \n",
      "2010-01-07   6474892  \n",
      "2010-01-08   6048178  \n",
      "2010-01-11   4318408  \n",
      "2010-01-12   9027690  \n",
      "2010-01-13  10910272  \n",
      "2010-01-14  10327614  \n",
      "2010-01-15   7945008  \n",
      "                   Open         High          Low        Close    Adj Close  \\\n",
      "Date                                                                          \n",
      "2021-01-27  3300.000000  3306.449951  3227.000000  3261.050049  3261.050049   \n",
      "2021-01-28  3230.000000  3275.000000  3183.800049  3196.550049  3196.550049   \n",
      "2021-01-29  3210.050049  3216.850098  3100.000000  3111.350098  3111.350098   \n",
      "2021-02-01  3100.000000  3165.000000  3044.100098  3139.350098  3139.350098   \n",
      "2021-02-02  3174.000000  3224.000000  3150.000000  3203.449951  3203.449951   \n",
      "2021-02-03  3213.000000  3236.000000  3162.649902  3200.050049  3200.050049   \n",
      "2021-02-04  3216.050049  3237.850098  3176.000000  3188.449951  3188.449951   \n",
      "2021-02-05  3198.949951  3205.850098  3129.000000  3157.949951  3157.949951   \n",
      "2021-02-08  3189.500000  3226.000000  3155.149902  3214.100098  3214.100098   \n",
      "2021-02-09  3195.000000  3245.800049  3164.000000  3176.899902  3176.899902   \n",
      "\n",
      "             Volume  \n",
      "Date                 \n",
      "2021-01-27  2786662  \n",
      "2021-01-28  3083938  \n",
      "2021-01-29  5445659  \n",
      "2021-02-01  3985846  \n",
      "2021-02-02  2881837  \n",
      "2021-02-03  2505866  \n",
      "2021-02-04  2057261  \n",
      "2021-02-05  2366135  \n",
      "2021-02-08  2526592  \n",
      "2021-02-09  2658751  \n"
     ]
    }
   ],
   "source": [
    "print(df.head(10)) # Displays the first 10 rows\n",
    "print(df.tail(10)) # Displays the last 10 rows\n"
   ]
  },
  {
   "cell_type": "code",
   "execution_count": 106,
   "metadata": {},
   "outputs": [
    {
     "data": {
      "text/plain": [
       "pandas.core.frame.DataFrame"
      ]
     },
     "execution_count": 106,
     "metadata": {},
     "output_type": "execute_result"
    }
   ],
   "source": [
    "type(df)"
   ]
  },
  {
   "cell_type": "code",
   "execution_count": 107,
   "metadata": {},
   "outputs": [
    {
     "data": {
      "text/html": [
       "<div>\n",
       "<style scoped>\n",
       "    .dataframe tbody tr th:only-of-type {\n",
       "        vertical-align: middle;\n",
       "    }\n",
       "\n",
       "    .dataframe tbody tr th {\n",
       "        vertical-align: top;\n",
       "    }\n",
       "\n",
       "    .dataframe thead th {\n",
       "        text-align: right;\n",
       "    }\n",
       "</style>\n",
       "<table border=\"1\" class=\"dataframe\">\n",
       "  <thead>\n",
       "    <tr style=\"text-align: right;\">\n",
       "      <th></th>\n",
       "      <th>Open</th>\n",
       "      <th>High</th>\n",
       "      <th>Low</th>\n",
       "      <th>Close</th>\n",
       "      <th>Adj Close</th>\n",
       "      <th>Volume</th>\n",
       "    </tr>\n",
       "  </thead>\n",
       "  <tbody>\n",
       "    <tr>\n",
       "      <th>count</th>\n",
       "      <td>2738.000000</td>\n",
       "      <td>2738.000000</td>\n",
       "      <td>2738.000000</td>\n",
       "      <td>2738.000000</td>\n",
       "      <td>2738.000000</td>\n",
       "      <td>2.738000e+03</td>\n",
       "    </tr>\n",
       "    <tr>\n",
       "      <th>mean</th>\n",
       "      <td>1246.335563</td>\n",
       "      <td>1260.085416</td>\n",
       "      <td>1231.844515</td>\n",
       "      <td>1245.912071</td>\n",
       "      <td>1146.780100</td>\n",
       "      <td>2.897917e+06</td>\n",
       "    </tr>\n",
       "    <tr>\n",
       "      <th>std</th>\n",
       "      <td>629.040803</td>\n",
       "      <td>635.635297</td>\n",
       "      <td>621.623682</td>\n",
       "      <td>628.508547</td>\n",
       "      <td>644.600050</td>\n",
       "      <td>2.429234e+06</td>\n",
       "    </tr>\n",
       "    <tr>\n",
       "      <th>min</th>\n",
       "      <td>352.000000</td>\n",
       "      <td>357.000000</td>\n",
       "      <td>342.625000</td>\n",
       "      <td>349.774994</td>\n",
       "      <td>281.587463</td>\n",
       "      <td>0.000000e+00</td>\n",
       "    </tr>\n",
       "    <tr>\n",
       "      <th>25%</th>\n",
       "      <td>643.343750</td>\n",
       "      <td>650.568756</td>\n",
       "      <td>638.156250</td>\n",
       "      <td>644.393738</td>\n",
       "      <td>542.897766</td>\n",
       "      <td>1.773634e+06</td>\n",
       "    </tr>\n",
       "    <tr>\n",
       "      <th>50%</th>\n",
       "      <td>1215.000000</td>\n",
       "      <td>1224.950012</td>\n",
       "      <td>1203.762512</td>\n",
       "      <td>1214.850037</td>\n",
       "      <td>1097.727600</td>\n",
       "      <td>2.424751e+06</td>\n",
       "    </tr>\n",
       "    <tr>\n",
       "      <th>75%</th>\n",
       "      <td>1685.125031</td>\n",
       "      <td>1735.350006</td>\n",
       "      <td>1627.562500</td>\n",
       "      <td>1695.506256</td>\n",
       "      <td>1614.949249</td>\n",
       "      <td>3.424054e+06</td>\n",
       "    </tr>\n",
       "    <tr>\n",
       "      <th>max</th>\n",
       "      <td>3308.949951</td>\n",
       "      <td>3339.800049</td>\n",
       "      <td>3278.649902</td>\n",
       "      <td>3308.800049</td>\n",
       "      <td>3308.800049</td>\n",
       "      <td>8.806715e+07</td>\n",
       "    </tr>\n",
       "  </tbody>\n",
       "</table>\n",
       "</div>"
      ],
      "text/plain": [
       "              Open         High          Low        Close    Adj Close  \\\n",
       "count  2738.000000  2738.000000  2738.000000  2738.000000  2738.000000   \n",
       "mean   1246.335563  1260.085416  1231.844515  1245.912071  1146.780100   \n",
       "std     629.040803   635.635297   621.623682   628.508547   644.600050   \n",
       "min     352.000000   357.000000   342.625000   349.774994   281.587463   \n",
       "25%     643.343750   650.568756   638.156250   644.393738   542.897766   \n",
       "50%    1215.000000  1224.950012  1203.762512  1214.850037  1097.727600   \n",
       "75%    1685.125031  1735.350006  1627.562500  1695.506256  1614.949249   \n",
       "max    3308.949951  3339.800049  3278.649902  3308.800049  3308.800049   \n",
       "\n",
       "             Volume  \n",
       "count  2.738000e+03  \n",
       "mean   2.897917e+06  \n",
       "std    2.429234e+06  \n",
       "min    0.000000e+00  \n",
       "25%    1.773634e+06  \n",
       "50%    2.424751e+06  \n",
       "75%    3.424054e+06  \n",
       "max    8.806715e+07  "
      ]
     },
     "execution_count": 107,
     "metadata": {},
     "output_type": "execute_result"
    }
   ],
   "source": [
    "df.describe() # Descriptive statistics on each column"
   ]
  },
  {
   "cell_type": "code",
   "execution_count": 111,
   "metadata": {},
   "outputs": [
    {
     "data": {
      "text/plain": [
       "<matplotlib.axes._subplots.AxesSubplot at 0xa9a30b0>"
      ]
     },
     "execution_count": 111,
     "metadata": {},
     "output_type": "execute_result"
    },
    {
     "data": {
      "image/png": "[encoded data removed]",
      "text/plain": [
       "<Figure size 432x288 with 1 Axes>"
      ]
     },
     "metadata": {
      "needs_background": "light"
     },
     "output_type": "display_data"
    }
   ],
   "source": [
    "# Line plots of various columns\n",
    "df['Adj Close'].plot()\n",
    "\n",
    "#df[['Close', 'Adj Close']].plot(figsize=(12, 8), grid=True, linewidth=0.5)\n",
    "#df['Volume'].plot(figsize=(12, 8), linewidth=1)"
   ]
  },
  {
   "cell_type": "code",
   "execution_count": null,
   "metadata": {},
   "outputs": [],
   "source": []
  },
  {
   "cell_type": "code",
   "execution_count": 15,
   "metadata": {},
   "outputs": [],
   "source": [
    "#############################################################\n",
    "################## Class Exercise 17 ########################\n",
    "#############################################################\n",
    "\n",
    "# Read in the \"TCS.NS.csv\" file into a pandas DataFrame\n",
    "# How many rows and columns exist?\n",
    "# Check its type\n",
    "# Display the first 10 rows\n",
    "# Display the last 10 rows\n",
    "# Show the minimum, maximum, average, and other descriptive statistics for each column of the data.\n",
    "# Plot the Adjusted Close price as a time series\n",
    "# Plot the Close and Adjusted Close prices over time. \n",
    "# Plot the Volumes traded as a time series\n"
   ]
  },
  {
   "cell_type": "code",
   "execution_count": 125,
   "metadata": {},
   "outputs": [],
   "source": [
    "vedanta_close_prices = list(np.random.randint(low=65, high=85, size=100))\n",
    "threshold_sell_price = 82"
   ]
  },
  {
   "cell_type": "code",
   "execution_count": 122,
   "metadata": {},
   "outputs": [
    {
     "data": {
      "text/plain": [
       "[78, 76, 78, 79, 72, 68, 76, 66, 76, 69]"
      ]
     },
     "execution_count": 122,
     "metadata": {},
     "output_type": "execute_result"
    }
   ],
   "source": [
    "vedanta_close_prices[0:10]"
   ]
  },
  {
   "cell_type": "code",
   "execution_count": 123,
   "metadata": {},
   "outputs": [],
   "source": [
    "threshold_buy_price = 67"
   ]
  },
  {
   "cell_type": "code",
   "execution_count": 126,
   "metadata": {},
   "outputs": [
    {
     "name": "stdout",
     "output_type": "stream",
     "text": [
      "Day 6 closed at 83; sell at open on day 7\n",
      "Day 8 closed at 84; sell at open on day 9\n",
      "Day 19 closed at 83; sell at open on day 20\n",
      "Day 40 closed at 84; sell at open on day 41\n",
      "Day 42 closed at 83; sell at open on day 43\n",
      "Day 54 closed at 83; sell at open on day 55\n",
      "Day 55 closed at 84; sell at open on day 56\n",
      "Day 73 closed at 83; sell at open on day 74\n",
      "Day 74 closed at 83; sell at open on day 75\n",
      "Day 77 closed at 83; sell at open on day 78\n",
      "Day 87 closed at 84; sell at open on day 88\n",
      "Day 88 closed at 84; sell at open on day 89\n",
      "Day 96 closed at 84; sell at open on day 97\n",
      "Day 97 closed at 83; sell at open on day 98\n"
     ]
    }
   ],
   "source": [
    "for i, close_price in enumerate(vedanta_close_prices):\n",
    "    if close_price > threshold_sell_price:\n",
    "        print(\"Day {0} closed at {1}; sell at open on day {2}\".format(i, close_price, i+1))"
   ]
  },
  {
   "cell_type": "code",
   "execution_count": 127,
   "metadata": {},
   "outputs": [
    {
     "name": "stdout",
     "output_type": "stream",
     "text": [
      "Day 11 closed at 65; buy at open on day 12\n",
      "Day 14 closed at 66; buy at open on day 15\n",
      "Day 34 closed at 66; buy at open on day 35\n",
      "Day 61 closed at 66; buy at open on day 62\n",
      "Day 66 closed at 66; buy at open on day 67\n",
      "Day 67 closed at 65; buy at open on day 68\n",
      "Day 75 closed at 65; buy at open on day 76\n"
     ]
    }
   ],
   "source": [
    "for i, close_price in enumerate(vedanta_close_prices):\n",
    "    if close_price < threshold_buy_price:\n",
    "        print(\"Day {0} closed at {1}; buy at open on day {2}\".format(i, close_price, i+1))"
   ]
  },
  {
   "cell_type": "markdown",
   "metadata": {},
   "source": [
    "### Loops & conditional statements\n",
    "```python\n",
    "## Here are two commonly used 'for' loop avatars\n",
    "\n",
    "# 'for' loop - Type # 1\n",
    "\n",
    "n_days = len(df)\n",
    "df['Test'] = 0 # Initializing a new column with zero\n",
    "\n",
    "for i in range(n_days - 50, n_days):\n",
    "    df.iloc[i, 6] = 'Trade'\n",
    "```\n",
    "### A trading rule to decide when to buy and sell\n",
    "\n",
    "#### Firstly, we simulate close prices for Vedanta\n",
    "```python\n",
    "# 'for' loop - Type # 2\n",
    "# BONUS: We combine the loop with some 'if' statements\n",
    "\n",
    "\n",
    "vedanta_close_prices = list(np.random.randint(low=65, high=85, size=100))\n",
    "threshold_sell_price = 83\n",
    "```\n",
    "#### Secondly, we come up with (whimsical) rules to buy and sell\n",
    "*(Whimsical, because this is only a toy demonstration of using `for` loops and `if` statements.)*\n",
    "\n",
    "- We sell at open the next day, when the closing price on a particular day is greater than 83.\n",
    "- We buy at open the next day, when the closing price on a particular day is less than 67. \n",
    "\n",
    "```python\n",
    "\n",
    "for i, close_price in enumerate(vedanta_close_prices):\n",
    "    if close_price > threshold_sell_price:\n",
    "        print(\"Day {0} closed at {1}; sell at open on day {2}\".format(i, close_price, i+1))\n",
    "        \n",
    "threshold_buy_price = 67\n",
    "\n",
    "for i, close_price in enumerate(vedanta_close_prices):\n",
    "    if close_price < threshold_buy_price:\n",
    "        print(\"Day {0} closed at {1}; buy at open on day {2}\".format(i, close_price, i+1))\n",
    "\n",
    "# Now we combine both if statements     \n",
    "\n",
    "threshold_sell_price = 83\n",
    "threshold_buy_price = 67\n",
    "\n",
    "for i, close_price in enumerate(vedanta_close_prices):\n",
    "    if close_price > threshold_sell_price:\n",
    "        print(\"Day {0} closed at {1}; sell at open on day {2}\".format(i, close_price, i+1))\n",
    "    elif close_price < threshold_buy_price:\n",
    "        print(\"Day {0} closed at {1}; buy at open on day {2}\".format(i, close_price, i+1)) \n",
    "\n",
    "# Adding an 'else' statement at the end.\n",
    "        \n",
    "for i, close_price in enumerate(vedanta_close_prices):\n",
    "    if close_price > threshold_sell_price:\n",
    "        print(\"Day {0} closed at {1}; sell at open on day {2}\".format(i, close_price, i+1))\n",
    "    elif close_price < threshold_buy_price:\n",
    "        print(\"Day {0} closed at {1}; buy at open on day {2}\".format(i, close_price, i+1)) \n",
    "    else:\n",
    "        continue\n",
    "```"
   ]
  },
  {
   "cell_type": "code",
   "execution_count": null,
   "metadata": {},
   "outputs": [],
   "source": []
  },
  {
   "cell_type": "code",
   "execution_count": 112,
   "metadata": {},
   "outputs": [],
   "source": [
    "n_days = len(df)\n",
    "df['Test'] = 0 # Initializing a new column with zero"
   ]
  },
  {
   "cell_type": "code",
   "execution_count": 113,
   "metadata": {},
   "outputs": [
    {
     "data": {
      "text/plain": [
       "2738"
      ]
     },
     "execution_count": 113,
     "metadata": {},
     "output_type": "execute_result"
    }
   ],
   "source": [
    "n_days"
   ]
  },
  {
   "cell_type": "code",
   "execution_count": 115,
   "metadata": {},
   "outputs": [
    {
     "data": {
      "text/html": [
       "<div>\n",
       "<style scoped>\n",
       "    .dataframe tbody tr th:only-of-type {\n",
       "        vertical-align: middle;\n",
       "    }\n",
       "\n",
       "    .dataframe tbody tr th {\n",
       "        vertical-align: top;\n",
       "    }\n",
       "\n",
       "    .dataframe thead th {\n",
       "        text-align: right;\n",
       "    }\n",
       "</style>\n",
       "<table border=\"1\" class=\"dataframe\">\n",
       "  <thead>\n",
       "    <tr style=\"text-align: right;\">\n",
       "      <th></th>\n",
       "      <th>Open</th>\n",
       "      <th>High</th>\n",
       "      <th>Low</th>\n",
       "      <th>Close</th>\n",
       "      <th>Adj Close</th>\n",
       "      <th>Volume</th>\n",
       "      <th>Test</th>\n",
       "    </tr>\n",
       "    <tr>\n",
       "      <th>Date</th>\n",
       "      <th></th>\n",
       "      <th></th>\n",
       "      <th></th>\n",
       "      <th></th>\n",
       "      <th></th>\n",
       "      <th></th>\n",
       "      <th></th>\n",
       "    </tr>\n",
       "  </thead>\n",
       "  <tbody>\n",
       "    <tr>\n",
       "      <th>2010-01-04</th>\n",
       "      <td>377.399994</td>\n",
       "      <td>379.450012</td>\n",
       "      <td>374.524994</td>\n",
       "      <td>375.825012</td>\n",
       "      <td>302.451019</td>\n",
       "      <td>1963682</td>\n",
       "      <td>0</td>\n",
       "    </tr>\n",
       "    <tr>\n",
       "      <th>2010-01-05</th>\n",
       "      <td>377.500000</td>\n",
       "      <td>379.774994</td>\n",
       "      <td>373.274994</td>\n",
       "      <td>375.924988</td>\n",
       "      <td>302.531525</td>\n",
       "      <td>2014488</td>\n",
       "      <td>0</td>\n",
       "    </tr>\n",
       "    <tr>\n",
       "      <th>2010-01-06</th>\n",
       "      <td>375.924988</td>\n",
       "      <td>376.100006</td>\n",
       "      <td>366.500000</td>\n",
       "      <td>367.424988</td>\n",
       "      <td>295.690979</td>\n",
       "      <td>3349176</td>\n",
       "      <td>0</td>\n",
       "    </tr>\n",
       "    <tr>\n",
       "      <th>2010-01-07</th>\n",
       "      <td>367.750000</td>\n",
       "      <td>369.700012</td>\n",
       "      <td>355.500000</td>\n",
       "      <td>357.200012</td>\n",
       "      <td>287.462311</td>\n",
       "      <td>6474892</td>\n",
       "      <td>0</td>\n",
       "    </tr>\n",
       "    <tr>\n",
       "      <th>2010-01-08</th>\n",
       "      <td>358.000000</td>\n",
       "      <td>359.250000</td>\n",
       "      <td>348.250000</td>\n",
       "      <td>349.899994</td>\n",
       "      <td>281.587463</td>\n",
       "      <td>6048178</td>\n",
       "      <td>0</td>\n",
       "    </tr>\n",
       "  </tbody>\n",
       "</table>\n",
       "</div>"
      ],
      "text/plain": [
       "                  Open        High         Low       Close   Adj Close  \\\n",
       "Date                                                                     \n",
       "2010-01-04  377.399994  379.450012  374.524994  375.825012  302.451019   \n",
       "2010-01-05  377.500000  379.774994  373.274994  375.924988  302.531525   \n",
       "2010-01-06  375.924988  376.100006  366.500000  367.424988  295.690979   \n",
       "2010-01-07  367.750000  369.700012  355.500000  357.200012  287.462311   \n",
       "2010-01-08  358.000000  359.250000  348.250000  349.899994  281.587463   \n",
       "\n",
       "             Volume  Test  \n",
       "Date                       \n",
       "2010-01-04  1963682     0  \n",
       "2010-01-05  2014488     0  \n",
       "2010-01-06  3349176     0  \n",
       "2010-01-07  6474892     0  \n",
       "2010-01-08  6048178     0  "
      ]
     },
     "execution_count": 115,
     "metadata": {},
     "output_type": "execute_result"
    }
   ],
   "source": [
    "df.head()"
   ]
  },
  {
   "cell_type": "code",
   "execution_count": 117,
   "metadata": {},
   "outputs": [],
   "source": [
    "for i in range(n_days - 50, n_days):\n",
    "    df.iloc[i, 6] = 'Trade'"
   ]
  },
  {
   "cell_type": "code",
   "execution_count": 119,
   "metadata": {},
   "outputs": [
    {
     "name": "stdout",
     "output_type": "stream",
     "text": [
      "                  Open        High         Low       Close   Adj Close  \\\n",
      "Date                                                                     \n",
      "2010-01-04  377.399994  379.450012  374.524994  375.825012  302.451019   \n",
      "2010-01-05  377.500000  379.774994  373.274994  375.924988  302.531525   \n",
      "2010-01-06  375.924988  376.100006  366.500000  367.424988  295.690979   \n",
      "2010-01-07  367.750000  369.700012  355.500000  357.200012  287.462311   \n",
      "2010-01-08  358.000000  359.250000  348.250000  349.899994  281.587463   \n",
      "2010-01-11  352.000000  360.049988  350.200012  357.100006  287.381775   \n",
      "2010-01-12  366.000000  377.000000  363.500000  375.024994  301.807220   \n",
      "2010-01-13  372.500000  398.200012  372.325012  394.274994  317.298950   \n",
      "2010-01-14  399.225006  399.225006  384.674988  389.924988  313.798279   \n",
      "2010-01-15  398.000000  399.799988  386.125000  395.700012  318.445709   \n",
      "2010-01-18  400.000000  414.500000  396.500000  401.100006  322.791504   \n",
      "2010-01-19  401.100006  401.100006  389.325012  390.350006  314.140198   \n",
      "2010-01-20  396.100006  396.100006  385.450012  389.700012  313.617157   \n",
      "2010-01-21  386.125000  395.975006  383.950012  385.325012  310.096191   \n",
      "2010-01-22  380.500000  382.500000  372.350006  378.924988  304.945740   \n",
      "\n",
      "              Volume Test  \n",
      "Date                       \n",
      "2010-01-04   1963682    0  \n",
      "2010-01-05   2014488    0  \n",
      "2010-01-06   3349176    0  \n",
      "2010-01-07   6474892    0  \n",
      "2010-01-08   6048178    0  \n",
      "2010-01-11   4318408    0  \n",
      "2010-01-12   9027690    0  \n",
      "2010-01-13  10910272    0  \n",
      "2010-01-14  10327614    0  \n",
      "2010-01-15   7945008    0  \n",
      "2010-01-18   7261084    0  \n",
      "2010-01-19   5154850    0  \n",
      "2010-01-20   4347054    0  \n",
      "2010-01-21   5089504    0  \n",
      "2010-01-22   7574990    0  \n"
     ]
    }
   ],
   "source": [
    "print(df.head(15))"
   ]
  },
  {
   "cell_type": "code",
   "execution_count": 116,
   "metadata": {},
   "outputs": [
    {
     "name": "stdout",
     "output_type": "stream",
     "text": [
      "100\n",
      "121\n",
      "144\n",
      "169\n",
      "196\n",
      "225\n",
      "256\n",
      "289\n",
      "324\n",
      "361\n"
     ]
    }
   ],
   "source": [
    "for i in range(10, 20):\n",
    "    print(i ** 2)"
   ]
  },
  {
   "cell_type": "code",
   "execution_count": null,
   "metadata": {},
   "outputs": [],
   "source": []
  },
  {
   "cell_type": "code",
   "execution_count": null,
   "metadata": {},
   "outputs": [],
   "source": []
  },
  {
   "cell_type": "code",
   "execution_count": null,
   "metadata": {},
   "outputs": [],
   "source": [
    "#############################################################\n",
    "################## Class Exercise 18 ########################\n",
    "#############################################################\n",
    "\n",
    "# Create a column called 'Test' in the pandas DataFrame df and initialize it to 0\n",
    "# Use a 'for' loop to set the value in 'Test' to 'Trade' for the last 50 rows\n",
    "\n",
    "# Create a Python list of close prices for the last 100 days using the np.random routine for a discrete \n",
    "# uniform distribution as shown\n",
    "# Create variables threshold_sell_price and threshold_buy_price and initialize them to 83 and 67 respectively.\n",
    "# Use a for loop and if statements to set up the above mentioned trading rules\n",
    "# Try the above by using an if-elif statement instead"
   ]
  },
  {
   "cell_type": "code",
   "execution_count": null,
   "metadata": {},
   "outputs": [],
   "source": [
    "#############################################################\n",
    "################## Home Exercise 2 ##########################\n",
    "#############################################################\n",
    "\n",
    "# The below exercise will help you get a better grip on the mechanics of loops and conditional processes \n",
    "# Read each code block in the below cell, and try to work out the expected output\n",
    "# Then run it, and check what it actually is.\n",
    "# You can also try and deduce what the break and continue statements do \n",
    "# Go through Section 7.3 in the Python Handbook or the documentation to learn more about them\n"
   ]
  },
  {
   "cell_type": "code",
   "execution_count": null,
   "metadata": {},
   "outputs": [],
   "source": [
    "# THIS IS PART OF HOME EXERCISE 2\n",
    "# PLEASE TRY THIS ON YOUR OWN TIME\n",
    "\n",
    "# Using break and continue in loops and conditional statements\n",
    "# When iterating through a sequence, you can exit the loop completely using break\n",
    "# and skip the current iteration using continue. See the example below.\n",
    "# Before running it, think about what the expected output would be.\n",
    "\n",
    "for i in range(10):\n",
    "    if i == 4:\n",
    "        continue\n",
    "    elif i == 6:\n",
    "        break\n",
    "    print(i)\n",
    "\n",
    "# the while statement (loops)\n",
    "# Repeat the action until a specified condition is met\n",
    "\n",
    "a = 20\n",
    "\n",
    "while a < 25:\n",
    "    print(a)\n",
    "    a = a + 1\n",
    "\n",
    "# You can use loops to build lists\n",
    "\n",
    "elements = []\n",
    "\n",
    "for i in range(5, 10):\n",
    "    print(\"Adding {} to the newly formed list\".format(i))\n",
    "    elements.append(i)"
   ]
  },
  {
   "cell_type": "markdown",
   "metadata": {},
   "source": [
    "### List Comprehensions\n",
    "\n",
    "Here is an alternate way to create sequences from other sequences (be it lists, sets, etc.) in a single line. Any operation done using list comprehensions can be done over a few more lines of code in the standard way. \n",
    "\n",
    "\n",
    "```python\n",
    "\n",
    "prices = [20, 24, 19, 26, 17, 16, 18]\n",
    "sma25 = 24\n",
    "lprices = [np.log(price) for price in prices]\n",
    "\n",
    "# Adding conditions\n",
    "\n",
    "evenprices = [price for price in prices if price%2==0] # single condition\n",
    "signals = ['Buy' if price < sma25 else 'Sell' for price in prices] # if-else condition\n",
    "\n",
    "\n",
    "```"
   ]
  },
  {
   "cell_type": "code",
   "execution_count": null,
   "metadata": {},
   "outputs": [],
   "source": [
    "#############################################################\n",
    "################## Class Exercise 19 ########################\n",
    "#############################################################\n",
    "\n",
    "# Create a list of prices called 'prices' as shown above and a variable called sma25.\n",
    "# Write one line of Python code to derive a Python list of log prices from 'prices'.\n",
    "# How would you have written this if you were to use a regular 'for' loop?\n",
    "# Create a Python list called 'evenprices' where only even numbered close prices from 'prices' are enlisted.\n",
    "# (Use list comprehension if  possible).\n",
    "# Create a Python list called 'signals' where we encode 'Buy' when the price is less than sma25 and 'Sell'\n",
    "# otherwise (Use list comprehension if possible).\n",
    "\n"
   ]
  },
  {
   "cell_type": "markdown",
   "metadata": {},
   "source": [
    "### Functions\n",
    "\n",
    "Functions are a set of statements that together perform a particular task. For example, we can create a function to find the maximum in a list of numbers. \n",
    "\n",
    "There are three types of functions we use in Python.\n",
    "\n",
    "1. **In-built (or pre-built) functions:**\n",
    "There are hundreds of such functions that are native or built-in to Python or its libraries. We use them off-the-shelf when we need them.\n",
    "\n",
    "```python\n",
    "\n",
    "# Some commonly used functions some of which we have seen already\n",
    "# Try and guess what the output would be\n",
    "\n",
    "min(20, 21, 25, 21, 9, 18, 15)\n",
    "round(100 / 9, 2)\n",
    "list(range(5))\n",
    "type(range(10))\n",
    "np.mean(np.arange(20))\n",
    "np.sqrt(12345)\n",
    "\n",
    "```\n",
    "\n",
    "2. **User-defined functions:**\n",
    "We often create functions for tasks that are unique to our needs (if the pre-built functions do not suffice). User-defined functions improve the clarity of our code and [facilitate code reuse](https://en.wikipedia.org/wiki/Don%27t_repeat_yourself).\n",
    "\n",
    "We define a function using the keyword `def` followed by the function name and the arguments that it takes as input. We then write our lines of code as a code block to specify the actions that we need to perform. A function can return any object, including other functions. For this, we use `return` statements. We can have any number of `return` statements (including zero). We **call** a function using its name and passing it the arguments that it needs as input.\n",
    "\n",
    "```python\n",
    "\n",
    "def view_a_few_rows(x, few=10):\n",
    "    \"\"\"\n",
    "This function displays the specified number (default is ten) of rows selected \n",
    "randomly from any CSV file in the working directory.\n",
    "    \n",
    "    \"\"\"\n",
    "    df = pd.read_csv(x, index_col=\"Date\", parse_dates=True)\n",
    "    return df.sample(few)\n",
    "\n",
    "def hypotenuse(a=8, b=15):\n",
    "    return np.sqrt(a**2 + b**2)\n",
    "```\n",
    "\n",
    "3. **Lambda functions:**\n",
    "These are functions we create on-the-fly for simple operations which we will not use more than once. \n",
    "The syntax for a lambda function is:\n",
    "```python\n",
    "lambda arguments: expression\n",
    "```\n",
    "As we write in our book, *Python Basics: With Illustrations from the Financial Markets*, 'The syntax shows no function name. The arguments refer to parameters, and finally, the expression depicts the function body.' \n",
    "\n",
    "```python\n",
    "\n",
    "# Lambda functions: Especially convenient when operations performed are relatively straightforward\n",
    "# Let's create the equivalent of the function hypotenuse using the lambda function\n",
    "\n",
    "hypotenuse = lambda a, b: np.sqrt(a ** 2 + b ** 2)\n",
    "```"
   ]
  },
  {
   "cell_type": "code",
   "execution_count": 128,
   "metadata": {},
   "outputs": [],
   "source": [
    "def view_a_few_rows(x, few=10):\n",
    "    \"\"\"\n",
    "This function displays the specified number (default is ten) of rows selected \n",
    "randomly from any CSV file in the working directory.\n",
    "\n",
    "    \"\"\"\n",
    "    df = pd.read_csv(x, index_col=\"Date\", parse_dates=True)\n",
    "    return df.sample(few)"
   ]
  },
  {
   "cell_type": "code",
   "execution_count": 131,
   "metadata": {},
   "outputs": [
    {
     "data": {
      "text/html": [
       "<div>\n",
       "<style scoped>\n",
       "    .dataframe tbody tr th:only-of-type {\n",
       "        vertical-align: middle;\n",
       "    }\n",
       "\n",
       "    .dataframe tbody tr th {\n",
       "        vertical-align: top;\n",
       "    }\n",
       "\n",
       "    .dataframe thead th {\n",
       "        text-align: right;\n",
       "    }\n",
       "</style>\n",
       "<table border=\"1\" class=\"dataframe\">\n",
       "  <thead>\n",
       "    <tr style=\"text-align: right;\">\n",
       "      <th></th>\n",
       "      <th>High</th>\n",
       "      <th>Low</th>\n",
       "      <th>Open</th>\n",
       "      <th>Close</th>\n",
       "      <th>Volume</th>\n",
       "      <th>Adj Close</th>\n",
       "    </tr>\n",
       "    <tr>\n",
       "      <th>Date</th>\n",
       "      <th></th>\n",
       "      <th></th>\n",
       "      <th></th>\n",
       "      <th></th>\n",
       "      <th></th>\n",
       "      <th></th>\n",
       "    </tr>\n",
       "  </thead>\n",
       "  <tbody>\n",
       "    <tr>\n",
       "      <th>2013-08-04</th>\n",
       "      <td>749.450012</td>\n",
       "      <td>737.500000</td>\n",
       "      <td>749.450012</td>\n",
       "      <td>740.375000</td>\n",
       "      <td>896416</td>\n",
       "      <td>600.378601</td>\n",
       "    </tr>\n",
       "    <tr>\n",
       "      <th>2015-12-28</th>\n",
       "      <td>1233.199951</td>\n",
       "      <td>1210.099976</td>\n",
       "      <td>1214.000000</td>\n",
       "      <td>1231.349976</td>\n",
       "      <td>3704198</td>\n",
       "      <td>1095.439575</td>\n",
       "    </tr>\n",
       "    <tr>\n",
       "      <th>2016-06-17</th>\n",
       "      <td>1305.000000</td>\n",
       "      <td>1279.500000</td>\n",
       "      <td>1279.500000</td>\n",
       "      <td>1301.300049</td>\n",
       "      <td>1878988</td>\n",
       "      <td>1187.670898</td>\n",
       "    </tr>\n",
       "    <tr>\n",
       "      <th>2017-05-10</th>\n",
       "      <td>1221.719971</td>\n",
       "      <td>1212.199951</td>\n",
       "      <td>1220.500000</td>\n",
       "      <td>1214.800049</td>\n",
       "      <td>1684686</td>\n",
       "      <td>1158.887939</td>\n",
       "    </tr>\n",
       "    <tr>\n",
       "      <th>2018-04-16</th>\n",
       "      <td>1599.969971</td>\n",
       "      <td>1555.380005</td>\n",
       "      <td>1558.000000</td>\n",
       "      <td>1593.819946</td>\n",
       "      <td>6270274</td>\n",
       "      <td>1536.030518</td>\n",
       "    </tr>\n",
       "  </tbody>\n",
       "</table>\n",
       "</div>"
      ],
      "text/plain": [
       "                   High          Low         Open        Close   Volume  \\\n",
       "Date                                                                      \n",
       "2013-08-04   749.450012   737.500000   749.450012   740.375000   896416   \n",
       "2015-12-28  1233.199951  1210.099976  1214.000000  1231.349976  3704198   \n",
       "2016-06-17  1305.000000  1279.500000  1279.500000  1301.300049  1878988   \n",
       "2017-05-10  1221.719971  1212.199951  1220.500000  1214.800049  1684686   \n",
       "2018-04-16  1599.969971  1555.380005  1558.000000  1593.819946  6270274   \n",
       "\n",
       "              Adj Close  \n",
       "Date                     \n",
       "2013-08-04   600.378601  \n",
       "2015-12-28  1095.439575  \n",
       "2016-06-17  1187.670898  \n",
       "2017-05-10  1158.887939  \n",
       "2018-04-16  1536.030518  "
      ]
     },
     "execution_count": 131,
     "metadata": {},
     "output_type": "execute_result"
    }
   ],
   "source": [
    "view_a_few_rows(\"TCS.NS.csv\", 5)"
   ]
  },
  {
   "cell_type": "code",
   "execution_count": null,
   "metadata": {},
   "outputs": [],
   "source": [
    "#############################################################\n",
    "################## Class Exercise 20 ########################\n",
    "#############################################################\n",
    "\n",
    "# Run a few in-built functions\n",
    "# Create a function to display a specified number of rows from a specified CSV file in your working directory\n",
    "# Create a function to calculate the hypotenus of a right angled triangle when the other two side lengths are specified\n",
    "# Try the above using a lambda function"
   ]
  },
  {
   "cell_type": "markdown",
   "metadata": {},
   "source": [
    "```python\n",
    "\n",
    "def view_a_few_rows(x, few=10):\n",
    "    \"\"\"\n",
    "This function displays the specified number (default is ten) of rows selected \n",
    "randomly from any CSV file in the working directory.\n",
    "\n",
    "    \"\"\"\n",
    "    df = pd.read_csv(x, index_col=\"Date\", parse_dates=True)\n",
    "    return df.sample(few)\n",
    "\n",
    "```"
   ]
  },
  {
   "cell_type": "markdown",
   "metadata": {},
   "source": [
    "#### References\n",
    "\n",
    "1. The Official Python documentation - https://docs.python.org/3/contents.html\n",
    "2. Python Basics - With Illustrations from the Financial Markets, Krishnamoorthy, V, Parmar, J and Pena, P M\n",
    "2. A Byte of Python, Swaroop CH - https://python.swaroopch.com/\n",
    "3. Learn Python the Hard Way, Zed Shaw - https://learnpythonthehardway.org/\n",
    "4. Jupyter Lab - http://jupyterlab.readthedocs.io/en/stable/\n",
    "6. `pandas` documentation - https://pandas.pydata.org/pandas-docs/stable/\n",
    "7. 10 minutes to `pandas` - https://pandas.pydata.org/pandas-docs/stable/user_guide/10min.html\n",
    "7. String Formatting in Python - https://docs.python.org/3/library/string.html#string-formatting\n",
    "8. Learning pandas, Michael Heydt - https://www.amazon.com/Learning-Pandas-Python-Discovery-Analysis/dp/1783985127\n",
    "9. Don't repeat yourself: https://en.wikipedia.org/wiki/Don%27t_repeat_yourself\n",
    "12. `Matplotlib` - https://matplotlib.org/api/pyplot_summary.html"
   ]
  },
  {
   "cell_type": "code",
   "execution_count": null,
   "metadata": {},
   "outputs": [],
   "source": []
  }
 ],
 "metadata": {
  "kernelspec": {
   "display_name": "Python 3",
   "language": "python",
   "name": "python3"
  },
  "language_info": {
   "codemirror_mode": {
    "name": "ipython",
    "version": 3
   },
   "file_extension": ".py",
   "mimetype": "text/x-python",
   "name": "python",
   "nbconvert_exporter": "python",
   "pygments_lexer": "ipython3",
   "version": "3.7.7"
  }
 },
 "nbformat": 4,
 "nbformat_minor": 4
}
