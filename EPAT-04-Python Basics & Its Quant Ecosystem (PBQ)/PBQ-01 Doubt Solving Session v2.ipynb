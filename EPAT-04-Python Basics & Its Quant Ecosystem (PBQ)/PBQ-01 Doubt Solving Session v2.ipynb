{
 "cells": [
  {
   "cell_type": "markdown",
   "metadata": {},
   "source": [
    "# PBQ-01 Doubt Solving Session\n",
    "\n",
    "### Author: Jay Parmar\n",
    "\n",
    "#### Created on: 10/08/2020\n",
    "\n",
    "#### Modified on: 11/11/2020"
   ]
  },
  {
   "cell_type": "markdown",
   "metadata": {},
   "source": [
    "### Today's Agenda\n",
    "\n",
    "- Doubts\n",
    "    - Importing Python Libraries\n",
    "    - Magic Commands in Jupyter Environment\n",
    "    - How to change Working Directory\n",
    "    - When to use which Bracktets\n",
    "- For Loops and List Comprehensions\n",
    "- Functions in Python\n",
    "- Basic Plotting using Matplotlib Liibrary\n",
    "- List of Python Libraries\n",
    "- Difference between Jupyter Notebook and JupyterLab"
   ]
  },
  {
   "cell_type": "markdown",
   "metadata": {},
   "source": [
    "## Importing Python Libraries"
   ]
  },
  {
   "cell_type": "markdown",
   "metadata": {},
   "source": [
    "##### Method 1: Import whole library without an alias\n",
    "\n",
    "```python\n",
    "import yfinance\n",
    "```"
   ]
  },
  {
   "cell_type": "code",
   "execution_count": null,
   "metadata": {},
   "outputs": [],
   "source": [
    "# Method 1\n",
    "import pandas"
   ]
  },
  {
   "cell_type": "code",
   "execution_count": null,
   "metadata": {},
   "outputs": [],
   "source": [
    "df = pandas.DataFrame()\n",
    "\n",
    "print(df)"
   ]
  },
  {
   "cell_type": "code",
   "execution_count": null,
   "metadata": {},
   "outputs": [],
   "source": [
    "series = pandas.Series()\n",
    "\n",
    "print(series)"
   ]
  },
  {
   "cell_type": "code",
   "execution_count": null,
   "metadata": {},
   "outputs": [],
   "source": [
    "import yfinance"
   ]
  },
  {
   "cell_type": "code",
   "execution_count": null,
   "metadata": {},
   "outputs": [],
   "source": [
    "data = yfinance.download('AAPL', start='2020-1-1')"
   ]
  },
  {
   "cell_type": "code",
   "execution_count": null,
   "metadata": {},
   "outputs": [],
   "source": [
    "data.head()"
   ]
  },
  {
   "cell_type": "markdown",
   "metadata": {},
   "source": [
    "##### Method 2: Import whole library with an alias\n",
    "\n",
    "```python\n",
    "import yfinance as yf\n",
    "```"
   ]
  },
  {
   "cell_type": "code",
   "execution_count": null,
   "metadata": {},
   "outputs": [],
   "source": [
    "# Method 2\n",
    "import pandas as pd\n",
    "import numpy as np\n",
    "import matplotlib.pyplot as plt\n",
    "import seaborn as sns"
   ]
  },
  {
   "cell_type": "code",
   "execution_count": null,
   "metadata": {},
   "outputs": [],
   "source": [
    "df = pan.DataFrame()"
   ]
  },
  {
   "cell_type": "code",
   "execution_count": null,
   "metadata": {},
   "outputs": [],
   "source": [
    "print(df)"
   ]
  },
  {
   "cell_type": "markdown",
   "metadata": {},
   "source": [
    "##### Method 3: Import all modules from a library as it is without aliasing them\n",
    "\n",
    "```python\n",
    "from yfinance import *\n",
    "```"
   ]
  },
  {
   "cell_type": "code",
   "execution_count": null,
   "metadata": {},
   "outputs": [],
   "source": [
    "# Method 3\n",
    "from pandas import *"
   ]
  },
  {
   "cell_type": "code",
   "execution_count": null,
   "metadata": {},
   "outputs": [],
   "source": [
    "df = DataFrame()"
   ]
  },
  {
   "cell_type": "code",
   "execution_count": null,
   "metadata": {},
   "outputs": [],
   "source": [
    "print(df)"
   ]
  },
  {
   "cell_type": "code",
   "execution_count": null,
   "metadata": {},
   "outputs": [],
   "source": [
    "s = Series()"
   ]
  },
  {
   "cell_type": "code",
   "execution_count": null,
   "metadata": {},
   "outputs": [],
   "source": [
    "print(s)"
   ]
  },
  {
   "cell_type": "code",
   "execution_count": null,
   "metadata": {},
   "outputs": [],
   "source": [
    "from yfinance import *\n",
    "from nsepy import *"
   ]
  },
  {
   "cell_type": "code",
   "execution_count": null,
   "metadata": {},
   "outputs": [],
   "source": [
    "from yfinance as yf\n",
    "\n",
    "data = yf.download('AAPL')"
   ]
  },
  {
   "cell_type": "code",
   "execution_count": null,
   "metadata": {},
   "outputs": [],
   "source": [
    "download()\n",
    "get_history()"
   ]
  },
  {
   "cell_type": "code",
   "execution_count": null,
   "metadata": {},
   "outputs": [],
   "source": [
    "download()"
   ]
  },
  {
   "cell_type": "markdown",
   "metadata": {},
   "source": [
    "##### Method 4: Import a specific module/class from a library\n",
    "\n",
    "```python\n",
    "from yfinance import download\n",
    "```"
   ]
  },
  {
   "cell_type": "code",
   "execution_count": null,
   "metadata": {},
   "outputs": [],
   "source": [
    "import pandas as pd\n",
    "\n",
    "help(pd.DataFrame)"
   ]
  },
  {
   "cell_type": "code",
   "execution_count": null,
   "metadata": {},
   "outputs": [],
   "source": [
    "# Method 4\n",
    "from pandas import DataFrame"
   ]
  },
  {
   "cell_type": "code",
   "execution_count": null,
   "metadata": {},
   "outputs": [],
   "source": [
    "df = DataFrame()\n",
    "\n",
    "print(df)"
   ]
  },
  {
   "cell_type": "code",
   "execution_count": null,
   "metadata": {},
   "outputs": [],
   "source": [
    "s = Series()\n",
    "\n",
    "print(s)"
   ]
  },
  {
   "cell_type": "code",
   "execution_count": null,
   "metadata": {},
   "outputs": [],
   "source": [
    "import matplotlib.pyplot"
   ]
  },
  {
   "cell_type": "code",
   "execution_count": null,
   "metadata": {},
   "outputs": [],
   "source": [
    "help(matplotlib.pyplot)"
   ]
  },
  {
   "cell_type": "code",
   "execution_count": null,
   "metadata": {},
   "outputs": [],
   "source": [
    "import nsepy as nse"
   ]
  },
  {
   "cell_type": "markdown",
   "metadata": {},
   "source": [
    "##### Method 5: Import multiple modlues/classes from a library\n",
    "\n",
    "```python\n",
    "from yfinance import download, multi\n",
    "```"
   ]
  },
  {
   "cell_type": "code",
   "execution_count": null,
   "metadata": {},
   "outputs": [],
   "source": [
    "# Method 5\n",
    "from pandas import DataFrame, Series, to_datetime"
   ]
  },
  {
   "cell_type": "code",
   "execution_count": null,
   "metadata": {},
   "outputs": [],
   "source": [
    "df = DataFrame()\n",
    "\n",
    "print(df)"
   ]
  },
  {
   "cell_type": "markdown",
   "metadata": {},
   "source": [
    "##### Method 6: Import a specific module/class from a library and alias it\n",
    "\n",
    "```python\n",
    "from yfinance import download as dl\n",
    "```"
   ]
  },
  {
   "cell_type": "code",
   "execution_count": null,
   "metadata": {},
   "outputs": [],
   "source": [
    "# Method 6\n",
    "from pandas import DataFrame as df"
   ]
  },
  {
   "cell_type": "code",
   "execution_count": null,
   "metadata": {},
   "outputs": [],
   "source": [
    "data = df()\n",
    "#data = DataFrame()\n",
    "\n",
    "print(data)"
   ]
  },
  {
   "cell_type": "markdown",
   "metadata": {},
   "source": [
    "## Magic Commands"
   ]
  },
  {
   "cell_type": "markdown",
   "metadata": {},
   "source": [
    "Jupyter notebook software comes with a bunch of built-in commands which adds interactivity while working with it. They are called magic commands in Jupyter environment. These commands are dependent on the interpreter or kernel with which you are working. To see which magic commands are available, you can run the following magic command in the code cell:\n",
    "\n",
    "```python\n",
    "%lsmagic\n",
    "```\n",
    "\n",
    "<div class=\"alert alert-info\"><strong>Note: </strong>Magic commands are not Python commands.</div>"
   ]
  },
  {
   "cell_type": "code",
   "execution_count": null,
   "metadata": {},
   "outputs": [],
   "source": [
    "%lsmagic"
   ]
  },
  {
   "cell_type": "code",
   "execution_count": null,
   "metadata": {},
   "outputs": [],
   "source": [
    "### Save notebook every 60 seconds\n",
    "%autosave 60"
   ]
  },
  {
   "cell_type": "code",
   "execution_count": null,
   "metadata": {},
   "outputs": [],
   "source": [
    "# Calculate time required to execute the code"
   ]
  },
  {
   "cell_type": "code",
   "execution_count": null,
   "metadata": {},
   "outputs": [],
   "source": [
    "%%time\n",
    "\n",
    "for i in range(0, 10000):\n",
    "    x = i ** 3 - 2 * (4 + 5 * i) + 10 * i"
   ]
  },
  {
   "cell_type": "code",
   "execution_count": null,
   "metadata": {},
   "outputs": [],
   "source": [
    "# Check current directory\n",
    "%pwd"
   ]
  },
  {
   "cell_type": "code",
   "execution_count": null,
   "metadata": {},
   "outputs": [],
   "source": [
    "# List all content in the current directory\n",
    "%ls"
   ]
  },
  {
   "cell_type": "code",
   "execution_count": null,
   "metadata": {},
   "outputs": [],
   "source": [
    "# Change working directory\n",
    "%cd C:\\Users\\JAY\\Downloads\\"
   ]
  },
  {
   "cell_type": "code",
   "execution_count": null,
   "metadata": {
    "scrolled": true
   },
   "outputs": [],
   "source": [
    "%ls"
   ]
  },
  {
   "cell_type": "code",
   "execution_count": null,
   "metadata": {},
   "outputs": [],
   "source": [
    "!pip install yfinance"
   ]
  },
  {
   "cell_type": "code",
   "execution_count": null,
   "metadata": {
    "scrolled": true
   },
   "outputs": [],
   "source": [
    "# Install a new library\n",
    "%pip install yfinance"
   ]
  },
  {
   "cell_type": "code",
   "execution_count": null,
   "metadata": {},
   "outputs": [],
   "source": [
    "# List all variables\n",
    "%who"
   ]
  },
  {
   "cell_type": "code",
   "execution_count": null,
   "metadata": {},
   "outputs": [],
   "source": [
    "# List all variables - Verbose\n",
    "%whos"
   ]
  },
  {
   "cell_type": "code",
   "execution_count": null,
   "metadata": {},
   "outputs": [],
   "source": [
    "# List all previously run codes\n",
    "%history"
   ]
  },
  {
   "cell_type": "markdown",
   "metadata": {},
   "source": [
    "## Change Working Directory"
   ]
  },
  {
   "cell_type": "code",
   "execution_count": null,
   "metadata": {},
   "outputs": [],
   "source": [
    "# Import OS directory to peform system related operations\n",
    "import os\n",
    "\n",
    "os.chdir(\"C:\\\\Users\\\\JAY\\\\Downloads\")\n",
    "\n",
    "# Check the current working directory\n",
    "os.getcwd()"
   ]
  },
  {
   "cell_type": "code",
   "execution_count": null,
   "metadata": {},
   "outputs": [],
   "source": [
    "import yfinance as yf\n",
    "df = yf.download('AAPL', start='2020-1-1')\n",
    "df.to_csv('AAPL.csv')"
   ]
  },
  {
   "cell_type": "code",
   "execution_count": null,
   "metadata": {},
   "outputs": [],
   "source": [
    "# Change the current working directory to the desktop\n",
    "os.chdir(\"C:\\\\Users\\\\JAY\\\\Desktop\\\\EPAT\")"
   ]
  },
  {
   "cell_type": "code",
   "execution_count": null,
   "metadata": {},
   "outputs": [],
   "source": [
    "# Check the current working directory\n",
    "os.getcwd()"
   ]
  },
  {
   "cell_type": "code",
   "execution_count": null,
   "metadata": {},
   "outputs": [],
   "source": [
    "import pandas as pd\n",
    "\n",
    "dir(pd)"
   ]
  },
  {
   "cell_type": "code",
   "execution_count": null,
   "metadata": {},
   "outputs": [],
   "source": [
    "import nsepy as nse\n",
    "\n",
    "dir(nse)"
   ]
  },
  {
   "cell_type": "markdown",
   "metadata": {},
   "source": [
    "## When to use which brackets"
   ]
  },
  {
   "cell_type": "markdown",
   "metadata": {},
   "source": [
    "#### { } - Curly brackets\n",
    "Usage:\n",
    "- To create sets or dictionaries"
   ]
  },
  {
   "cell_type": "code",
   "execution_count": null,
   "metadata": {},
   "outputs": [],
   "source": [
    "# Creating sets\n",
    "prime_numbers = {5, 7, 11, 11, 13, 17}\n",
    "real = {1.2546, 220.146, 33.21}\n",
    "\n",
    "print('Prime Numbers:', prime_numbers)\n",
    "print('Real Numbers:', real)"
   ]
  },
  {
   "cell_type": "code",
   "execution_count": null,
   "metadata": {},
   "outputs": [],
   "source": [
    "# Creating a dictionary\n",
    "strategy_returns = {'FB': 0.33, \n",
    "                    'AAPL': 0.47, \n",
    "                    'NFLX': 0.12, \n",
    "                    'GOOG': 0.24 }\n",
    "\n",
    "print(strategy_returns)"
   ]
  },
  {
   "cell_type": "markdown",
   "metadata": {},
   "source": [
    "#### ( ) - Round brackets / Parenthesis\n",
    "Usage:\n",
    "- To create tuples\n",
    "- To define functions/methods\n",
    "- Also, we need to suffix a method name while calling it"
   ]
  },
  {
   "cell_type": "code",
   "execution_count": null,
   "metadata": {},
   "outputs": [],
   "source": [
    "# Creating a tuple\n",
    "strategy_parameters = (20, 50)\n",
    "\n",
    "print(strategy_parameters)"
   ]
  },
  {
   "cell_type": "code",
   "execution_count": null,
   "metadata": {},
   "outputs": [],
   "source": [
    "def function_name():\n",
    "    pass\n",
    "\n",
    "function_name()"
   ]
  },
  {
   "cell_type": "code",
   "execution_count": null,
   "metadata": {},
   "outputs": [],
   "source": [
    "import yfinance as yf\n",
    "\n",
    "# Defining a function\n",
    "def download_data(stock):\n",
    "    data = yf.download(stock, start='2020-1-1')\n",
    "    return data"
   ]
  },
  {
   "cell_type": "code",
   "execution_count": null,
   "metadata": {},
   "outputs": [],
   "source": [
    "# Calling the function - Chain Operation\n",
    "download_data('AAPL').head()"
   ]
  },
  {
   "cell_type": "markdown",
   "metadata": {},
   "source": [
    "##### [ ] - Square brackets\n",
    "Usage:\n",
    "- To define lists\n",
    "- To access or extract elements from a sequential data structure"
   ]
  },
  {
   "cell_type": "code",
   "execution_count": null,
   "metadata": {},
   "outputs": [],
   "source": [
    "# Defining lists\n",
    "stock_list = ['FB', 'AAPL', \"NFLX\", \"GOOG\"]\n",
    "stock_price = [268.44, 444.45, 494.73, 1494.49]\n",
    "\n",
    "print(stock_list)\n",
    "print(stock_price)"
   ]
  },
  {
   "cell_type": "code",
   "execution_count": null,
   "metadata": {},
   "outputs": [],
   "source": [
    "stock_list[0]"
   ]
  },
  {
   "cell_type": "code",
   "execution_count": null,
   "metadata": {},
   "outputs": [],
   "source": [
    "# Accessing elements\n",
    "\n",
    "# Accessing the first element from the stock_list\n",
    "print(stock_list[0])"
   ]
  },
  {
   "cell_type": "code",
   "execution_count": null,
   "metadata": {},
   "outputs": [],
   "source": [
    "# Accessing the last element from the stock_price\n",
    "print(stock_price[-1])"
   ]
  },
  {
   "cell_type": "code",
   "execution_count": null,
   "metadata": {},
   "outputs": [],
   "source": [
    "# Accessing the second element from the tuple\n",
    "print(strategy_parameters[1])"
   ]
  },
  {
   "cell_type": "code",
   "execution_count": null,
   "metadata": {},
   "outputs": [],
   "source": [
    "# Accessing an element from a dictionary\n",
    "print(strategy_returns['FB'])"
   ]
  },
  {
   "cell_type": "code",
   "execution_count": null,
   "metadata": {},
   "outputs": [],
   "source": [
    "# Accessing a dictionary element using its index\n",
    "print(strategy_returns[0])"
   ]
  },
  {
   "cell_type": "markdown",
   "metadata": {},
   "source": [
    "## For loop & List comprehension"
   ]
  },
  {
   "cell_type": "markdown",
   "metadata": {},
   "source": [
    "##### While Loop\n",
    "##### For Loop"
   ]
  },
  {
   "cell_type": "code",
   "execution_count": null,
   "metadata": {},
   "outputs": [],
   "source": [
    "# A simple for loop - version 1\n",
    "stock_list = ['FB', 'AAPL', 'NFLX', 'GOOG']\n",
    "\n",
    "print(stock_list[0])\n",
    "print(stock_list[1])"
   ]
  },
  {
   "cell_type": "code",
   "execution_count": null,
   "metadata": {},
   "outputs": [],
   "source": [
    "# It is iterating through each and every element in a given list\n",
    "for element in stock_list:\n",
    "    print(element)"
   ]
  },
  {
   "cell_type": "code",
   "execution_count": null,
   "metadata": {},
   "outputs": [],
   "source": [
    "for i in range(0, 100):\n",
    "    print(i)"
   ]
  },
  {
   "cell_type": "code",
   "execution_count": null,
   "metadata": {},
   "outputs": [],
   "source": [
    "# A simple for loop - version 2\n",
    "stock_list = ['fb', 'aapl', 'nflx', 'goog']\n",
    "\n",
    "# Define an empty list\n",
    "stock_list_upper = []\n",
    "\n",
    "# Convert values of all elements to upper case\n",
    "for stock in stock_list:\n",
    "    stock_upper = stock.upper()\n",
    "    print(stock_upper)\n",
    "    stock_list_upper.append(stock_upper)\n",
    "    \n",
    "# Print stock list with all upper case values\n",
    "print(stock_list_upper)"
   ]
  },
  {
   "cell_type": "code",
   "execution_count": null,
   "metadata": {},
   "outputs": [],
   "source": [
    "# Reduced version\n",
    "stock_list_upper = []\n",
    "\n",
    "# Convert values of all elements to upper case\n",
    "for stock in stock_list:\n",
    "    stock_list_upper.append(stock.upper())\n",
    "    \n",
    "print(stock_list_upper)"
   ]
  },
  {
   "cell_type": "code",
   "execution_count": null,
   "metadata": {},
   "outputs": [],
   "source": [
    "# List comprehension\n",
    "[stock.upper() for stock in stock_list]"
   ]
  },
  {
   "cell_type": "code",
   "execution_count": null,
   "metadata": {},
   "outputs": [],
   "source": [
    "# List comprehension\n",
    "\n",
    "stock_list_upper = [stock.upper() for stock in stock_list]\n",
    "\n",
    "print(stock_list_upper)"
   ]
  },
  {
   "cell_type": "code",
   "execution_count": null,
   "metadata": {},
   "outputs": [],
   "source": [
    "# Another example\n",
    "import numpy as np\n",
    "\n",
    "stock_price = [444.45, 268.44, 1494.49, 494.73]\n",
    "\n",
    "[np.round(np.log(price), 2) for price in stock_price]"
   ]
  },
  {
   "cell_type": "code",
   "execution_count": null,
   "metadata": {},
   "outputs": [],
   "source": [
    "log_price = [np.log(price) for price in stock_price]\n",
    "\n",
    "print(log_price)"
   ]
  },
  {
   "cell_type": "code",
   "execution_count": null,
   "metadata": {},
   "outputs": [],
   "source": [
    "# One more example with if condition\n",
    "\n",
    "stock_prices = [110, 113, 97, 98, 111, 116, 117, 122]\n",
    "\n",
    "[price for price in stock_prices if price%2==0]"
   ]
  },
  {
   "cell_type": "code",
   "execution_count": null,
   "metadata": {},
   "outputs": [],
   "source": [
    "evenprices = [price for price in stock_prices if price%2==0]\n",
    "\n",
    "print(evenprices)"
   ]
  },
  {
   "cell_type": "markdown",
   "metadata": {},
   "source": [
    "## Functions"
   ]
  },
  {
   "cell_type": "markdown",
   "metadata": {},
   "source": [
    "### What are functions?\n",
    "\n",
    "*A function is a block of code(that performs a specific task) which runs only when it is called.*\n",
    "\n",
    "Simply put, it (might) take inputs and performs the operation (on it) and provides the output.\n"
   ]
  },
  {
   "cell_type": "markdown",
   "metadata": {},
   "source": [
    "### Why do we need functions?\n",
    "\n",
    "- ***Reusability***: Code written within a function can be called as and when needed. Hence, the same code can be reused thereby reducing the overall number of lines of code.\n",
    "- ***Modular Approach***: Writing a function implicitly follows a modular approach. We can break down the entire problem that we are trying to solve into smaller chunks, and each chunk, in turn, is implemented via a function."
   ]
  },
  {
   "cell_type": "markdown",
   "metadata": {},
   "source": [
    "### Types of Functions\n",
    "\n",
    "There are three types of functions in Python:\n",
    "- ***Built-in functions*** such as print to print on the standard output device, type to check data type of an object, etc. These are the functions that Python provides to accomplish common tasks.\n",
    "- ***User-Defined functions***: As the name suggests these are custom functions to help/resolve/achieve a particular task.\n",
    "- ***Anonymous functions***, also known as ***lambda functions*** are custommade without having any name identifier."
   ]
  },
  {
   "cell_type": "markdown",
   "metadata": {},
   "source": [
    "### Steps involved in backtesting a strategy\n",
    "\n",
    "1. Get the data / Download the data\n",
    "2. Generate the technical indicators\n",
    "3. Generate the trading signals\n",
    "4. Compute the PnL\n",
    "5. Optimize"
   ]
  },
  {
   "cell_type": "code",
   "execution_count": null,
   "metadata": {},
   "outputs": [],
   "source": [
    "# Built-in functions"
   ]
  },
  {
   "cell_type": "code",
   "execution_count": null,
   "metadata": {},
   "outputs": [],
   "source": [
    "# User-defined functions\n",
    "def addition(input_1, input_2):\n",
    "    result = input_1 + input_2\n",
    "    return result"
   ]
  },
  {
   "cell_type": "code",
   "execution_count": null,
   "metadata": {},
   "outputs": [],
   "source": [
    "# Calling the function\n",
    "print(addition(2, 5))"
   ]
  },
  {
   "cell_type": "code",
   "execution_count": null,
   "metadata": {},
   "outputs": [],
   "source": [
    "# Calling\n",
    "a = 1\n",
    "b = 3\n",
    "\n",
    "print(f'The addition of {a} and {b} is {addition(a, b)}.')"
   ]
  },
  {
   "cell_type": "markdown",
   "metadata": {},
   "source": [
    "### Examples"
   ]
  },
  {
   "cell_type": "code",
   "execution_count": null,
   "metadata": {},
   "outputs": [],
   "source": [
    "# Defining a backtest function\n",
    "def backtest():\n",
    "    # Perform backtesting of a strategy on the provided data\n",
    "    strategy_returns = 0.35\n",
    "    return strategy_returns\n",
    "\n",
    "# Calling the backtest function\n",
    "s_returns = backtest()\n",
    "\n",
    "print('Strategy performance:', s_returns)"
   ]
  },
  {
   "cell_type": "code",
   "execution_count": null,
   "metadata": {},
   "outputs": [],
   "source": [
    "# Algo Execution\n",
    "def get_historical_data(instrument, freq, duration):\n",
    "    pass\n",
    "\n",
    "print(\"This is example!\")"
   ]
  },
  {
   "cell_type": "code",
   "execution_count": null,
   "metadata": {},
   "outputs": [],
   "source": [
    "def place_order(instrument, qty, buy_sell, order_type, exchange):\n",
    "    # Code to place order goes here\n",
    "    pass\n",
    "\n",
    "def retrieve_positions(account_id):\n",
    "    # Code to retrieve positions for the given account goes here\n",
    "    pass"
   ]
  },
  {
   "cell_type": "markdown",
   "metadata": {},
   "source": [
    "## Data Visualization Using Matplotlib"
   ]
  },
  {
   "cell_type": "code",
   "execution_count": null,
   "metadata": {},
   "outputs": [],
   "source": [
    "# Download data from Yahoo\n",
    "import yfinance as yf\n",
    "\n",
    "data = yf.download('AAPL', start='2020-1-1')\n",
    "\n",
    "data.head()"
   ]
  },
  {
   "cell_type": "code",
   "execution_count": null,
   "metadata": {},
   "outputs": [],
   "source": [
    "data.to_csv(\"C:\\\\Users\\\\Jay\\\\Desktop\\\\EPAT\\\\data.csv\")\n",
    "data.to_excel()"
   ]
  },
  {
   "cell_type": "code",
   "execution_count": null,
   "metadata": {},
   "outputs": [],
   "source": [
    "type(data)"
   ]
  },
  {
   "cell_type": "code",
   "execution_count": null,
   "metadata": {},
   "outputs": [],
   "source": [
    "# Import matplotlib for data visualization\n",
    "import matplotlib.pyplot as plt\n",
    "\n",
    "%matplotlib inline"
   ]
  },
  {
   "cell_type": "markdown",
   "metadata": {},
   "source": [
    "### Method-1"
   ]
  },
  {
   "cell_type": "code",
   "execution_count": null,
   "metadata": {},
   "outputs": [],
   "source": [
    "# Method 1\n",
    "plt.figure(figsize=(10, 6))\n",
    "\n",
    "plt.plot(data['Adj Close'])\n",
    "\n",
    "plt.show()"
   ]
  },
  {
   "cell_type": "markdown",
   "metadata": {},
   "source": [
    "##### Add title and axes labels to the chart"
   ]
  },
  {
   "cell_type": "code",
   "execution_count": null,
   "metadata": {},
   "outputs": [],
   "source": [
    "plt.figure(figsize=(12, 4))\n",
    "\n",
    "plt.plot(data['Adj Close'])\n",
    "\n",
    "plt.title(\"AAPL Closing Prices\")\n",
    "plt.xlabel(\"Dates\")\n",
    "plt.ylabel(\"Price\")\n",
    "\n",
    "plt.show()"
   ]
  },
  {
   "cell_type": "markdown",
   "metadata": {},
   "source": [
    "##### Add grid to the chart"
   ]
  },
  {
   "cell_type": "code",
   "execution_count": null,
   "metadata": {},
   "outputs": [],
   "source": [
    "plt.figure(figsize=(10, 6))\n",
    "\n",
    "plt.plot(data['Adj Close'])\n",
    "\n",
    "plt.title(\"AAPL Closing Prices\")\n",
    "plt.xlabel(\"Dates\")\n",
    "plt.ylabel(\"Price\")\n",
    "\n",
    "plt.grid()\n",
    "\n",
    "plt.show()"
   ]
  },
  {
   "cell_type": "markdown",
   "metadata": {},
   "source": [
    "### Method - 2"
   ]
  },
  {
   "cell_type": "code",
   "execution_count": null,
   "metadata": {},
   "outputs": [],
   "source": [
    "data[['Adj Close', 'Close']].plot(figsize=(10, 6))\n",
    "\n",
    "plt.title('AAPL Closing Prices')\n",
    "plt.show()"
   ]
  },
  {
   "cell_type": "markdown",
   "metadata": {},
   "source": [
    "### Plotting a histogram"
   ]
  },
  {
   "cell_type": "code",
   "execution_count": null,
   "metadata": {},
   "outputs": [],
   "source": [
    "import numpy as np\n",
    "\n",
    "data['returns'] = np.log(data['Adj Close'] / data['Adj Close'].shift(1))\n",
    "\n",
    "data.head()"
   ]
  },
  {
   "cell_type": "code",
   "execution_count": null,
   "metadata": {},
   "outputs": [],
   "source": [
    "plt.figure(figsize=(10, 6))\n",
    "plt.hist(data['returns'])\n",
    "# plt.plot(data['returns'])\n",
    "\n",
    "plt.xlabel('Returns')\n",
    "plt.ylabel('Counts')\n",
    "plt.title('Returns Distribution')\n",
    "\n",
    "plt.show()"
   ]
  },
  {
   "cell_type": "markdown",
   "metadata": {},
   "source": [
    "### Plotting a scatter plot"
   ]
  },
  {
   "cell_type": "code",
   "execution_count": null,
   "metadata": {},
   "outputs": [],
   "source": [
    "plt.figure(figsize=(10, 6))\n",
    "plt.scatter(data['Open'], data['High'])\n",
    "\n",
    "plt.xlabel('Open Price')\n",
    "plt.ylabel('Close Price')\n",
    "plt.title('Scatter Plot of Open & Close Prices')\n",
    "\n",
    "plt.show()"
   ]
  },
  {
   "cell_type": "markdown",
   "metadata": {},
   "source": [
    "## List of Python Libraries\n",
    "\n",
    "Here's my attempt to list various libraries that we'll be using during the course:\n",
    "\n",
    "- [pandas](https://pandas.pydata.org/): To perform data analysis\n",
    "- [NumPy](https://numpy.org/): For scientific computations\n",
    "- [datetime](https://docs.python.org/3/library/datetime.html): To handle datetime in Python\n",
    "- [Matplotlib](https://matplotlib.org/): For data visualization\n",
    "- [fbprophet](https://facebook.github.io/prophet/docs/quick_start.html): To forecast time-series data\n",
    "- [sklearn](https://scikit-learn.org/stable/): To perform data science tasks in Python\n",
    "- [TA-Lib](https://mrjbq7.github.io/ta-lib/): To compute technical indicators in Python\n",
    "- [yfinance](https://pypi.org/project/yfinance/): To download stock data from yfinance\n",
    "- [nsepy](https://nsepy.xyz/): To download Indian stock data from the NSE\n",
    "- [pandas_datareader](https://pandas-datareader.readthedocs.io/en/latest/): To download data from various free resources\n",
    "- [IBridgePy](https://www.ibridgepy.com) - To automate a strategy\n",
    "- [pyfolio](https://github.com/quantopian/pyfolio): To get insights into a strategy performance visually\n",
    "\n",
    "We'll not be using the following libraries actively, however, they are good source for downloading various data:\n",
    "\n",
    "- [Quandl](https://www.quandl.com/tools/python): To download stock and alternative data for various markets\n",
    "- [Alpha Vantage](https://www.alphavantage.co/): To download recent intraday stock data"
   ]
  },
  {
   "cell_type": "markdown",
   "metadata": {},
   "source": [
    "## Difference between Jupyter Notebook and JupyterLab\n",
    "\n",
    "#### Commonalities\n",
    "\n",
    "- Web-based interface\n",
    "- Accessibility\n",
    "\n",
    "#### Differences\n",
    "\n",
    "- User interface\n",
    "- File browser\n",
    "\n",
    "#### What to use?\n",
    "- Either can be used based on personal preference\n",
    "- From a development POV, there is not much you can do in one that you can’t do with the other.\n",
    "\n",
    "Please visit [this link](https://towardsdatascience.com/jupyter-lab-evolution-of-the-jupyter-notebook-5297cacde6b) to read about how JupyterLab evolved over time."
   ]
  }
 ],
 "metadata": {
  "kernelspec": {
   "display_name": "Python 3",
   "language": "python",
   "name": "python3"
  },
  "language_info": {
   "codemirror_mode": {
    "name": "ipython",
    "version": 3
   },
   "file_extension": ".py",
   "mimetype": "text/x-python",
   "name": "python",
   "nbconvert_exporter": "python",
   "pygments_lexer": "ipython3",
   "version": "3.8.3"
  }
 },
 "nbformat": 4,
 "nbformat_minor": 4
}
