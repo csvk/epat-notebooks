{
 "cells": [
  {
   "cell_type": "markdown",
   "metadata": {},
   "source": [
    "## PBQ-02 Tutorial Session\n",
    "\n",
    "### Author: Jay Parmar\n",
    "\n",
    "#### Created on: 22/08/2020"
   ]
  },
  {
   "cell_type": "markdown",
   "metadata": {},
   "source": [
    "### Today's Agenda\n",
    "\n",
    "- Loading stock data in pandas\n",
    "    - `pd.read_csv()`\n",
    "    - `df.head()`\n",
    "    - `df.tail()`\n",
    "    - `df.set_index()`\n",
    "    - `pd.to_datetime()`\n",
    "    - `df.info()`\n",
    "    - `df.index`\n",
    "- Extracting rows and columns from a dataframe\n",
    "    - `[]`\n",
    "    - `df.loc[]`\n",
    "    - `df.iloc[]`\n",
    "- Modifying data in a dataframe\n",
    "    - `df.pct_change()`\n",
    "    - `df.value_counts()`\n",
    "    - `np.where()`\n",
    "    - `del()`\n",
    "    - `pd.merge()`\n",
    "- Plotting Candlestick chart using Plotly"
   ]
  },
  {
   "cell_type": "code",
   "execution_count": null,
   "metadata": {},
   "outputs": [],
   "source": [
    "# Importing necessary libraries\n",
    "import numpy as np\n",
    "import pandas as pd\n",
    "import matplotlib.pyplot as plt\n",
    "from datetime import date\n",
    "import warnings\n",
    "\n",
    "%matplotlib inline\n",
    "warnings.filterwarnings('ignore')\n",
    "\n",
    "# Directing pandas not to use scientific notation while displaying float values\n",
    "# pd.set_option('display.float_format', lambda x: '%.5' % x)\n",
    "\n",
    "# To reset the pandas option\n",
    "# pd.reset_option('display.float_format')"
   ]
  },
  {
   "cell_type": "markdown",
   "metadata": {},
   "source": [
    "## Accessing Stock Data"
   ]
  },
  {
   "cell_type": "markdown",
   "metadata": {},
   "source": [
    "#### Method 1\n",
    "\n",
    "```python\n",
    "data = pd.read_csv('AAPL_Daily_Data.csv') # Read local data\n",
    "\n",
    "data.index # Check index\n",
    "\n",
    "data = data.set_index(data['Date']) # Set index\n",
    "\n",
    "data.set_index(data['Date'], inplace = True) # Set index\n",
    "\n",
    "data.index = pd.to_datetime(data.index) # Convert index to datetime\n",
    "\n",
    "data.info() # Print dataframe info\n",
    "```"
   ]
  },
  {
   "cell_type": "code",
   "execution_count": null,
   "metadata": {},
   "outputs": [],
   "source": [
    "# Example 1\n",
    "# Reading data from a local source\n"
   ]
  },
  {
   "cell_type": "code",
   "execution_count": null,
   "metadata": {},
   "outputs": [],
   "source": [
    "# Verify data head\n"
   ]
  },
  {
   "cell_type": "code",
   "execution_count": null,
   "metadata": {},
   "outputs": [],
   "source": [
    "# Verify data tail\n"
   ]
  },
  {
   "cell_type": "code",
   "execution_count": null,
   "metadata": {},
   "outputs": [],
   "source": [
    "# Check info\n"
   ]
  },
  {
   "cell_type": "code",
   "execution_count": null,
   "metadata": {},
   "outputs": [],
   "source": [
    "# Check index\n"
   ]
  },
  {
   "cell_type": "code",
   "execution_count": null,
   "metadata": {},
   "outputs": [],
   "source": [
    "# Set Index - Method 1\n"
   ]
  },
  {
   "cell_type": "code",
   "execution_count": null,
   "metadata": {},
   "outputs": [],
   "source": [
    "# Check index\n"
   ]
  },
  {
   "cell_type": "code",
   "execution_count": null,
   "metadata": {},
   "outputs": [],
   "source": [
    "# OR\n",
    "# Set Index using inplace - Method 2\n"
   ]
  },
  {
   "cell_type": "code",
   "execution_count": null,
   "metadata": {},
   "outputs": [],
   "source": [
    "# Check the index and its type\n"
   ]
  },
  {
   "cell_type": "code",
   "execution_count": null,
   "metadata": {},
   "outputs": [],
   "source": [
    "# Convert the index to datetime index\n"
   ]
  },
  {
   "cell_type": "code",
   "execution_count": null,
   "metadata": {},
   "outputs": [],
   "source": [
    "# Check the index and its type\n"
   ]
  },
  {
   "cell_type": "code",
   "execution_count": null,
   "metadata": {
    "scrolled": true
   },
   "outputs": [],
   "source": [
    "# Verify the dataframe info\n"
   ]
  },
  {
   "cell_type": "markdown",
   "metadata": {},
   "source": [
    "#### List the steps\n",
    "1. Read data\n",
    "2. Set the index\n",
    "3. Convert index to datetime"
   ]
  },
  {
   "cell_type": "markdown",
   "metadata": {},
   "source": [
    "#### Method 2\n",
    "\n",
    "```python\n",
    "data = pd.read_csv('AAPL_Daily_Data.csv', index_col=0, parse_dates=True) # Read local data\n",
    "```"
   ]
  },
  {
   "cell_type": "code",
   "execution_count": null,
   "metadata": {},
   "outputs": [],
   "source": [
    "# Example 2 - Recommended Method\n",
    "# Read the stock stock and set the index\n"
   ]
  },
  {
   "cell_type": "code",
   "execution_count": null,
   "metadata": {},
   "outputs": [],
   "source": [
    "# Verify the data head\n"
   ]
  },
  {
   "cell_type": "code",
   "execution_count": null,
   "metadata": {},
   "outputs": [],
   "source": [
    "# Check the info\n"
   ]
  },
  {
   "cell_type": "markdown",
   "metadata": {},
   "source": [
    "##### We answered the following questions:\n",
    "\n",
    "- How to read CSV file?\n",
    "- How to verify whether the data is loaded correctly or not?\n",
    "- How to set date column as an index?\n",
    "- How to read parse dates?\n",
    "\n",
    "We learnt/revised the following methods and attributes while answering the above questions:\n",
    "\n",
    "- `pd.read_csv()`\n",
    "- `df.head()`\n",
    "- `df.tail()`\n",
    "- `df.info()`\n",
    "- `pd.to_datetime()`\n",
    "- `df.set_index()`\n",
    "- `df.index`"
   ]
  },
  {
   "cell_type": "markdown",
   "metadata": {},
   "source": [
    "## Extracting the data"
   ]
  },
  {
   "cell_type": "markdown",
   "metadata": {},
   "source": [
    "##### Extracting Columns using `[]`\n",
    "\n",
    "```python\n",
    "data['Close'] # Extract a single column\n",
    "\n",
    "data[['Close', 'Adj Close']].head() # Extract multiple columns\n",
    "\n",
    "data[['Close', 'Adj Close']].plot(figsize=(10, 6)) # Plot extracted columns\n",
    "plt.show()\n",
    "```"
   ]
  },
  {
   "cell_type": "code",
   "execution_count": null,
   "metadata": {},
   "outputs": [],
   "source": [
    "# Example 3\n",
    "# Extracting a single column\n"
   ]
  },
  {
   "cell_type": "code",
   "execution_count": null,
   "metadata": {},
   "outputs": [],
   "source": [
    "# Checking its type\n"
   ]
  },
  {
   "cell_type": "code",
   "execution_count": null,
   "metadata": {},
   "outputs": [],
   "source": [
    "# Example 4\n",
    "# Extracting multiple columns\n"
   ]
  },
  {
   "cell_type": "code",
   "execution_count": null,
   "metadata": {},
   "outputs": [],
   "source": [
    "# Checking its type\n"
   ]
  },
  {
   "cell_type": "code",
   "execution_count": null,
   "metadata": {},
   "outputs": [],
   "source": [
    "# Plotting columns directly from a dataframe\n"
   ]
  },
  {
   "cell_type": "markdown",
   "metadata": {},
   "source": [
    "##### Extracting columns using `.loc[]` operator\n",
    "\n",
    "The syntax for `.loc[]` operator is `data.loc[row label, column label]`.\n",
    "\n",
    "```python\n",
    "data.loc[:, 'Close'] # Extract single column\n",
    "\n",
    "data.loc[:, ['Close', 'Adj Close']] # Extract multiple columns\n",
    "```"
   ]
  },
  {
   "cell_type": "code",
   "execution_count": null,
   "metadata": {},
   "outputs": [],
   "source": [
    "# Example 5\n",
    "# Extracting a single column\n"
   ]
  },
  {
   "cell_type": "code",
   "execution_count": null,
   "metadata": {},
   "outputs": [],
   "source": [
    "# Example 6\n",
    "# Extracting multiple columns\n"
   ]
  },
  {
   "cell_type": "markdown",
   "metadata": {},
   "source": [
    "##### Extracting rows using `.loc[]`\n",
    "\n",
    "```python\n",
    "data.loc['2019-12-20'] # Extract a single row\n",
    "\n",
    "data.loc['2019-12-20':'2019-12-31'] # Extract multiple rows\n",
    "\n",
    "data.loc['2019-12'] # Extract rows for a month\n",
    "\n",
    "data['2012'] # Extract rows for a year\n",
    "```"
   ]
  },
  {
   "cell_type": "code",
   "execution_count": null,
   "metadata": {},
   "outputs": [],
   "source": [
    "# Example 7\n",
    "# Extracting a single row\n"
   ]
  },
  {
   "cell_type": "code",
   "execution_count": null,
   "metadata": {},
   "outputs": [],
   "source": [
    "# Example 8\n",
    "# Extracting multiple rows\n"
   ]
  },
  {
   "cell_type": "code",
   "execution_count": null,
   "metadata": {},
   "outputs": [],
   "source": [
    "# Example 9\n",
    "# Extracting a single month data from the dataframe\n"
   ]
  },
  {
   "cell_type": "code",
   "execution_count": null,
   "metadata": {},
   "outputs": [],
   "source": [
    "# Example 10\n",
    "# Extracting a single year data from the dataframe\n"
   ]
  },
  {
   "cell_type": "markdown",
   "metadata": {},
   "source": [
    "##### Extracting rows and columns together using `.loc[]`\n",
    "\n",
    "```python\n",
    "data.loc['2019-08':'2020-04', 'Open':'Close'] # Extract OHLC data from Aug 2019 to April 2020 \n",
    "```"
   ]
  },
  {
   "cell_type": "code",
   "execution_count": null,
   "metadata": {},
   "outputs": [],
   "source": [
    "# Example 11\n",
    "# Extracting a subset of rows and columns\n"
   ]
  },
  {
   "cell_type": "markdown",
   "metadata": {},
   "source": [
    "##### Extracting columns using `.iloc[]` operator\n",
    "\n",
    "The syntax for `.iloc[]` operator is `data.iloc[row index/es, column index/es]`\n",
    "\n",
    "```python\n",
    "data.iloc[:, 4] # Extract a single column\n",
    "\n",
    "data.iloc[:, [4, 5]] # Extract multiple columns\n",
    "\n",
    "data.iloc[0] # Extract the first row\n",
    "\n",
    "data.iloc[-1] # Extract the last row\n",
    "\n",
    "data.iloc[10] # Extract a single row\n",
    "\n",
    "data.iloc[10:20] # Extract multiple rows\n",
    "```"
   ]
  },
  {
   "cell_type": "code",
   "execution_count": null,
   "metadata": {},
   "outputs": [],
   "source": [
    "# Example 12\n",
    "# Extracting a single column\n"
   ]
  },
  {
   "cell_type": "code",
   "execution_count": null,
   "metadata": {},
   "outputs": [],
   "source": [
    "# Example 13\n",
    "# Extracting multiple columns\n"
   ]
  },
  {
   "cell_type": "markdown",
   "metadata": {},
   "source": [
    "##### Extracting rows using `.iloc[]`"
   ]
  },
  {
   "cell_type": "code",
   "execution_count": null,
   "metadata": {},
   "outputs": [],
   "source": [
    "# Example 14\n",
    "# Extracting the first row of a dataframe\n"
   ]
  },
  {
   "cell_type": "code",
   "execution_count": null,
   "metadata": {},
   "outputs": [],
   "source": [
    "# Extracting the last row of a dataframe\n"
   ]
  },
  {
   "cell_type": "code",
   "execution_count": null,
   "metadata": {},
   "outputs": [],
   "source": [
    "# Extracting a single row\n"
   ]
  },
  {
   "cell_type": "code",
   "execution_count": null,
   "metadata": {},
   "outputs": [],
   "source": [
    "# Example 15\n",
    "# Extracting multiple rows\n"
   ]
  },
  {
   "cell_type": "markdown",
   "metadata": {},
   "source": [
    "##### Extracting rows and columns together using `.loc[]`\n",
    "\n",
    "```python\n",
    "data.iloc[100:200, 0:4] # Extract rows and columns from the dataframe\n",
    "```"
   ]
  },
  {
   "cell_type": "code",
   "execution_count": null,
   "metadata": {},
   "outputs": [],
   "source": [
    "# Example 16\n",
    "# Extracting a subset of rows and columns\n"
   ]
  },
  {
   "cell_type": "markdown",
   "metadata": {},
   "source": [
    "##### We answered the following questions:\n",
    "\n",
    "- How to extract a column from a dataframe? - *Using `[]`, `.loc[]`, and `.iloc[]`*\n",
    "- How to extract multiple columns from a dataframe? - *Using `[]`, `.loc[]`, and `.iloc[]`*\n",
    "- How to extract a row from a dataframe? - *Using `.loc[]`, and `.iloc[]`*\n",
    "- How to extract multiple rows from a dataframe? - *Using `.loc[]`, and `.iloc[]`*\n",
    "- How to extract multiple rows and columns together? - *Using `.loc[]`, and `.iloc[]`*\n",
    "\n",
    "We learnt/revised the following methods and attributes while answering the above questions:\n",
    "\n",
    "- `df.iloc[]`\n",
    "- `df.loc[]`"
   ]
  },
  {
   "cell_type": "markdown",
   "metadata": {},
   "source": [
    "## Modifying a dataframe"
   ]
  },
  {
   "cell_type": "markdown",
   "metadata": {},
   "source": [
    "##### Adding new columns"
   ]
  },
  {
   "cell_type": "code",
   "execution_count": null,
   "metadata": {},
   "outputs": [],
   "source": [
    "# Example 17\n",
    "# Adding a new column to the dataframe and assigning a static value\n"
   ]
  },
  {
   "cell_type": "code",
   "execution_count": null,
   "metadata": {},
   "outputs": [],
   "source": [
    "# Counting the values in a column - Using value counts\n"
   ]
  },
  {
   "cell_type": "code",
   "execution_count": null,
   "metadata": {},
   "outputs": [],
   "source": [
    "# Example 18\n",
    "# Adding a new column to the dataframe and assigning dynamic value\n",
    "\n",
    "# E-18A - Calculate percentage returns\n",
    "# E-18B - Convert prices to log prices\n",
    "# E-18C - Generate log returns\n"
   ]
  },
  {
   "cell_type": "code",
   "execution_count": null,
   "metadata": {},
   "outputs": [],
   "source": [
    "# Example 19\n",
    "# Adding a new column to the dataframe and assigning values based on a logical condition\n",
    "data['movement'] = np.where(data['percentage_change'] > 0, 1, \n",
    "                            np.where(data['percentage_change'] < 0, -1, 0))"
   ]
  },
  {
   "cell_type": "code",
   "execution_count": null,
   "metadata": {},
   "outputs": [],
   "source": [
    "# Counting the values in a column\n",
    "data['movement'].value_counts()"
   ]
  },
  {
   "cell_type": "code",
   "execution_count": null,
   "metadata": {},
   "outputs": [],
   "source": [
    "# Plotting it\n",
    "data['movement'][:100].plot(figsize=(12, 4))"
   ]
  },
  {
   "cell_type": "markdown",
   "metadata": {},
   "source": [
    "##### Removing columns\n",
    "\n",
    "```python\n",
    "del(data['returns'])\n",
    "\n",
    "data.drop(columns=['percentage_change', 'movement'], inplace=True)\n",
    "```"
   ]
  },
  {
   "cell_type": "code",
   "execution_count": null,
   "metadata": {},
   "outputs": [],
   "source": [
    "# Example 20\n",
    "# Dropping a column using the built-in del() method\n"
   ]
  },
  {
   "cell_type": "code",
   "execution_count": null,
   "metadata": {},
   "outputs": [],
   "source": [
    "# Check the updated dataframes\n"
   ]
  },
  {
   "cell_type": "code",
   "execution_count": null,
   "metadata": {},
   "outputs": [],
   "source": [
    "# Example 21\n",
    "# Dropping columns using the drop() method\n"
   ]
  },
  {
   "cell_type": "code",
   "execution_count": null,
   "metadata": {},
   "outputs": [],
   "source": [
    "# Check the updated dataframes\n"
   ]
  },
  {
   "cell_type": "markdown",
   "metadata": {},
   "source": [
    "##### Filtering a dataframe using `.loc[]`\n",
    "\n",
    "```python\n",
    "data.loc[data['Close'] > 250] # Filter a dataframe\n",
    "\n",
    "data.loc[(data['Close'] > 200) & (data['Close'] < 250)] # Filter a dataframe using multiple conditions\n",
    "```"
   ]
  },
  {
   "cell_type": "code",
   "execution_count": null,
   "metadata": {},
   "outputs": [],
   "source": [
    "# Example 22\n",
    "# Filtering the dataframe for all close prices greater than 250\n"
   ]
  },
  {
   "cell_type": "code",
   "execution_count": null,
   "metadata": {},
   "outputs": [],
   "source": [
    "# Example 23\n",
    "# Filtering the dataframe using multiple conditions\n"
   ]
  },
  {
   "cell_type": "markdown",
   "metadata": {},
   "source": [
    "##### Filtering the dataframe using `.iloc[]` and `np.where()`\n",
    "\n",
    "```python\n",
    "data.iloc[np.where(data['Close'] > 250)] # Filter all rows where close price is greater than 250\n",
    "```"
   ]
  },
  {
   "cell_type": "code",
   "execution_count": null,
   "metadata": {},
   "outputs": [],
   "source": [
    "# Example 24\n",
    "# Filtering the dataframe for all close prices greater than 250\n"
   ]
  },
  {
   "cell_type": "markdown",
   "metadata": {},
   "source": [
    "##### Merging two dataframes\n",
    "\n",
    "```python\n",
    "tcs_data = pd.read_csv('TCS_Data.csv', index_col=0, parse_dates=True) # Read TCS data\n",
    "infy_data = pd.read_csv('INFY_Data.csv', index_col=0, parse_dates=True) # Read INFY data\n",
    "\n",
    "merged_data = pd.merge(tcs_data['Close'], infy_data['Close'], on=tcs_data.index, suffixes=('_TCS', '_INFY')) # Merge dataframes\n",
    "```"
   ]
  },
  {
   "cell_type": "code",
   "execution_count": null,
   "metadata": {},
   "outputs": [],
   "source": [
    "# Example 25\n",
    "# Reading data\n",
    "tcs_data = pd.read_csv('TCS_Data.csv', index_col=0, parse_dates=True)\n",
    "infy_data = pd.read_csv('INFY_Data.csv', index_col=0, parse_dates=True)"
   ]
  },
  {
   "cell_type": "code",
   "execution_count": null,
   "metadata": {},
   "outputs": [],
   "source": [
    "# Check TCS dataframe\n"
   ]
  },
  {
   "cell_type": "code",
   "execution_count": null,
   "metadata": {},
   "outputs": [],
   "source": [
    "# Check INFY dataframe\n"
   ]
  },
  {
   "cell_type": "code",
   "execution_count": null,
   "metadata": {},
   "outputs": [],
   "source": [
    "# Merging both dataframes based on dates\n",
    "merged_data = pd.merge(tcs_data['Close'], infy_data['Close'], on=tcs_data.index, suffixes=('_TCS', '_INFY'))"
   ]
  },
  {
   "cell_type": "code",
   "execution_count": null,
   "metadata": {},
   "outputs": [],
   "source": [
    "# Check merged dataframe\n"
   ]
  },
  {
   "cell_type": "markdown",
   "metadata": {},
   "source": [
    "##### We answered the following questions:\n",
    "\n",
    "- How to add new columns? - Both with *static* and *dynamic* values.\n",
    "- How to drop columns? - Using `del()` and `.drop()` methods.\n",
    "- How to filtering columns? - Using `.loc[]` and `.iloc[]` operators.\n",
    "- How to count values in a given column?\n",
    "- How to merge two dataframes? - Using `pd.merge()` method.\n",
    "\n",
    "We learnt/revised the following methods and attributes while answering the above questions:\n",
    "\n",
    "- `df.pct_change()`\n",
    "- `df.value_counts()`\n",
    "- `np.where()`\n",
    "- `del()`\n",
    "- `pd.merge()`"
   ]
  },
  {
   "cell_type": "markdown",
   "metadata": {},
   "source": [
    "##### Home exercises:\n",
    "\n",
    "- Sorting a dataframe using `df.sort_values()`.\n",
    "- Renaming dataframe columns using `df.rename()`.\n",
    "- Appending a new row using `df.append()`.\n",
    "- Dropping dataframe rows using `df.drop()`."
   ]
  },
  {
   "cell_type": "markdown",
   "metadata": {},
   "source": [
    "### Plotting Candlestick Charts using Plotly"
   ]
  },
  {
   "cell_type": "code",
   "execution_count": null,
   "metadata": {},
   "outputs": [],
   "source": [
    "# To install plotly library\n",
    "# !pip install plotly"
   ]
  },
  {
   "cell_type": "code",
   "execution_count": null,
   "metadata": {},
   "outputs": [],
   "source": [
    "# Example 26\n",
    "# Import plotly library\n",
    "import plotly.graph_objs as go"
   ]
  },
  {
   "cell_type": "code",
   "execution_count": null,
   "metadata": {},
   "outputs": [],
   "source": [
    "# Create chart object\n",
    "chart_data = [go.Candlestick(x=data.index[:100], \n",
    "                             open=data['Open'][:100], \n",
    "                             high=data['High'][:100], \n",
    "                             low=data['Low'][:100],\n",
    "                             close=data['Close'][:100])]\n",
    "\n",
    "# Load chart data\n",
    "fig = go.Figure(data=chart_data)\n",
    "\n",
    "# Update chart layout\n",
    "fig.update_layout(xaxis_rangeslider_visible=False, xaxis_showticklabels=True, yaxis_showticklabels=True)\n",
    "\n",
    "# Plot chart\n",
    "fig.show()"
   ]
  }
 ],
 "metadata": {
  "kernelspec": {
   "display_name": "Python 3",
   "language": "python",
   "name": "python3"
  },
  "language_info": {
   "codemirror_mode": {
    "name": "ipython",
    "version": 3
   },
   "file_extension": ".py",
   "mimetype": "text/x-python",
   "name": "python",
   "nbconvert_exporter": "python",
   "pygments_lexer": "ipython3",
   "version": "3.8.3"
  }
 },
 "nbformat": 4,
 "nbformat_minor": 4
}
