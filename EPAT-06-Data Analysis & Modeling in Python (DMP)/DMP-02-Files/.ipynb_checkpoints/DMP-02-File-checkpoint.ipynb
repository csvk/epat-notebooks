{
 "cells": [
  {
   "cell_type": "markdown",
   "metadata": {
    "slideshow": {
     "slide_type": "slide"
    }
   },
   "source": [
    "# DMP-02: Introduction to OOP\n",
    "#### Author and Instructor:  Ashutosh Dave, FRM"
   ]
  },
  {
   "cell_type": "markdown",
   "metadata": {
    "slideshow": {
     "slide_type": "slide"
    }
   },
   "source": [
    "## Agenda for today's session\n",
    "#### Part 1: Intro to OOP concepts\n",
    "- Dunders\n",
    "- Intro to and advantages of OOP\n",
    "- Class: Class-variables/attributes & class-methods\n",
    "- Object/Instance: Instance-variables/attributes & instance-methods\n",
    "- Static methods\n",
    "- Inheritance\n",
    "- Some useful functions\n",
    "- The 'super' keyword\n",
    "- Multiple inheritance\n",
    "\n",
    "#### Part 2: Application of OOP in backtesting a trading strategy\n",
    "- Example of backtesting a trading strategy in OOP format\n",
    "- Using inheritance to create new/modify existing strategies\n",
    "- Testing multiple strategies on the same stock\n",
    "- Testing the same strategy on multiple stocks"
   ]
  },
  {
   "cell_type": "markdown",
   "metadata": {},
   "source": [
    "## Approach for this session:\n",
    "- Intuitive understanding of OOP concepts\n",
    "- Practical implementation of OOP for quant trading/analysis\n",
    "- Examples"
   ]
  },
  {
   "cell_type": "code",
   "execution_count": null,
   "metadata": {},
   "outputs": [],
   "source": [
    "from IPython.core.interactiveshell import InteractiveShell\n",
    "InteractiveShell.ast_node_interactivity = \"all\"\n",
    "\n",
    "import warnings\n",
    "warnings.filterwarnings('ignore')"
   ]
  },
  {
   "cell_type": "markdown",
   "metadata": {},
   "source": [
    "# Part 1: Intro to OOP concepts"
   ]
  },
  {
   "cell_type": "markdown",
   "metadata": {},
   "source": [
    "## Dunders"
   ]
  },
  {
   "cell_type": "markdown",
   "metadata": {},
   "source": [
    "- In-built methods/attributes with some special characteristics, \n",
    "- but for all practical purposes, you can treat them as normal methods/attributes only"
   ]
  },
  {
   "cell_type": "code",
   "execution_count": null,
   "metadata": {},
   "outputs": [],
   "source": [
    "a = 2"
   ]
  },
  {
   "cell_type": "code",
   "execution_count": null,
   "metadata": {},
   "outputs": [],
   "source": [
    "a + 2"
   ]
  },
  {
   "cell_type": "code",
   "execution_count": null,
   "metadata": {},
   "outputs": [],
   "source": [
    "# a+2 calls the following behind the scene\n",
    "a.__add__(2)"
   ]
  },
  {
   "cell_type": "code",
   "execution_count": null,
   "metadata": {},
   "outputs": [],
   "source": [
    "b = [1,2,3]"
   ]
  },
  {
   "cell_type": "code",
   "execution_count": null,
   "metadata": {},
   "outputs": [],
   "source": [
    "len(b)"
   ]
  },
  {
   "cell_type": "code",
   "execution_count": null,
   "metadata": {},
   "outputs": [],
   "source": [
    "# len(b) utilizes the following behind the scene\n",
    "b.__len__()"
   ]
  },
  {
   "cell_type": "code",
   "execution_count": null,
   "metadata": {},
   "outputs": [],
   "source": [
    "import numpy as np"
   ]
  },
  {
   "cell_type": "code",
   "execution_count": null,
   "metadata": {},
   "outputs": [],
   "source": [
    "dir(np)"
   ]
  },
  {
   "cell_type": "code",
   "execution_count": null,
   "metadata": {},
   "outputs": [],
   "source": [
    "np.__version__\n",
    "np.__package__"
   ]
  },
  {
   "cell_type": "code",
   "execution_count": null,
   "metadata": {},
   "outputs": [],
   "source": [
    "print(np.__doc__)\n",
    "#dir(np)"
   ]
  },
  {
   "cell_type": "code",
   "execution_count": null,
   "metadata": {},
   "outputs": [],
   "source": [
    "# When we try to create an object of a class, we need a constructor,\n",
    "# which is the __init__ dunder method"
   ]
  },
  {
   "cell_type": "markdown",
   "metadata": {},
   "source": [
    "## Intro to Object orientation"
   ]
  },
  {
   "cell_type": "markdown",
   "metadata": {},
   "source": [
    "Object-orientation is a way of programming where we work by **defining a template of the generalized concept** of something along with its associated attributes and methods.\n",
    "\n",
    "**We call this generalized concept a 'class'**, which is like a **template or blueprint** which can be used to create specific instances of that generalized concept. These **specific instances are called 'objects'.**\n",
    "\n",
    "**Everything in Python is an 'object'.**"
   ]
  },
  {
   "cell_type": "markdown",
   "metadata": {},
   "source": [
    "## Why use OOP?"
   ]
  },
  {
   "cell_type": "markdown",
   "metadata": {},
   "source": [
    "- Get data and functions required for a task under one **systematic structure**\n",
    "- Classes are **highly flexible**, so later on you can easily modify or build upon existing classes to extend your opertions\n",
    "- **Leveraging existing code** saves time"
   ]
  },
  {
   "cell_type": "code",
   "execution_count": null,
   "metadata": {},
   "outputs": [],
   "source": [
    "# Python comes with some built-in classes, such as int, str, list, float, function etc.\n",
    "# 2 objects of the 'float' class\n",
    "a = 4.3\n",
    "b = 3.2\n",
    "\n",
    "type(a)\n",
    "type(b)"
   ]
  },
  {
   "cell_type": "code",
   "execution_count": null,
   "metadata": {},
   "outputs": [],
   "source": [
    "#attribute/property linked to the class 'float'\n",
    "a.imag"
   ]
  },
  {
   "cell_type": "code",
   "execution_count": null,
   "metadata": {},
   "outputs": [],
   "source": [
    "#method linked to the class 'float'\n",
    "a.is_integer()"
   ]
  },
  {
   "cell_type": "markdown",
   "metadata": {},
   "source": [
    "## Creating custom classes and objects"
   ]
  },
  {
   "cell_type": "markdown",
   "metadata": {},
   "source": [
    "### Class: \n",
    "- class-attributes \n",
    "- class-methods"
   ]
  },
  {
   "cell_type": "code",
   "execution_count": null,
   "metadata": {},
   "outputs": [],
   "source": [
    "# Class variables/attributes and class-methods belong to the class itself and do not vary based on the instances\n",
    "# However, it is possible to change a class variable for an object"
   ]
  },
  {
   "cell_type": "code",
   "execution_count": null,
   "metadata": {},
   "outputs": [],
   "source": [
    "class student:\n",
    "    goal = 'get educated'  # a class attribute\n",
    "    \n",
    "    @classmethod\n",
    "    def print_goal(cls):    # a class method\n",
    "        print(cls.goal)\n",
    "        print('learn, earn and enjoy!')\n",
    "        "
   ]
  },
  {
   "cell_type": "code",
   "execution_count": null,
   "metadata": {},
   "outputs": [],
   "source": [
    "# All instances of the class will have the class properties unless changed\n",
    "\n",
    "# instantiating an object 'a'\n",
    "a=student()\n",
    "a.goal\n",
    "a.print_goal()\n",
    "\n",
    "# instantiating an object 'b'\n",
    "b=student()\n",
    "b.goal\n",
    "b.print_goal()"
   ]
  },
  {
   "cell_type": "code",
   "execution_count": null,
   "metadata": {},
   "outputs": [],
   "source": [
    "# changing attribute value for b\n",
    "b.goal='get educated plus get a job'\n",
    "b.goal"
   ]
  },
  {
   "cell_type": "code",
   "execution_count": null,
   "metadata": {},
   "outputs": [],
   "source": [
    "# changing method for b\n",
    "def dough():\n",
    "    return 'make_money!'\n",
    "b.print_goal = dough \n",
    "\n",
    "b.print_goal()"
   ]
  },
  {
   "cell_type": "markdown",
   "metadata": {},
   "source": [
    "### Object/instance: \n",
    " - instance-attributes \n",
    " - instance-methods"
   ]
  },
  {
   "cell_type": "code",
   "execution_count": null,
   "metadata": {},
   "outputs": [],
   "source": [
    "# instance variables are owned by the instance/object of the class\n",
    "# so they vary depending on the details of the specific objects"
   ]
  },
  {
   "cell_type": "code",
   "execution_count": null,
   "metadata": {},
   "outputs": [],
   "source": [
    "# instance methods can access unique data/variables of an instance/object\n",
    "# instance methods are most common type of methods you will find in a class"
   ]
  },
  {
   "cell_type": "code",
   "execution_count": null,
   "metadata": {},
   "outputs": [],
   "source": [
    "# pay attention to the '__init__' constructor and the 'self' word\n",
    "\n",
    "class student:\n",
    "    goal = 'get educated'  # a class attribute\n",
    "    \n",
    "    @classmethod\n",
    "    def print_goal(cls):    # a class method\n",
    "        print(cls.goal)\n",
    "        print('learn, earn and enjoy!')\n",
    "    \n",
    "    # initialization function required to construct different objects/instances\n",
    "    def __init__(self, science_marks, arts_marks):  \n",
    "        self.science = science_marks    # instance attribute 1\n",
    "        self.arts = arts_marks    #  instance attribute 2\n",
    "        \n",
    "    def total_score(self):  # instance method\n",
    "        print('Total score is:',self.science+self.arts )\n",
    "    "
   ]
  },
  {
   "cell_type": "code",
   "execution_count": null,
   "metadata": {},
   "outputs": [],
   "source": [
    "#object/instance of class 'dad' with specific characteristics\n",
    "John = student(5,10)"
   ]
  },
  {
   "cell_type": "code",
   "execution_count": null,
   "metadata": {},
   "outputs": [],
   "source": [
    "John.total_score()"
   ]
  },
  {
   "cell_type": "code",
   "execution_count": null,
   "metadata": {},
   "outputs": [],
   "source": [
    "John.goal"
   ]
  },
  {
   "cell_type": "code",
   "execution_count": null,
   "metadata": {},
   "outputs": [],
   "source": [
    "# As John is an indtance of class 'student', the class attributes and class methods still hold\n",
    "John.goal\n",
    "John.print_goal()"
   ]
  },
  {
   "cell_type": "code",
   "execution_count": null,
   "metadata": {},
   "outputs": [],
   "source": [
    "# But John has some unique properties too specific to him!\n",
    "#'self' has been replaced by the name of the object 'John' as seen below:\n",
    "John.science\n",
    "John.arts\n",
    "John.total_score()"
   ]
  },
  {
   "cell_type": "markdown",
   "metadata": {},
   "source": [
    "## Static methods"
   ]
  },
  {
   "cell_type": "code",
   "execution_count": null,
   "metadata": {},
   "outputs": [],
   "source": [
    "# instance methods pass 'self' as the first argument\n",
    "# class methods pass 'cls' as the first argument\n",
    "# static methods don't pass 'self' or 'cls', as static methods do not depend on or have access to any instance or class data\n",
    "# they are just normal functions under the scope of a class"
   ]
  },
  {
   "cell_type": "code",
   "execution_count": null,
   "metadata": {},
   "outputs": [],
   "source": [
    "class student:\n",
    "    goal = 'get educated'  # a class attribute\n",
    "    \n",
    "    @classmethod\n",
    "    def print_goal(cls):    # a class method\n",
    "        print(cls.goal)\n",
    "        print('learn, earn and enjoy!')\n",
    "    \n",
    "    # initialization function required to construct objects/instances\n",
    "    def __init__(self, science_marks, arts_marks):  \n",
    "        self.science = science_marks    # instance attribute 1\n",
    "        self.arts = arts_marks    #  instance attribute 2\n",
    "        \n",
    "    def total_score(self):  # an instance method\n",
    "        print('Total score is:',self.science+self.arts )\n",
    "    \n",
    "    @staticmethod\n",
    "    def print_current_year(year): # a static method\n",
    "        print('The current year is:',year)"
   ]
  },
  {
   "cell_type": "code",
   "execution_count": null,
   "metadata": {},
   "outputs": [],
   "source": [
    "student.print_current_year(2020)"
   ]
  },
  {
   "cell_type": "markdown",
   "metadata": {},
   "source": [
    "## Inheritance: subclasses/ child classes"
   ]
  },
  {
   "cell_type": "code",
   "execution_count": null,
   "metadata": {},
   "outputs": [],
   "source": [
    "# Inherit all the attributes and methods from the parent class and also add new functionality"
   ]
  },
  {
   "cell_type": "code",
   "execution_count": null,
   "metadata": {},
   "outputs": [],
   "source": [
    "# A subclass/child class of original class 'student'\n",
    "class sporty_student(student): \n",
    "    pass"
   ]
  },
  {
   "cell_type": "code",
   "execution_count": null,
   "metadata": {},
   "outputs": [],
   "source": [
    "sporty_student.goal"
   ]
  },
  {
   "cell_type": "code",
   "execution_count": null,
   "metadata": {},
   "outputs": [],
   "source": [
    "sporty_student."
   ]
  },
  {
   "cell_type": "code",
   "execution_count": null,
   "metadata": {},
   "outputs": [],
   "source": []
  },
  {
   "cell_type": "code",
   "execution_count": null,
   "metadata": {},
   "outputs": [],
   "source": []
  },
  {
   "cell_type": "code",
   "execution_count": null,
   "metadata": {},
   "outputs": [],
   "source": []
  },
  {
   "cell_type": "code",
   "execution_count": null,
   "metadata": {},
   "outputs": [],
   "source": [
    "help(sporty_student)"
   ]
  },
  {
   "cell_type": "code",
   "execution_count": null,
   "metadata": {},
   "outputs": [],
   "source": [
    "# Customizing the subclass\n",
    "class sporty_student(student): \n",
    "    goal = 'get educated and win some trophies!'"
   ]
  },
  {
   "cell_type": "code",
   "execution_count": null,
   "metadata": {},
   "outputs": [],
   "source": [
    "Jack = sporty_student(4,9)\n",
    "\n",
    "Jack.goal"
   ]
  },
  {
   "cell_type": "code",
   "execution_count": null,
   "metadata": {},
   "outputs": [],
   "source": [
    "Jack.total_score()"
   ]
  },
  {
   "cell_type": "markdown",
   "metadata": {},
   "source": [
    "## Some useful functionalities"
   ]
  },
  {
   "cell_type": "code",
   "execution_count": null,
   "metadata": {},
   "outputs": [],
   "source": [
    "# Some functions to check\n",
    "#isinstance(Jack,student)\n",
    "isinstance(Jack,sporty_student)"
   ]
  },
  {
   "cell_type": "code",
   "execution_count": null,
   "metadata": {},
   "outputs": [],
   "source": [
    "isinstance(Jack,student)"
   ]
  },
  {
   "cell_type": "code",
   "execution_count": null,
   "metadata": {},
   "outputs": [],
   "source": [
    "issubclass(sporty_student,student)"
   ]
  },
  {
   "cell_type": "code",
   "execution_count": null,
   "metadata": {},
   "outputs": [],
   "source": [
    "# __dict__  attribute gives complete details about the properties of any object (even a class is an object in Python) in\n",
    "# the form of a mapping or dictionary\n",
    "Jack.__dict__"
   ]
  },
  {
   "cell_type": "code",
   "execution_count": null,
   "metadata": {},
   "outputs": [],
   "source": [
    "# family tree\n",
    "# The 'object' class is the primary ancestor of all classes\n",
    "sporty_student.__mro__"
   ]
  },
  {
   "cell_type": "markdown",
   "metadata": {},
   "source": [
    "## The 'super' keyword "
   ]
  },
  {
   "cell_type": "code",
   "execution_count": null,
   "metadata": {},
   "outputs": [],
   "source": [
    "# Enjoy the best of both worlds. Overwrite/customize a method in child\n",
    "#but at the same time access the properties from a method of same name from parent class using super()"
   ]
  },
  {
   "cell_type": "code",
   "execution_count": null,
   "metadata": {},
   "outputs": [],
   "source": [
    "# parent class\n",
    "class parent1():\n",
    "    def __init__(self, age):\n",
    "        self.age = age # instance \n",
    "        print('I come from parent1 __init__')\n",
    "        print('My age is:',self.age)\n",
    "\n",
    "# a subclass with no __init__ of its own\n",
    "class child(parent1):\n",
    "    pass        \n",
    "\n",
    "\n",
    "# instance of the subclass\n",
    "jack = child(5)"
   ]
  },
  {
   "cell_type": "code",
   "execution_count": null,
   "metadata": {},
   "outputs": [],
   "source": [
    "# parent class\n",
    "class parent1():\n",
    "    def __init__(self, age):\n",
    "        self.age = age\n",
    "        print('I come from parent1 __init__')\n",
    "        print('My age is:',self.age)\n",
    "\n",
    "# A subclass with its own __init__        \n",
    "class child(parent1):\n",
    "    def __init__(self,grade):\n",
    "        self.grade = grade\n",
    "        print('I come from child __init__')  \n",
    "        print('My grade is:',self.grade)\n",
    "\n",
    "# instance of the subclass\n",
    "jack = child('A')"
   ]
  },
  {
   "cell_type": "code",
   "execution_count": null,
   "metadata": {},
   "outputs": [],
   "source": [
    "# parent class\n",
    "class parent1():\n",
    "    def __init__(self, age):\n",
    "        self.age = age\n",
    "        print('I come from parent1 __init__')\n",
    "        print('My age is:',self.age)\n",
    "\n",
    "        \n",
    "# A subclass with its own __init__  but still accessing the __init__ of its parent as well     \n",
    "class child(parent1):\n",
    "    def __init__(self,grade,age):\n",
    "        self.grade = grade\n",
    "        print('I come from child __init__')\n",
    "        print('My grade is:',self.grade)\n",
    "        super().__init__(age)   # accessing the __init__ of parent using super()\n",
    "\n",
    "\n",
    "# instance of the subclass\n",
    "jack = child('A',5)"
   ]
  },
  {
   "cell_type": "markdown",
   "metadata": {},
   "source": [
    "## Multiple inheritance"
   ]
  },
  {
   "cell_type": "code",
   "execution_count": null,
   "metadata": {},
   "outputs": [],
   "source": [
    "# What if we have more than one parent classes?\n",
    "# Then, we need to call the methods from parent classes explicitly if we want to access them"
   ]
  },
  {
   "cell_type": "code",
   "execution_count": null,
   "metadata": {},
   "outputs": [],
   "source": [
    "# parent class 1\n",
    "class parent1():\n",
    "    def __init__(self, age):\n",
    "        self.age = age\n",
    "        print('I come from parent1 __init__')\n",
    "        print('My age is:',self.age)\n",
    "        \n",
    "# parent class 2\n",
    "class parent2():\n",
    "    def __init__(self, gender):\n",
    "        self.gender = gender\n",
    "        print('I come from parent2 __init__')\n",
    "        print('My gender is:',self.gender)\n",
    " \n",
    " # A child class with two parent classes and  with its own __init__  and instance attribute     \n",
    "class child(parent1, parent2):\n",
    "    def __init__(self,grade,age,gender):\n",
    "        self.grade = grade\n",
    "        print('I come from child __init__')\n",
    "        print('My grade is:',self.grade)\n",
    "        parent1.__init__(self,age)   # accessing the __init__ of parent1  explicitly\n",
    "        parent2.__init__(self,gender)   # accessing the __init__ of parent2 explicitly\n",
    "\n",
    "\n",
    "# instance of the subclass\n",
    "jack = child('A',5,'male')"
   ]
  },
  {
   "cell_type": "code",
   "execution_count": null,
   "metadata": {},
   "outputs": [],
   "source": [
    "# The order is from left to right\n",
    "child.__mro__"
   ]
  },
  {
   "cell_type": "code",
   "execution_count": null,
   "metadata": {},
   "outputs": [],
   "source": [
    " # here we specify parent2 to the left of parent1    \n",
    "class child(parent2, parent1):\n",
    "    def __init__(self,grade,age,gender):\n",
    "        self.grade = grade\n",
    "        print('I come from child __init__')\n",
    "        print('My grade is:',self.grade)\n",
    "        parent1.__init__(self,age)   # accessing the __init__ of parent1  explicitly\n",
    "        parent2.__init__(self,gender)   # accessing the __init__ of parent2 explicitly\n",
    "    "
   ]
  },
  {
   "cell_type": "code",
   "execution_count": null,
   "metadata": {},
   "outputs": [],
   "source": [
    "# The order is from left to right\n",
    "child.__mro__"
   ]
  },
  {
   "cell_type": "markdown",
   "metadata": {
    "heading_collapsed": true
   },
   "source": [
    "## Examples of popular built-in classes: list, dict, ndarray, DataFrame"
   ]
  },
  {
   "cell_type": "code",
   "execution_count": null,
   "metadata": {},
   "outputs": [],
   "source": [
    "list.__mro__"
   ]
  },
  {
   "cell_type": "code",
   "execution_count": null,
   "metadata": {},
   "outputs": [],
   "source": [
    "dict.__mro__"
   ]
  },
  {
   "cell_type": "code",
   "execution_count": null,
   "metadata": {
    "ExecuteTime": {
     "end_time": "2020-03-02T05:57:36.839646Z",
     "start_time": "2020-03-02T05:57:36.297285Z"
    },
    "hidden": true
   },
   "outputs": [],
   "source": [
    "import pandas as pd\n",
    "import numpy as np\n",
    "my_array = np.array([  np.arange(100,200,20), \n",
    "                    np.arange(600,700,20)])\n",
    "my_array"
   ]
  },
  {
   "cell_type": "code",
   "execution_count": null,
   "metadata": {},
   "outputs": [],
   "source": [
    "type(my_array)\n",
    "\n",
    "np.ndarray.__mro__"
   ]
  },
  {
   "cell_type": "code",
   "execution_count": null,
   "metadata": {},
   "outputs": [],
   "source": [
    "my_df = pd.DataFrame(my_array.T, columns=['A','B'])\n",
    "my_df"
   ]
  },
  {
   "cell_type": "code",
   "execution_count": null,
   "metadata": {
    "ExecuteTime": {
     "end_time": "2020-03-02T05:57:36.845017Z",
     "start_time": "2020-03-02T05:57:36.841405Z"
    },
    "hidden": true
   },
   "outputs": [],
   "source": [
    "type(my_df)\n",
    "# family tree of DataFrame\n",
    "pd.core.frame.DataFrame.__mro__"
   ]
  },
  {
   "cell_type": "markdown",
   "metadata": {},
   "source": [
    "'      "
   ]
  },
  {
   "cell_type": "markdown",
   "metadata": {},
   "source": [
    "# Part 2: Application of OOP in backtesting a trading strategy"
   ]
  },
  {
   "cell_type": "markdown",
   "metadata": {},
   "source": [
    "## Revision: Steps in Vectorized Backtesting of a Typical Strategy (As covered in previous session for DMP 01)\n",
    "Strategy/Idea<br>\n",
    "Data<br>\n",
    "Indicators<br>\n",
    "Signals<br>\n",
    "Positions<br>\n",
    "Returns<br>\n",
    "Analysis"
   ]
  },
  {
   "cell_type": "markdown",
   "metadata": {},
   "source": [
    "### Implementation using procedural programming ( A series of computational steps to be carried out)"
   ]
  },
  {
   "cell_type": "code",
   "execution_count": null,
   "metadata": {},
   "outputs": [],
   "source": [
    "import pandas as pd\n",
    "import numpy as np\n",
    "import datetime as dt\n",
    "import yfinance as yf\n",
    "import matplotlib.pyplot as plt\n",
    "import pyfolio as pf"
   ]
  },
  {
   "cell_type": "markdown",
   "metadata": {},
   "source": [
    "**Strategy/idea: Buy the Nifty 50 future if 10 day SMA exceeds 20 day SMA and sell if the 10 day SMA is below the 20 day SMA in the past 3 years.**\n"
   ]
  },
  {
   "cell_type": "code",
   "execution_count": null,
   "metadata": {},
   "outputs": [],
   "source": [
    "# Fetching data\n",
    "# Create start and end dates for the past 252 days\n",
    "end1 = pd.datetime.now().date()\n",
    "start1 = end1-pd.Timedelta(days=3* 252)\n",
    "end1\n",
    "start1"
   ]
  },
  {
   "cell_type": "code",
   "execution_count": null,
   "metadata": {},
   "outputs": [],
   "source": [
    "ticker= ['^NSEI'] # the scrip for which we want the data\n",
    "df = yf.download(ticker, start=start1, end=end1)\n",
    "df3 =df.copy()"
   ]
  },
  {
   "cell_type": "code",
   "execution_count": null,
   "metadata": {},
   "outputs": [],
   "source": [
    "df3.head()"
   ]
  },
  {
   "cell_type": "code",
   "execution_count": null,
   "metadata": {},
   "outputs": [],
   "source": [
    "#indicators\n",
    "m = 10 # defining the shorter lookback period\n",
    "n = 20 # defining the longer lookback period\n",
    "\n",
    "df3['sma10'] = df3['Adj Close'].rolling(window=m, center=False).mean()\n",
    "df3['sma20'] = df3['Adj Close'].rolling(window=n, center=False).mean()\n",
    "\n",
    "df3['sma10_prev_day'] = df3['sma10'].shift(1)\n",
    "df3['sma20_prev_day'] = df3['sma20'].shift(1)\n",
    "\n",
    "df3.dropna(inplace=True)"
   ]
  },
  {
   "cell_type": "code",
   "execution_count": null,
   "metadata": {},
   "outputs": [],
   "source": [
    "df3"
   ]
  },
  {
   "cell_type": "code",
   "execution_count": null,
   "metadata": {},
   "outputs": [],
   "source": [
    "#signals\n",
    "df3['signal'] = np.where((df3['sma10'] > df3['sma20']) \n",
    "                        & (df3['sma10_prev_day'] < df3['sma20_prev_day']), 1, 0)\n",
    "df3['signal'] = np.where((df3['sma10'] < df3['sma20']) \n",
    "                        & (df3['sma10_prev_day'] > df3['sma20_prev_day']), -1, df3['signal'])\n",
    "\n",
    "df3['signal'].value_counts()"
   ]
  },
  {
   "cell_type": "code",
   "execution_count": null,
   "metadata": {},
   "outputs": [],
   "source": [
    "#position\n",
    "df3['position'] = df3['signal'].replace(to_replace=0, method='ffill')"
   ]
  },
  {
   "cell_type": "code",
   "execution_count": null,
   "metadata": {},
   "outputs": [],
   "source": [
    "#returns calculation\n",
    "# Buy and hold daily returns\n",
    "df3['bnh_returns'] = np.log(df3['Adj Close'] / df3['Adj Close'].shift(1))\n",
    "\n",
    "# Strategy returns \n",
    "df3['strategy_returns'] = df3['bnh_returns'] * df3['position'].shift(1)"
   ]
  },
  {
   "cell_type": "code",
   "execution_count": null,
   "metadata": {},
   "outputs": [],
   "source": [
    "#Analysis\n",
    "# A plot to check if the strategy is working as planned:\n",
    "df3[['sma10','sma20', 'position']].plot(figsize=(15, 6), secondary_y='position', grid=True)\n",
    "plt.title('checking if positions are generated properly')\n",
    "plt.show()\n",
    "\n",
    "# A plot to check how the strategy strategy performs relative to buy & hold\n",
    "df3[['bnh_returns','strategy_returns']].cumsum().plot(figsize=(15, 6), secondary_y='position', grid=True)\n",
    "plt.title(\"Buy & hold' vs 'crossover strategy' cumulative returns\")\n",
    "plt.show()\n",
    "\n",
    "# general analytics\n",
    "pf.create_simple_tear_sheet(df3['strategy_returns'])"
   ]
  },
  {
   "cell_type": "markdown",
   "metadata": {},
   "source": [
    "## Implementing the above strategy using OOP"
   ]
  },
  {
   "cell_type": "code",
   "execution_count": null,
   "metadata": {},
   "outputs": [],
   "source": [
    "class backtesting_crossover:\n",
    "    \n",
    "    def __init__(self, ticker, start_date, end_date , ma_short, ma_long):\n",
    "        self.ticker = ticker\n",
    "        self.start_date = start_date\n",
    "        self.end_date = end_date\n",
    "        self.ma_short = ma_short\n",
    "        self.ma_long = ma_long\n",
    "        #Call the basic methods in the __init__ constructor itself so that they are automatically executed upon object creation\n",
    "        self.fetch_data()\n",
    "        self.indicators()\n",
    "        self.signals()\n",
    "        self.positions()\n",
    "        self.returns()\n",
    "        \n",
    "        \n",
    "    def fetch_data(self):\n",
    "        self.df = yf.download(self.ticker, self.start_date, self.end_date)\n",
    "        \n",
    "    def indicators(self):\n",
    "        self.df['ma_short'] = self.df['Adj Close'].rolling(window= self.ma_short, center=False).mean()\n",
    "        self.df['ma_long'] = self.df['Adj Close'].rolling(window= self.ma_long, center=False).mean()\n",
    "        self.df['ma_short_prev'] = self.df['ma_short'].shift()\n",
    "        self.df['ma_long_prev'] = self.df['ma_long'].shift()\n",
    "        self.df.dropna(inplace=True)\n",
    "   \n",
    "    def signals(self):\n",
    "        self.df['signal'] = np.where((self.df['ma_short'] > self.df['ma_long']) \n",
    "                            & (self.df['ma_short_prev'] < self.df['ma_long_prev']), 1, 0)\n",
    "        \n",
    "        self.df['signal'] = np.where((self.df['ma_short'] < self.df['ma_long']) \n",
    "                            & (self.df['ma_short_prev'] > self.df['ma_long_prev']), -1, self.df['signal'])\n",
    "    \n",
    "    def positions(self):\n",
    "        self.df['position'] = self.df['signal'].replace(to_replace=0, method='ffill')\n",
    "        \n",
    "    def returns(self):\n",
    "        self.df['bnh_returns'] = np.log(self.df['Adj Close'] / self.df['Adj Close'].shift(1))\n",
    "        self.df['strategy_returns'] = self.df['bnh_returns'] * self.df['position'].shift(1)\n",
    "        print('Total return:',self.df['strategy_returns'].cumsum()[-1] )\n",
    "        return self.df['strategy_returns'].cumsum()[-1]\n",
    "       \n",
    "    def analysis(self):\n",
    "        # A plot to check if the strategy is working as planned:\n",
    "        self.df[['ma_short','ma_long', 'position']].plot(figsize=(15, 6), secondary_y='position', grid=True)\n",
    "        plt.title('checking if positions are generated properly')\n",
    "        plt.show()\n",
    "\n",
    "        # A plot to check how the strategy strategy performs relative to buy & hold\n",
    "        self.df[['bnh_returns','strategy_returns']].cumsum().plot(figsize=(15, 6), secondary_y='position', grid=True)\n",
    "        plt.title(\"Buy & hold' vs 'crossover strategy' cumulative returns\")\n",
    "        plt.show()\n",
    "\n",
    "        # general analytics\n",
    "        pf.create_simple_tear_sheet(self.df['strategy_returns'])"
   ]
  },
  {
   "cell_type": "markdown",
   "metadata": {},
   "source": [
    "### Creating various instances/objects"
   ]
  },
  {
   "cell_type": "markdown",
   "metadata": {},
   "source": [
    "Now that we have a blueprint of our strategy in the form of a class, we have much more flexibility in terms of what we want to backtest. We can conduct backtesting of different assets/stocks/indexes over different time intervals and for different values of MAs."
   ]
  },
  {
   "cell_type": "code",
   "execution_count": null,
   "metadata": {},
   "outputs": [],
   "source": [
    "# Create start and end dates for the past 252 days\n",
    "end1 = dt.datetime(2020,6,30).date()\n",
    "start1 = end1-pd.Timedelta(days=3*252)\n",
    "start1\n",
    "end1"
   ]
  },
  {
   "cell_type": "code",
   "execution_count": null,
   "metadata": {},
   "outputs": [],
   "source": [
    "# performance of this strategy in the broad based index (Nifty 50) over the same timeframe when ma_short=10 and ma_long=20\n",
    "nifty_10_20 = backtesting_crossover('^NSEI', start1, end1, 10, 20)"
   ]
  },
  {
   "cell_type": "code",
   "execution_count": null,
   "metadata": {},
   "outputs": [],
   "source": [
    "# performance of this strategy in the broad based index (Nifty 50) over the same timeframe when ma_short=5 and ma_long=20\n",
    "nifty_5_20 = backtesting_crossover('^NSEI', start1, end1, 5, 20)"
   ]
  },
  {
   "cell_type": "code",
   "execution_count": null,
   "metadata": {},
   "outputs": [],
   "source": [
    "# performance of this strategy in Indian banking index over the same timeframe when ma_short=5 and ma_long=20\n",
    "Banking_5_20 = backtesting_crossover('^NSEBANK', start1, end1, 5, 20)"
   ]
  },
  {
   "cell_type": "code",
   "execution_count": null,
   "metadata": {},
   "outputs": [],
   "source": [
    "# performance of this strategy in Indian IT index over the same timeframe when ma_short=5 and ma_long=20\n",
    "IT_5_20 = backtesting_crossover('^CNXIT', start1, end1, 5, 20)"
   ]
  },
  {
   "cell_type": "code",
   "execution_count": null,
   "metadata": {},
   "outputs": [],
   "source": [
    "# for additional analysis, we can always call the analysis() function for any instance\n",
    "IT_5_20.analysis()"
   ]
  },
  {
   "cell_type": "code",
   "execution_count": null,
   "metadata": {
    "scrolled": true
   },
   "outputs": [],
   "source": [
    "microsoft_5_20 = backtesting_crossover('MSFT', start1, end1, 5, 20)"
   ]
  },
  {
   "cell_type": "code",
   "execution_count": null,
   "metadata": {},
   "outputs": [],
   "source": [
    "microsoft_10_20 = backtesting_crossover('MSFT', start1, end1, 10, 20)"
   ]
  },
  {
   "cell_type": "code",
   "execution_count": null,
   "metadata": {},
   "outputs": [],
   "source": [
    "apple_10_20 = backtesting_crossover('AAPL', start1, end1, 10, 20)"
   ]
  },
  {
   "cell_type": "code",
   "execution_count": null,
   "metadata": {},
   "outputs": [],
   "source": [
    "apple_5_20 =  backtesting_crossover('AAPL', start1, end1, 5, 20)"
   ]
  },
  {
   "cell_type": "code",
   "execution_count": null,
   "metadata": {},
   "outputs": [],
   "source": [
    "apple_5_20.analysis()"
   ]
  },
  {
   "cell_type": "markdown",
   "metadata": {},
   "source": [
    "## Using inheritance, static methods & class methods to create new/modify existing strategies"
   ]
  },
  {
   "cell_type": "code",
   "execution_count": null,
   "metadata": {},
   "outputs": [],
   "source": [
    "# We can always create new blueprints based on the existing blueprints\n",
    "# Suppose now we want a class that backtests the crossover strategy but for exponential moving averages(EMA)\n",
    "# We can make use of the code we wrote earlier on SMA and selectively tweak it"
   ]
  },
  {
   "cell_type": "code",
   "execution_count": null,
   "metadata": {},
   "outputs": [],
   "source": [
    "class backtesting_EMA_crossover(backtesting_crossover):\n",
    "    \n",
    "    #Simply define a new indicators method and get all other methods and properties from parent class\n",
    "    def indicators(self):\n",
    "        self.df['ma_short'] = self.df['Adj Close'].ewm(span= self.ma_short, adjust=False).mean()\n",
    "        self.df['ma_long'] = self.df['Adj Close'].ewm(span= self.ma_long, adjust=False).mean()\n",
    "        self.df['ma_short_prev'] = self.df['ma_short'].shift()\n",
    "        self.df['ma_long_prev'] = self.df['ma_long'].shift()\n",
    "        self.df.dropna(inplace=True)\n",
    "        \n",
    "    # A static method\n",
    "    @staticmethod\n",
    "    def date_of_backtest():\n",
    "        print('Date of backtest:',pd.datetime.now().date())\n",
    "        \n",
    "    # A class method\n",
    "    @classmethod\n",
    "    def about_this_backtest(cls):\n",
    "        print('We are backtesting the short-long EMA crossover strategy.')"
   ]
  },
  {
   "cell_type": "code",
   "execution_count": null,
   "metadata": {
    "scrolled": true
   },
   "outputs": [],
   "source": [
    "apple_10_20_ema = backtesting_EMA_crossover('AAPL', start1, end1, 10, 20)"
   ]
  },
  {
   "cell_type": "code",
   "execution_count": null,
   "metadata": {},
   "outputs": [],
   "source": [
    "apple_5_20_ema = backtesting_EMA_crossover('AAPL', start1, end1, 5, 20)"
   ]
  },
  {
   "cell_type": "code",
   "execution_count": null,
   "metadata": {},
   "outputs": [],
   "source": [
    "# calling the class method\n",
    "apple_5_20_ema.about_this_backtest()"
   ]
  },
  {
   "cell_type": "code",
   "execution_count": null,
   "metadata": {},
   "outputs": [],
   "source": [
    "# calling the static method\n",
    "apple_5_20_ema.date_of_backtest()"
   ]
  },
  {
   "cell_type": "markdown",
   "metadata": {},
   "source": [
    "## Testing various strategies on the same asset/ Optimization"
   ]
  },
  {
   "cell_type": "code",
   "execution_count": null,
   "metadata": {
    "scrolled": true
   },
   "outputs": [],
   "source": [
    "fast_ma_list =[5,10,15,20]\n",
    "slow_ma_list =[25,50,100]\n",
    "\n",
    "fast_ma=[]\n",
    "slow_ma=[]\n",
    "net_returns= []\n",
    "\n",
    "for i in fast_ma_list:\n",
    "    for j in slow_ma_list:\n",
    "        print('For',i,j)\n",
    "        a = backtesting_crossover('AAPL', start1, end1, i, j)\n",
    "        fast_ma.append(i)\n",
    "        slow_ma.append(j)\n",
    "        net_returns.append(a.returns())"
   ]
  },
  {
   "cell_type": "code",
   "execution_count": null,
   "metadata": {},
   "outputs": [],
   "source": [
    "#Convert into a DataFrame\n",
    "results = pd.DataFrame({'fast_ma':fast_ma,'slow_ma': slow_ma,'net_returns':net_returns})\n",
    "results"
   ]
  },
  {
   "cell_type": "code",
   "execution_count": null,
   "metadata": {},
   "outputs": [],
   "source": [
    "# Sorting to find the best set of parameters\n",
    "results.sort_values(by='net_returns',ascending=False)"
   ]
  },
  {
   "cell_type": "markdown",
   "metadata": {},
   "source": [
    "## Testing the same strategy on various assets"
   ]
  },
  {
   "cell_type": "code",
   "execution_count": null,
   "metadata": {},
   "outputs": [],
   "source": [
    "stock_list = [   'BAJFINANCE.NS',\n",
    "                 'BAJAJFINSV.NS',\n",
    "                 'BPCL.NS',\n",
    "                 'BHARTIARTL.NS',\n",
    "                 'INDUSTOWER.NS',\n",
    "                 'BRITANNIA.NS',\n",
    "                 'CIPLA.NS',\n",
    "                 'COALINDIA.NS',\n",
    "                 'DRREDDY.NS',\n",
    "                 'EICHERMOT.NS',\n",
    "                 'GAIL.NS',\n",
    "                 'GRASIM.NS'  ]\n",
    "\n",
    "stock_name = []\n",
    "net_returns = []"
   ]
  },
  {
   "cell_type": "code",
   "execution_count": null,
   "metadata": {},
   "outputs": [],
   "source": [
    " for stock in stock_list:\n",
    "        print('Backtesting result for',stock)\n",
    "        a = backtesting_crossover(stock, start1, end1, 5, 25)\n",
    "        stock_name.append(stock)\n",
    "        net_returns.append(a.returns())"
   ]
  },
  {
   "cell_type": "code",
   "execution_count": null,
   "metadata": {},
   "outputs": [],
   "source": [
    "#Convert into a DataFrame\n",
    "results = pd.DataFrame({'Stock':stock_name,'net_returns':net_returns})\n",
    "results"
   ]
  },
  {
   "cell_type": "code",
   "execution_count": null,
   "metadata": {},
   "outputs": [],
   "source": [
    "# Sorting to find the best stocks to apply the strategy\n",
    "results.sort_values(by='net_returns',ascending=False)"
   ]
  },
  {
   "cell_type": "markdown",
   "metadata": {},
   "source": [
    "## Homework 1:\n",
    "- Create a class called 'four_wheeler' which has:\n",
    "    - a class attribute: 'number_of_tyres' initialized to a value of 4.\n",
    "    - three instance attributes: 'manufacturer', 'model' and  'color'.\n",
    "    - an instance method which prints the details about the car based on the three instance attribute and the class attribute.<br><br>\n",
    "    \n",
    "- Create an instance of the above class with the following attributes:\n",
    "    - 'manufacturer': 'BMW'\n",
    "    - 'model': 5 series\n",
    "    - 'color': Blue"
   ]
  },
  {
   "cell_type": "markdown",
   "metadata": {},
   "source": [
    "## Homework 2:\n",
    "- Implement the other strategies you have learnt in OOP format, for e.g., \n",
    "    - the Big Moves Monday strategy\n",
    "    - Bollinger bands strategy\n",
    "    - MACD strategy"
   ]
  },
  {
   "cell_type": "markdown",
   "metadata": {
    "heading_collapsed": true
   },
   "source": [
    "## References"
   ]
  },
  {
   "cell_type": "markdown",
   "metadata": {
    "hidden": true
   },
   "source": [
    " - http://hilpisch.com/py4fi_oop_epat.html"
   ]
  }
 ],
 "metadata": {
  "kernelspec": {
   "display_name": "Python 3",
   "language": "python",
   "name": "python3"
  },
  "language_info": {
   "codemirror_mode": {
    "name": "ipython",
    "version": 3
   },
   "file_extension": ".py",
   "mimetype": "text/x-python",
   "name": "python",
   "nbconvert_exporter": "python",
   "pygments_lexer": "ipython3",
   "version": "3.7.9"
  },
  "varInspector": {
   "cols": {
    "lenName": 16,
    "lenType": 16,
    "lenVar": 40
   },
   "kernels_config": {
    "python": {
     "delete_cmd_postfix": "",
     "delete_cmd_prefix": "del ",
     "library": "var_list.py",
     "varRefreshCmd": "print(var_dic_list())"
    },
    "r": {
     "delete_cmd_postfix": ") ",
     "delete_cmd_prefix": "rm(",
     "library": "var_list.r",
     "varRefreshCmd": "cat(var_dic_list()) "
    }
   },
   "types_to_exclude": [
    "module",
    "function",
    "builtin_function_or_method",
    "instance",
    "_Feature"
   ],
   "window_display": false
  }
 },
 "nbformat": 4,
 "nbformat_minor": 2
}
