{
 "cells": [
  {
   "cell_type": "code",
   "execution_count": 6,
   "id": "packed-excellence",
   "metadata": {},
   "outputs": [],
   "source": [
    "from IPython.core.interactiveshell import InteractiveShell\n",
    "InteractiveShell.ast_node_interactivity = \"all\""
   ]
  },
  {
   "cell_type": "code",
   "execution_count": 3,
   "id": "incorrect-standing",
   "metadata": {},
   "outputs": [],
   "source": [
    "class Student(object):\n",
    "    \n",
    "    def __init__(self, first_name, last_name):\n",
    "        self.first_name = first_name\n",
    "        self.last_name = last_name\n",
    "\n",
    "    @classmethod\n",
    "    def from_string(cls, name_str):\n",
    "        first_name, last_name = map(str, name_str.split(' '))\n",
    "        student = cls(first_name, last_name)\n",
    "        return student\n",
    "\n",
    "    @classmethod\n",
    "    def from_json(cls, json_obj):\n",
    "        # parse json...\n",
    "        return student\n",
    "\n",
    "    @classmethod\n",
    "    def from_pickle(cls, pickle_file):\n",
    "        # load pickle file...\n",
    "        return student"
   ]
  },
  {
   "cell_type": "code",
   "execution_count": 7,
   "id": "directed-tablet",
   "metadata": {},
   "outputs": [
    {
     "data": {
      "text/plain": [
       "'John'"
      ]
     },
     "execution_count": 7,
     "metadata": {},
     "output_type": "execute_result"
    },
    {
     "data": {
      "text/plain": [
       "'Smith'"
      ]
     },
     "execution_count": 7,
     "metadata": {},
     "output_type": "execute_result"
    }
   ],
   "source": [
    "student = Student.from_string('John Smith')\n",
    "student.first_name\n",
    "student.last_name"
   ]
  }
 ],
 "metadata": {
  "kernelspec": {
   "display_name": "Python [conda env:epat] *",
   "language": "python",
   "name": "conda-env-epat-py"
  },
  "language_info": {
   "codemirror_mode": {
    "name": "ipython",
    "version": 3
   },
   "file_extension": ".py",
   "mimetype": "text/x-python",
   "name": "python",
   "nbconvert_exporter": "python",
   "pygments_lexer": "ipython3",
   "version": "3.8.8"
  }
 },
 "nbformat": 4,
 "nbformat_minor": 5
}
