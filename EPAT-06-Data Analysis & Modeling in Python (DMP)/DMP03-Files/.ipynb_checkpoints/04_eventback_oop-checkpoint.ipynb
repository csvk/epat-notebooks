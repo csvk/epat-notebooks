{
 "cells": [
  {
   "cell_type": "markdown",
   "metadata": {},
   "source": [
    "<img src=\"http://certificate.tpq.io/tpq_logo.png\" alt=\"The Python Quants\" width=\"35%\" align=\"right\" border=\"0\"><br>"
   ]
  },
  {
   "cell_type": "markdown",
   "metadata": {},
   "source": [
    "# EPAT Session 2"
   ]
  },
  {
   "cell_type": "markdown",
   "metadata": {},
   "source": [
    "**Executive Program in Algorithmic Trading**\n",
    "\n",
    "**_Event-Based Backtesting_**\n",
    "\n",
    "Prof. Dr. Yves J. Hilpisch | The Python Quants GmbH | http://tpq.io"
   ]
  },
  {
   "cell_type": "markdown",
   "metadata": {},
   "source": [
    "<a href=\"https://home.tpq.io/certificates/pyalgo\" target=\"_blank\"><img src=\"https://hilpisch.com/pyalgo_cover_color.png\" width=\"300px\" align=\"left\" border=\"1px\"></a>"
   ]
  },
  {
   "cell_type": "markdown",
   "metadata": {},
   "source": [
    "## Basic Imports"
   ]
  },
  {
   "cell_type": "code",
   "execution_count": null,
   "metadata": {},
   "outputs": [],
   "source": [
    "import numpy as np\n",
    "import pandas as pd\n",
    "from pylab import plt\n",
    "plt.style.use('seaborn')\n",
    "pd.set_option('mode.chained_assignment', None)"
   ]
  },
  {
   "cell_type": "markdown",
   "metadata": {},
   "source": [
    "## Financial Data Class"
   ]
  },
  {
   "cell_type": "code",
   "execution_count": null,
   "metadata": {},
   "outputs": [],
   "source": [
    "url = 'http://hilpisch.com/pyalgo_eikon_eod_data.csv'  # EOD data\n",
    "# url = 'http://hilpisch.com/aiif_eikon_id_data.csv'  # intraday data"
   ]
  },
  {
   "cell_type": "code",
   "execution_count": null,
   "metadata": {},
   "outputs": [],
   "source": [
    "raw = pd.read_csv(url, index_col=0, parse_dates=True).dropna()"
   ]
  },
  {
   "cell_type": "code",
   "execution_count": null,
   "metadata": {},
   "outputs": [],
   "source": [
    "raw.columns"
   ]
  },
  {
   "cell_type": "code",
   "execution_count": null,
   "metadata": {},
   "outputs": [],
   "source": [
    "class FinancialData:\n",
    "    url = 'http://hilpisch.com/pyalgo_eikon_eod_data.csv'\n",
    "    def __init__(self, symbol):\n",
    "        self.symbol = symbol\n",
    "        self.retrieve_data()\n",
    "        self.prepare_data()\n",
    "    def retrieve_data(self):\n",
    "        self.raw = pd.read_csv(self.url, index_col=0,\n",
    "                               parse_dates=True).dropna()\n",
    "    def prepare_data(self):\n",
    "        self.data = pd.DataFrame(self.raw[self.symbol])\n",
    "        self.data['r'] = np.log(self.data[self.symbol] /\n",
    "                                self.data[self.symbol].shift(1))\n",
    "        # self.data.dropna(inplace=True)"
   ]
  },
  {
   "cell_type": "code",
   "execution_count": null,
   "metadata": {},
   "outputs": [],
   "source": [
    "fd = FinancialData('EUR=')"
   ]
  },
  {
   "cell_type": "markdown",
   "metadata": {},
   "source": [
    "## Event-Based Approach"
   ]
  },
  {
   "cell_type": "code",
   "execution_count": null,
   "metadata": {},
   "outputs": [],
   "source": [
    "import time"
   ]
  },
  {
   "cell_type": "code",
   "execution_count": null,
   "metadata": {},
   "outputs": [],
   "source": [
    "for bar in range(10):\n",
    "    print(bar)\n",
    "    time.sleep(1)"
   ]
  },
  {
   "cell_type": "code",
   "execution_count": null,
   "metadata": {},
   "outputs": [],
   "source": [
    "for bar in range(10):\n",
    "    print(bar, fd.data.index[bar], fd.data[fd.symbol].iloc[bar])\n",
    "    time.sleep(1)"
   ]
  },
  {
   "cell_type": "markdown",
   "metadata": {},
   "source": [
    "## Event-Based Backtesting (Base Class)"
   ]
  },
  {
   "cell_type": "markdown",
   "metadata": {},
   "source": [
    "The following methods are getting implemented:\n",
    "\n",
    "    .get_date_price()\n",
    "    .print_current_balance()\n",
    "    .print_net_wealth()\n",
    "    .place_buy_order()\n",
    "    .place_sell_order()\n",
    "    .close_out()"
   ]
  },
  {
   "cell_type": "code",
   "execution_count": null,
   "metadata": {},
   "outputs": [],
   "source": [
    "class BacktestBase(FinancialData):\n",
    "    def __init__(self, symbol, amount):\n",
    "        super().__init__(symbol)\n",
    "        self.initial_amount = amount\n",
    "        self.current_balance = amount\n",
    "        self.units = 0\n",
    "        self.trades = 0\n",
    "    def get_date_price(self, bar):\n",
    "        date = str(self.data.index[bar])[:10]\n",
    "        price = self.data[self.symbol].iloc[bar]\n",
    "        return date, price\n",
    "    def print_current_balance(self, bar):\n",
    "        date, price = self.get_date_price(bar)\n",
    "        print(f'{date} | current balance = {self.current_balance:.2f}')\n",
    "    def print_net_wealth(self, bar):\n",
    "        date, price = self.get_date_price(bar)\n",
    "        net_wealth = self.current_balance + self.units * price\n",
    "        print(f'{date} | net wealth = {net_wealth:.2f}')\n",
    "    def place_buy_order(self, bar, units=None, amount=None):\n",
    "        date, price = self.get_date_price(bar)\n",
    "        if units is None:\n",
    "            units = int(amount / price)\n",
    "        self.current_balance -= units * price\n",
    "        self.units += units\n",
    "        self.trades += 1\n",
    "        print(f'{date} | bought {units} at price {price}')\n",
    "    def place_sell_order(self, bar, units=None, amount=None):\n",
    "        date, price = self.get_date_price(bar)\n",
    "        if units is None:\n",
    "            units = int(amount / price)\n",
    "        self.current_balance += units * price\n",
    "        self.units -= units\n",
    "        self.trades += 1\n",
    "        print(f'{date} | sold {units} at price {price}')\n",
    "    def close_out(self, bar):\n",
    "        date, price = self.get_date_price(bar)\n",
    "        print(55 * '=')\n",
    "        print(f'{date} | CLOSING OUT POSITION')\n",
    "        print(55 * '=')\n",
    "        self.current_balance += self.units * price\n",
    "        perf = (self.current_balance - self.initial_amount) / self.initial_amount\n",
    "        print(f'{date} | closing {self.units} at price {price}')\n",
    "        self.units = 0\n",
    "        self.print_current_balance(bar)\n",
    "        self.print_net_wealth(bar)\n",
    "        print(f'{date} | net performance [%] = {perf:.3f}')\n",
    "        print(f'{date} | trades [#] = {self.trades}')"
   ]
  },
  {
   "cell_type": "code",
   "execution_count": null,
   "metadata": {},
   "outputs": [],
   "source": [
    "bb = BacktestBase('EUR=', 10000)"
   ]
  },
  {
   "cell_type": "code",
   "execution_count": null,
   "metadata": {},
   "outputs": [],
   "source": [
    "bb.get_date_price(100)"
   ]
  },
  {
   "cell_type": "code",
   "execution_count": null,
   "metadata": {},
   "outputs": [],
   "source": [
    "bb.print_current_balance(150)"
   ]
  },
  {
   "cell_type": "code",
   "execution_count": null,
   "metadata": {},
   "outputs": [],
   "source": [
    "bb.print_net_wealth(150)"
   ]
  },
  {
   "cell_type": "code",
   "execution_count": null,
   "metadata": {},
   "outputs": [],
   "source": [
    "bb.place_buy_order(200, amount=2500)"
   ]
  },
  {
   "cell_type": "code",
   "execution_count": null,
   "metadata": {},
   "outputs": [],
   "source": [
    "bb.print_current_balance(200)"
   ]
  },
  {
   "cell_type": "code",
   "execution_count": null,
   "metadata": {},
   "outputs": [],
   "source": [
    "bb.print_net_wealth(200)"
   ]
  },
  {
   "cell_type": "code",
   "execution_count": null,
   "metadata": {},
   "outputs": [],
   "source": [
    "bb.place_sell_order(500, units=820)"
   ]
  },
  {
   "cell_type": "code",
   "execution_count": null,
   "metadata": {},
   "outputs": [],
   "source": [
    "bb.print_current_balance(500)"
   ]
  },
  {
   "cell_type": "code",
   "execution_count": null,
   "metadata": {},
   "outputs": [],
   "source": [
    "bb.print_net_wealth(500)"
   ]
  },
  {
   "cell_type": "code",
   "execution_count": null,
   "metadata": {},
   "outputs": [],
   "source": [
    "bb.close_out(bar=1200)"
   ]
  },
  {
   "cell_type": "markdown",
   "metadata": {},
   "source": [
    "## Event-Based Backtesting (SMA Backtester)"
   ]
  },
  {
   "cell_type": "code",
   "execution_count": null,
   "metadata": {},
   "outputs": [],
   "source": [
    "class SMABacktester(BacktestBase):\n",
    "    def prepare_statistics(self, SMA1, SMA2):\n",
    "        self.data['SMA1'] = self.data[self.symbol].rolling(SMA1).mean()\n",
    "        self.data['SMA2'] = self.data[self.symbol].rolling(SMA2).mean()\n",
    "    def backtest_strategy(self, SMA1, SMA2):\n",
    "        print(f'BACKTESTING SMA1={SMA1} | SMA2={SMA2}')\n",
    "        print(55 * '=')\n",
    "        self.prepare_statistics(SMA1, SMA2)\n",
    "        self.units = 0\n",
    "        self.trades = 0\n",
    "        self.position = 0\n",
    "        self.current_balance = self.initial_amount\n",
    "        self.data['signal'] = np.where(self.data['SMA1'] > self.data['SMA2'], 1, -1)      \n",
    "        for bar in range(SMA2, len(self.data)):\n",
    "            signal = self.data['signal'].iloc[bar]\n",
    "            # add more logic (checking for SL, TP, TSL)\n",
    "            if self.position in [0, -1] and signal == 1:\n",
    "                # add more logic\n",
    "                self.place_buy_order(bar, units=(1 - self.position) * 1000)\n",
    "                self.print_current_balance(bar)\n",
    "                self.print_net_wealth(bar)\n",
    "                self.position = 1\n",
    "                print(55 * '=')\n",
    "            elif self.position in [0, 1] and signal == -1:\n",
    "                # add more logic\n",
    "                self.place_sell_order(bar, units=(1 + self.position) * 1000)\n",
    "                self.print_current_balance(bar)\n",
    "                self.print_net_wealth(bar)\n",
    "                self.position = -1\n",
    "                print(55 * '=')\n",
    "        self.close_out(bar)"
   ]
  },
  {
   "cell_type": "code",
   "execution_count": null,
   "metadata": {},
   "outputs": [],
   "source": [
    "sma = SMABacktester('EUR=', 10000)"
   ]
  },
  {
   "cell_type": "code",
   "execution_count": null,
   "metadata": {},
   "outputs": [],
   "source": [
    "sma.backtest_strategy(42, 252)"
   ]
  },
  {
   "cell_type": "markdown",
   "metadata": {},
   "source": [
    "<img src=\"http://certificate.tpq.io/tpq_logo.png\" alt=\"The Python Quants\" width=\"35%\" align=\"right\" border=\"0\"><br>"
   ]
  }
 ],
 "metadata": {
  "kernelspec": {
   "display_name": "Python 3",
   "language": "python",
   "name": "python3"
  },
  "language_info": {
   "codemirror_mode": {
    "name": "ipython",
    "version": 3
   },
   "file_extension": ".py",
   "mimetype": "text/x-python",
   "name": "python",
   "nbconvert_exporter": "python",
   "pygments_lexer": "ipython3",
   "version": "3.8.6"
  }
 },
 "nbformat": 4,
 "nbformat_minor": 4
}
