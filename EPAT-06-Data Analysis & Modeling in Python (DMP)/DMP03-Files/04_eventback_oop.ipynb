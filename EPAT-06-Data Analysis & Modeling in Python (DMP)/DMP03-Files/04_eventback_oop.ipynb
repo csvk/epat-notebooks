{
 "cells": [
  {
   "cell_type": "markdown",
   "metadata": {},
   "source": [
    "<img src=\"http://certificate.tpq.io/tpq_logo.png\" alt=\"The Python Quants\" width=\"35%\" align=\"right\" border=\"0\"><br>"
   ]
  },
  {
   "cell_type": "markdown",
   "metadata": {},
   "source": [
    "# EPAT Session 2"
   ]
  },
  {
   "cell_type": "markdown",
   "metadata": {},
   "source": [
    "**Executive Program in Algorithmic Trading**\n",
    "\n",
    "**_Event-Based Backtesting_**\n",
    "\n",
    "Prof. Dr. Yves J. Hilpisch | The Python Quants GmbH | http://tpq.io"
   ]
  },
  {
   "cell_type": "markdown",
   "metadata": {},
   "source": [
    "<a href=\"https://home.tpq.io/certificates/pyalgo\" target=\"_blank\"><img src=\"https://hilpisch.com/pyalgo_cover_color.png\" width=\"300px\" align=\"left\" border=\"1px\"></a>"
   ]
  },
  {
   "cell_type": "markdown",
   "metadata": {},
   "source": [
    "## Basic Imports"
   ]
  },
  {
   "cell_type": "code",
   "execution_count": 1,
   "metadata": {},
   "outputs": [],
   "source": [
    "import numpy as np\n",
    "import pandas as pd\n",
    "from pylab import plt\n",
    "plt.style.use('seaborn')\n",
    "pd.set_option('mode.chained_assignment', None)"
   ]
  },
  {
   "cell_type": "markdown",
   "metadata": {},
   "source": [
    "## Financial Data Class"
   ]
  },
  {
   "cell_type": "code",
   "execution_count": 2,
   "metadata": {},
   "outputs": [],
   "source": [
    "url = 'http://hilpisch.com/pyalgo_eikon_eod_data.csv'  # EOD data\n",
    "# url = 'http://hilpisch.com/aiif_eikon_id_data.csv'  # intraday data"
   ]
  },
  {
   "cell_type": "code",
   "execution_count": 3,
   "metadata": {},
   "outputs": [],
   "source": [
    "raw = pd.read_csv(url, index_col=0, parse_dates=True).dropna()"
   ]
  },
  {
   "cell_type": "code",
   "execution_count": 4,
   "metadata": {},
   "outputs": [
    {
     "data": {
      "text/plain": [
       "Index(['AAPL.O', 'MSFT.O', 'INTC.O', 'AMZN.O', 'GS.N', 'SPY', '.SPX', '.VIX',\n",
       "       'EUR=', 'XAU=', 'GDX', 'GLD'],\n",
       "      dtype='object')"
      ]
     },
     "execution_count": 4,
     "metadata": {},
     "output_type": "execute_result"
    }
   ],
   "source": [
    "raw.columns"
   ]
  },
  {
   "cell_type": "code",
   "execution_count": 5,
   "metadata": {},
   "outputs": [],
   "source": [
    "class FinancialData:\n",
    "    url = 'http://hilpisch.com/pyalgo_eikon_eod_data.csv'\n",
    "    def __init__(self, symbol):\n",
    "        self.symbol = symbol\n",
    "        self.retrieve_data()\n",
    "        self.prepare_data()\n",
    "    def retrieve_data(self):\n",
    "        self.raw = pd.read_csv(self.url, index_col=0,\n",
    "                               parse_dates=True).dropna()\n",
    "    def prepare_data(self):\n",
    "        self.data = pd.DataFrame(self.raw[self.symbol])\n",
    "        self.data['r'] = np.log(self.data[self.symbol] /\n",
    "                                self.data[self.symbol].shift(1))\n",
    "        # self.data.dropna(inplace=True)"
   ]
  },
  {
   "cell_type": "code",
   "execution_count": 6,
   "metadata": {},
   "outputs": [],
   "source": [
    "fd = FinancialData('EUR=')"
   ]
  },
  {
   "cell_type": "markdown",
   "metadata": {},
   "source": [
    "## Event-Based Approach"
   ]
  },
  {
   "cell_type": "code",
   "execution_count": 7,
   "metadata": {},
   "outputs": [],
   "source": [
    "import time"
   ]
  },
  {
   "cell_type": "code",
   "execution_count": 8,
   "metadata": {},
   "outputs": [
    {
     "name": "stdout",
     "output_type": "stream",
     "text": [
      "0\n",
      "1\n",
      "2\n",
      "3\n",
      "4\n",
      "5\n",
      "6\n",
      "7\n",
      "8\n",
      "9\n"
     ]
    }
   ],
   "source": [
    "for bar in range(10):\n",
    "    print(bar)\n",
    "    time.sleep(1)"
   ]
  },
  {
   "cell_type": "code",
   "execution_count": 9,
   "metadata": {},
   "outputs": [
    {
     "name": "stdout",
     "output_type": "stream",
     "text": [
      "0 2010-01-04 00:00:00 1.4411\n",
      "1 2010-01-05 00:00:00 1.4368\n",
      "2 2010-01-06 00:00:00 1.4412\n",
      "3 2010-01-07 00:00:00 1.4318\n",
      "4 2010-01-08 00:00:00 1.4412\n",
      "5 2010-01-11 00:00:00 1.4513\n",
      "6 2010-01-12 00:00:00 1.4494\n",
      "7 2010-01-13 00:00:00 1.451\n",
      "8 2010-01-14 00:00:00 1.4502\n",
      "9 2010-01-15 00:00:00 1.4382\n"
     ]
    }
   ],
   "source": [
    "for bar in range(10):\n",
    "    print(bar, fd.data.index[bar], fd.data[fd.symbol].iloc[bar])\n",
    "    time.sleep(1)"
   ]
  },
  {
   "cell_type": "markdown",
   "metadata": {},
   "source": [
    "## Event-Based Backtesting (Base Class)"
   ]
  },
  {
   "cell_type": "markdown",
   "metadata": {},
   "source": [
    "The following methods are getting implemented:\n",
    "\n",
    "    .get_date_price()\n",
    "    .print_current_balance()\n",
    "    .print_net_wealth()\n",
    "    .place_buy_order()\n",
    "    .place_sell_order()\n",
    "    .close_out()"
   ]
  },
  {
   "cell_type": "code",
   "execution_count": 10,
   "metadata": {},
   "outputs": [],
   "source": [
    "class BacktestBase(FinancialData):\n",
    "    def __init__(self, symbol, amount):\n",
    "        super().__init__(symbol)\n",
    "        self.initial_amount = amount\n",
    "        self.current_balance = amount\n",
    "        self.units = 0\n",
    "        self.trades = 0\n",
    "    def get_date_price(self, bar):\n",
    "        date = str(self.data.index[bar])[:10]\n",
    "        price = self.data[self.symbol].iloc[bar]\n",
    "        return date, price\n",
    "    def print_current_balance(self, bar):\n",
    "        date, price = self.get_date_price(bar)\n",
    "        print(f'{date} | current balance = {self.current_balance:.2f}')\n",
    "    def print_net_wealth(self, bar):\n",
    "        date, price = self.get_date_price(bar)\n",
    "        net_wealth = self.current_balance + self.units * price\n",
    "        print(f'{date} | net wealth = {net_wealth:.2f}')\n",
    "    def place_buy_order(self, bar, units=None, amount=None):\n",
    "        date, price = self.get_date_price(bar)\n",
    "        if units is None:\n",
    "            units = int(amount / price)\n",
    "        self.current_balance -= units * price\n",
    "        self.units += units\n",
    "        self.trades += 1\n",
    "        print(f'{date} | bought {units} at price {price}')\n",
    "    def place_sell_order(self, bar, units=None, amount=None):\n",
    "        date, price = self.get_date_price(bar)\n",
    "        if units is None:\n",
    "            units = int(amount / price)\n",
    "        self.current_balance += units * price\n",
    "        self.units -= units\n",
    "        self.trades += 1\n",
    "        print(f'{date} | sold {units} at price {price}')\n",
    "    def close_out(self, bar):\n",
    "        date, price = self.get_date_price(bar)\n",
    "        print(55 * '=')\n",
    "        print(f'{date} | CLOSING OUT POSITION')\n",
    "        print(55 * '=')\n",
    "        self.current_balance += self.units * price\n",
    "        perf = (self.current_balance - self.initial_amount) / self.initial_amount\n",
    "        print(f'{date} | closing {self.units} at price {price}')\n",
    "        self.units = 0\n",
    "        self.print_current_balance(bar)\n",
    "        self.print_net_wealth(bar)\n",
    "        print(f'{date} | net performance [%] = {perf:.3f}')\n",
    "        print(f'{date} | trades [#] = {self.trades}')"
   ]
  },
  {
   "cell_type": "code",
   "execution_count": 11,
   "metadata": {},
   "outputs": [],
   "source": [
    "bb = BacktestBase('EUR=', 10000)"
   ]
  },
  {
   "cell_type": "code",
   "execution_count": 12,
   "metadata": {},
   "outputs": [
    {
     "data": {
      "text/plain": [
       "('2010-05-27', 1.2368)"
      ]
     },
     "execution_count": 12,
     "metadata": {},
     "output_type": "execute_result"
    }
   ],
   "source": [
    "bb.get_date_price(100)"
   ]
  },
  {
   "cell_type": "code",
   "execution_count": 13,
   "metadata": {},
   "outputs": [
    {
     "name": "stdout",
     "output_type": "stream",
     "text": [
      "2010-08-09 | current balance = 10000.00\n"
     ]
    }
   ],
   "source": [
    "bb.print_current_balance(150)"
   ]
  },
  {
   "cell_type": "code",
   "execution_count": 14,
   "metadata": {},
   "outputs": [
    {
     "name": "stdout",
     "output_type": "stream",
     "text": [
      "2010-08-09 | net wealth = 10000.00\n"
     ]
    }
   ],
   "source": [
    "bb.print_net_wealth(150)"
   ]
  },
  {
   "cell_type": "code",
   "execution_count": 15,
   "metadata": {},
   "outputs": [
    {
     "name": "stdout",
     "output_type": "stream",
     "text": [
      "2010-10-19 | bought 1820 at price 1.3732\n"
     ]
    }
   ],
   "source": [
    "bb.place_buy_order(200, amount=2500)"
   ]
  },
  {
   "cell_type": "code",
   "execution_count": 16,
   "metadata": {},
   "outputs": [
    {
     "name": "stdout",
     "output_type": "stream",
     "text": [
      "2010-10-19 | current balance = 7500.78\n"
     ]
    }
   ],
   "source": [
    "bb.print_current_balance(200)"
   ]
  },
  {
   "cell_type": "code",
   "execution_count": 17,
   "metadata": {},
   "outputs": [
    {
     "name": "stdout",
     "output_type": "stream",
     "text": [
      "2010-10-19 | net wealth = 10000.00\n"
     ]
    }
   ],
   "source": [
    "bb.print_net_wealth(200)"
   ]
  },
  {
   "cell_type": "code",
   "execution_count": 18,
   "metadata": {},
   "outputs": [
    {
     "name": "stdout",
     "output_type": "stream",
     "text": [
      "2011-12-27 | sold 820 at price 1.3068\n"
     ]
    }
   ],
   "source": [
    "bb.place_sell_order(500, units=820)"
   ]
  },
  {
   "cell_type": "code",
   "execution_count": 19,
   "metadata": {},
   "outputs": [
    {
     "name": "stdout",
     "output_type": "stream",
     "text": [
      "2011-12-27 | current balance = 8572.35\n"
     ]
    }
   ],
   "source": [
    "bb.print_current_balance(500)"
   ]
  },
  {
   "cell_type": "code",
   "execution_count": 20,
   "metadata": {},
   "outputs": [
    {
     "name": "stdout",
     "output_type": "stream",
     "text": [
      "2011-12-27 | net wealth = 9879.15\n"
     ]
    }
   ],
   "source": [
    "bb.print_net_wealth(500)"
   ]
  },
  {
   "cell_type": "code",
   "execution_count": 21,
   "metadata": {},
   "outputs": [
    {
     "name": "stdout",
     "output_type": "stream",
     "text": [
      "=======================================================\n",
      "2014-10-09 | CLOSING OUT POSITION\n",
      "=======================================================\n",
      "2014-10-09 | closing 1000 at price 1.269\n",
      "2014-10-09 | current balance = 9841.35\n",
      "2014-10-09 | net wealth = 9841.35\n",
      "2014-10-09 | net performance [%] = -0.016\n",
      "2014-10-09 | trades [#] = 2\n"
     ]
    }
   ],
   "source": [
    "bb.close_out(bar=1200)"
   ]
  },
  {
   "cell_type": "markdown",
   "metadata": {},
   "source": [
    "## Event-Based Backtesting (SMA Backtester)"
   ]
  },
  {
   "cell_type": "code",
   "execution_count": 22,
   "metadata": {},
   "outputs": [],
   "source": [
    "class SMABacktester(BacktestBase):\n",
    "    def prepare_statistics(self, SMA1, SMA2):\n",
    "        self.data['SMA1'] = self.data[self.symbol].rolling(SMA1).mean()\n",
    "        self.data['SMA2'] = self.data[self.symbol].rolling(SMA2).mean()\n",
    "    def backtest_strategy(self, SMA1, SMA2):\n",
    "        print(f'BACKTESTING SMA1={SMA1} | SMA2={SMA2}')\n",
    "        print(55 * '=')\n",
    "        self.prepare_statistics(SMA1, SMA2)\n",
    "        self.units = 0\n",
    "        self.trades = 0\n",
    "        self.position = 0\n",
    "        self.current_balance = self.initial_amount\n",
    "        self.data['signal'] = np.where(self.data['SMA1'] > self.data['SMA2'], 1, -1)      \n",
    "        for bar in range(SMA2, len(self.data)):\n",
    "            signal = self.data['signal'].iloc[bar]\n",
    "            # add more logic (checking for SL, TP, TSL)\n",
    "            if self.position in [0, -1] and signal == 1:\n",
    "                # add more logic\n",
    "                self.place_buy_order(bar, units=(1 - self.position) * 1000)\n",
    "                self.print_current_balance(bar)\n",
    "                self.print_net_wealth(bar)\n",
    "                self.position = 1\n",
    "                print(55 * '=')\n",
    "            elif self.position in [0, 1] and signal == -1:\n",
    "                # add more logic\n",
    "                self.place_sell_order(bar, units=(1 + self.position) * 1000)\n",
    "                self.print_current_balance(bar)\n",
    "                self.print_net_wealth(bar)\n",
    "                self.position = -1\n",
    "                print(55 * '=')\n",
    "        self.close_out(bar)"
   ]
  },
  {
   "cell_type": "code",
   "execution_count": 23,
   "metadata": {},
   "outputs": [],
   "source": [
    "sma = SMABacktester('EUR=', 10000)"
   ]
  },
  {
   "cell_type": "code",
   "execution_count": 24,
   "metadata": {},
   "outputs": [
    {
     "name": "stdout",
     "output_type": "stream",
     "text": [
      "BACKTESTING SMA1=42 | SMA2=252\n",
      "=======================================================\n",
      "2011-01-03 | bought 1000 at price 1.3351\n",
      "2011-01-03 | current balance = 8664.90\n",
      "2011-01-03 | net wealth = 10000.00\n",
      "=======================================================\n",
      "2011-10-07 | sold 2000 at price 1.3375\n",
      "2011-10-07 | current balance = 11339.90\n",
      "2011-10-07 | net wealth = 10002.40\n",
      "=======================================================\n",
      "2012-11-01 | bought 2000 at price 1.2942\n",
      "2012-11-01 | current balance = 8751.50\n",
      "2012-11-01 | net wealth = 10045.70\n",
      "=======================================================\n",
      "2014-07-22 | sold 2000 at price 1.3464\n",
      "2014-07-22 | current balance = 11444.30\n",
      "2014-07-22 | net wealth = 10097.90\n",
      "=======================================================\n",
      "2016-03-17 | bought 2000 at price 1.1317\n",
      "2016-03-17 | current balance = 9180.90\n",
      "2016-03-17 | net wealth = 10312.60\n",
      "=======================================================\n",
      "2016-11-08 | sold 2000 at price 1.1023\n",
      "2016-11-08 | current balance = 11385.50\n",
      "2016-11-08 | net wealth = 10283.20\n",
      "=======================================================\n",
      "2017-06-02 | bought 2000 at price 1.128\n",
      "2017-06-02 | current balance = 9129.50\n",
      "2017-06-02 | net wealth = 10257.50\n",
      "=======================================================\n",
      "2018-06-14 | sold 2000 at price 1.1567\n",
      "2018-06-14 | current balance = 11442.90\n",
      "2018-06-14 | net wealth = 10286.20\n",
      "=======================================================\n",
      "=======================================================\n",
      "2019-12-31 | CLOSING OUT POSITION\n",
      "=======================================================\n",
      "2019-12-31 | closing -1000 at price 1.121\n",
      "2019-12-31 | current balance = 10321.90\n",
      "2019-12-31 | net wealth = 10321.90\n",
      "2019-12-31 | net performance [%] = 0.032\n",
      "2019-12-31 | trades [#] = 8\n"
     ]
    }
   ],
   "source": [
    "sma.backtest_strategy(42, 252)"
   ]
  },
  {
   "cell_type": "markdown",
   "metadata": {},
   "source": [
    "<img src=\"http://certificate.tpq.io/tpq_logo.png\" alt=\"The Python Quants\" width=\"35%\" align=\"right\" border=\"0\"><br>"
   ]
  }
 ],
 "metadata": {
  "kernelspec": {
   "display_name": "Python 3",
   "language": "python",
   "name": "python3"
  },
  "language_info": {
   "codemirror_mode": {
    "name": "ipython",
    "version": 3
   },
   "file_extension": ".py",
   "mimetype": "text/x-python",
   "name": "python",
   "nbconvert_exporter": "python",
   "pygments_lexer": "ipython3",
   "version": "3.8.8"
  }
 },
 "nbformat": 4,
 "nbformat_minor": 4
}
