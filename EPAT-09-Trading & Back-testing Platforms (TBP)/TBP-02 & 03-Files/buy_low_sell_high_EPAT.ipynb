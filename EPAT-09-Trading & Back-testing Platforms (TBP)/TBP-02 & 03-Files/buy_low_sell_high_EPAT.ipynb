{
 "cells": [
  {
   "cell_type": "code",
   "execution_count": 1,
   "metadata": {},
   "outputs": [],
   "source": [
    "from trader_factory import build_active_IBridgePy_plus\n",
    "from IBridgePy.IbridgepyTools import symbol\n",
    "import pandas as pd\n",
    "import os"
   ]
  },
  {
   "cell_type": "code",
   "execution_count": 2,
   "metadata": {},
   "outputs": [],
   "source": [
    "hist = pd.read_csv(os.path.join('tools', 'SPY_1day_20010103_20210409.csv'), header=0, index_col=0)"
   ]
  },
  {
   "cell_type": "code",
   "execution_count": null,
   "metadata": {},
   "outputs": [],
   "source": [
    "hist  # print hist to show it"
   ]
  },
  {
   "cell_type": "code",
   "execution_count": null,
   "metadata": {},
   "outputs": [],
   "source": [
    "hist.columns  # print column names"
   ]
  },
  {
   "cell_type": "code",
   "execution_count": null,
   "metadata": {},
   "outputs": [],
   "source": [
    "hist.index  # print index"
   ]
  },
  {
   "cell_type": "code",
   "execution_count": null,
   "metadata": {},
   "outputs": [],
   "source": [
    "hist['open']  # print out a column"
   ]
  },
  {
   "cell_type": "code",
   "execution_count": null,
   "metadata": {},
   "outputs": [],
   "source": [
    "hist.iloc[0]  # print out 1st row"
   ]
  },
  {
   "cell_type": "code",
   "execution_count": null,
   "metadata": {},
   "outputs": [],
   "source": [
    "hist.iloc[-1]  # print out the last row"
   ]
  },
  {
   "cell_type": "code",
   "execution_count": null,
   "metadata": {},
   "outputs": [],
   "source": [
    "hist.iloc[0]['open']  # print out open price of the 1st row"
   ]
  },
  {
   "cell_type": "code",
   "execution_count": null,
   "metadata": {},
   "outputs": [],
   "source": [
    "type(hist.index[-1])  # print out the data type of index"
   ]
  },
  {
   "cell_type": "code",
   "execution_count": null,
   "metadata": {},
   "outputs": [],
   "source": [
    "hist.loc['2021-04-08']"
   ]
  },
  {
   "cell_type": "code",
   "execution_count": 3,
   "metadata": {},
   "outputs": [],
   "source": [
    "hist['close_yesterday'] = hist['close'].shift(1)  # add a new column, call it \"close_yesterday\""
   ]
  },
  {
   "cell_type": "code",
   "execution_count": null,
   "metadata": {},
   "outputs": [],
   "source": [
    "hist"
   ]
  },
  {
   "cell_type": "code",
   "execution_count": 4,
   "metadata": {},
   "outputs": [],
   "source": [
    "hist['yield_yesterday'] = (hist['close'] - hist['close_yesterday']) / hist['close_yesterday']"
   ]
  },
  {
   "cell_type": "code",
   "execution_count": null,
   "metadata": {},
   "outputs": [],
   "source": [
    "hist  # a column of yield_yesterday is added."
   ]
  },
  {
   "cell_type": "code",
   "execution_count": 5,
   "metadata": {},
   "outputs": [],
   "source": [
    "hist['yield_tomorrow'] = hist['yield_yesterday'].shift(-1)"
   ]
  },
  {
   "cell_type": "code",
   "execution_count": 6,
   "metadata": {},
   "outputs": [
    {
     "data": {
      "text/html": [
       "<div>\n",
       "<style scoped>\n",
       "    .dataframe tbody tr th:only-of-type {\n",
       "        vertical-align: middle;\n",
       "    }\n",
       "\n",
       "    .dataframe tbody tr th {\n",
       "        vertical-align: top;\n",
       "    }\n",
       "\n",
       "    .dataframe thead th {\n",
       "        text-align: right;\n",
       "    }\n",
       "</style>\n",
       "<table border=\"1\" class=\"dataframe\">\n",
       "  <thead>\n",
       "    <tr style=\"text-align: right;\">\n",
       "      <th></th>\n",
       "      <th>open</th>\n",
       "      <th>high</th>\n",
       "      <th>low</th>\n",
       "      <th>close</th>\n",
       "      <th>volume</th>\n",
       "      <th>dividends</th>\n",
       "      <th>stock splits</th>\n",
       "      <th>close_yesterday</th>\n",
       "      <th>yield_yesterday</th>\n",
       "      <th>yield_tomorrow</th>\n",
       "    </tr>\n",
       "    <tr>\n",
       "      <th>Date</th>\n",
       "      <th></th>\n",
       "      <th></th>\n",
       "      <th></th>\n",
       "      <th></th>\n",
       "      <th></th>\n",
       "      <th></th>\n",
       "      <th></th>\n",
       "      <th></th>\n",
       "      <th></th>\n",
       "      <th></th>\n",
       "    </tr>\n",
       "  </thead>\n",
       "  <tbody>\n",
       "    <tr>\n",
       "      <th>2001-01-03</th>\n",
       "      <td>87.214549</td>\n",
       "      <td>92.439775</td>\n",
       "      <td>86.768493</td>\n",
       "      <td>91.760071</td>\n",
       "      <td>19431600</td>\n",
       "      <td>0.0</td>\n",
       "      <td>0</td>\n",
       "      <td>NaN</td>\n",
       "      <td>NaN</td>\n",
       "      <td>-0.010764</td>\n",
       "    </tr>\n",
       "    <tr>\n",
       "      <th>2001-01-04</th>\n",
       "      <td>91.717598</td>\n",
       "      <td>92.078691</td>\n",
       "      <td>90.400671</td>\n",
       "      <td>90.772385</td>\n",
       "      <td>9219000</td>\n",
       "      <td>0.0</td>\n",
       "      <td>0</td>\n",
       "      <td>91.760071</td>\n",
       "      <td>-0.010764</td>\n",
       "      <td>-0.032643</td>\n",
       "    </tr>\n",
       "    <tr>\n",
       "      <th>2001-01-05</th>\n",
       "      <td>90.719295</td>\n",
       "      <td>90.825499</td>\n",
       "      <td>87.809311</td>\n",
       "      <td>87.809311</td>\n",
       "      <td>12911400</td>\n",
       "      <td>0.0</td>\n",
       "      <td>0</td>\n",
       "      <td>90.772385</td>\n",
       "      <td>-0.032643</td>\n",
       "      <td>0.007740</td>\n",
       "    </tr>\n",
       "    <tr>\n",
       "      <th>2001-01-08</th>\n",
       "      <td>88.276591</td>\n",
       "      <td>88.488998</td>\n",
       "      <td>86.789738</td>\n",
       "      <td>88.488998</td>\n",
       "      <td>6625300</td>\n",
       "      <td>0.0</td>\n",
       "      <td>0</td>\n",
       "      <td>87.809311</td>\n",
       "      <td>0.007740</td>\n",
       "      <td>-0.002641</td>\n",
       "    </tr>\n",
       "    <tr>\n",
       "      <th>2001-01-09</th>\n",
       "      <td>89.073094</td>\n",
       "      <td>89.381085</td>\n",
       "      <td>87.968575</td>\n",
       "      <td>88.255325</td>\n",
       "      <td>5702400</td>\n",
       "      <td>0.0</td>\n",
       "      <td>0</td>\n",
       "      <td>88.488998</td>\n",
       "      <td>-0.002641</td>\n",
       "      <td>0.017570</td>\n",
       "    </tr>\n",
       "    <tr>\n",
       "      <th>...</th>\n",
       "      <td>...</td>\n",
       "      <td>...</td>\n",
       "      <td>...</td>\n",
       "      <td>...</td>\n",
       "      <td>...</td>\n",
       "      <td>...</td>\n",
       "      <td>...</td>\n",
       "      <td>...</td>\n",
       "      <td>...</td>\n",
       "      <td>...</td>\n",
       "    </tr>\n",
       "    <tr>\n",
       "      <th>2021-04-05</th>\n",
       "      <td>403.459991</td>\n",
       "      <td>406.940002</td>\n",
       "      <td>403.380005</td>\n",
       "      <td>406.359985</td>\n",
       "      <td>91684800</td>\n",
       "      <td>0.0</td>\n",
       "      <td>0</td>\n",
       "      <td>400.609985</td>\n",
       "      <td>0.014353</td>\n",
       "      <td>-0.000591</td>\n",
       "    </tr>\n",
       "    <tr>\n",
       "      <th>2021-04-06</th>\n",
       "      <td>405.760010</td>\n",
       "      <td>407.239990</td>\n",
       "      <td>405.399994</td>\n",
       "      <td>406.119995</td>\n",
       "      <td>62021000</td>\n",
       "      <td>0.0</td>\n",
       "      <td>0</td>\n",
       "      <td>406.359985</td>\n",
       "      <td>-0.000591</td>\n",
       "      <td>0.001157</td>\n",
       "    </tr>\n",
       "    <tr>\n",
       "      <th>2021-04-07</th>\n",
       "      <td>405.940002</td>\n",
       "      <td>406.959991</td>\n",
       "      <td>405.450012</td>\n",
       "      <td>406.589996</td>\n",
       "      <td>55836300</td>\n",
       "      <td>0.0</td>\n",
       "      <td>0</td>\n",
       "      <td>406.119995</td>\n",
       "      <td>0.001157</td>\n",
       "      <td>0.004747</td>\n",
       "    </tr>\n",
       "    <tr>\n",
       "      <th>2021-04-08</th>\n",
       "      <td>407.929993</td>\n",
       "      <td>408.579987</td>\n",
       "      <td>406.929993</td>\n",
       "      <td>408.519989</td>\n",
       "      <td>57863100</td>\n",
       "      <td>0.0</td>\n",
       "      <td>0</td>\n",
       "      <td>406.589996</td>\n",
       "      <td>0.004747</td>\n",
       "      <td>0.007270</td>\n",
       "    </tr>\n",
       "    <tr>\n",
       "      <th>2021-04-09</th>\n",
       "      <td>408.390015</td>\n",
       "      <td>411.670013</td>\n",
       "      <td>408.260010</td>\n",
       "      <td>411.489990</td>\n",
       "      <td>61060100</td>\n",
       "      <td>0.0</td>\n",
       "      <td>0</td>\n",
       "      <td>408.519989</td>\n",
       "      <td>0.007270</td>\n",
       "      <td>NaN</td>\n",
       "    </tr>\n",
       "  </tbody>\n",
       "</table>\n",
       "<p>5098 rows × 10 columns</p>\n",
       "</div>"
      ],
      "text/plain": [
       "                  open        high         low       close    volume  \\\n",
       "Date                                                                   \n",
       "2001-01-03   87.214549   92.439775   86.768493   91.760071  19431600   \n",
       "2001-01-04   91.717598   92.078691   90.400671   90.772385   9219000   \n",
       "2001-01-05   90.719295   90.825499   87.809311   87.809311  12911400   \n",
       "2001-01-08   88.276591   88.488998   86.789738   88.488998   6625300   \n",
       "2001-01-09   89.073094   89.381085   87.968575   88.255325   5702400   \n",
       "...                ...         ...         ...         ...       ...   \n",
       "2021-04-05  403.459991  406.940002  403.380005  406.359985  91684800   \n",
       "2021-04-06  405.760010  407.239990  405.399994  406.119995  62021000   \n",
       "2021-04-07  405.940002  406.959991  405.450012  406.589996  55836300   \n",
       "2021-04-08  407.929993  408.579987  406.929993  408.519989  57863100   \n",
       "2021-04-09  408.390015  411.670013  408.260010  411.489990  61060100   \n",
       "\n",
       "            dividends  stock splits  close_yesterday  yield_yesterday  \\\n",
       "Date                                                                    \n",
       "2001-01-03        0.0             0              NaN              NaN   \n",
       "2001-01-04        0.0             0        91.760071        -0.010764   \n",
       "2001-01-05        0.0             0        90.772385        -0.032643   \n",
       "2001-01-08        0.0             0        87.809311         0.007740   \n",
       "2001-01-09        0.0             0        88.488998        -0.002641   \n",
       "...               ...           ...              ...              ...   \n",
       "2021-04-05        0.0             0       400.609985         0.014353   \n",
       "2021-04-06        0.0             0       406.359985        -0.000591   \n",
       "2021-04-07        0.0             0       406.119995         0.001157   \n",
       "2021-04-08        0.0             0       406.589996         0.004747   \n",
       "2021-04-09        0.0             0       408.519989         0.007270   \n",
       "\n",
       "            yield_tomorrow  \n",
       "Date                        \n",
       "2001-01-03       -0.010764  \n",
       "2001-01-04       -0.032643  \n",
       "2001-01-05        0.007740  \n",
       "2001-01-08       -0.002641  \n",
       "2001-01-09        0.017570  \n",
       "...                    ...  \n",
       "2021-04-05       -0.000591  \n",
       "2021-04-06        0.001157  \n",
       "2021-04-07        0.004747  \n",
       "2021-04-08        0.007270  \n",
       "2021-04-09             NaN  \n",
       "\n",
       "[5098 rows x 10 columns]"
      ]
     },
     "execution_count": 6,
     "metadata": {},
     "output_type": "execute_result"
    }
   ],
   "source": [
    "hist  # A column of yield_tomorrow is added."
   ]
  },
  {
   "cell_type": "code",
   "execution_count": 7,
   "metadata": {},
   "outputs": [],
   "source": [
    "from sklearn.linear_model import LinearRegression\n",
    "import numpy as np\n",
    "import matplotlib.pyplot as plt"
   ]
  },
  {
   "cell_type": "code",
   "execution_count": 8,
   "metadata": {},
   "outputs": [
    {
     "data": {
      "text/plain": [
       "(5098, 10)"
      ]
     },
     "execution_count": 8,
     "metadata": {},
     "output_type": "execute_result"
    }
   ],
   "source": [
    "hist.shape  # There are 250 rows and 8 columns"
   ]
  },
  {
   "cell_type": "code",
   "execution_count": 9,
   "metadata": {},
   "outputs": [],
   "source": [
    "hist.dropna(inplace=True)  # sklearn cannot handle NA and has to drop them."
   ]
  },
  {
   "cell_type": "code",
   "execution_count": 10,
   "metadata": {},
   "outputs": [
    {
     "name": "stdout",
     "output_type": "stream",
     "text": [
      "[-0.10119766]\n",
      "0.0004102646963406521\n"
     ]
    }
   ],
   "source": [
    "# Use machine learning package and build a linear regression model to predit tomorrow's price.\n",
    "x = hist['yield_yesterday']\n",
    "y = hist['yield_tomorrow']\n",
    "model = LinearRegression()\n",
    "model.fit(hist.loc[:, ['yield_yesterday']], y)\n",
    "print(model.coef_)\n",
    "print(model.intercept_)"
   ]
  },
  {
   "cell_type": "code",
   "execution_count": 11,
   "metadata": {},
   "outputs": [],
   "source": [
    "# Create a column of predicted prices using the linear regression model\n",
    "preds = model.predict(hist.loc[:, [\"yield_yesterday\"]])"
   ]
  },
  {
   "cell_type": "code",
   "execution_count": 12,
   "metadata": {},
   "outputs": [
    {
     "data": {
      "text/plain": [
       "[<matplotlib.lines.Line2D at 0x11cbcfb50>]"
      ]
     },
     "execution_count": 12,
     "metadata": {},
     "output_type": "execute_result"
    },
    {
     "data": {
      "image/png": "[encoded data removed]",
      "text/plain": [
       "<Figure size 432x288 with 1 Axes>"
      ]
     },
     "metadata": {
      "needs_background": "light"
     },
     "output_type": "display_data"
    }
   ],
   "source": [
    "# Draw a scatter plot.\n",
    "# The scatter dots are yield_tomorrow vs. yield_yesterday\n",
    "# The black line is drawn to visualize the trend\n",
    "hist.plot.scatter(x = \"yield_yesterday\", y = \"yield_tomorrow\")\n",
    "plt.plot(hist['yield_yesterday'], preds, color=\"black\")"
   ]
  },
  {
   "cell_type": "code",
   "execution_count": 14,
   "metadata": {},
   "outputs": [
    {
     "data": {
      "text/plain": [
       "array([ 1.49953508e-03,  3.71364963e-03, -3.73055247e-04, ...,\n",
       "        4.70030547e-04,  2.93149006e-04, -7.00981852e-05])"
      ]
     },
     "execution_count": 14,
     "metadata": {},
     "output_type": "execute_result"
    }
   ],
   "source": [
    "preds  # predications based on the machine learning model"
   ]
  },
  {
   "cell_type": "code",
   "execution_count": 15,
   "metadata": {},
   "outputs": [
    {
     "data": {
      "text/plain": [
       "-7.00981852199933e-05"
      ]
     },
     "execution_count": 15,
     "metadata": {},
     "output_type": "execute_result"
    }
   ],
   "source": [
    "preds[-1]"
   ]
  },
  {
   "cell_type": "code",
   "execution_count": 16,
   "metadata": {},
   "outputs": [
    {
     "data": {
      "text/plain": [
       "5096"
      ]
     },
     "execution_count": 16,
     "metadata": {},
     "output_type": "execute_result"
    }
   ],
   "source": [
    "len(preds)"
   ]
  }
 ],
 "metadata": {
  "kernelspec": {
   "display_name": "Python 3",
   "language": "python",
   "name": "python3"
  },
  "language_info": {
   "codemirror_mode": {
    "name": "ipython",
    "version": 3
   },
   "file_extension": ".py",
   "mimetype": "text/x-python",
   "name": "python",
   "nbconvert_exporter": "python",
   "pygments_lexer": "ipython3",
   "version": "3.9.2"
  }
 },
 "nbformat": 4,
 "nbformat_minor": 4
}
